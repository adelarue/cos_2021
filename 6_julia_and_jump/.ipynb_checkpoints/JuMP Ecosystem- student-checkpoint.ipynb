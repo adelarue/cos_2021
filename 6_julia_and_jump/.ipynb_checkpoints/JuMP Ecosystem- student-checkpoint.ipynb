{
 "cells": [
  {
   "cell_type": "markdown",
   "metadata": {},
   "source": [
    "# The JuMP Ecosystem"
   ]
  },
  {
   "cell_type": "markdown",
   "metadata": {},
   "source": [
    "This notebook is a very brief intorduction to the ecosystem around JuMP. \n",
    "\n",
    "Parts of this Notebook were taken from https://github.com/juan-pablo-vielma/JuliaCon2018_JuMP_Workshop/blob/master/MOI_Slides.ipynb."
   ]
  },
  {
   "cell_type": "code",
   "execution_count": 4,
   "metadata": {},
   "outputs": [
    {
     "name": "stderr",
     "output_type": "stream",
     "text": [
      "\u001b[32m\u001b[1m  Updating\u001b[22m\u001b[39m registry at `C:\\Users\\lkape\\.julia\\registries\\General`"
     ]
    },
    {
     "name": "stdout",
     "output_type": "stream",
     "text": [
      "\u001b[?25l"
     ]
    },
    {
     "name": "stderr",
     "output_type": "stream",
     "text": [
      "\n",
      "\u001b[32m\u001b[1m  Updating\u001b[22m\u001b[39m git-repo `https://github.com/JuliaRegistries/General.git`\n"
     ]
    },
    {
     "name": "stdout",
     "output_type": "stream",
     "text": [
      "\u001b[2K\u001b[?25h\u001b[?25l"
     ]
    },
    {
     "name": "stderr",
     "output_type": "stream",
     "text": [
      "\u001b[32m\u001b[1m  Updating\u001b[22m\u001b[39m git-repo `https://github.com/JuliaOpt/JuMP.jl.git`\n"
     ]
    },
    {
     "name": "stdout",
     "output_type": "stream",
     "text": [
      "\u001b[2K\u001b[?25h"
     ]
    },
    {
     "name": "stderr",
     "output_type": "stream",
     "text": [
      "\u001b[32m\u001b[1m  Updating\u001b[22m\u001b[39m `C:\\Users\\lkape\\.julia\\environments\\v1.4\\Project.toml`\n",
      "\u001b[90m [no changes]\u001b[39m\n",
      "\u001b[32m\u001b[1m  Updating\u001b[22m\u001b[39m `C:\\Users\\lkape\\.julia\\environments\\v1.4\\Manifest.toml`\n",
      "\u001b[90m [no changes]\u001b[39m\n"
     ]
    }
   ],
   "source": [
    "# let's all get to the latest version of JuMP\n",
    "import Pkg\n",
    "Pkg.update(\"JuMP\")"
   ]
  },
  {
   "cell_type": "markdown",
   "metadata": {},
   "source": [
    "Quick refresher:\n",
    "\n",
    "$$\n",
    "\\begin{align*}\n",
    "&\\max_{x,y}& \\quad x + 2y \\\\\n",
    "&\\text{s.t.}&\\quad x + y &\\leq 1 \\\\\n",
    "&&0\\leq x, y &\\leq 1\n",
    "\\end{align*}\n",
    "$$"
   ]
  },
  {
   "cell_type": "code",
   "execution_count": 6,
   "metadata": {},
   "outputs": [
    {
     "data": {
      "text/latex": [
       "$$ x + 2 y $$"
      ],
      "text/plain": [
       "x + 2 y"
      ]
     },
     "execution_count": 6,
     "metadata": {},
     "output_type": "execute_result"
    }
   ],
   "source": [
    "using JuMP, GLPK\n",
    "# model = Model(with_optimizer(GLPK.Optimizer, msg_lev = 4)) # old syntax: will work but with a warning\n",
    "model = Model(GLPK.Optimizer)\n",
    "set_parameters(model, \"msg_lev\" => 4)\n",
    "\n",
    "@variable(model, x >= 0)\n",
    "@variable(model, y <= 1)\n",
    "@constraint(model, x + y <= 1)\n",
    "@objective(model, Max, x + 2 * y)\n",
    "\n",
    "# complete the model\n"
   ]
  },
  {
   "cell_type": "code",
   "execution_count": 8,
   "metadata": {},
   "outputs": [
    {
     "name": "stdout",
     "output_type": "stream",
     "text": [
      "GLPK Simplex Optimizer, v4.64\n",
      "1 row, 2 columns, 2 non-zeros\n",
      "*     1: obj =  2.000000000e+000 inf =  0.000e+000 (0)\n",
      "OPTIMAL LP SOLUTION FOUND\n"
     ]
    }
   ],
   "source": [
    "optimize!(model)"
   ]
  },
  {
   "cell_type": "markdown",
   "metadata": {},
   "source": [
    "## Where to get help\n",
    "- JuMP docs https://www.juliaopt.org/JuMP.jl/v0.20.0/\n",
    "- JuMP issues https://github.com/JuliaOpt/JuMP.jl/issues\n",
    "- JuMP tutorial notebooks package https://github.com/JuliaOpt/JuMPTutorials.jl\n",
    "- Discourse https://discourse.julialang.org/c/domain/opt\n",
    "- Julia slack channels https://app.slack.com/client/T68168MUP/C66NPKCQZ/thread/C681S52FQ-1577546443.051000 "
   ]
  },
  {
   "cell_type": "markdown",
   "metadata": {},
   "source": [
    "<p >\n",
    "<img src=\"figures/dumbledore.jpg\",width=300,height=1000>\n",
    "    \n",
    "(https://www.youtube.com/watch?v=WDHOh05dk0E)"
   ]
  },
  {
   "cell_type": "markdown",
   "metadata": {},
   "source": [
    "## Other links\n",
    "- JuMP style guide https://www.juliaopt.org/JuMP.jl/dev/style/\n",
    "- Examples in the JuMP Github repo https://github.com/JuliaOpt/JuMP.jl/tree/master/examples"
   ]
  },
  {
   "cell_type": "markdown",
   "metadata": {},
   "source": [
    "## Why JuMP?\n"
   ]
  },
  {
   "cell_type": "markdown",
   "metadata": {},
   "source": [
    "- Traditional AMLs: e.g. AMPL, GAMS\n",
    "    - Designed for communicating optimization problems\n",
    "    - Fairly restrictive, not designed for other programming tasks\n",
    "    - Introduce some nice practices, e.g. keep data separate to the model    \n",
    "- Newer AMLs e.g. YALMIP, CVX, Pyomo embedded in MATLAB/Python restricted by speed of MATLAB/Python \n"
   ]
  },
  {
   "cell_type": "markdown",
   "metadata": {},
   "source": [
    "E.g. AMPL "
   ]
  },
  {
   "cell_type": "markdown",
   "metadata": {},
   "source": [
    "<p >\n",
    "<img src=\"figures/ampldata.png\",width=300,height=1000>"
   ]
  },
  {
   "cell_type": "markdown",
   "metadata": {},
   "source": [
    "<p >\n",
    "<img src=\"figures/amplmodel.png\",width=600,height=2000>"
   ]
  },
  {
   "cell_type": "markdown",
   "metadata": {},
   "source": [
    "## MathOptInterface.jl\n",
    "\n",
    "- JuMP.jl and Convex.jl are modeling languages\n",
    "- MathOptInterface (MOI) is an abstraction layer \"underneath\" JuMP.jl and Convex.jl\n",
    "- Solver packages (e.g. Gurobi.jl, Cplex.jl, etc.) are Julia wrappers that implement the MOI interface"
   ]
  },
  {
   "cell_type": "code",
   "execution_count": 4,
   "metadata": {},
   "outputs": [
    {
     "data": {
      "text/html": [
       "# 4 methods for generic function <b>optimize!</b>:<ul><li> optimize!(model::<b>GLPK.Optimizer</b>) in GLPK at <a href=\"file://C:/Users/lkape/.julia/packages/GLPK/J1b5G/src/MOI_wrapper.jl\" target=\"_blank\">C:\\Users\\lkape\\.julia\\packages\\GLPK\\J1b5G\\src\\MOI_wrapper.jl:1348</a></li> <li> optimize!(mock::<b>MathOptInterface.Utilities.MockOptimizer</b>) in MathOptInterface.Utilities at <a href=\"file://C:/Users/lkape/.julia/packages/MathOptInterface/FET5e/src/Utilities/mockoptimizer.jl\" target=\"_blank\">C:\\Users\\lkape\\.julia\\packages\\MathOptInterface\\FET5e\\src\\Utilities\\mockoptimizer.jl:120</a></li> <li> optimize!(m::<b>MathOptInterface.Utilities.CachingOptimizer</b>) in MathOptInterface.Utilities at <a href=\"file://C:/Users/lkape/.julia/packages/MathOptInterface/FET5e/src/Utilities/cachingoptimizer.jl\" target=\"_blank\">C:\\Users\\lkape\\.julia\\packages\\MathOptInterface\\FET5e\\src\\Utilities\\cachingoptimizer.jl:184</a></li> <li> optimize!(b::<b>MathOptInterface.Bridges.AbstractBridgeOptimizer</b>) in MathOptInterface.Bridges at <a href=\"file://C:/Users/lkape/.julia/packages/MathOptInterface/FET5e/src/Bridges/bridge_optimizer.jl\" target=\"_blank\">C:\\Users\\lkape\\.julia\\packages\\MathOptInterface\\FET5e\\src\\Bridges\\bridge_optimizer.jl:239</a></li> </ul>"
      ],
      "text/plain": [
       "# 4 methods for generic function \"optimize!\":\n",
       "[1] optimize!(model::GLPK.Optimizer) in GLPK at C:\\Users\\lkape\\.julia\\packages\\GLPK\\J1b5G\\src\\MOI_wrapper.jl:1348\n",
       "[2] optimize!(mock::MathOptInterface.Utilities.MockOptimizer) in MathOptInterface.Utilities at C:\\Users\\lkape\\.julia\\packages\\MathOptInterface\\FET5e\\src\\Utilities\\mockoptimizer.jl:120\n",
       "[3] optimize!(m::MathOptInterface.Utilities.CachingOptimizer) in MathOptInterface.Utilities at C:\\Users\\lkape\\.julia\\packages\\MathOptInterface\\FET5e\\src\\Utilities\\cachingoptimizer.jl:184\n",
       "[4] optimize!(b::MathOptInterface.Bridges.AbstractBridgeOptimizer) in MathOptInterface.Bridges at C:\\Users\\lkape\\.julia\\packages\\MathOptInterface\\FET5e\\src\\Bridges\\bridge_optimizer.jl:239"
      ]
     },
     "execution_count": 4,
     "metadata": {},
     "output_type": "execute_result"
    }
   ],
   "source": [
    "using MathOptInterface\n",
    "using GLPK\n",
    "# e.g.\n",
    "methods(MathOptInterface.optimize!)"
   ]
  },
  {
   "cell_type": "markdown",
   "metadata": {},
   "source": [
    "Behind every JuMP model there is a MOI backend (used to be a MPB model)"
   ]
  },
  {
   "cell_type": "code",
   "execution_count": 9,
   "metadata": {},
   "outputs": [
    {
     "data": {
      "text/plain": [
       "MathOptInterface.Utilities.CachingOptimizer{MathOptInterface.AbstractOptimizer,MathOptInterface.Utilities.UniversalFallback{MathOptInterface.Utilities.Model{Float64}}}"
      ]
     },
     "execution_count": 9,
     "metadata": {},
     "output_type": "execute_result"
    }
   ],
   "source": [
    "using JuMP \n",
    "# note JuMP exports the acronym MOI = MathOptInterface\n",
    "model = Model()\n",
    "@variable(model, x[1:2] >= 0)\n",
    "@constraint(model, x .- 5 .<= 0)\n",
    "typeof(backend(model))"
   ]
  },
  {
   "cell_type": "markdown",
   "metadata": {},
   "source": [
    "JuMP can also be used in direct mode."
   ]
  },
  {
   "cell_type": "code",
   "execution_count": 10,
   "metadata": {},
   "outputs": [
    {
     "data": {
      "text/plain": [
       "GLPK.Optimizer"
      ]
     },
     "execution_count": 10,
     "metadata": {},
     "output_type": "execute_result"
    }
   ],
   "source": [
    "model_glpk = direct_model(GLPK.Optimizer())\n",
    "typeof(backend(model_glpk))"
   ]
  },
  {
   "cell_type": "markdown",
   "metadata": {},
   "source": [
    "Some low-level functions:"
   ]
  },
  {
   "cell_type": "code",
   "execution_count": 11,
   "metadata": {},
   "outputs": [
    {
     "data": {
      "text/plain": [
       "2-element Array{MathOptInterface.VariableIndex,1}:\n",
       " MathOptInterface.VariableIndex(1)\n",
       " MathOptInterface.VariableIndex(2)"
      ]
     },
     "execution_count": 11,
     "metadata": {},
     "output_type": "execute_result"
    }
   ],
   "source": [
    "xx = MOI.get(backend(model), MOI.ListOfVariableIndices())"
   ]
  },
  {
   "cell_type": "code",
   "execution_count": 11,
   "metadata": {},
   "outputs": [
    {
     "name": "stdout",
     "output_type": "stream",
     "text": [
      "MathOptInterface.VariableIndex\n",
      "  value: Int64 1\n",
      "dump(xx[1]) = nothing\n",
      "MathOptInterface.VariableIndex\n",
      "  value: Int64 2\n",
      "dump(xx[2]) = nothing\n"
     ]
    }
   ],
   "source": [
    "@show dump(xx[1])\n",
    "@show dump(xx[2])"
   ]
  },
  {
   "cell_type": "code",
   "execution_count": 12,
   "metadata": {},
   "outputs": [
    {
     "data": {
      "text/plain": [
       "2-element Array{Tuple{DataType,DataType},1}:\n",
       " (MathOptInterface.ScalarAffineFunction{Float64}, MathOptInterface.LessThan{Float64})\n",
       " (MathOptInterface.SingleVariable, MathOptInterface.GreaterThan{Float64})"
      ]
     },
     "execution_count": 12,
     "metadata": {},
     "output_type": "execute_result"
    }
   ],
   "source": [
    "cc = MOI.get(backend(model), MOI.ListOfConstraints())"
   ]
  },
  {
   "cell_type": "markdown",
   "metadata": {},
   "source": [
    "Constraints in MOI follow the format:"
   ]
  },
  {
   "cell_type": "markdown",
   "metadata": {},
   "source": [
    "$$\n",
    "f(x) \\in S\n",
    "$$\n",
    "were $f$ is an MOI.AbstractFunction and $S$ is an MOI.AbstractSet."
   ]
  },
  {
   "cell_type": "markdown",
   "metadata": {},
   "source": [
    "# More constraint examples\n",
    "\n",
    "| Mathematical Constraint       | MOI Function                 | MOI Set        |\n",
    "|-------------------------------|------------------------------|----------------|\n",
    "| $a^Tx = b$                  | `ScalarAffineFunction`       | `EqualTo`      |\n",
    "| $l \\le a^Tx \\le u$          | `ScalarAffineFunction`       | `Interval`     |\n",
    "| $x_i \\le u$                 | `SingleVariable`             | `LessThan`     |\n",
    "| $Ax + b \\in \\mathbb{R}_+^n$ | `VectorAffineFunction`       | `Nonnegatives` |\n",
    "| $\\lVert Ax + b\\rVert_2 \\le c^Tx + d$                        | `VectorAffineFunction`       | `SecondOrderCone` |\n",
    "| $y \\exp (x/y) \\le z, y > 0$  | `VectorOfVariables`       | `ExponentialCone`                  |\n",
    "| $x \\in \\mathbb{R}^{d\\left(d+1\\right)/2}$,◹$(x)\\in \\text{PSD} \\subseteq \\mathbb{R}^{d\\times d}$                                       | `VectorOfVariables`          | `PositiveSemidefiniteConeTriangle` |\n",
    "| $x^TQx + a^Tx + b \\ge 0$    | `ScalarQuadraticFunction`    | `GreaterThan`                 |\n",
    "| $x_i \\in \\mathbb{Z}$                                                                     | `SingleVariable`    | `Integer`                          |\n",
    "| $x_i \\in \\{0,1\\}$                                                                        | `SingleVariable`    | `ZeroOne`                          |\n",
    "| $x_i \\in \\{0\\} \\cup [l,u]$                                                               | `SingleVariable`    | `Semicontinuous`                   |\n",
    "| At most one component of $x$ can be nonzero                                              | `VectorOfVariables` | `SOS1`                             |\n",
    "\n",
    "MOI includes standard functions and sets, and allows for some extensions. See [MOI manual](http://www.juliaopt.org/MathOptInterface.jl/stable/index.html) for more details on [supported sets and functions](http://www.juliaopt.org/MathOptInterface.jl/stable/apimanual/#Standard-form-problem-1) and more [constraint examples](http://www.juliaopt.org/MathOptInterface.jl/stable/apimanual/#Constraints-by-function-set-pairs-1)."
   ]
  },
  {
   "cell_type": "code",
   "execution_count": 13,
   "metadata": {},
   "outputs": [
    {
     "data": {
      "text/plain": [
       "2-element Array{ConstraintRef{Model,MathOptInterface.ConstraintIndex{MathOptInterface.ScalarAffineFunction{Float64},MathOptInterface.LessThan{Float64}},ScalarShape},1}:\n",
       " x[1] <= 5.0\n",
       " x[2] <= 5.0"
      ]
     },
     "execution_count": 13,
     "metadata": {},
     "output_type": "execute_result"
    }
   ],
   "source": [
    "# get all constraints of our chosen type\n",
    "all_constraints(model, AffExpr, MOI.LessThan{Float64})"
   ]
  },
  {
   "cell_type": "markdown",
   "metadata": {},
   "source": [
    "## Constraint bridges"
   ]
  },
  {
   "cell_type": "markdown",
   "metadata": {},
   "source": [
    "### Example 1"
   ]
  },
  {
   "cell_type": "code",
   "execution_count": 26,
   "metadata": {},
   "outputs": [],
   "source": [
    "model = JuMP.Model()\n",
    "@variable(model,x[1:10]);"
   ]
  },
  {
   "cell_type": "markdown",
   "metadata": {},
   "source": [
    "Two-sided linear constraint as one `ScalarAffineFunction`-in-`Interval`:"
   ]
  },
  {
   "cell_type": "code",
   "execution_count": 14,
   "metadata": {},
   "outputs": [
    {
     "data": {
      "text/latex": [
       "interval_inequality : $ x_{1} + x_{2} \\in \\[-2.0, 1.0\\] $"
      ],
      "text/plain": [
       "interval_inequality : x[1] + x[2] in [-2.0, 1.0]"
      ]
     },
     "execution_count": 14,
     "metadata": {},
     "output_type": "execute_result"
    }
   ],
   "source": [
    "@constraint(model, interval_inequality, -2 <= sum(x) <= 1)\n",
    "#index(interval_inequality)"
   ]
  },
  {
   "cell_type": "markdown",
   "metadata": {},
   "source": [
    "Two-sided linear constraint as two ScalarAffineFunction-in-LessThan:"
   ]
  },
  {
   "cell_type": "code",
   "execution_count": 15,
   "metadata": {},
   "outputs": [
    {
     "name": "stdout",
     "output_type": "stream",
     "text": [
      "lower_bound : -x[1] - x[2] <= 2.0\n",
      "upper_bound : x[1] + x[2] <= 1.0\n"
     ]
    }
   ],
   "source": [
    "@constraint(model, lower_bound, -sum(x) <= 2)\n",
    "#index(lower_bound)\n",
    "@constraint(model, upper_bound,  sum(x) <= 1)\n",
    "#index(upper_bound)\n",
    "println(lower_bound)\n",
    "println(upper_bound)"
   ]
  },
  {
   "cell_type": "markdown",
   "metadata": {},
   "source": [
    "### Example 2"
   ]
  },
  {
   "cell_type": "code",
   "execution_count": 16,
   "metadata": {},
   "outputs": [],
   "source": [
    "model = JuMP.Model()\n",
    "@variable(model,x)\n",
    "@variable(model,y)\n",
    "@variable(model,t);"
   ]
  },
  {
   "cell_type": "markdown",
   "metadata": {},
   "source": [
    "Quadratic inequality as `ScalarQuadraticFunction`-in-`LessThan`:"
   ]
  },
  {
   "cell_type": "code",
   "execution_count": 18,
   "metadata": {},
   "outputs": [
    {
     "data": {
      "text/latex": [
       "quadratic : $ x^2 + y^2 - t \\leq 0.0 $"
      ],
      "text/plain": [
       "quadratic : x² + y² - t <= 0.0"
      ]
     },
     "execution_count": 18,
     "metadata": {},
     "output_type": "execute_result"
    }
   ],
   "source": [
    "@constraint(model,quadratic, x^2 + y^2 <= t)"
   ]
  },
  {
   "cell_type": "markdown",
   "metadata": {},
   "source": [
    "Quadratic inequality as `VectorAffineFunction`-in-`SecondOrderCone` (where the second order cone is $(t, x) \\in \\mathbb{R} \\times \\mathbb{R}^n : t \\geq \\vert \\vert x \\vert \\vert$):"
   ]
  },
  {
   "cell_type": "code",
   "execution_count": 17,
   "metadata": {},
   "outputs": [
    {
     "data": {
      "text/latex": [
       "conic : $ [0.5 t + 0.5, -0.5 t + 0.5, x, y] \\in MathOptInterface.SecondOrderCone(4) $"
      ],
      "text/plain": [
       "conic : [0.5 t + 0.5, -0.5 t + 0.5, x, y] in MathOptInterface.SecondOrderCone(4)"
      ]
     },
     "execution_count": 17,
     "metadata": {},
     "output_type": "execute_result"
    }
   ],
   "source": [
    "@constraint(model, conic, [(1+t)/2; (1-t)/2; x; y] in SecondOrderCone())"
   ]
  },
  {
   "cell_type": "markdown",
   "metadata": {},
   "source": [
    "### Example for `bridge_constraints`"
   ]
  },
  {
   "cell_type": "markdown",
   "metadata": {},
   "source": [
    "ECOS does not support quadratic constraints so it fails without a bridge"
   ]
  },
  {
   "cell_type": "code",
   "execution_count": 19,
   "metadata": {},
   "outputs": [
    {
     "ename": "ErrorException",
     "evalue": "Constraints of type MathOptInterface.ScalarQuadraticFunction{Float64}-in-MathOptInterface.LessThan{Float64} are not supported by the solver, try using `bridge_constraints=true` in the `JuMP.Model` constructor if you believe the constraint can be reformulated to constraints supported by the solver.",
     "output_type": "error",
     "traceback": [
      "Constraints of type MathOptInterface.ScalarQuadraticFunction{Float64}-in-MathOptInterface.LessThan{Float64} are not supported by the solver, try using `bridge_constraints=true` in the `JuMP.Model` constructor if you believe the constraint can be reformulated to constraints supported by the solver.",
      "",
      "Stacktrace:",
      " [1] error(::String) at .\\error.jl:33",
      " [2] moi_add_constraint(::MathOptInterface.Utilities.CachingOptimizer{MathOptInterface.AbstractOptimizer,MathOptInterface.Utilities.UniversalFallback{MathOptInterface.Utilities.Model{Float64}}}, ::MathOptInterface.ScalarQuadraticFunction{Float64}, ::MathOptInterface.LessThan{Float64}) at C:\\Users\\lkape\\.julia\\packages\\JuMP\\GP9cv\\src\\constraints.jl:389",
      " [3] add_constraint(::Model, ::ScalarConstraint{GenericQuadExpr{Float64,VariableRef},MathOptInterface.LessThan{Float64}}, ::String) at C:\\Users\\lkape\\.julia\\packages\\JuMP\\GP9cv\\src\\constraints.jl:403",
      " [4] top-level scope at C:\\Users\\lkape\\.julia\\packages\\JuMP\\GP9cv\\src\\macros.jl:381",
      " [5] top-level scope at In[19]:7"
     ]
    }
   ],
   "source": [
    "using ECOS\n",
    "model = JuMP.Model(ECOS.Optimizer, bridge_constraints = false)\n",
    "# model = JuMP.Model(with_optimizer(ECOS.Optimizer), bridge_constraints = false) # old syntax\n",
    "@variable(model,x)\n",
    "@variable(model,y)\n",
    "@variable(model,t)\n",
    "@constraint(model,quadratic, x^2 + y^2 <= t)"
   ]
  },
  {
   "cell_type": "code",
   "execution_count": 22,
   "metadata": {},
   "outputs": [
    {
     "data": {
      "text/latex": [
       "$ x^2 + y^2 - t \\leq 0.0 $"
      ],
      "text/plain": [
       "x² + y² - t <= 0.0"
      ]
     },
     "execution_count": 22,
     "metadata": {},
     "output_type": "execute_result"
    }
   ],
   "source": [
    "using ECOS\n",
    "model = JuMP.Model(ECOS.Optimizer)\n",
    "# model = JuMP.Model(with_optimizer(ECOS.Optimizer)) # old syntax\n",
    "@variable(model,x)\n",
    "@variable(model,y)\n",
    "@variable(model,t)\n",
    "@constraint(model, x^2 + y^2 <= t)"
   ]
  },
  {
   "cell_type": "code",
   "execution_count": 21,
   "metadata": {},
   "outputs": [
    {
     "data": {
      "text/plain": [
       "MOIU.CachingOptimizer{MOI.AbstractOptimizer,MOIU.UniversalFallback{MOIU.Model{Float64}}}\n",
       "in state EMPTY_OPTIMIZER\n",
       "in mode AUTOMATIC\n",
       "with model cache MOIU.UniversalFallback{MOIU.Model{Float64}}\n",
       "  fallback for MOIU.Model{Float64}\n",
       "with optimizer MOIB.LazyBridgeOptimizer{MOIU.CachingOptimizer{ECOS.Optimizer,MOIU.UniversalFallback{MOIU.Model{Float64}}}}\n",
       "  with 0 variable bridges\n",
       "  with 0 constraint bridges\n",
       "  with 0 objective bridges\n",
       "  with inner model MOIU.CachingOptimizer{ECOS.Optimizer,MOIU.UniversalFallback{MOIU.Model{Float64}}}\n",
       "    in state ATTACHED_OPTIMIZER\n",
       "    in mode AUTOMATIC\n",
       "    with model cache MOIU.UniversalFallback{MOIU.Model{Float64}}\n",
       "      fallback for MOIU.Model{Float64}\n",
       "    with optimizer ECOS.Optimizer"
      ]
     },
     "execution_count": 21,
     "metadata": {},
     "output_type": "execute_result"
    }
   ],
   "source": [
    "backend(model)"
   ]
  },
  {
   "cell_type": "code",
   "execution_count": null,
   "metadata": {},
   "outputs": [],
   "source": []
  }
 ],
 "metadata": {
  "kernelspec": {
   "display_name": "Julia 1.4.0-DEV",
   "language": "julia",
   "name": "julia-1.4"
  },
  "language_info": {
   "file_extension": ".jl",
   "mimetype": "application/julia",
   "name": "julia",
   "version": "1.4.0"
  }
 },
 "nbformat": 4,
 "nbformat_minor": 2
}
