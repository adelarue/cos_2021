{
 "cells": [
  {
   "cell_type": "markdown",
   "metadata": {},
   "source": [
    "# Intro to Julia\n",
    "\n",
    "This notebook is an introduction to the Julia language and its commonly used IJulia/Jupyter notebook interface. It is based on:\n",
    "- material developed by Miles Lubin and Sebastien Martin of the MIT Operations Research Center\n",
    "- Arthur Delarue's COS 2018 notebook (https://github.com/PhilChodrow/cos_2018/tree/master/6_julia_and_jump)\n",
    "- online open-source material (http://ucidatascienceinitiative.github.io/IntroToJulia/Html/WhyJulia)\n",
    "- Christopher Rackauckas' fantastic blogs (https://www.stochasticlifestyle.com/7-julia-gotchas-handle/)"
   ]
  },
  {
   "cell_type": "markdown",
   "metadata": {},
   "source": [
    "## Why Julia?"
   ]
  },
  {
   "cell_type": "markdown",
   "metadata": {},
   "source": [
    "A **high-level** language:\n",
    "\n",
    "Easy to use and learn, with a similar syntax to Python/Matlab.\n",
    "It is possible to do complicated computations quickly.\n",
    "For example, Solving $Ax = b$ with $A = \\begin{pmatrix}\n",
    " 1 & 2 &  3\\\\ \n",
    " 2 & 1 & 2\\\\ \n",
    " 3 & 2 & 1\n",
    "\\end{pmatrix}$ and $b = \\begin{pmatrix}\n",
    " 1 \\\\ \n",
    " 1 \\\\ \n",
    " 1 \n",
    "\\end{pmatrix}$ is as simple as:"
   ]
  },
  {
   "cell_type": "code",
   "execution_count": 2,
   "metadata": {},
   "outputs": [
    {
     "data": {
      "text/plain": [
       "3-element Vector{Float64}:\n",
       " 0.25\n",
       " 0.0\n",
       " 0.25000000000000006"
      ]
     },
     "execution_count": 2,
     "metadata": {},
     "output_type": "execute_result"
    }
   ],
   "source": [
    "A = [1 2 3\n",
    "     2 1 2\n",
    "     3 2 1]\n",
    "\n",
    "b = [1,1,1]\n",
    "A \\ b"
   ]
  },
  {
   "cell_type": "markdown",
   "metadata": {},
   "source": [
    "A **dynamic** language:\n",
    "\n",
    "Julia is, like Python, Matlab or R, a dynamic language: you can interact with the language without the need to compile your code. Static or compiled languages, like C or Fortran, are more complicated to use but generally faster, and thus used when there is a need for time-efficient computations.\n",
    "\n",
    "Two-language approach: use high level languages for research and scripting, then translate the final result into a static language for performance."
   ]
  },
  {
   "cell_type": "markdown",
   "metadata": {},
   "source": [
    "A **high-performance** language:\n",
    "\n",
    "Julia is fast. Thanks to multiple dispatch, a strong type system, and just-in-time compilation, it can reach performance comparable to C and Fortran.\n",
    "\n",
    "\n",
    "![figures/Julia-benchmarks.png](figures/Julia-benchmarks.png)"
   ]
  },
  {
   "cell_type": "markdown",
   "metadata": {},
   "source": [
    "A language for **technical computing**:\n",
    "\n",
    "- Julia has a lot of built in functions for scientific computing.\n",
    "- A growing number of packages, mostly written in Julia itself.\n",
    "- More and more users in Finance, Biology, Optimization.\n",
    "- Can run C and Python code seamlessly (using Scikit for Machine Learning...)"
   ]
  },
  {
   "cell_type": "markdown",
   "metadata": {},
   "source": [
    "In this notebook we will try to cover some gotchas and good workflow practices to get the most out of Julia. "
   ]
  },
  {
   "cell_type": "markdown",
   "metadata": {},
   "source": [
    "## Warm-up exercise\n",
    "\n",
    "Complete `find_entering_var` below, which returns the minimum reduced cost and index of the entering variable (with the minimum reduced cost), inside an iteration of the simplex method. \n",
    "\n",
    "If no variable has negative reduced cost, we will simply return zeros for `min_rc` and `min_idx`. If multiple variables have the lowest reduced cost, we will return the last of these.\n",
    "\n",
    "Remember the vector of reduced costs is given by:\n",
    "$$\n",
    "rc = c_N - A'\\pi\n",
    "$$\n",
    "and the $i^{th}$ reduced cost is\n",
    "$$\n",
    "rc_i = c_i - A_i' \\pi\n",
    "$$\n",
    "where $A_i$ is the $i^{th}$ column of $A$.\n",
    "\n",
    "You might find it useful to use the function `dot` from the `LinearAlgebra` library."
   ]
  },
  {
   "cell_type": "code",
   "execution_count": 3,
   "metadata": {},
   "outputs": [
    {
     "data": {
      "text/plain": [
       "11"
      ]
     },
     "execution_count": 3,
     "metadata": {},
     "output_type": "execute_result"
    }
   ],
   "source": [
    "using LinearAlgebra\n",
    "dot([1, 2], [3, 4])"
   ]
  },
  {
   "cell_type": "code",
   "execution_count": 4,
   "metadata": {},
   "outputs": [
    {
     "data": {
      "text/plain": [
       "find_entering_var (generic function with 1 method)"
      ]
     },
     "execution_count": 4,
     "metadata": {},
     "output_type": "execute_result"
    }
   ],
   "source": [
    "function find_entering_var(A::Matrix{Float64}, c::Vector{Float64}, pi::Vector{Float64}, var_status::Vector{Int})\n",
    "    min_rc = 0\n",
    "    min_idx = 0\n",
    "    for k in eachindex(var_status)\n",
    "        # only check nonbasic variables\n",
    "        if iszero(var_status[k])\n",
    "            rc = c[k] - dot(A[:, k], pi)\n",
    "            if rc < min_rc\n",
    "                min_rc = rc\n",
    "                min_idx = k\n",
    "            end\n",
    "        end\n",
    "    end\n",
    "    return (min_rc, min_idx)\n",
    "end"
   ]
  },
  {
   "cell_type": "code",
   "execution_count": 5,
   "metadata": {},
   "outputs": [
    {
     "data": {
      "text/plain": [
       "(-1.5, 1)"
      ]
     },
     "execution_count": 5,
     "metadata": {},
     "output_type": "execute_result"
    }
   ],
   "source": [
    "# test your function by running this cell\n",
    "\n",
    "using Random\n",
    "function make_data(T::Type)\n",
    "Random.seed!(1)\n",
    "    basic_idxs = [2, 4, 6]\n",
    "    A = T[3 2 1 2 1 0 0; 1 1 1 1 0 1 0; 4 3 3 4 0 0 1]\n",
    "    B = A[:, basic_idxs]\n",
    "    B_inv = inv(B) # note this would never happen inside the algorithm, we always have B_inv available\n",
    "    b = T[225, 117, 420]\n",
    "    c = -T[19, 13, 12, 17, 0, 0, 0]\n",
    "    c_b = c[basic_idxs]\n",
    "    x_b = B_inv * b\n",
    "    var_status = [0, 1, 0, 2, 0, 3]\n",
    "    pi = B_inv' * c_b\n",
    "    return (A, b, c, B_inv, pi, var_status, basic_idxs)\n",
    "end\n",
    "(A, b, c, B_inv, pi, var_status, basic_idxs) = make_data(Float64)\n",
    "\n",
    "find_entering_var(A, c, pi, var_status) # should be (-1.5, 1)"
   ]
  },
  {
   "cell_type": "markdown",
   "metadata": {},
   "source": [
    "## A bit more on why Julia is fast"
   ]
  },
  {
   "cell_type": "code",
   "execution_count": 6,
   "metadata": {},
   "outputs": [
    {
     "data": {
      "text/plain": [
       "3"
      ]
     },
     "execution_count": 6,
     "metadata": {},
     "output_type": "execute_result"
    }
   ],
   "source": [
    "# When we write a function, it can have many \"methods\"\n",
    "+(1, 2)"
   ]
  },
  {
   "cell_type": "code",
   "execution_count": 7,
   "metadata": {},
   "outputs": [
    {
     "data": {
      "text/html": [
       "# 190 methods for generic function <b>+</b>:<ul><li> +(x::<b>T</b>, y::<b>T</b>)<i> where T<:Union{Int128, Int16, Int32, Int64, Int8, UInt128, UInt16, UInt32, UInt64, UInt8}</i> in Base at <a href=\"https://github.com/JuliaLang/julia/tree/676ccf4eaa9b6e6c6a53f75abb4bf3e1a2457426/base/int.jl#L87\" target=\"_blank\">int.jl:87</a></li> <li> +(c::<b>Union{UInt16, UInt32, UInt8}</b>, x::<b>BigInt</b>) in Base.GMP at <a href=\"https://github.com/JuliaLang/julia/tree/676ccf4eaa9b6e6c6a53f75abb4bf3e1a2457426/base/gmp.jl#L528\" target=\"_blank\">gmp.jl:528</a></li> <li> +(c::<b>Union{Int16, Int32, Int8}</b>, x::<b>BigInt</b>) in Base.GMP at <a href=\"https://github.com/JuliaLang/julia/tree/676ccf4eaa9b6e6c6a53f75abb4bf3e1a2457426/base/gmp.jl#L534\" target=\"_blank\">gmp.jl:534</a></li> <li> +(c::<b>Union{UInt16, UInt32, UInt8}</b>, x::<b>BigFloat</b>) in Base.MPFR at <a href=\"https://github.com/JuliaLang/julia/tree/676ccf4eaa9b6e6c6a53f75abb4bf3e1a2457426/base/mpfr.jl#L376\" target=\"_blank\">mpfr.jl:376</a></li> <li> +(c::<b>Union{Int16, Int32, Int8}</b>, x::<b>BigFloat</b>) in Base.MPFR at <a href=\"https://github.com/JuliaLang/julia/tree/676ccf4eaa9b6e6c6a53f75abb4bf3e1a2457426/base/mpfr.jl#L384\" target=\"_blank\">mpfr.jl:384</a></li> <li> +(c::<b>Union{Float16, Float32, Float64}</b>, x::<b>BigFloat</b>) in Base.MPFR at <a href=\"https://github.com/JuliaLang/julia/tree/676ccf4eaa9b6e6c6a53f75abb4bf3e1a2457426/base/mpfr.jl#L392\" target=\"_blank\">mpfr.jl:392</a></li> <li> +(x::<b>Union{Dates.CompoundPeriod, Dates.Period}</b>) in Dates at <a href=\"file://C:/buildbot/worker/package_win64/build/usr/share/julia/stdlib/v1.7/Dates/src/periods.jl\" target=\"_blank\">C:\\Users\\lkape\\AppData\\Local\\Programs\\Julia-1.7.0-DEV\\share\\julia\\stdlib\\v1.7\\Dates\\src\\periods.jl:362</a></li> <li> +(A::<b>Symmetric</b>, B::<b>Symmetric</b>) in LinearAlgebra at <a href=\"file://C:/buildbot/worker/package_win64/build/usr/share/julia/stdlib/v1.7/LinearAlgebra/src/symmetric.jl\" target=\"_blank\">C:\\Users\\lkape\\AppData\\Local\\Programs\\Julia-1.7.0-DEV\\share\\julia\\stdlib\\v1.7\\LinearAlgebra\\src\\symmetric.jl:469</a></li> <li> +(S::<b>Symmetric</b>, D::<b>Diagonal</b>) in LinearAlgebra at <a href=\"file://C:/buildbot/worker/package_win64/build/usr/share/julia/stdlib/v1.7/LinearAlgebra/src/diagonal.jl\" target=\"_blank\">C:\\Users\\lkape\\AppData\\Local\\Programs\\Julia-1.7.0-DEV\\share\\julia\\stdlib\\v1.7\\LinearAlgebra\\src\\diagonal.jl:163</a></li> <li> +(A::<b>Symmetric{var\"#s828\", var\"#s827\"} where var\"#s827\"<:(SparseArrays.AbstractSparseMatrix{Tv, Ti} where Ti where Tv) where var\"#s828\"</b>, B::<b>SparseArrays.AbstractSparseMatrix{Tv, Ti} where Ti where Tv</b>) in SparseArrays at <a href=\"file://C:/buildbot/worker/package_win64/build/usr/share/julia/stdlib/v1.7/SparseArrays/src/linalg.jl\" target=\"_blank\">C:\\Users\\lkape\\AppData\\Local\\Programs\\Julia-1.7.0-DEV\\share\\julia\\stdlib\\v1.7\\SparseArrays\\src\\linalg.jl:13</a></li> <li> +(A::<b>Symmetric</b>, B::<b>SparseArrays.AbstractSparseMatrix{Tv, Ti} where Ti where Tv</b>) in SparseArrays at <a href=\"file://C:/buildbot/worker/package_win64/build/usr/share/julia/stdlib/v1.7/SparseArrays/src/linalg.jl\" target=\"_blank\">C:\\Users\\lkape\\AppData\\Local\\Programs\\Julia-1.7.0-DEV\\share\\julia\\stdlib\\v1.7\\SparseArrays\\src\\linalg.jl:16</a></li> <li> +(A::<b>Symmetric{var\"#s822\", var\"#s821\"} where var\"#s821\"<:(SparseArrays.AbstractSparseMatrix{Tv, Ti} where Ti where Tv) where var\"#s822\"<:Real</b>, B::<b>Hermitian{var\"#s820\", var\"#s819\"} where var\"#s819\"<:(SparseArrays.AbstractSparseMatrix{Tv, Ti} where Ti where Tv) where var\"#s820\"</b>) in SparseArrays at <a href=\"file://C:/buildbot/worker/package_win64/build/usr/share/julia/stdlib/v1.7/SparseArrays/src/linalg.jl\" target=\"_blank\">C:\\Users\\lkape\\AppData\\Local\\Programs\\Julia-1.7.0-DEV\\share\\julia\\stdlib\\v1.7\\SparseArrays\\src\\linalg.jl:23</a></li> <li> +(A::<b>Symmetric{var\"#s829\", S} where S<:(AbstractMatrix{var\"#s830\"} where var\"#s830\"<:var\"#s829\") where var\"#s829\"<:Real</b>, B::<b>Hermitian</b>) in LinearAlgebra at <a href=\"file://C:/buildbot/worker/package_win64/build/usr/share/julia/stdlib/v1.7/LinearAlgebra/src/symmetric.jl\" target=\"_blank\">C:\\Users\\lkape\\AppData\\Local\\Programs\\Julia-1.7.0-DEV\\share\\julia\\stdlib\\v1.7\\LinearAlgebra\\src\\symmetric.jl:484</a></li> <li> +(A::<b>Symmetric{var\"#s830\", var\"#s829\"} where var\"#s829\"<:(SparseArrays.AbstractSparseMatrix{Tv, Ti} where Ti where Tv) where var\"#s830\"</b>, B::<b>Hermitian{var\"#s828\", var\"#s827\"} where var\"#s827\"<:(SparseArrays.AbstractSparseMatrix{Tv, Ti} where Ti where Tv) where var\"#s828\"</b>) in SparseArrays at <a href=\"file://C:/buildbot/worker/package_win64/build/usr/share/julia/stdlib/v1.7/SparseArrays/src/linalg.jl\" target=\"_blank\">C:\\Users\\lkape\\AppData\\Local\\Programs\\Julia-1.7.0-DEV\\share\\julia\\stdlib\\v1.7\\SparseArrays\\src\\linalg.jl:21</a></li> <li> +(J::<b>UniformScaling</b>) in LinearAlgebra at <a href=\"file://C:/buildbot/worker/package_win64/build/usr/share/julia/stdlib/v1.7/LinearAlgebra/src/uniformscaling.jl\" target=\"_blank\">C:\\Users\\lkape\\AppData\\Local\\Programs\\Julia-1.7.0-DEV\\share\\julia\\stdlib\\v1.7\\LinearAlgebra\\src\\uniformscaling.jl:150</a></li> <li> +(J::<b>UniformScaling</b>, x::<b>Number</b>) in LinearAlgebra at <a href=\"file://C:/buildbot/worker/package_win64/build/usr/share/julia/stdlib/v1.7/LinearAlgebra/src/uniformscaling.jl\" target=\"_blank\">C:\\Users\\lkape\\AppData\\Local\\Programs\\Julia-1.7.0-DEV\\share\\julia\\stdlib\\v1.7\\LinearAlgebra\\src\\uniformscaling.jl:145</a></li> <li> +(J1::<b>UniformScaling</b>, J2::<b>UniformScaling</b>) in LinearAlgebra at <a href=\"file://C:/buildbot/worker/package_win64/build/usr/share/julia/stdlib/v1.7/LinearAlgebra/src/uniformscaling.jl\" target=\"_blank\">C:\\Users\\lkape\\AppData\\Local\\Programs\\Julia-1.7.0-DEV\\share\\julia\\stdlib\\v1.7\\LinearAlgebra\\src\\uniformscaling.jl:151</a></li> <li> +(J::<b>UniformScaling</b>, B::<b>BitMatrix</b>) in LinearAlgebra at <a href=\"file://C:/buildbot/worker/package_win64/build/usr/share/julia/stdlib/v1.7/LinearAlgebra/src/uniformscaling.jl\" target=\"_blank\">C:\\Users\\lkape\\AppData\\Local\\Programs\\Julia-1.7.0-DEV\\share\\julia\\stdlib\\v1.7\\LinearAlgebra\\src\\uniformscaling.jl:153</a></li> <li> +(J::<b>UniformScaling</b>, F::<b>Hessenberg</b>) in LinearAlgebra at <a href=\"file://C:/buildbot/worker/package_win64/build/usr/share/julia/stdlib/v1.7/LinearAlgebra/src/hessenberg.jl\" target=\"_blank\">C:\\Users\\lkape\\AppData\\Local\\Programs\\Julia-1.7.0-DEV\\share\\julia\\stdlib\\v1.7\\LinearAlgebra\\src\\hessenberg.jl:560</a></li> <li> +(A::<b>UniformScaling</b>, B::<b>Tridiagonal{var\"#s830\", V} where V<:AbstractVector{var\"#s830\"} where var\"#s830\"<:Number</b>) in LinearAlgebra at <a href=\"file://C:/buildbot/worker/package_win64/build/usr/share/julia/stdlib/v1.7/LinearAlgebra/src/special.jl\" target=\"_blank\">C:\\Users\\lkape\\AppData\\Local\\Programs\\Julia-1.7.0-DEV\\share\\julia\\stdlib\\v1.7\\LinearAlgebra\\src\\special.jl:245</a></li> <li> +(A::<b>UniformScaling</b>, B::<b>SymTridiagonal{var\"#s830\", V} where V<:AbstractVector{var\"#s830\"} where var\"#s830\"<:Number</b>) in LinearAlgebra at <a href=\"file://C:/buildbot/worker/package_win64/build/usr/share/julia/stdlib/v1.7/LinearAlgebra/src/special.jl\" target=\"_blank\">C:\\Users\\lkape\\AppData\\Local\\Programs\\Julia-1.7.0-DEV\\share\\julia\\stdlib\\v1.7\\LinearAlgebra\\src\\special.jl:250</a></li> <li> +(A::<b>UniformScaling</b>, B::<b>Bidiagonal{var\"#s830\", V} where V<:AbstractVector{var\"#s830\"} where var\"#s830\"<:Number</b>) in LinearAlgebra at <a href=\"file://C:/buildbot/worker/package_win64/build/usr/share/julia/stdlib/v1.7/LinearAlgebra/src/special.jl\" target=\"_blank\">C:\\Users\\lkape\\AppData\\Local\\Programs\\Julia-1.7.0-DEV\\share\\julia\\stdlib\\v1.7\\LinearAlgebra\\src\\special.jl:255</a></li> <li> +(A::<b>UniformScaling</b>, B::<b>Diagonal{var\"#s830\", V} where V<:AbstractVector{var\"#s830\"} where var\"#s830\"<:Number</b>) in LinearAlgebra at <a href=\"file://C:/buildbot/worker/package_win64/build/usr/share/julia/stdlib/v1.7/LinearAlgebra/src/special.jl\" target=\"_blank\">C:\\Users\\lkape\\AppData\\Local\\Programs\\Julia-1.7.0-DEV\\share\\julia\\stdlib\\v1.7\\LinearAlgebra\\src\\special.jl:260</a></li> <li> +(J::<b>UniformScaling</b>, A::<b>AbstractMatrix{T} where T</b>) in LinearAlgebra at <a href=\"file://C:/buildbot/worker/package_win64/build/usr/share/julia/stdlib/v1.7/LinearAlgebra/src/uniformscaling.jl\" target=\"_blank\">C:\\Users\\lkape\\AppData\\Local\\Programs\\Julia-1.7.0-DEV\\share\\julia\\stdlib\\v1.7\\LinearAlgebra\\src\\uniformscaling.jl:154</a></li> <li> +(x::<b>Rational</b>, y::<b>Integer</b>) in Base at <a href=\"https://github.com/JuliaLang/julia/tree/676ccf4eaa9b6e6c6a53f75abb4bf3e1a2457426/base/rational.jl#L288\" target=\"_blank\">rational.jl:288</a></li> <li> +(A::<b>UpperHessenberg</b>, B::<b>UpperHessenberg</b>) in LinearAlgebra at <a href=\"file://C:/buildbot/worker/package_win64/build/usr/share/julia/stdlib/v1.7/LinearAlgebra/src/hessenberg.jl\" target=\"_blank\">C:\\Users\\lkape\\AppData\\Local\\Programs\\Julia-1.7.0-DEV\\share\\julia\\stdlib\\v1.7\\LinearAlgebra\\src\\hessenberg.jl:101</a></li> <li> +(H::<b>UpperHessenberg</b>, J::<b>UniformScaling</b>) in LinearAlgebra at <a href=\"file://C:/buildbot/worker/package_win64/build/usr/share/julia/stdlib/v1.7/LinearAlgebra/src/hessenberg.jl\" target=\"_blank\">C:\\Users\\lkape\\AppData\\Local\\Programs\\Julia-1.7.0-DEV\\share\\julia\\stdlib\\v1.7\\LinearAlgebra\\src\\hessenberg.jl:106</a></li> <li> +(r1::<b>OrdinalRange</b>, r2::<b>OrdinalRange</b>) in Base at <a href=\"https://github.com/JuliaLang/julia/tree/676ccf4eaa9b6e6c6a53f75abb4bf3e1a2457426/base/range.jl#L1098\" target=\"_blank\">range.jl:1098</a></li> <li> +(A::<b>UpperTriangular</b>, B::<b>UpperTriangular</b>) in LinearAlgebra at <a href=\"file://C:/buildbot/worker/package_win64/build/usr/share/julia/stdlib/v1.7/LinearAlgebra/src/triangular.jl\" target=\"_blank\">C:\\Users\\lkape\\AppData\\Local\\Programs\\Julia-1.7.0-DEV\\share\\julia\\stdlib\\v1.7\\LinearAlgebra\\src\\triangular.jl:648</a></li> <li> +(A::<b>UpperTriangular</b>, B::<b>UnitUpperTriangular</b>) in LinearAlgebra at <a href=\"file://C:/buildbot/worker/package_win64/build/usr/share/julia/stdlib/v1.7/LinearAlgebra/src/triangular.jl\" target=\"_blank\">C:\\Users\\lkape\\AppData\\Local\\Programs\\Julia-1.7.0-DEV\\share\\julia\\stdlib\\v1.7\\LinearAlgebra\\src\\triangular.jl:650</a></li> <li> +(A::<b>UpperTriangular</b>, B::<b>Bidiagonal</b>) in LinearAlgebra at <a href=\"file://C:/buildbot/worker/package_win64/build/usr/share/julia/stdlib/v1.7/LinearAlgebra/src/special.jl\" target=\"_blank\">C:\\Users\\lkape\\AppData\\Local\\Programs\\Julia-1.7.0-DEV\\share\\julia\\stdlib\\v1.7\\LinearAlgebra\\src\\special.jl:86</a></li> <li> +(r::<b>AbstractRange{var\"#s830\"} where var\"#s830\"<:Dates.TimeType</b>, x::<b>Dates.Period</b>) in Dates at <a href=\"file://C:/buildbot/worker/package_win64/build/usr/share/julia/stdlib/v1.7/Dates/src/ranges.jl\" target=\"_blank\">C:\\Users\\lkape\\AppData\\Local\\Programs\\Julia-1.7.0-DEV\\share\\julia\\stdlib\\v1.7\\Dates\\src\\ranges.jl:63</a></li> <li> +(F::<b>Hessenberg</b>, J::<b>UniformScaling</b>) in LinearAlgebra at <a href=\"file://C:/buildbot/worker/package_win64/build/usr/share/julia/stdlib/v1.7/LinearAlgebra/src/hessenberg.jl\" target=\"_blank\">C:\\Users\\lkape\\AppData\\Local\\Programs\\Julia-1.7.0-DEV\\share\\julia\\stdlib\\v1.7\\LinearAlgebra\\src\\hessenberg.jl:559</a></li> <li> +(Da::<b>Diagonal</b>, Db::<b>Diagonal</b>) in LinearAlgebra at <a href=\"file://C:/buildbot/worker/package_win64/build/usr/share/julia/stdlib/v1.7/LinearAlgebra/src/diagonal.jl\" target=\"_blank\">C:\\Users\\lkape\\AppData\\Local\\Programs\\Julia-1.7.0-DEV\\share\\julia\\stdlib\\v1.7\\LinearAlgebra\\src\\diagonal.jl:156</a></li> <li> +(D::<b>Diagonal</b>, S::<b>Symmetric</b>) in LinearAlgebra at <a href=\"file://C:/buildbot/worker/package_win64/build/usr/share/julia/stdlib/v1.7/LinearAlgebra/src/diagonal.jl\" target=\"_blank\">C:\\Users\\lkape\\AppData\\Local\\Programs\\Julia-1.7.0-DEV\\share\\julia\\stdlib\\v1.7\\LinearAlgebra\\src\\diagonal.jl:160</a></li> <li> +(D::<b>Diagonal{var\"#s830\", V} where V<:AbstractVector{var\"#s830\"} where var\"#s830\"<:Real</b>, H::<b>Hermitian</b>) in LinearAlgebra at <a href=\"file://C:/buildbot/worker/package_win64/build/usr/share/julia/stdlib/v1.7/LinearAlgebra/src/diagonal.jl\" target=\"_blank\">C:\\Users\\lkape\\AppData\\Local\\Programs\\Julia-1.7.0-DEV\\share\\julia\\stdlib\\v1.7\\LinearAlgebra\\src\\diagonal.jl:166</a></li> <li> +(A::<b>Diagonal</b>, B::<b>Bidiagonal</b>) in LinearAlgebra at <a href=\"file://C:/buildbot/worker/package_win64/build/usr/share/julia/stdlib/v1.7/LinearAlgebra/src/special.jl\" target=\"_blank\">C:\\Users\\lkape\\AppData\\Local\\Programs\\Julia-1.7.0-DEV\\share\\julia\\stdlib\\v1.7\\LinearAlgebra\\src\\special.jl:125</a></li> <li> +(A::<b>Diagonal</b>, B::<b>SymTridiagonal</b>) in LinearAlgebra at <a href=\"file://C:/buildbot/worker/package_win64/build/usr/share/julia/stdlib/v1.7/LinearAlgebra/src/special.jl\" target=\"_blank\">C:\\Users\\lkape\\AppData\\Local\\Programs\\Julia-1.7.0-DEV\\share\\julia\\stdlib\\v1.7\\LinearAlgebra\\src\\special.jl:135</a></li> <li> +(A::<b>Diagonal</b>, B::<b>Tridiagonal</b>) in LinearAlgebra at <a href=\"file://C:/buildbot/worker/package_win64/build/usr/share/julia/stdlib/v1.7/LinearAlgebra/src/special.jl\" target=\"_blank\">C:\\Users\\lkape\\AppData\\Local\\Programs\\Julia-1.7.0-DEV\\share\\julia\\stdlib\\v1.7\\LinearAlgebra\\src\\special.jl:163</a></li> <li> +(A::<b>Diagonal{var\"#s830\", V} where V<:AbstractVector{var\"#s830\"} where var\"#s830\"<:Number</b>, B::<b>UniformScaling</b>) in LinearAlgebra at <a href=\"file://C:/buildbot/worker/package_win64/build/usr/share/julia/stdlib/v1.7/LinearAlgebra/src/special.jl\" target=\"_blank\">C:\\Users\\lkape\\AppData\\Local\\Programs\\Julia-1.7.0-DEV\\share\\julia\\stdlib\\v1.7\\LinearAlgebra\\src\\special.jl:241</a></li> <li> +(A::<b>Array</b>, Bs::<b>Array...</b>) in Base at <a href=\"https://github.com/JuliaLang/julia/tree/676ccf4eaa9b6e6c6a53f75abb4bf3e1a2457426/base/arraymath.jl#L43\" target=\"_blank\">arraymath.jl:43</a></li> <li> +(X::<b>StridedArray{var\"#s830\", N} where N where var\"#s830\"<:Union{Dates.CompoundPeriod, Dates.Period}</b>, Y::<b>StridedArray{var\"#s829\", N} where N where var\"#s829\"<:Union{Dates.CompoundPeriod, Dates.Period}</b>) in Dates at <a href=\"file://C:/buildbot/worker/package_win64/build/usr/share/julia/stdlib/v1.7/Dates/src/deprecated.jl\" target=\"_blank\">C:\\Users\\lkape\\AppData\\Local\\Programs\\Julia-1.7.0-DEV\\share\\julia\\stdlib\\v1.7\\Dates\\src\\deprecated.jl:62</a></li> <li> +(A::<b>Array</b>, B::<b>SparseArrays.AbstractSparseMatrixCSC</b>) in SparseArrays at <a href=\"file://C:/buildbot/worker/package_win64/build/usr/share/julia/stdlib/v1.7/SparseArrays/src/sparsematrix.jl\" target=\"_blank\">C:\\Users\\lkape\\AppData\\Local\\Programs\\Julia-1.7.0-DEV\\share\\julia\\stdlib\\v1.7\\SparseArrays\\src\\sparsematrix.jl:1745</a></li> <li> +(x::<b>StridedArray{var\"#s830\", N} where N where var\"#s830\"<:Union{Dates.CompoundPeriod, Dates.Period}</b>) in Dates at <a href=\"file://C:/buildbot/worker/package_win64/build/usr/share/julia/stdlib/v1.7/Dates/src/deprecated.jl\" target=\"_blank\">C:\\Users\\lkape\\AppData\\Local\\Programs\\Julia-1.7.0-DEV\\share\\julia\\stdlib\\v1.7\\Dates\\src\\deprecated.jl:55</a></li> <li> +(x::<b>StridedArray{var\"#s830\", N} where N where var\"#s830\"<:Union{Dates.CompoundPeriod, Dates.Period}</b>, y::<b>Dates.TimeType</b>) in Dates at <a href=\"file://C:/buildbot/worker/package_win64/build/usr/share/julia/stdlib/v1.7/Dates/src/deprecated.jl\" target=\"_blank\">C:\\Users\\lkape\\AppData\\Local\\Programs\\Julia-1.7.0-DEV\\share\\julia\\stdlib\\v1.7\\Dates\\src\\deprecated.jl:10</a></li> <li> +(r1::<b>StepRangeLen{T, R, S} where S</b>, r2::<b>StepRangeLen{T, R, S} where S</b>)<i> where {R<:Base.TwicePrecision, T}</i> in Base at <a href=\"https://github.com/JuliaLang/julia/tree/676ccf4eaa9b6e6c6a53f75abb4bf3e1a2457426/base/twiceprecision.jl#L574\" target=\"_blank\">twiceprecision.jl:574</a></li> <li> +(r1::<b>StepRangeLen{T, S, S1} where S1</b>, r2::<b>StepRangeLen{T, S, S1} where S1</b>)<i> where {T, S}</i> in Base at <a href=\"https://github.com/JuliaLang/julia/tree/676ccf4eaa9b6e6c6a53f75abb4bf3e1a2457426/base/range.jl#L1121\" target=\"_blank\">range.jl:1121</a></li> <li> +(A::<b>Hermitian</b>, B::<b>Hermitian</b>) in LinearAlgebra at <a href=\"file://C:/buildbot/worker/package_win64/build/usr/share/julia/stdlib/v1.7/LinearAlgebra/src/symmetric.jl\" target=\"_blank\">C:\\Users\\lkape\\AppData\\Local\\Programs\\Julia-1.7.0-DEV\\share\\julia\\stdlib\\v1.7\\LinearAlgebra\\src\\symmetric.jl:469</a></li> <li> +(H::<b>Hermitian</b>, D::<b>Diagonal{var\"#s830\", V} where V<:AbstractVector{var\"#s830\"} where var\"#s830\"<:Real</b>) in LinearAlgebra at <a href=\"file://C:/buildbot/worker/package_win64/build/usr/share/julia/stdlib/v1.7/LinearAlgebra/src/diagonal.jl\" target=\"_blank\">C:\\Users\\lkape\\AppData\\Local\\Programs\\Julia-1.7.0-DEV\\share\\julia\\stdlib\\v1.7\\LinearAlgebra\\src\\diagonal.jl:169</a></li> <li> +(A::<b>Hermitian</b>, J::<b>UniformScaling{var\"#s830\"} where var\"#s830\"<:Complex</b>) in LinearAlgebra at <a href=\"file://C:/buildbot/worker/package_win64/build/usr/share/julia/stdlib/v1.7/LinearAlgebra/src/uniformscaling.jl\" target=\"_blank\">C:\\Users\\lkape\\AppData\\Local\\Programs\\Julia-1.7.0-DEV\\share\\julia\\stdlib\\v1.7\\LinearAlgebra\\src\\uniformscaling.jl:196</a></li> <li> +(A::<b>Hermitian{var\"#s828\", var\"#s827\"} where var\"#s827\"<:(SparseArrays.AbstractSparseMatrix{Tv, Ti} where Ti where Tv) where var\"#s828\"</b>, B::<b>SparseArrays.AbstractSparseMatrix{Tv, Ti} where Ti where Tv</b>) in SparseArrays at <a href=\"file://C:/buildbot/worker/package_win64/build/usr/share/julia/stdlib/v1.7/SparseArrays/src/linalg.jl\" target=\"_blank\">C:\\Users\\lkape\\AppData\\Local\\Programs\\Julia-1.7.0-DEV\\share\\julia\\stdlib\\v1.7\\SparseArrays\\src\\linalg.jl:13</a></li> <li> +(A::<b>Hermitian</b>, B::<b>SparseArrays.AbstractSparseMatrix{Tv, Ti} where Ti where Tv</b>) in SparseArrays at <a href=\"file://C:/buildbot/worker/package_win64/build/usr/share/julia/stdlib/v1.7/SparseArrays/src/linalg.jl\" target=\"_blank\">C:\\Users\\lkape\\AppData\\Local\\Programs\\Julia-1.7.0-DEV\\share\\julia\\stdlib\\v1.7\\SparseArrays\\src\\linalg.jl:16</a></li> <li> +(A::<b>Hermitian{var\"#s818\", var\"#s817\"} where var\"#s817\"<:(SparseArrays.AbstractSparseMatrix{Tv, Ti} where Ti where Tv) where var\"#s818\"</b>, B::<b>Symmetric{var\"#s816\", var\"#s815\"} where var\"#s815\"<:(SparseArrays.AbstractSparseMatrix{Tv, Ti} where Ti where Tv) where var\"#s816\"<:Real</b>) in SparseArrays at <a href=\"file://C:/buildbot/worker/package_win64/build/usr/share/julia/stdlib/v1.7/SparseArrays/src/linalg.jl\" target=\"_blank\">C:\\Users\\lkape\\AppData\\Local\\Programs\\Julia-1.7.0-DEV\\share\\julia\\stdlib\\v1.7\\SparseArrays\\src\\linalg.jl:24</a></li> <li> +(A::<b>Hermitian</b>, B::<b>Symmetric{var\"#s830\", S} where S<:(AbstractMatrix{var\"#s830\"}) where var\"#s830\"<:Real</b>) in LinearAlgebra at <a href=\"file://C:/buildbot/worker/package_win64/build/usr/share/julia/stdlib/v1.7/LinearAlgebra/src/symmetric.jl\" target=\"_blank\">C:\\Users\\lkape\\AppData\\Local\\Programs\\Julia-1.7.0-DEV\\share\\julia\\stdlib\\v1.7\\LinearAlgebra\\src\\symmetric.jl:483</a></li> <li> +(A::<b>Hermitian{var\"#s826\", var\"#s825\"} where var\"#s825\"<:(SparseArrays.AbstractSparseMatrix{Tv, Ti} where Ti where Tv) where var\"#s826\"</b>, B::<b>Symmetric{var\"#s824\", var\"#s823\"} where var\"#s823\"<:(SparseArrays.AbstractSparseMatrix{Tv, Ti} where Ti where Tv) where var\"#s824\"</b>) in SparseArrays at <a href=\"file://C:/buildbot/worker/package_win64/build/usr/share/julia/stdlib/v1.7/SparseArrays/src/linalg.jl\" target=\"_blank\">C:\\Users\\lkape\\AppData\\Local\\Programs\\Julia-1.7.0-DEV\\share\\julia\\stdlib\\v1.7\\SparseArrays\\src\\linalg.jl:22</a></li> <li> +(x::<b>P</b>, y::<b>P</b>)<i> where P<:Dates.Period</i> in Dates at <a href=\"file://C:/buildbot/worker/package_win64/build/usr/share/julia/stdlib/v1.7/Dates/src/periods.jl\" target=\"_blank\">C:\\Users\\lkape\\AppData\\Local\\Programs\\Julia-1.7.0-DEV\\share\\julia\\stdlib\\v1.7\\Dates\\src\\periods.jl:79</a></li> <li> +(x::<b>Dates.Period</b>, y::<b>Dates.Period</b>) in Dates at <a href=\"file://C:/buildbot/worker/package_win64/build/usr/share/julia/stdlib/v1.7/Dates/src/periods.jl\" target=\"_blank\">C:\\Users\\lkape\\AppData\\Local\\Programs\\Julia-1.7.0-DEV\\share\\julia\\stdlib\\v1.7\\Dates\\src\\periods.jl:351</a></li> <li> +(y::<b>Dates.Period</b>, x::<b>Dates.CompoundPeriod</b>) in Dates at <a href=\"file://C:/buildbot/worker/package_win64/build/usr/share/julia/stdlib/v1.7/Dates/src/periods.jl\" target=\"_blank\">C:\\Users\\lkape\\AppData\\Local\\Programs\\Julia-1.7.0-DEV\\share\\julia\\stdlib\\v1.7\\Dates\\src\\periods.jl:353</a></li> <li> +(y::<b>Dates.Period</b>, x::<b>Dates.TimeType</b>) in Dates at <a href=\"file://C:/buildbot/worker/package_win64/build/usr/share/julia/stdlib/v1.7/Dates/src/arithmetic.jl\" target=\"_blank\">C:\\Users\\lkape\\AppData\\Local\\Programs\\Julia-1.7.0-DEV\\share\\julia\\stdlib\\v1.7\\Dates\\src\\arithmetic.jl:85</a></li> <li> +(x::<b>Dates.Period</b>, r::<b>AbstractRange{var\"#s830\"} where var\"#s830\"<:Dates.TimeType</b>) in Dates at <a href=\"file://C:/buildbot/worker/package_win64/build/usr/share/julia/stdlib/v1.7/Dates/src/ranges.jl\" target=\"_blank\">C:\\Users\\lkape\\AppData\\Local\\Programs\\Julia-1.7.0-DEV\\share\\julia\\stdlib\\v1.7\\Dates\\src\\ranges.jl:62</a></li> <li> +(y::<b>Union{Dates.CompoundPeriod, Dates.Period}</b>, x::<b>AbstractArray{var\"#s830\", N} where N where var\"#s830\"<:Dates.TimeType</b>) in Dates at <a href=\"file://C:/buildbot/worker/package_win64/build/usr/share/julia/stdlib/v1.7/Dates/src/deprecated.jl\" target=\"_blank\">C:\\Users\\lkape\\AppData\\Local\\Programs\\Julia-1.7.0-DEV\\share\\julia\\stdlib\\v1.7\\Dates\\src\\deprecated.jl:14</a></li> <li> +(A::<b>UnitUpperTriangular</b>, B::<b>UpperTriangular</b>) in LinearAlgebra at <a href=\"file://C:/buildbot/worker/package_win64/build/usr/share/julia/stdlib/v1.7/LinearAlgebra/src/triangular.jl\" target=\"_blank\">C:\\Users\\lkape\\AppData\\Local\\Programs\\Julia-1.7.0-DEV\\share\\julia\\stdlib\\v1.7\\LinearAlgebra\\src\\triangular.jl:652</a></li> <li> +(A::<b>UnitUpperTriangular</b>, B::<b>UnitUpperTriangular</b>) in LinearAlgebra at <a href=\"file://C:/buildbot/worker/package_win64/build/usr/share/julia/stdlib/v1.7/LinearAlgebra/src/triangular.jl\" target=\"_blank\">C:\\Users\\lkape\\AppData\\Local\\Programs\\Julia-1.7.0-DEV\\share\\julia\\stdlib\\v1.7\\LinearAlgebra\\src\\triangular.jl:654</a></li> <li> +(UL::<b>UnitUpperTriangular</b>, J::<b>UniformScaling</b>) in LinearAlgebra at <a href=\"file://C:/buildbot/worker/package_win64/build/usr/share/julia/stdlib/v1.7/LinearAlgebra/src/uniformscaling.jl\" target=\"_blank\">C:\\Users\\lkape\\AppData\\Local\\Programs\\Julia-1.7.0-DEV\\share\\julia\\stdlib\\v1.7\\LinearAlgebra\\src\\uniformscaling.jl:182</a></li> <li> +(A::<b>UnitUpperTriangular</b>, B::<b>Bidiagonal</b>) in LinearAlgebra at <a href=\"file://C:/buildbot/worker/package_win64/build/usr/share/julia/stdlib/v1.7/LinearAlgebra/src/special.jl\" target=\"_blank\">C:\\Users\\lkape\\AppData\\Local\\Programs\\Julia-1.7.0-DEV\\share\\julia\\stdlib\\v1.7\\LinearAlgebra\\src\\special.jl:86</a></li> <li> +(r1::<b>LinRange{T}</b>, r2::<b>LinRange{T}</b>)<i> where T</i> in Base at <a href=\"https://github.com/JuliaLang/julia/tree/676ccf4eaa9b6e6c6a53f75abb4bf3e1a2457426/base/range.jl#L1105\" target=\"_blank\">range.jl:1105</a></li> <li> +(r1::<b>Union{LinRange, OrdinalRange, StepRangeLen}</b>, r2::<b>Union{LinRange, OrdinalRange, StepRangeLen}</b>) in Base at <a href=\"https://github.com/JuliaLang/julia/tree/676ccf4eaa9b6e6c6a53f75abb4bf3e1a2457426/base/range.jl#L1114\" target=\"_blank\">range.jl:1114</a></li> <li> +(index1::<b>CartesianIndex{N}</b>, index2::<b>CartesianIndex{N}</b>)<i> where N</i> in Base.IteratorsMD at <a href=\"https://github.com/JuliaLang/julia/tree/676ccf4eaa9b6e6c6a53f75abb4bf3e1a2457426/base/multidimensional.jl#L114\" target=\"_blank\">multidimensional.jl:114</a></li> <li> +(x::<b>Ptr</b>, y::<b>Integer</b>) in Base at <a href=\"https://github.com/JuliaLang/julia/tree/676ccf4eaa9b6e6c6a53f75abb4bf3e1a2457426/base/pointer.jl#L159\" target=\"_blank\">pointer.jl:159</a></li> <li> +(z::<b>Complex</b>, w::<b>Complex</b>) in Base at <a href=\"https://github.com/JuliaLang/julia/tree/676ccf4eaa9b6e6c6a53f75abb4bf3e1a2457426/base/complex.jl#L275\" target=\"_blank\">complex.jl:275</a></li> <li> +(x::<b>Base.TwicePrecision</b>, y::<b>Number</b>) in Base at <a href=\"https://github.com/JuliaLang/julia/tree/676ccf4eaa9b6e6c6a53f75abb4bf3e1a2457426/base/twiceprecision.jl#L267\" target=\"_blank\">twiceprecision.jl:267</a></li> <li> +(x::<b>Base.TwicePrecision{T}</b>, y::<b>Base.TwicePrecision{T}</b>)<i> where T</i> in Base at <a href=\"https://github.com/JuliaLang/julia/tree/676ccf4eaa9b6e6c6a53f75abb4bf3e1a2457426/base/twiceprecision.jl#L273\" target=\"_blank\">twiceprecision.jl:273</a></li> <li> +(x::<b>Base.TwicePrecision</b>, y::<b>Base.TwicePrecision</b>) in Base at <a href=\"https://github.com/JuliaLang/julia/tree/676ccf4eaa9b6e6c6a53f75abb4bf3e1a2457426/base/twiceprecision.jl#L278\" target=\"_blank\">twiceprecision.jl:278</a></li> <li> +(y::<b>AbstractFloat</b>, x::<b>Bool</b>) in Base at <a href=\"https://github.com/JuliaLang/julia/tree/676ccf4eaa9b6e6c6a53f75abb4bf3e1a2457426/base/bool.jl#L102\" target=\"_blank\">bool.jl:102</a></li> <li> +(A::<b>Bidiagonal</b>, B::<b>Bidiagonal</b>) in LinearAlgebra at <a href=\"file://C:/buildbot/worker/package_win64/build/usr/share/julia/stdlib/v1.7/LinearAlgebra/src/bidiag.jl\" target=\"_blank\">C:\\Users\\lkape\\AppData\\Local\\Programs\\Julia-1.7.0-DEV\\share\\julia\\stdlib\\v1.7\\LinearAlgebra\\src\\bidiag.jl:354</a></li> <li> +(A::<b>Bidiagonal</b>, B::<b>UpperTriangular</b>) in LinearAlgebra at <a href=\"file://C:/buildbot/worker/package_win64/build/usr/share/julia/stdlib/v1.7/LinearAlgebra/src/special.jl\" target=\"_blank\">C:\\Users\\lkape\\AppData\\Local\\Programs\\Julia-1.7.0-DEV\\share\\julia\\stdlib\\v1.7\\LinearAlgebra\\src\\special.jl:94</a></li> <li> +(A::<b>Bidiagonal</b>, B::<b>UnitUpperTriangular</b>) in LinearAlgebra at <a href=\"file://C:/buildbot/worker/package_win64/build/usr/share/julia/stdlib/v1.7/LinearAlgebra/src/special.jl\" target=\"_blank\">C:\\Users\\lkape\\AppData\\Local\\Programs\\Julia-1.7.0-DEV\\share\\julia\\stdlib\\v1.7\\LinearAlgebra\\src\\special.jl:94</a></li> <li> +(A::<b>Bidiagonal</b>, B::<b>LowerTriangular</b>) in LinearAlgebra at <a href=\"file://C:/buildbot/worker/package_win64/build/usr/share/julia/stdlib/v1.7/LinearAlgebra/src/special.jl\" target=\"_blank\">C:\\Users\\lkape\\AppData\\Local\\Programs\\Julia-1.7.0-DEV\\share\\julia\\stdlib\\v1.7\\LinearAlgebra\\src\\special.jl:94</a></li> <li> +(A::<b>Bidiagonal</b>, B::<b>UnitLowerTriangular</b>) in LinearAlgebra at <a href=\"file://C:/buildbot/worker/package_win64/build/usr/share/julia/stdlib/v1.7/LinearAlgebra/src/special.jl\" target=\"_blank\">C:\\Users\\lkape\\AppData\\Local\\Programs\\Julia-1.7.0-DEV\\share\\julia\\stdlib\\v1.7\\LinearAlgebra\\src\\special.jl:94</a></li> <li> +(A::<b>Bidiagonal</b>, B::<b>Diagonal</b>) in LinearAlgebra at <a href=\"file://C:/buildbot/worker/package_win64/build/usr/share/julia/stdlib/v1.7/LinearAlgebra/src/special.jl\" target=\"_blank\">C:\\Users\\lkape\\AppData\\Local\\Programs\\Julia-1.7.0-DEV\\share\\julia\\stdlib\\v1.7\\LinearAlgebra\\src\\special.jl:115</a></li> <li> +(A::<b>Bidiagonal</b>, B::<b>Tridiagonal</b>) in LinearAlgebra at <a href=\"file://C:/buildbot/worker/package_win64/build/usr/share/julia/stdlib/v1.7/LinearAlgebra/src/special.jl\" target=\"_blank\">C:\\Users\\lkape\\AppData\\Local\\Programs\\Julia-1.7.0-DEV\\share\\julia\\stdlib\\v1.7\\LinearAlgebra\\src\\special.jl:183</a></li> <li> +(A::<b>Bidiagonal</b>, B::<b>SymTridiagonal</b>) in LinearAlgebra at <a href=\"file://C:/buildbot/worker/package_win64/build/usr/share/julia/stdlib/v1.7/LinearAlgebra/src/special.jl\" target=\"_blank\">C:\\Users\\lkape\\AppData\\Local\\Programs\\Julia-1.7.0-DEV\\share\\julia\\stdlib\\v1.7\\LinearAlgebra\\src\\special.jl:203</a></li> <li> +(A::<b>Bidiagonal{var\"#s830\", V} where V<:AbstractVector{var\"#s830\"} where var\"#s830\"<:Number</b>, B::<b>UniformScaling</b>) in LinearAlgebra at <a href=\"file://C:/buildbot/worker/package_win64/build/usr/share/julia/stdlib/v1.7/LinearAlgebra/src/special.jl\" target=\"_blank\">C:\\Users\\lkape\\AppData\\Local\\Programs\\Julia-1.7.0-DEV\\share\\julia\\stdlib\\v1.7\\LinearAlgebra\\src\\special.jl:236</a></li> <li> +(A::<b>SparseArrays.AbstractSparseMatrixCSC</b>, B::<b>SparseArrays.AbstractSparseMatrixCSC</b>) in SparseArrays at <a href=\"file://C:/buildbot/worker/package_win64/build/usr/share/julia/stdlib/v1.7/SparseArrays/src/sparsematrix.jl\" target=\"_blank\">C:\\Users\\lkape\\AppData\\Local\\Programs\\Julia-1.7.0-DEV\\share\\julia\\stdlib\\v1.7\\SparseArrays\\src\\sparsematrix.jl:1741</a></li> <li> +(A::<b>SparseArrays.AbstractSparseMatrixCSC</b>, B::<b>Array</b>) in SparseArrays at <a href=\"file://C:/buildbot/worker/package_win64/build/usr/share/julia/stdlib/v1.7/SparseArrays/src/sparsematrix.jl\" target=\"_blank\">C:\\Users\\lkape\\AppData\\Local\\Programs\\Julia-1.7.0-DEV\\share\\julia\\stdlib\\v1.7\\SparseArrays\\src\\sparsematrix.jl:1744</a></li> <li> +(A::<b>SparseArrays.AbstractSparseMatrixCSC</b>, J::<b>UniformScaling</b>) in SparseArrays at <a href=\"file://C:/buildbot/worker/package_win64/build/usr/share/julia/stdlib/v1.7/SparseArrays/src/sparsematrix.jl\" target=\"_blank\">C:\\Users\\lkape\\AppData\\Local\\Programs\\Julia-1.7.0-DEV\\share\\julia\\stdlib\\v1.7\\SparseArrays\\src\\sparsematrix.jl:3797</a></li> <li> +(x::<b>T</b>, y::<b>Integer</b>)<i> where T<:AbstractChar</i> in Base at <a href=\"https://github.com/JuliaLang/julia/tree/676ccf4eaa9b6e6c6a53f75abb4bf3e1a2457426/base/char.jl#L223\" target=\"_blank\">char.jl:223</a></li> <li> +(A::<b>UnitLowerTriangular</b>, B::<b>LowerTriangular</b>) in LinearAlgebra at <a href=\"file://C:/buildbot/worker/package_win64/build/usr/share/julia/stdlib/v1.7/LinearAlgebra/src/triangular.jl\" target=\"_blank\">C:\\Users\\lkape\\AppData\\Local\\Programs\\Julia-1.7.0-DEV\\share\\julia\\stdlib\\v1.7\\LinearAlgebra\\src\\triangular.jl:653</a></li> <li> +(A::<b>UnitLowerTriangular</b>, B::<b>UnitLowerTriangular</b>) in LinearAlgebra at <a href=\"file://C:/buildbot/worker/package_win64/build/usr/share/julia/stdlib/v1.7/LinearAlgebra/src/triangular.jl\" target=\"_blank\">C:\\Users\\lkape\\AppData\\Local\\Programs\\Julia-1.7.0-DEV\\share\\julia\\stdlib\\v1.7\\LinearAlgebra\\src\\triangular.jl:655</a></li> <li> +(UL::<b>UnitLowerTriangular</b>, J::<b>UniformScaling</b>) in LinearAlgebra at <a href=\"file://C:/buildbot/worker/package_win64/build/usr/share/julia/stdlib/v1.7/LinearAlgebra/src/uniformscaling.jl\" target=\"_blank\">C:\\Users\\lkape\\AppData\\Local\\Programs\\Julia-1.7.0-DEV\\share\\julia\\stdlib\\v1.7\\LinearAlgebra\\src\\uniformscaling.jl:182</a></li> <li> +(A::<b>UnitLowerTriangular</b>, B::<b>Bidiagonal</b>) in LinearAlgebra at <a href=\"file://C:/buildbot/worker/package_win64/build/usr/share/julia/stdlib/v1.7/LinearAlgebra/src/special.jl\" target=\"_blank\">C:\\Users\\lkape\\AppData\\Local\\Programs\\Julia-1.7.0-DEV\\share\\julia\\stdlib\\v1.7\\LinearAlgebra\\src\\special.jl:86</a></li> <li> +(A::<b>LowerTriangular</b>, B::<b>LowerTriangular</b>) in LinearAlgebra at <a href=\"file://C:/buildbot/worker/package_win64/build/usr/share/julia/stdlib/v1.7/LinearAlgebra/src/triangular.jl\" target=\"_blank\">C:\\Users\\lkape\\AppData\\Local\\Programs\\Julia-1.7.0-DEV\\share\\julia\\stdlib\\v1.7\\LinearAlgebra\\src\\triangular.jl:649</a></li> <li> +(A::<b>LowerTriangular</b>, B::<b>UnitLowerTriangular</b>) in LinearAlgebra at <a href=\"file://C:/buildbot/worker/package_win64/build/usr/share/julia/stdlib/v1.7/LinearAlgebra/src/triangular.jl\" target=\"_blank\">C:\\Users\\lkape\\AppData\\Local\\Programs\\Julia-1.7.0-DEV\\share\\julia\\stdlib\\v1.7\\LinearAlgebra\\src\\triangular.jl:651</a></li> <li> +(A::<b>LinearAlgebra.AbstractTriangular</b>, B::<b>LinearAlgebra.AbstractTriangular</b>) in LinearAlgebra at <a href=\"file://C:/buildbot/worker/package_win64/build/usr/share/julia/stdlib/v1.7/LinearAlgebra/src/triangular.jl\" target=\"_blank\">C:\\Users\\lkape\\AppData\\Local\\Programs\\Julia-1.7.0-DEV\\share\\julia\\stdlib\\v1.7\\LinearAlgebra\\src\\triangular.jl:656</a></li> <li> +(A::<b>LowerTriangular</b>, B::<b>Bidiagonal</b>) in LinearAlgebra at <a href=\"file://C:/buildbot/worker/package_win64/build/usr/share/julia/stdlib/v1.7/LinearAlgebra/src/special.jl\" target=\"_blank\">C:\\Users\\lkape\\AppData\\Local\\Programs\\Julia-1.7.0-DEV\\share\\julia\\stdlib\\v1.7\\LinearAlgebra\\src\\special.jl:86</a></li> <li> +(x::<b>AbstractIrrational</b>, y::<b>AbstractIrrational</b>) in Base at <a href=\"https://github.com/JuliaLang/julia/tree/676ccf4eaa9b6e6c6a53f75abb4bf3e1a2457426/base/irrationals.jl#L156\" target=\"_blank\">irrationals.jl:156</a></li> <li> +(x::<b>Dates.Instant</b>) in Dates at <a href=\"file://C:/buildbot/worker/package_win64/build/usr/share/julia/stdlib/v1.7/Dates/src/arithmetic.jl\" target=\"_blank\">C:\\Users\\lkape\\AppData\\Local\\Programs\\Julia-1.7.0-DEV\\share\\julia\\stdlib\\v1.7\\Dates\\src\\arithmetic.jl:4</a></li> <li> +(A::<b>SymTridiagonal</b>, B::<b>SymTridiagonal</b>) in LinearAlgebra at <a href=\"file://C:/buildbot/worker/package_win64/build/usr/share/julia/stdlib/v1.7/LinearAlgebra/src/tridiag.jl\" target=\"_blank\">C:\\Users\\lkape\\AppData\\Local\\Programs\\Julia-1.7.0-DEV\\share\\julia\\stdlib\\v1.7\\LinearAlgebra\\src\\tridiag.jl:205</a></li> <li> +(A::<b>SymTridiagonal</b>, B::<b>Diagonal</b>) in LinearAlgebra at <a href=\"file://C:/buildbot/worker/package_win64/build/usr/share/julia/stdlib/v1.7/LinearAlgebra/src/special.jl\" target=\"_blank\">C:\\Users\\lkape\\AppData\\Local\\Programs\\Julia-1.7.0-DEV\\share\\julia\\stdlib\\v1.7\\LinearAlgebra\\src\\special.jl:145</a></li> <li> +(A::<b>SymTridiagonal</b>, B::<b>Tridiagonal</b>) in LinearAlgebra at <a href=\"file://C:/buildbot/worker/package_win64/build/usr/share/julia/stdlib/v1.7/LinearAlgebra/src/special.jl\" target=\"_blank\">C:\\Users\\lkape\\AppData\\Local\\Programs\\Julia-1.7.0-DEV\\share\\julia\\stdlib\\v1.7\\LinearAlgebra\\src\\special.jl:159</a></li> <li> +(A::<b>SymTridiagonal</b>, B::<b>Bidiagonal</b>) in LinearAlgebra at <a href=\"file://C:/buildbot/worker/package_win64/build/usr/share/julia/stdlib/v1.7/LinearAlgebra/src/special.jl\" target=\"_blank\">C:\\Users\\lkape\\AppData\\Local\\Programs\\Julia-1.7.0-DEV\\share\\julia\\stdlib\\v1.7\\LinearAlgebra\\src\\special.jl:213</a></li> <li> +(A::<b>SymTridiagonal{var\"#s830\", V} where V<:AbstractVector{var\"#s830\"} where var\"#s830\"<:Number</b>, B::<b>UniformScaling</b>) in LinearAlgebra at <a href=\"file://C:/buildbot/worker/package_win64/build/usr/share/julia/stdlib/v1.7/LinearAlgebra/src/special.jl\" target=\"_blank\">C:\\Users\\lkape\\AppData\\Local\\Programs\\Julia-1.7.0-DEV\\share\\julia\\stdlib\\v1.7\\LinearAlgebra\\src\\special.jl:231</a></li> <li> +(A::<b>Tridiagonal</b>, B::<b>Tridiagonal</b>) in LinearAlgebra at <a href=\"file://C:/buildbot/worker/package_win64/build/usr/share/julia/stdlib/v1.7/LinearAlgebra/src/tridiag.jl\" target=\"_blank\">C:\\Users\\lkape\\AppData\\Local\\Programs\\Julia-1.7.0-DEV\\share\\julia\\stdlib\\v1.7\\LinearAlgebra\\src\\tridiag.jl:733</a></li> <li> +(A::<b>Tridiagonal</b>, B::<b>SymTridiagonal</b>) in LinearAlgebra at <a href=\"file://C:/buildbot/worker/package_win64/build/usr/share/julia/stdlib/v1.7/LinearAlgebra/src/special.jl\" target=\"_blank\">C:\\Users\\lkape\\AppData\\Local\\Programs\\Julia-1.7.0-DEV\\share\\julia\\stdlib\\v1.7\\LinearAlgebra\\src\\special.jl:157</a></li> <li> +(A::<b>Tridiagonal</b>, B::<b>Diagonal</b>) in LinearAlgebra at <a href=\"file://C:/buildbot/worker/package_win64/build/usr/share/julia/stdlib/v1.7/LinearAlgebra/src/special.jl\" target=\"_blank\">C:\\Users\\lkape\\AppData\\Local\\Programs\\Julia-1.7.0-DEV\\share\\julia\\stdlib\\v1.7\\LinearAlgebra\\src\\special.jl:173</a></li> <li> +(A::<b>Tridiagonal</b>, B::<b>Bidiagonal</b>) in LinearAlgebra at <a href=\"file://C:/buildbot/worker/package_win64/build/usr/share/julia/stdlib/v1.7/LinearAlgebra/src/special.jl\" target=\"_blank\">C:\\Users\\lkape\\AppData\\Local\\Programs\\Julia-1.7.0-DEV\\share\\julia\\stdlib\\v1.7\\LinearAlgebra\\src\\special.jl:193</a></li> <li> +(A::<b>Tridiagonal{var\"#s830\", V} where V<:AbstractVector{var\"#s830\"} where var\"#s830\"<:Number</b>, B::<b>UniformScaling</b>) in LinearAlgebra at <a href=\"file://C:/buildbot/worker/package_win64/build/usr/share/julia/stdlib/v1.7/LinearAlgebra/src/special.jl\" target=\"_blank\">C:\\Users\\lkape\\AppData\\Local\\Programs\\Julia-1.7.0-DEV\\share\\julia\\stdlib\\v1.7\\LinearAlgebra\\src\\special.jl:226</a></li> <li> +(x::<b>AbstractArray{var\"#s830\", N} where N where var\"#s830\"<:Dates.TimeType</b>, y::<b>Union{Dates.CompoundPeriod, Dates.Period}</b>) in Dates at <a href=\"file://C:/buildbot/worker/package_win64/build/usr/share/julia/stdlib/v1.7/Dates/src/deprecated.jl\" target=\"_blank\">C:\\Users\\lkape\\AppData\\Local\\Programs\\Julia-1.7.0-DEV\\share\\julia\\stdlib\\v1.7\\Dates\\src\\deprecated.jl:6</a></li> <li> +(y::<b>Dates.TimeType</b>, x::<b>StridedArray{var\"#s830\", N} where N where var\"#s830\"<:Union{Dates.CompoundPeriod, Dates.Period}</b>) in Dates at <a href=\"file://C:/buildbot/worker/package_win64/build/usr/share/julia/stdlib/v1.7/Dates/src/deprecated.jl\" target=\"_blank\">C:\\Users\\lkape\\AppData\\Local\\Programs\\Julia-1.7.0-DEV\\share\\julia\\stdlib\\v1.7\\Dates\\src\\deprecated.jl:18</a></li> <li> +(A::<b>BitArray</b>, B::<b>BitArray</b>) in Base at <a href=\"https://github.com/JuliaLang/julia/tree/676ccf4eaa9b6e6c6a53f75abb4bf3e1a2457426/base/bitarray.jl#L1127\" target=\"_blank\">bitarray.jl:1127</a></li> <li> +(x::<b>SparseArrays.AbstractSparseVector{Tv, Ti} where Ti where Tv</b>, y::<b>SparseArrays.AbstractSparseVector{Tv, Ti} where Ti where Tv</b>) in SparseArrays at <a href=\"file://C:/buildbot/worker/package_win64/build/usr/share/julia/stdlib/v1.7/SparseArrays/src/sparsevector.jl\" target=\"_blank\">C:\\Users\\lkape\\AppData\\Local\\Programs\\Julia-1.7.0-DEV\\share\\julia\\stdlib\\v1.7\\SparseArrays\\src\\sparsevector.jl:1345</a></li> <li> +(A::<b>SparseArrays.AbstractSparseMatrix{Tv, Ti} where Ti where Tv</b>, B::<b>Hermitian{var\"#s830\", var\"#s829\"} where var\"#s829\"<:(SparseArrays.AbstractSparseMatrix{Tv, Ti} where Ti where Tv) where var\"#s830\"</b>) in SparseArrays at <a href=\"file://C:/buildbot/worker/package_win64/build/usr/share/julia/stdlib/v1.7/SparseArrays/src/linalg.jl\" target=\"_blank\">C:\\Users\\lkape\\AppData\\Local\\Programs\\Julia-1.7.0-DEV\\share\\julia\\stdlib\\v1.7\\SparseArrays\\src\\linalg.jl:12</a></li> <li> +(A::<b>SparseArrays.AbstractSparseMatrix{Tv, Ti} where Ti where Tv</b>, B::<b>Hermitian</b>) in SparseArrays at <a href=\"file://C:/buildbot/worker/package_win64/build/usr/share/julia/stdlib/v1.7/SparseArrays/src/linalg.jl\" target=\"_blank\">C:\\Users\\lkape\\AppData\\Local\\Programs\\Julia-1.7.0-DEV\\share\\julia\\stdlib\\v1.7\\SparseArrays\\src\\linalg.jl:15</a></li> <li> +(A::<b>SparseArrays.AbstractSparseMatrix{Tv, Ti} where Ti where Tv</b>, B::<b>Symmetric{var\"#s830\", var\"#s829\"} where var\"#s829\"<:(SparseArrays.AbstractSparseMatrix{Tv, Ti} where Ti where Tv) where var\"#s830\"</b>) in SparseArrays at <a href=\"file://C:/buildbot/worker/package_win64/build/usr/share/julia/stdlib/v1.7/SparseArrays/src/linalg.jl\" target=\"_blank\">C:\\Users\\lkape\\AppData\\Local\\Programs\\Julia-1.7.0-DEV\\share\\julia\\stdlib\\v1.7\\SparseArrays\\src\\linalg.jl:12</a></li> <li> +(A::<b>SparseArrays.AbstractSparseMatrix{Tv, Ti} where Ti where Tv</b>, B::<b>Symmetric</b>) in SparseArrays at <a href=\"file://C:/buildbot/worker/package_win64/build/usr/share/julia/stdlib/v1.7/SparseArrays/src/linalg.jl\" target=\"_blank\">C:\\Users\\lkape\\AppData\\Local\\Programs\\Julia-1.7.0-DEV\\share\\julia\\stdlib\\v1.7\\SparseArrays\\src\\linalg.jl:15</a></li> <li> +(A::<b>AbstractArray</b>, B::<b>AbstractArray</b>) in Base at <a href=\"https://github.com/JuliaLang/julia/tree/676ccf4eaa9b6e6c6a53f75abb4bf3e1a2457426/base/arraymath.jl#L37\" target=\"_blank\">arraymath.jl:37</a></li> <li> +(dt::<b>Dates.Date</b>, t::<b>Dates.Time</b>) in Dates at <a href=\"file://C:/buildbot/worker/package_win64/build/usr/share/julia/stdlib/v1.7/Dates/src/arithmetic.jl\" target=\"_blank\">C:\\Users\\lkape\\AppData\\Local\\Programs\\Julia-1.7.0-DEV\\share\\julia\\stdlib\\v1.7\\Dates\\src\\arithmetic.jl:19</a></li> <li> +(dt::<b>Dates.Date</b>, y::<b>Dates.Year</b>) in Dates at <a href=\"file://C:/buildbot/worker/package_win64/build/usr/share/julia/stdlib/v1.7/Dates/src/arithmetic.jl\" target=\"_blank\">C:\\Users\\lkape\\AppData\\Local\\Programs\\Julia-1.7.0-DEV\\share\\julia\\stdlib\\v1.7\\Dates\\src\\arithmetic.jl:27</a></li> <li> +(dt::<b>Dates.Date</b>, z::<b>Dates.Month</b>) in Dates at <a href=\"file://C:/buildbot/worker/package_win64/build/usr/share/julia/stdlib/v1.7/Dates/src/arithmetic.jl\" target=\"_blank\">C:\\Users\\lkape\\AppData\\Local\\Programs\\Julia-1.7.0-DEV\\share\\julia\\stdlib\\v1.7\\Dates\\src\\arithmetic.jl:54</a></li> <li> +(x::<b>Dates.Date</b>, y::<b>Dates.Quarter</b>) in Dates at <a href=\"file://C:/buildbot/worker/package_win64/build/usr/share/julia/stdlib/v1.7/Dates/src/arithmetic.jl\" target=\"_blank\">C:\\Users\\lkape\\AppData\\Local\\Programs\\Julia-1.7.0-DEV\\share\\julia\\stdlib\\v1.7\\Dates\\src\\arithmetic.jl:73</a></li> <li> +(x::<b>Dates.Date</b>, y::<b>Dates.Week</b>) in Dates at <a href=\"file://C:/buildbot/worker/package_win64/build/usr/share/julia/stdlib/v1.7/Dates/src/arithmetic.jl\" target=\"_blank\">C:\\Users\\lkape\\AppData\\Local\\Programs\\Julia-1.7.0-DEV\\share\\julia\\stdlib\\v1.7\\Dates\\src\\arithmetic.jl:77</a></li> <li> +(x::<b>Dates.Date</b>, y::<b>Dates.Day</b>) in Dates at <a href=\"file://C:/buildbot/worker/package_win64/build/usr/share/julia/stdlib/v1.7/Dates/src/arithmetic.jl\" target=\"_blank\">C:\\Users\\lkape\\AppData\\Local\\Programs\\Julia-1.7.0-DEV\\share\\julia\\stdlib\\v1.7\\Dates\\src\\arithmetic.jl:79</a></li> <li> +(x::<b>Float64</b>, y::<b>Float64</b>) in Base at <a href=\"https://github.com/JuliaLang/julia/tree/676ccf4eaa9b6e6c6a53f75abb4bf3e1a2457426/base/float.jl#L326\" target=\"_blank\">float.jl:326</a></li> <li> +(x::<b>Float16</b>, y::<b>Float16</b>) in Base at <a href=\"https://github.com/JuliaLang/julia/tree/676ccf4eaa9b6e6c6a53f75abb4bf3e1a2457426/base/float.jl#L324\" target=\"_blank\">float.jl:324</a></li> <li> +(dt::<b>Dates.DateTime</b>, y::<b>Dates.Year</b>) in Dates at <a href=\"file://C:/buildbot/worker/package_win64/build/usr/share/julia/stdlib/v1.7/Dates/src/arithmetic.jl\" target=\"_blank\">C:\\Users\\lkape\\AppData\\Local\\Programs\\Julia-1.7.0-DEV\\share\\julia\\stdlib\\v1.7\\Dates\\src\\arithmetic.jl:23</a></li> <li> +(dt::<b>Dates.DateTime</b>, z::<b>Dates.Month</b>) in Dates at <a href=\"file://C:/buildbot/worker/package_win64/build/usr/share/julia/stdlib/v1.7/Dates/src/arithmetic.jl\" target=\"_blank\">C:\\Users\\lkape\\AppData\\Local\\Programs\\Julia-1.7.0-DEV\\share\\julia\\stdlib\\v1.7\\Dates\\src\\arithmetic.jl:47</a></li> <li> +(x::<b>Dates.DateTime</b>, y::<b>Dates.Quarter</b>) in Dates at <a href=\"file://C:/buildbot/worker/package_win64/build/usr/share/julia/stdlib/v1.7/Dates/src/arithmetic.jl\" target=\"_blank\">C:\\Users\\lkape\\AppData\\Local\\Programs\\Julia-1.7.0-DEV\\share\\julia\\stdlib\\v1.7\\Dates\\src\\arithmetic.jl:75</a></li> <li> +(x::<b>Dates.DateTime</b>, y::<b>Dates.Period</b>) in Dates at <a href=\"file://C:/buildbot/worker/package_win64/build/usr/share/julia/stdlib/v1.7/Dates/src/arithmetic.jl\" target=\"_blank\">C:\\Users\\lkape\\AppData\\Local\\Programs\\Julia-1.7.0-DEV\\share\\julia\\stdlib\\v1.7\\Dates\\src\\arithmetic.jl:81</a></li> <li> +(x::<b>Dates.CompoundPeriod</b>, y::<b>Dates.Period</b>) in Dates at <a href=\"file://C:/buildbot/worker/package_win64/build/usr/share/julia/stdlib/v1.7/Dates/src/periods.jl\" target=\"_blank\">C:\\Users\\lkape\\AppData\\Local\\Programs\\Julia-1.7.0-DEV\\share\\julia\\stdlib\\v1.7\\Dates\\src\\periods.jl:352</a></li> <li> +(x::<b>Dates.CompoundPeriod</b>, y::<b>Dates.CompoundPeriod</b>) in Dates at <a href=\"file://C:/buildbot/worker/package_win64/build/usr/share/julia/stdlib/v1.7/Dates/src/periods.jl\" target=\"_blank\">C:\\Users\\lkape\\AppData\\Local\\Programs\\Julia-1.7.0-DEV\\share\\julia\\stdlib\\v1.7\\Dates\\src\\periods.jl:354</a></li> <li> +(x::<b>Dates.CompoundPeriod</b>, y::<b>Dates.TimeType</b>) in Dates at <a href=\"file://C:/buildbot/worker/package_win64/build/usr/share/julia/stdlib/v1.7/Dates/src/periods.jl\" target=\"_blank\">C:\\Users\\lkape\\AppData\\Local\\Programs\\Julia-1.7.0-DEV\\share\\julia\\stdlib\\v1.7\\Dates\\src\\periods.jl:382</a></li> <li> +(x::<b>Rational{BigInt}</b>, y::<b>Rational{BigInt}</b>) in Base.GMP.MPQ at <a href=\"https://github.com/JuliaLang/julia/tree/676ccf4eaa9b6e6c6a53f75abb4bf3e1a2457426/base/gmp.jl#L886\" target=\"_blank\">gmp.jl:886</a></li> <li> +(x::<b>Rational</b>) in Base at <a href=\"https://github.com/JuliaLang/julia/tree/676ccf4eaa9b6e6c6a53f75abb4bf3e1a2457426/base/rational.jl#L267\" target=\"_blank\">rational.jl:267</a></li> <li> +(x::<b>Rational</b>, y::<b>Rational</b>) in Base at <a href=\"https://github.com/JuliaLang/julia/tree/676ccf4eaa9b6e6c6a53f75abb4bf3e1a2457426/base/rational.jl#L283\" target=\"_blank\">rational.jl:283</a></li> <li> +(x::<b>BigInt</b>, y::<b>BigInt</b>) in Base.GMP at <a href=\"https://github.com/JuliaLang/julia/tree/676ccf4eaa9b6e6c6a53f75abb4bf3e1a2457426/base/gmp.jl#L479\" target=\"_blank\">gmp.jl:479</a></li> <li> +(a::<b>BigInt</b>, b::<b>BigInt</b>, c::<b>BigInt</b>) in Base.GMP at <a href=\"https://github.com/JuliaLang/julia/tree/676ccf4eaa9b6e6c6a53f75abb4bf3e1a2457426/base/gmp.jl#L519\" target=\"_blank\">gmp.jl:519</a></li> <li> +(a::<b>BigInt</b>, b::<b>BigInt</b>, c::<b>BigInt</b>, d::<b>BigInt</b>) in Base.GMP at <a href=\"https://github.com/JuliaLang/julia/tree/676ccf4eaa9b6e6c6a53f75abb4bf3e1a2457426/base/gmp.jl#L520\" target=\"_blank\">gmp.jl:520</a></li> <li> +(a::<b>BigInt</b>, b::<b>BigInt</b>, c::<b>BigInt</b>, d::<b>BigInt</b>, e::<b>BigInt</b>) in Base.GMP at <a href=\"https://github.com/JuliaLang/julia/tree/676ccf4eaa9b6e6c6a53f75abb4bf3e1a2457426/base/gmp.jl#L521\" target=\"_blank\">gmp.jl:521</a></li> <li> +(x::<b>BigInt</b>, c::<b>Union{UInt16, UInt32, UInt8}</b>) in Base.GMP at <a href=\"https://github.com/JuliaLang/julia/tree/676ccf4eaa9b6e6c6a53f75abb4bf3e1a2457426/base/gmp.jl#L527\" target=\"_blank\">gmp.jl:527</a></li> <li> +(x::<b>BigInt</b>, c::<b>Union{Int16, Int32, Int8}</b>) in Base.GMP at <a href=\"https://github.com/JuliaLang/julia/tree/676ccf4eaa9b6e6c6a53f75abb4bf3e1a2457426/base/gmp.jl#L533\" target=\"_blank\">gmp.jl:533</a></li> <li> +(c::<b>BigInt</b>, x::<b>BigFloat</b>) in Base.MPFR at <a href=\"https://github.com/JuliaLang/julia/tree/676ccf4eaa9b6e6c6a53f75abb4bf3e1a2457426/base/mpfr.jl#L400\" target=\"_blank\">mpfr.jl:400</a></li> <li> +(a::<b>Pkg.Resolve.VersionWeight</b>, b::<b>Pkg.Resolve.VersionWeight</b>) in Pkg.Resolve at <a href=\"file://C:/buildbot/worker/package_win64/build/usr/share/julia/stdlib/v1.7/Pkg/src/Resolve/versionweights.jl\" target=\"_blank\">C:\\Users\\lkape\\AppData\\Local\\Programs\\Julia-1.7.0-DEV\\share\\julia\\stdlib\\v1.7\\Pkg\\src\\Resolve\\versionweights.jl:22</a></li> <li> +(t::<b>Dates.Time</b>, dt::<b>Dates.Date</b>) in Dates at <a href=\"file://C:/buildbot/worker/package_win64/build/usr/share/julia/stdlib/v1.7/Dates/src/arithmetic.jl\" target=\"_blank\">C:\\Users\\lkape\\AppData\\Local\\Programs\\Julia-1.7.0-DEV\\share\\julia\\stdlib\\v1.7\\Dates\\src\\arithmetic.jl:20</a></li> <li> +(x::<b>Dates.Time</b>, y::<b>Dates.TimePeriod</b>) in Dates at <a href=\"file://C:/buildbot/worker/package_win64/build/usr/share/julia/stdlib/v1.7/Dates/src/arithmetic.jl\" target=\"_blank\">C:\\Users\\lkape\\AppData\\Local\\Programs\\Julia-1.7.0-DEV\\share\\julia\\stdlib\\v1.7\\Dates\\src\\arithmetic.jl:83</a></li> <li> +(x::<b>Dates.TimeType</b>) in Dates at <a href=\"file://C:/buildbot/worker/package_win64/build/usr/share/julia/stdlib/v1.7/Dates/src/arithmetic.jl\" target=\"_blank\">C:\\Users\\lkape\\AppData\\Local\\Programs\\Julia-1.7.0-DEV\\share\\julia\\stdlib\\v1.7\\Dates\\src\\arithmetic.jl:8</a></li> <li> +(x::<b>Dates.AbstractTime</b>, y::<b>Missing</b>) in Dates at <a href=\"file://C:/buildbot/worker/package_win64/build/usr/share/julia/stdlib/v1.7/Dates/src/arithmetic.jl\" target=\"_blank\">C:\\Users\\lkape\\AppData\\Local\\Programs\\Julia-1.7.0-DEV\\share\\julia\\stdlib\\v1.7\\Dates\\src\\arithmetic.jl:88</a></li> <li> +(a::<b>Dates.TimeType</b>, b::<b>Dates.Period</b>, c::<b>Dates.Period</b>) in Dates at <a href=\"file://C:/buildbot/worker/package_win64/build/usr/share/julia/stdlib/v1.7/Dates/src/periods.jl\" target=\"_blank\">C:\\Users\\lkape\\AppData\\Local\\Programs\\Julia-1.7.0-DEV\\share\\julia\\stdlib\\v1.7\\Dates\\src\\periods.jl:373</a></li> <li> +(a::<b>Dates.TimeType</b>, b::<b>Dates.Period</b>, c::<b>Dates.Period</b>, d::<b>Dates.Period...</b>) in Dates at <a href=\"file://C:/buildbot/worker/package_win64/build/usr/share/julia/stdlib/v1.7/Dates/src/periods.jl\" target=\"_blank\">C:\\Users\\lkape\\AppData\\Local\\Programs\\Julia-1.7.0-DEV\\share\\julia\\stdlib\\v1.7\\Dates\\src\\periods.jl:374</a></li> <li> +(x::<b>Dates.TimeType</b>, y::<b>Dates.CompoundPeriod</b>) in Dates at <a href=\"file://C:/buildbot/worker/package_win64/build/usr/share/julia/stdlib/v1.7/Dates/src/periods.jl\" target=\"_blank\">C:\\Users\\lkape\\AppData\\Local\\Programs\\Julia-1.7.0-DEV\\share\\julia\\stdlib\\v1.7\\Dates\\src\\periods.jl:376</a></li> <li> +(z::<b>Complex{Bool}</b>, x::<b>Bool</b>) in Base at <a href=\"https://github.com/JuliaLang/julia/tree/676ccf4eaa9b6e6c6a53f75abb4bf3e1a2457426/base/complex.jl#L287\" target=\"_blank\">complex.jl:287</a></li> <li> +(z::<b>Complex</b>, x::<b>Bool</b>) in Base at <a href=\"https://github.com/JuliaLang/julia/tree/676ccf4eaa9b6e6c6a53f75abb4bf3e1a2457426/base/complex.jl#L294\" target=\"_blank\">complex.jl:294</a></li> <li> +(z::<b>Complex{Bool}</b>, x::<b>Real</b>) in Base at <a href=\"https://github.com/JuliaLang/julia/tree/676ccf4eaa9b6e6c6a53f75abb4bf3e1a2457426/base/complex.jl#L301\" target=\"_blank\">complex.jl:301</a></li> <li> +(z::<b>Complex</b>) in Base at <a href=\"https://github.com/JuliaLang/julia/tree/676ccf4eaa9b6e6c6a53f75abb4bf3e1a2457426/base/complex.jl#L273\" target=\"_blank\">complex.jl:273</a></li> <li> +(z::<b>Complex</b>, x::<b>Real</b>) in Base at <a href=\"https://github.com/JuliaLang/julia/tree/676ccf4eaa9b6e6c6a53f75abb4bf3e1a2457426/base/complex.jl#L313\" target=\"_blank\">complex.jl:313</a></li> <li> +(a::<b>Pkg.Resolve.FieldValue</b>, b::<b>Pkg.Resolve.FieldValue</b>) in Pkg.Resolve at <a href=\"file://C:/buildbot/worker/package_win64/build/usr/share/julia/stdlib/v1.7/Pkg/src/Resolve/fieldvalues.jl\" target=\"_blank\">C:\\Users\\lkape\\AppData\\Local\\Programs\\Julia-1.7.0-DEV\\share\\julia\\stdlib\\v1.7\\Pkg\\src\\Resolve\\fieldvalues.jl:43</a></li> <li> +(B::<b>BitMatrix</b>, J::<b>UniformScaling</b>) in LinearAlgebra at <a href=\"file://C:/buildbot/worker/package_win64/build/usr/share/julia/stdlib/v1.7/LinearAlgebra/src/uniformscaling.jl\" target=\"_blank\">C:\\Users\\lkape\\AppData\\Local\\Programs\\Julia-1.7.0-DEV\\share\\julia\\stdlib\\v1.7\\LinearAlgebra\\src\\uniformscaling.jl:152</a></li> <li> +(A::<b>AbstractMatrix{T} where T</b>, J::<b>UniformScaling</b>) in LinearAlgebra at <a href=\"file://C:/buildbot/worker/package_win64/build/usr/share/julia/stdlib/v1.7/LinearAlgebra/src/uniformscaling.jl\" target=\"_blank\">C:\\Users\\lkape\\AppData\\Local\\Programs\\Julia-1.7.0-DEV\\share\\julia\\stdlib\\v1.7\\LinearAlgebra\\src\\uniformscaling.jl:215</a></li> <li> +(x::<b>AbstractArray{var\"#s78\", N} where N where var\"#s78\"<:Number</b>) in Base at <a href=\"https://github.com/JuliaLang/julia/tree/676ccf4eaa9b6e6c6a53f75abb4bf3e1a2457426/base/abstractarraymath.jl#L97\" target=\"_blank\">abstractarraymath.jl:97</a></li> <li> +(x::<b>BigFloat</b>, y::<b>BigFloat</b>) in Base.MPFR at <a href=\"https://github.com/JuliaLang/julia/tree/676ccf4eaa9b6e6c6a53f75abb4bf3e1a2457426/base/mpfr.jl#L364\" target=\"_blank\">mpfr.jl:364</a></li> <li> +(x::<b>BigFloat</b>, c::<b>Union{UInt16, UInt32, UInt8}</b>) in Base.MPFR at <a href=\"https://github.com/JuliaLang/julia/tree/676ccf4eaa9b6e6c6a53f75abb4bf3e1a2457426/base/mpfr.jl#L371\" target=\"_blank\">mpfr.jl:371</a></li> <li> +(x::<b>BigFloat</b>, c::<b>Union{Int16, Int32, Int8}</b>) in Base.MPFR at <a href=\"https://github.com/JuliaLang/julia/tree/676ccf4eaa9b6e6c6a53f75abb4bf3e1a2457426/base/mpfr.jl#L379\" target=\"_blank\">mpfr.jl:379</a></li> <li> +(x::<b>BigFloat</b>, c::<b>Union{Float16, Float32, Float64}</b>) in Base.MPFR at <a href=\"https://github.com/JuliaLang/julia/tree/676ccf4eaa9b6e6c6a53f75abb4bf3e1a2457426/base/mpfr.jl#L387\" target=\"_blank\">mpfr.jl:387</a></li> <li> +(x::<b>BigFloat</b>, c::<b>BigInt</b>) in Base.MPFR at <a href=\"https://github.com/JuliaLang/julia/tree/676ccf4eaa9b6e6c6a53f75abb4bf3e1a2457426/base/mpfr.jl#L395\" target=\"_blank\">mpfr.jl:395</a></li> <li> +(a::<b>BigFloat</b>, b::<b>BigFloat</b>, c::<b>BigFloat</b>) in Base.MPFR at <a href=\"https://github.com/JuliaLang/julia/tree/676ccf4eaa9b6e6c6a53f75abb4bf3e1a2457426/base/mpfr.jl#L536\" target=\"_blank\">mpfr.jl:536</a></li> <li> +(a::<b>BigFloat</b>, b::<b>BigFloat</b>, c::<b>BigFloat</b>, d::<b>BigFloat</b>) in Base.MPFR at <a href=\"https://github.com/JuliaLang/julia/tree/676ccf4eaa9b6e6c6a53f75abb4bf3e1a2457426/base/mpfr.jl#L542\" target=\"_blank\">mpfr.jl:542</a></li> <li> +(a::<b>BigFloat</b>, b::<b>BigFloat</b>, c::<b>BigFloat</b>, d::<b>BigFloat</b>, e::<b>BigFloat</b>) in Base.MPFR at <a href=\"https://github.com/JuliaLang/julia/tree/676ccf4eaa9b6e6c6a53f75abb4bf3e1a2457426/base/mpfr.jl#L549\" target=\"_blank\">mpfr.jl:549</a></li> <li> +(x::<b>Bool</b>) in Base at <a href=\"https://github.com/JuliaLang/julia/tree/676ccf4eaa9b6e6c6a53f75abb4bf3e1a2457426/base/bool.jl#L89\" target=\"_blank\">bool.jl:89</a></li> <li> +(x::<b>Integer</b>, y::<b>Ptr</b>) in Base at <a href=\"https://github.com/JuliaLang/julia/tree/676ccf4eaa9b6e6c6a53f75abb4bf3e1a2457426/base/pointer.jl#L161\" target=\"_blank\">pointer.jl:161</a></li> <li> +(y::<b>Integer</b>, x::<b>Rational</b>) in Base at <a href=\"https://github.com/JuliaLang/julia/tree/676ccf4eaa9b6e6c6a53f75abb4bf3e1a2457426/base/rational.jl#L295\" target=\"_blank\">rational.jl:295</a></li> <li> +(x::<b>Integer</b>, y::<b>AbstractChar</b>) in Base at <a href=\"https://github.com/JuliaLang/julia/tree/676ccf4eaa9b6e6c6a53f75abb4bf3e1a2457426/base/char.jl#L224\" target=\"_blank\">char.jl:224</a></li> <li> +(x::<b>Number</b>, y::<b>Base.TwicePrecision</b>) in Base at <a href=\"https://github.com/JuliaLang/julia/tree/676ccf4eaa9b6e6c6a53f75abb4bf3e1a2457426/base/twiceprecision.jl#L271\" target=\"_blank\">twiceprecision.jl:271</a></li> <li> +(::<b>Number</b>, ::<b>Missing</b>) in Base at <a href=\"https://github.com/JuliaLang/julia/tree/676ccf4eaa9b6e6c6a53f75abb4bf3e1a2457426/base/missing.jl#L117\" target=\"_blank\">missing.jl:117</a></li> <li> +(x::<b>Number</b>, J::<b>UniformScaling</b>) in LinearAlgebra at <a href=\"file://C:/buildbot/worker/package_win64/build/usr/share/julia/stdlib/v1.7/LinearAlgebra/src/uniformscaling.jl\" target=\"_blank\">C:\\Users\\lkape\\AppData\\Local\\Programs\\Julia-1.7.0-DEV\\share\\julia\\stdlib\\v1.7\\LinearAlgebra\\src\\uniformscaling.jl:146</a></li> <li> +(x::<b>Bool</b>, y::<b>Bool</b>) in Base at <a href=\"https://github.com/JuliaLang/julia/tree/676ccf4eaa9b6e6c6a53f75abb4bf3e1a2457426/base/bool.jl#L92\" target=\"_blank\">bool.jl:92</a></li> <li> +(a::<b>Integer</b>, b::<b>Integer</b>) in Base at <a href=\"https://github.com/JuliaLang/julia/tree/676ccf4eaa9b6e6c6a53f75abb4bf3e1a2457426/base/int.jl#L919\" target=\"_blank\">int.jl:919</a></li> <li> +(x::<b>Bool</b>, y::<b>T</b>)<i> where T<:AbstractFloat</i> in Base at <a href=\"https://github.com/JuliaLang/julia/tree/676ccf4eaa9b6e6c6a53f75abb4bf3e1a2457426/base/bool.jl#L99\" target=\"_blank\">bool.jl:99</a></li> <li> +(x::<b>Bool</b>, z::<b>Complex{Bool}</b>) in Base at <a href=\"https://github.com/JuliaLang/julia/tree/676ccf4eaa9b6e6c6a53f75abb4bf3e1a2457426/base/complex.jl#L286\" target=\"_blank\">complex.jl:286</a></li> <li> +(x::<b>Real</b>, z::<b>Complex{Bool}</b>) in Base at <a href=\"https://github.com/JuliaLang/julia/tree/676ccf4eaa9b6e6c6a53f75abb4bf3e1a2457426/base/complex.jl#L300\" target=\"_blank\">complex.jl:300</a></li> <li> +(x::<b>Bool</b>, z::<b>Complex</b>) in Base at <a href=\"https://github.com/JuliaLang/julia/tree/676ccf4eaa9b6e6c6a53f75abb4bf3e1a2457426/base/complex.jl#L293\" target=\"_blank\">complex.jl:293</a></li> <li> +(x::<b>Real</b>, z::<b>Complex</b>) in Base at <a href=\"https://github.com/JuliaLang/julia/tree/676ccf4eaa9b6e6c6a53f75abb4bf3e1a2457426/base/complex.jl#L312\" target=\"_blank\">complex.jl:312</a></li> <li> +(x::<b>Float32</b>, y::<b>Float32</b>) in Base at <a href=\"https://github.com/JuliaLang/julia/tree/676ccf4eaa9b6e6c6a53f75abb4bf3e1a2457426/base/float.jl#L325\" target=\"_blank\">float.jl:325</a></li> <li> +(x::<b>Number</b>) in Base at <a href=\"https://github.com/JuliaLang/julia/tree/676ccf4eaa9b6e6c6a53f75abb4bf3e1a2457426/base/operators.jl#L572\" target=\"_blank\">operators.jl:572</a></li> <li> +(x::<b>T</b>, y::<b>T</b>)<i> where T<:Number</i> in Base at <a href=\"https://github.com/JuliaLang/julia/tree/676ccf4eaa9b6e6c6a53f75abb4bf3e1a2457426/base/promotion.jl#L395\" target=\"_blank\">promotion.jl:395</a></li> <li> +(x::<b>Number</b>, y::<b>Number</b>) in Base at <a href=\"https://github.com/JuliaLang/julia/tree/676ccf4eaa9b6e6c6a53f75abb4bf3e1a2457426/base/promotion.jl#L320\" target=\"_blank\">promotion.jl:320</a></li> <li> +(level::<b>Base.CoreLogging.LogLevel</b>, inc::<b>Integer</b>) in Base.CoreLogging at <a href=\"https://github.com/JuliaLang/julia/tree/676ccf4eaa9b6e6c6a53f75abb4bf3e1a2457426/base/logging.jl#L131\" target=\"_blank\">logging.jl:131</a></li> <li> +(::<b>Missing</b>) in Base at <a href=\"https://github.com/JuliaLang/julia/tree/676ccf4eaa9b6e6c6a53f75abb4bf3e1a2457426/base/missing.jl#L101\" target=\"_blank\">missing.jl:101</a></li> <li> +(::<b>Missing</b>, ::<b>Missing</b>) in Base at <a href=\"https://github.com/JuliaLang/julia/tree/676ccf4eaa9b6e6c6a53f75abb4bf3e1a2457426/base/missing.jl#L115\" target=\"_blank\">missing.jl:115</a></li> <li> +(::<b>Missing</b>, ::<b>Number</b>) in Base at <a href=\"https://github.com/JuliaLang/julia/tree/676ccf4eaa9b6e6c6a53f75abb4bf3e1a2457426/base/missing.jl#L116\" target=\"_blank\">missing.jl:116</a></li> <li> +(x::<b>Missing</b>, y::<b>Dates.AbstractTime</b>) in Dates at <a href=\"file://C:/buildbot/worker/package_win64/build/usr/share/julia/stdlib/v1.7/Dates/src/arithmetic.jl\" target=\"_blank\">C:\\Users\\lkape\\AppData\\Local\\Programs\\Julia-1.7.0-DEV\\share\\julia\\stdlib\\v1.7\\Dates\\src\\arithmetic.jl:89</a></li> <li> +(a, b, c, xs...) in Base at <a href=\"https://github.com/JuliaLang/julia/tree/676ccf4eaa9b6e6c6a53f75abb4bf3e1a2457426/base/operators.jl#L597\" target=\"_blank\">operators.jl:597</a></li> </ul>"
      ],
      "text/plain": [
       "# 190 methods for generic function \"+\":\n",
       "[1] +(x::T, y::T) where T<:Union{Int128, Int16, Int32, Int64, Int8, UInt128, UInt16, UInt32, UInt64, UInt8} in Base at int.jl:87\n",
       "[2] +(c::Union{UInt16, UInt32, UInt8}, x::BigInt) in Base.GMP at gmp.jl:528\n",
       "[3] +(c::Union{Int16, Int32, Int8}, x::BigInt) in Base.GMP at gmp.jl:534\n",
       "[4] +(c::Union{UInt16, UInt32, UInt8}, x::BigFloat) in Base.MPFR at mpfr.jl:376\n",
       "[5] +(c::Union{Int16, Int32, Int8}, x::BigFloat) in Base.MPFR at mpfr.jl:384\n",
       "[6] +(c::Union{Float16, Float32, Float64}, x::BigFloat) in Base.MPFR at mpfr.jl:392\n",
       "[7] +(x::Union{Dates.CompoundPeriod, Dates.Period}) in Dates at C:\\Users\\lkape\\AppData\\Local\\Programs\\Julia-1.7.0-DEV\\share\\julia\\stdlib\\v1.7\\Dates\\src\\periods.jl:362\n",
       "[8] +(A::Symmetric, B::Symmetric) in LinearAlgebra at C:\\Users\\lkape\\AppData\\Local\\Programs\\Julia-1.7.0-DEV\\share\\julia\\stdlib\\v1.7\\LinearAlgebra\\src\\symmetric.jl:469\n",
       "[9] +(S::Symmetric, D::Diagonal) in LinearAlgebra at C:\\Users\\lkape\\AppData\\Local\\Programs\\Julia-1.7.0-DEV\\share\\julia\\stdlib\\v1.7\\LinearAlgebra\\src\\diagonal.jl:163\n",
       "[10] +(A::Symmetric{var\"#s828\", var\"#s827\"} where var\"#s827\"<:(SparseArrays.AbstractSparseMatrix{Tv, Ti} where Ti where Tv) where var\"#s828\", B::SparseArrays.AbstractSparseMatrix{Tv, Ti} where Ti where Tv) in SparseArrays at C:\\Users\\lkape\\AppData\\Local\\Programs\\Julia-1.7.0-DEV\\share\\julia\\stdlib\\v1.7\\SparseArrays\\src\\linalg.jl:13\n",
       "[11] +(A::Symmetric, B::SparseArrays.AbstractSparseMatrix{Tv, Ti} where Ti where Tv) in SparseArrays at C:\\Users\\lkape\\AppData\\Local\\Programs\\Julia-1.7.0-DEV\\share\\julia\\stdlib\\v1.7\\SparseArrays\\src\\linalg.jl:16\n",
       "[12] +(A::Symmetric{var\"#s822\", var\"#s821\"} where var\"#s821\"<:(SparseArrays.AbstractSparseMatrix{Tv, Ti} where Ti where Tv) where var\"#s822\"<:Real, B::Hermitian{var\"#s820\", var\"#s819\"} where var\"#s819\"<:(SparseArrays.AbstractSparseMatrix{Tv, Ti} where Ti where Tv) where var\"#s820\") in SparseArrays at C:\\Users\\lkape\\AppData\\Local\\Programs\\Julia-1.7.0-DEV\\share\\julia\\stdlib\\v1.7\\SparseArrays\\src\\linalg.jl:23\n",
       "[13] +(A::Symmetric{var\"#s829\", S} where S<:(AbstractMatrix{var\"#s830\"} where var\"#s830\"<:var\"#s829\") where var\"#s829\"<:Real, B::Hermitian) in LinearAlgebra at C:\\Users\\lkape\\AppData\\Local\\Programs\\Julia-1.7.0-DEV\\share\\julia\\stdlib\\v1.7\\LinearAlgebra\\src\\symmetric.jl:484\n",
       "[14] +(A::Symmetric{var\"#s830\", var\"#s829\"} where var\"#s829\"<:(SparseArrays.AbstractSparseMatrix{Tv, Ti} where Ti where Tv) where var\"#s830\", B::Hermitian{var\"#s828\", var\"#s827\"} where var\"#s827\"<:(SparseArrays.AbstractSparseMatrix{Tv, Ti} where Ti where Tv) where var\"#s828\") in SparseArrays at C:\\Users\\lkape\\AppData\\Local\\Programs\\Julia-1.7.0-DEV\\share\\julia\\stdlib\\v1.7\\SparseArrays\\src\\linalg.jl:21\n",
       "[15] +(J::UniformScaling) in LinearAlgebra at C:\\Users\\lkape\\AppData\\Local\\Programs\\Julia-1.7.0-DEV\\share\\julia\\stdlib\\v1.7\\LinearAlgebra\\src\\uniformscaling.jl:150\n",
       "[16] +(J::UniformScaling, x::Number) in LinearAlgebra at C:\\Users\\lkape\\AppData\\Local\\Programs\\Julia-1.7.0-DEV\\share\\julia\\stdlib\\v1.7\\LinearAlgebra\\src\\uniformscaling.jl:145\n",
       "[17] +(J1::UniformScaling, J2::UniformScaling) in LinearAlgebra at C:\\Users\\lkape\\AppData\\Local\\Programs\\Julia-1.7.0-DEV\\share\\julia\\stdlib\\v1.7\\LinearAlgebra\\src\\uniformscaling.jl:151\n",
       "[18] +(J::UniformScaling, B::BitMatrix) in LinearAlgebra at C:\\Users\\lkape\\AppData\\Local\\Programs\\Julia-1.7.0-DEV\\share\\julia\\stdlib\\v1.7\\LinearAlgebra\\src\\uniformscaling.jl:153\n",
       "[19] +(J::UniformScaling, F::Hessenberg) in LinearAlgebra at C:\\Users\\lkape\\AppData\\Local\\Programs\\Julia-1.7.0-DEV\\share\\julia\\stdlib\\v1.7\\LinearAlgebra\\src\\hessenberg.jl:560\n",
       "[20] +(A::UniformScaling, B::Tridiagonal{var\"#s830\", V} where V<:AbstractVector{var\"#s830\"} where var\"#s830\"<:Number) in LinearAlgebra at C:\\Users\\lkape\\AppData\\Local\\Programs\\Julia-1.7.0-DEV\\share\\julia\\stdlib\\v1.7\\LinearAlgebra\\src\\special.jl:245\n",
       "[21] +(A::UniformScaling, B::SymTridiagonal{var\"#s830\", V} where V<:AbstractVector{var\"#s830\"} where var\"#s830\"<:Number) in LinearAlgebra at C:\\Users\\lkape\\AppData\\Local\\Programs\\Julia-1.7.0-DEV\\share\\julia\\stdlib\\v1.7\\LinearAlgebra\\src\\special.jl:250\n",
       "[22] +(A::UniformScaling, B::Bidiagonal{var\"#s830\", V} where V<:AbstractVector{var\"#s830\"} where var\"#s830\"<:Number) in LinearAlgebra at C:\\Users\\lkape\\AppData\\Local\\Programs\\Julia-1.7.0-DEV\\share\\julia\\stdlib\\v1.7\\LinearAlgebra\\src\\special.jl:255\n",
       "[23] +(A::UniformScaling, B::Diagonal{var\"#s830\", V} where V<:AbstractVector{var\"#s830\"} where var\"#s830\"<:Number) in LinearAlgebra at C:\\Users\\lkape\\AppData\\Local\\Programs\\Julia-1.7.0-DEV\\share\\julia\\stdlib\\v1.7\\LinearAlgebra\\src\\special.jl:260\n",
       "[24] +(J::UniformScaling, A::AbstractMatrix{T} where T) in LinearAlgebra at C:\\Users\\lkape\\AppData\\Local\\Programs\\Julia-1.7.0-DEV\\share\\julia\\stdlib\\v1.7\\LinearAlgebra\\src\\uniformscaling.jl:154\n",
       "[25] +(x::Rational, y::Integer) in Base at rational.jl:288\n",
       "[26] +(A::UpperHessenberg, B::UpperHessenberg) in LinearAlgebra at C:\\Users\\lkape\\AppData\\Local\\Programs\\Julia-1.7.0-DEV\\share\\julia\\stdlib\\v1.7\\LinearAlgebra\\src\\hessenberg.jl:101\n",
       "[27] +(H::UpperHessenberg, J::UniformScaling) in LinearAlgebra at C:\\Users\\lkape\\AppData\\Local\\Programs\\Julia-1.7.0-DEV\\share\\julia\\stdlib\\v1.7\\LinearAlgebra\\src\\hessenberg.jl:106\n",
       "[28] +(r1::OrdinalRange, r2::OrdinalRange) in Base at range.jl:1098\n",
       "[29] +(A::UpperTriangular, B::UpperTriangular) in LinearAlgebra at C:\\Users\\lkape\\AppData\\Local\\Programs\\Julia-1.7.0-DEV\\share\\julia\\stdlib\\v1.7\\LinearAlgebra\\src\\triangular.jl:648\n",
       "[30] +(A::UpperTriangular, B::UnitUpperTriangular) in LinearAlgebra at C:\\Users\\lkape\\AppData\\Local\\Programs\\Julia-1.7.0-DEV\\share\\julia\\stdlib\\v1.7\\LinearAlgebra\\src\\triangular.jl:650\n",
       "[31] +(A::UpperTriangular, B::Bidiagonal) in LinearAlgebra at C:\\Users\\lkape\\AppData\\Local\\Programs\\Julia-1.7.0-DEV\\share\\julia\\stdlib\\v1.7\\LinearAlgebra\\src\\special.jl:86\n",
       "[32] +(r::AbstractRange{var\"#s830\"} where var\"#s830\"<:Dates.TimeType, x::Dates.Period) in Dates at C:\\Users\\lkape\\AppData\\Local\\Programs\\Julia-1.7.0-DEV\\share\\julia\\stdlib\\v1.7\\Dates\\src\\ranges.jl:63\n",
       "[33] +(F::Hessenberg, J::UniformScaling) in LinearAlgebra at C:\\Users\\lkape\\AppData\\Local\\Programs\\Julia-1.7.0-DEV\\share\\julia\\stdlib\\v1.7\\LinearAlgebra\\src\\hessenberg.jl:559\n",
       "[34] +(Da::Diagonal, Db::Diagonal) in LinearAlgebra at C:\\Users\\lkape\\AppData\\Local\\Programs\\Julia-1.7.0-DEV\\share\\julia\\stdlib\\v1.7\\LinearAlgebra\\src\\diagonal.jl:156\n",
       "[35] +(D::Diagonal, S::Symmetric) in LinearAlgebra at C:\\Users\\lkape\\AppData\\Local\\Programs\\Julia-1.7.0-DEV\\share\\julia\\stdlib\\v1.7\\LinearAlgebra\\src\\diagonal.jl:160\n",
       "[36] +(D::Diagonal{var\"#s830\", V} where V<:AbstractVector{var\"#s830\"} where var\"#s830\"<:Real, H::Hermitian) in LinearAlgebra at C:\\Users\\lkape\\AppData\\Local\\Programs\\Julia-1.7.0-DEV\\share\\julia\\stdlib\\v1.7\\LinearAlgebra\\src\\diagonal.jl:166\n",
       "[37] +(A::Diagonal, B::Bidiagonal) in LinearAlgebra at C:\\Users\\lkape\\AppData\\Local\\Programs\\Julia-1.7.0-DEV\\share\\julia\\stdlib\\v1.7\\LinearAlgebra\\src\\special.jl:125\n",
       "[38] +(A::Diagonal, B::SymTridiagonal) in LinearAlgebra at C:\\Users\\lkape\\AppData\\Local\\Programs\\Julia-1.7.0-DEV\\share\\julia\\stdlib\\v1.7\\LinearAlgebra\\src\\special.jl:135\n",
       "[39] +(A::Diagonal, B::Tridiagonal) in LinearAlgebra at C:\\Users\\lkape\\AppData\\Local\\Programs\\Julia-1.7.0-DEV\\share\\julia\\stdlib\\v1.7\\LinearAlgebra\\src\\special.jl:163\n",
       "[40] +(A::Diagonal{var\"#s830\", V} where V<:AbstractVector{var\"#s830\"} where var\"#s830\"<:Number, B::UniformScaling) in LinearAlgebra at C:\\Users\\lkape\\AppData\\Local\\Programs\\Julia-1.7.0-DEV\\share\\julia\\stdlib\\v1.7\\LinearAlgebra\\src\\special.jl:241\n",
       "[41] +(A::Array, Bs::Array...) in Base at arraymath.jl:43\n",
       "[42] +(X::StridedArray{var\"#s830\", N} where N where var\"#s830\"<:Union{Dates.CompoundPeriod, Dates.Period}, Y::StridedArray{var\"#s829\", N} where N where var\"#s829\"<:Union{Dates.CompoundPeriod, Dates.Period}) in Dates at C:\\Users\\lkape\\AppData\\Local\\Programs\\Julia-1.7.0-DEV\\share\\julia\\stdlib\\v1.7\\Dates\\src\\deprecated.jl:62\n",
       "[43] +(A::Array, B::SparseArrays.AbstractSparseMatrixCSC) in SparseArrays at C:\\Users\\lkape\\AppData\\Local\\Programs\\Julia-1.7.0-DEV\\share\\julia\\stdlib\\v1.7\\SparseArrays\\src\\sparsematrix.jl:1745\n",
       "[44] +(x::StridedArray{var\"#s830\", N} where N where var\"#s830\"<:Union{Dates.CompoundPeriod, Dates.Period}) in Dates at C:\\Users\\lkape\\AppData\\Local\\Programs\\Julia-1.7.0-DEV\\share\\julia\\stdlib\\v1.7\\Dates\\src\\deprecated.jl:55\n",
       "[45] +(x::StridedArray{var\"#s830\", N} where N where var\"#s830\"<:Union{Dates.CompoundPeriod, Dates.Period}, y::Dates.TimeType) in Dates at C:\\Users\\lkape\\AppData\\Local\\Programs\\Julia-1.7.0-DEV\\share\\julia\\stdlib\\v1.7\\Dates\\src\\deprecated.jl:10\n",
       "[46] +(r1::StepRangeLen{T, R, S} where S, r2::StepRangeLen{T, R, S} where S) where {R<:Base.TwicePrecision, T} in Base at twiceprecision.jl:574\n",
       "[47] +(r1::StepRangeLen{T, S, S1} where S1, r2::StepRangeLen{T, S, S1} where S1) where {T, S} in Base at range.jl:1121\n",
       "[48] +(A::Hermitian, B::Hermitian) in LinearAlgebra at C:\\Users\\lkape\\AppData\\Local\\Programs\\Julia-1.7.0-DEV\\share\\julia\\stdlib\\v1.7\\LinearAlgebra\\src\\symmetric.jl:469\n",
       "[49] +(H::Hermitian, D::Diagonal{var\"#s830\", V} where V<:AbstractVector{var\"#s830\"} where var\"#s830\"<:Real) in LinearAlgebra at C:\\Users\\lkape\\AppData\\Local\\Programs\\Julia-1.7.0-DEV\\share\\julia\\stdlib\\v1.7\\LinearAlgebra\\src\\diagonal.jl:169\n",
       "[50] +(A::Hermitian, J::UniformScaling{var\"#s830\"} where var\"#s830\"<:Complex) in LinearAlgebra at C:\\Users\\lkape\\AppData\\Local\\Programs\\Julia-1.7.0-DEV\\share\\julia\\stdlib\\v1.7\\LinearAlgebra\\src\\uniformscaling.jl:196\n",
       "[51] +(A::Hermitian{var\"#s828\", var\"#s827\"} where var\"#s827\"<:(SparseArrays.AbstractSparseMatrix{Tv, Ti} where Ti where Tv) where var\"#s828\", B::SparseArrays.AbstractSparseMatrix{Tv, Ti} where Ti where Tv) in SparseArrays at C:\\Users\\lkape\\AppData\\Local\\Programs\\Julia-1.7.0-DEV\\share\\julia\\stdlib\\v1.7\\SparseArrays\\src\\linalg.jl:13\n",
       "[52] +(A::Hermitian, B::SparseArrays.AbstractSparseMatrix{Tv, Ti} where Ti where Tv) in SparseArrays at C:\\Users\\lkape\\AppData\\Local\\Programs\\Julia-1.7.0-DEV\\share\\julia\\stdlib\\v1.7\\SparseArrays\\src\\linalg.jl:16\n",
       "[53] +(A::Hermitian{var\"#s818\", var\"#s817\"} where var\"#s817\"<:(SparseArrays.AbstractSparseMatrix{Tv, Ti} where Ti where Tv) where var\"#s818\", B::Symmetric{var\"#s816\", var\"#s815\"} where var\"#s815\"<:(SparseArrays.AbstractSparseMatrix{Tv, Ti} where Ti where Tv) where var\"#s816\"<:Real) in SparseArrays at C:\\Users\\lkape\\AppData\\Local\\Programs\\Julia-1.7.0-DEV\\share\\julia\\stdlib\\v1.7\\SparseArrays\\src\\linalg.jl:24\n",
       "[54] +(A::Hermitian, B::Symmetric{var\"#s830\", S} where S<:(AbstractMatrix{var\"#s830\"}) where var\"#s830\"<:Real) in LinearAlgebra at C:\\Users\\lkape\\AppData\\Local\\Programs\\Julia-1.7.0-DEV\\share\\julia\\stdlib\\v1.7\\LinearAlgebra\\src\\symmetric.jl:483\n",
       "[55] +(A::Hermitian{var\"#s826\", var\"#s825\"} where var\"#s825\"<:(SparseArrays.AbstractSparseMatrix{Tv, Ti} where Ti where Tv) where var\"#s826\", B::Symmetric{var\"#s824\", var\"#s823\"} where var\"#s823\"<:(SparseArrays.AbstractSparseMatrix{Tv, Ti} where Ti where Tv) where var\"#s824\") in SparseArrays at C:\\Users\\lkape\\AppData\\Local\\Programs\\Julia-1.7.0-DEV\\share\\julia\\stdlib\\v1.7\\SparseArrays\\src\\linalg.jl:22\n",
       "[56] +(x::P, y::P) where P<:Dates.Period in Dates at C:\\Users\\lkape\\AppData\\Local\\Programs\\Julia-1.7.0-DEV\\share\\julia\\stdlib\\v1.7\\Dates\\src\\periods.jl:79\n",
       "[57] +(x::Dates.Period, y::Dates.Period) in Dates at C:\\Users\\lkape\\AppData\\Local\\Programs\\Julia-1.7.0-DEV\\share\\julia\\stdlib\\v1.7\\Dates\\src\\periods.jl:351\n",
       "[58] +(y::Dates.Period, x::Dates.CompoundPeriod) in Dates at C:\\Users\\lkape\\AppData\\Local\\Programs\\Julia-1.7.0-DEV\\share\\julia\\stdlib\\v1.7\\Dates\\src\\periods.jl:353\n",
       "[59] +(y::Dates.Period, x::Dates.TimeType) in Dates at C:\\Users\\lkape\\AppData\\Local\\Programs\\Julia-1.7.0-DEV\\share\\julia\\stdlib\\v1.7\\Dates\\src\\arithmetic.jl:85\n",
       "[60] +(x::Dates.Period, r::AbstractRange{var\"#s830\"} where var\"#s830\"<:Dates.TimeType) in Dates at C:\\Users\\lkape\\AppData\\Local\\Programs\\Julia-1.7.0-DEV\\share\\julia\\stdlib\\v1.7\\Dates\\src\\ranges.jl:62\n",
       "[61] +(y::Union{Dates.CompoundPeriod, Dates.Period}, x::AbstractArray{var\"#s830\", N} where N where var\"#s830\"<:Dates.TimeType) in Dates at C:\\Users\\lkape\\AppData\\Local\\Programs\\Julia-1.7.0-DEV\\share\\julia\\stdlib\\v1.7\\Dates\\src\\deprecated.jl:14\n",
       "[62] +(A::UnitUpperTriangular, B::UpperTriangular) in LinearAlgebra at C:\\Users\\lkape\\AppData\\Local\\Programs\\Julia-1.7.0-DEV\\share\\julia\\stdlib\\v1.7\\LinearAlgebra\\src\\triangular.jl:652\n",
       "[63] +(A::UnitUpperTriangular, B::UnitUpperTriangular) in LinearAlgebra at C:\\Users\\lkape\\AppData\\Local\\Programs\\Julia-1.7.0-DEV\\share\\julia\\stdlib\\v1.7\\LinearAlgebra\\src\\triangular.jl:654\n",
       "[64] +(UL::UnitUpperTriangular, J::UniformScaling) in LinearAlgebra at C:\\Users\\lkape\\AppData\\Local\\Programs\\Julia-1.7.0-DEV\\share\\julia\\stdlib\\v1.7\\LinearAlgebra\\src\\uniformscaling.jl:182\n",
       "[65] +(A::UnitUpperTriangular, B::Bidiagonal) in LinearAlgebra at C:\\Users\\lkape\\AppData\\Local\\Programs\\Julia-1.7.0-DEV\\share\\julia\\stdlib\\v1.7\\LinearAlgebra\\src\\special.jl:86\n",
       "[66] +(r1::LinRange{T}, r2::LinRange{T}) where T in Base at range.jl:1105\n",
       "[67] +(r1::Union{LinRange, OrdinalRange, StepRangeLen}, r2::Union{LinRange, OrdinalRange, StepRangeLen}) in Base at range.jl:1114\n",
       "[68] +(index1::CartesianIndex{N}, index2::CartesianIndex{N}) where N in Base.IteratorsMD at multidimensional.jl:114\n",
       "[69] +(x::Ptr, y::Integer) in Base at pointer.jl:159\n",
       "[70] +(z::Complex, w::Complex) in Base at complex.jl:275\n",
       "[71] +(x::Base.TwicePrecision, y::Number) in Base at twiceprecision.jl:267\n",
       "[72] +(x::Base.TwicePrecision{T}, y::Base.TwicePrecision{T}) where T in Base at twiceprecision.jl:273\n",
       "[73] +(x::Base.TwicePrecision, y::Base.TwicePrecision) in Base at twiceprecision.jl:278\n",
       "[74] +(y::AbstractFloat, x::Bool) in Base at bool.jl:102\n",
       "[75] +(A::Bidiagonal, B::Bidiagonal) in LinearAlgebra at C:\\Users\\lkape\\AppData\\Local\\Programs\\Julia-1.7.0-DEV\\share\\julia\\stdlib\\v1.7\\LinearAlgebra\\src\\bidiag.jl:354\n",
       "[76] +(A::Bidiagonal, B::UpperTriangular) in LinearAlgebra at C:\\Users\\lkape\\AppData\\Local\\Programs\\Julia-1.7.0-DEV\\share\\julia\\stdlib\\v1.7\\LinearAlgebra\\src\\special.jl:94\n",
       "[77] +(A::Bidiagonal, B::UnitUpperTriangular) in LinearAlgebra at C:\\Users\\lkape\\AppData\\Local\\Programs\\Julia-1.7.0-DEV\\share\\julia\\stdlib\\v1.7\\LinearAlgebra\\src\\special.jl:94\n",
       "[78] +(A::Bidiagonal, B::LowerTriangular) in LinearAlgebra at C:\\Users\\lkape\\AppData\\Local\\Programs\\Julia-1.7.0-DEV\\share\\julia\\stdlib\\v1.7\\LinearAlgebra\\src\\special.jl:94\n",
       "[79] +(A::Bidiagonal, B::UnitLowerTriangular) in LinearAlgebra at C:\\Users\\lkape\\AppData\\Local\\Programs\\Julia-1.7.0-DEV\\share\\julia\\stdlib\\v1.7\\LinearAlgebra\\src\\special.jl:94\n",
       "[80] +(A::Bidiagonal, B::Diagonal) in LinearAlgebra at C:\\Users\\lkape\\AppData\\Local\\Programs\\Julia-1.7.0-DEV\\share\\julia\\stdlib\\v1.7\\LinearAlgebra\\src\\special.jl:115\n",
       "[81] +(A::Bidiagonal, B::Tridiagonal) in LinearAlgebra at C:\\Users\\lkape\\AppData\\Local\\Programs\\Julia-1.7.0-DEV\\share\\julia\\stdlib\\v1.7\\LinearAlgebra\\src\\special.jl:183\n",
       "[82] +(A::Bidiagonal, B::SymTridiagonal) in LinearAlgebra at C:\\Users\\lkape\\AppData\\Local\\Programs\\Julia-1.7.0-DEV\\share\\julia\\stdlib\\v1.7\\LinearAlgebra\\src\\special.jl:203\n",
       "[83] +(A::Bidiagonal{var\"#s830\", V} where V<:AbstractVector{var\"#s830\"} where var\"#s830\"<:Number, B::UniformScaling) in LinearAlgebra at C:\\Users\\lkape\\AppData\\Local\\Programs\\Julia-1.7.0-DEV\\share\\julia\\stdlib\\v1.7\\LinearAlgebra\\src\\special.jl:236\n",
       "[84] +(A::SparseArrays.AbstractSparseMatrixCSC, B::SparseArrays.AbstractSparseMatrixCSC) in SparseArrays at C:\\Users\\lkape\\AppData\\Local\\Programs\\Julia-1.7.0-DEV\\share\\julia\\stdlib\\v1.7\\SparseArrays\\src\\sparsematrix.jl:1741\n",
       "[85] +(A::SparseArrays.AbstractSparseMatrixCSC, B::Array) in SparseArrays at C:\\Users\\lkape\\AppData\\Local\\Programs\\Julia-1.7.0-DEV\\share\\julia\\stdlib\\v1.7\\SparseArrays\\src\\sparsematrix.jl:1744\n",
       "[86] +(A::SparseArrays.AbstractSparseMatrixCSC, J::UniformScaling) in SparseArrays at C:\\Users\\lkape\\AppData\\Local\\Programs\\Julia-1.7.0-DEV\\share\\julia\\stdlib\\v1.7\\SparseArrays\\src\\sparsematrix.jl:3797\n",
       "[87] +(x::T, y::Integer) where T<:AbstractChar in Base at char.jl:223\n",
       "[88] +(A::UnitLowerTriangular, B::LowerTriangular) in LinearAlgebra at C:\\Users\\lkape\\AppData\\Local\\Programs\\Julia-1.7.0-DEV\\share\\julia\\stdlib\\v1.7\\LinearAlgebra\\src\\triangular.jl:653\n",
       "[89] +(A::UnitLowerTriangular, B::UnitLowerTriangular) in LinearAlgebra at C:\\Users\\lkape\\AppData\\Local\\Programs\\Julia-1.7.0-DEV\\share\\julia\\stdlib\\v1.7\\LinearAlgebra\\src\\triangular.jl:655\n",
       "[90] +(UL::UnitLowerTriangular, J::UniformScaling) in LinearAlgebra at C:\\Users\\lkape\\AppData\\Local\\Programs\\Julia-1.7.0-DEV\\share\\julia\\stdlib\\v1.7\\LinearAlgebra\\src\\uniformscaling.jl:182\n",
       "[91] +(A::UnitLowerTriangular, B::Bidiagonal) in LinearAlgebra at C:\\Users\\lkape\\AppData\\Local\\Programs\\Julia-1.7.0-DEV\\share\\julia\\stdlib\\v1.7\\LinearAlgebra\\src\\special.jl:86\n",
       "[92] +(A::LowerTriangular, B::LowerTriangular) in LinearAlgebra at C:\\Users\\lkape\\AppData\\Local\\Programs\\Julia-1.7.0-DEV\\share\\julia\\stdlib\\v1.7\\LinearAlgebra\\src\\triangular.jl:649\n",
       "[93] +(A::LowerTriangular, B::UnitLowerTriangular) in LinearAlgebra at C:\\Users\\lkape\\AppData\\Local\\Programs\\Julia-1.7.0-DEV\\share\\julia\\stdlib\\v1.7\\LinearAlgebra\\src\\triangular.jl:651\n",
       "[94] +(A::LinearAlgebra.AbstractTriangular, B::LinearAlgebra.AbstractTriangular) in LinearAlgebra at C:\\Users\\lkape\\AppData\\Local\\Programs\\Julia-1.7.0-DEV\\share\\julia\\stdlib\\v1.7\\LinearAlgebra\\src\\triangular.jl:656\n",
       "[95] +(A::LowerTriangular, B::Bidiagonal) in LinearAlgebra at C:\\Users\\lkape\\AppData\\Local\\Programs\\Julia-1.7.0-DEV\\share\\julia\\stdlib\\v1.7\\LinearAlgebra\\src\\special.jl:86\n",
       "[96] +(x::AbstractIrrational, y::AbstractIrrational) in Base at irrationals.jl:156\n",
       "[97] +(x::Dates.Instant) in Dates at C:\\Users\\lkape\\AppData\\Local\\Programs\\Julia-1.7.0-DEV\\share\\julia\\stdlib\\v1.7\\Dates\\src\\arithmetic.jl:4\n",
       "[98] +(A::SymTridiagonal, B::SymTridiagonal) in LinearAlgebra at C:\\Users\\lkape\\AppData\\Local\\Programs\\Julia-1.7.0-DEV\\share\\julia\\stdlib\\v1.7\\LinearAlgebra\\src\\tridiag.jl:205\n",
       "[99] +(A::SymTridiagonal, B::Diagonal) in LinearAlgebra at C:\\Users\\lkape\\AppData\\Local\\Programs\\Julia-1.7.0-DEV\\share\\julia\\stdlib\\v1.7\\LinearAlgebra\\src\\special.jl:145\n",
       "[100] +(A::SymTridiagonal, B::Tridiagonal) in LinearAlgebra at C:\\Users\\lkape\\AppData\\Local\\Programs\\Julia-1.7.0-DEV\\share\\julia\\stdlib\\v1.7\\LinearAlgebra\\src\\special.jl:159\n",
       "[101] +(A::SymTridiagonal, B::Bidiagonal) in LinearAlgebra at C:\\Users\\lkape\\AppData\\Local\\Programs\\Julia-1.7.0-DEV\\share\\julia\\stdlib\\v1.7\\LinearAlgebra\\src\\special.jl:213\n",
       "[102] +(A::SymTridiagonal{var\"#s830\", V} where V<:AbstractVector{var\"#s830\"} where var\"#s830\"<:Number, B::UniformScaling) in LinearAlgebra at C:\\Users\\lkape\\AppData\\Local\\Programs\\Julia-1.7.0-DEV\\share\\julia\\stdlib\\v1.7\\LinearAlgebra\\src\\special.jl:231\n",
       "[103] +(A::Tridiagonal, B::Tridiagonal) in LinearAlgebra at C:\\Users\\lkape\\AppData\\Local\\Programs\\Julia-1.7.0-DEV\\share\\julia\\stdlib\\v1.7\\LinearAlgebra\\src\\tridiag.jl:733\n",
       "[104] +(A::Tridiagonal, B::SymTridiagonal) in LinearAlgebra at C:\\Users\\lkape\\AppData\\Local\\Programs\\Julia-1.7.0-DEV\\share\\julia\\stdlib\\v1.7\\LinearAlgebra\\src\\special.jl:157\n",
       "[105] +(A::Tridiagonal, B::Diagonal) in LinearAlgebra at C:\\Users\\lkape\\AppData\\Local\\Programs\\Julia-1.7.0-DEV\\share\\julia\\stdlib\\v1.7\\LinearAlgebra\\src\\special.jl:173\n",
       "[106] +(A::Tridiagonal, B::Bidiagonal) in LinearAlgebra at C:\\Users\\lkape\\AppData\\Local\\Programs\\Julia-1.7.0-DEV\\share\\julia\\stdlib\\v1.7\\LinearAlgebra\\src\\special.jl:193\n",
       "[107] +(A::Tridiagonal{var\"#s830\", V} where V<:AbstractVector{var\"#s830\"} where var\"#s830\"<:Number, B::UniformScaling) in LinearAlgebra at C:\\Users\\lkape\\AppData\\Local\\Programs\\Julia-1.7.0-DEV\\share\\julia\\stdlib\\v1.7\\LinearAlgebra\\src\\special.jl:226\n",
       "[108] +(x::AbstractArray{var\"#s830\", N} where N where var\"#s830\"<:Dates.TimeType, y::Union{Dates.CompoundPeriod, Dates.Period}) in Dates at C:\\Users\\lkape\\AppData\\Local\\Programs\\Julia-1.7.0-DEV\\share\\julia\\stdlib\\v1.7\\Dates\\src\\deprecated.jl:6\n",
       "[109] +(y::Dates.TimeType, x::StridedArray{var\"#s830\", N} where N where var\"#s830\"<:Union{Dates.CompoundPeriod, Dates.Period}) in Dates at C:\\Users\\lkape\\AppData\\Local\\Programs\\Julia-1.7.0-DEV\\share\\julia\\stdlib\\v1.7\\Dates\\src\\deprecated.jl:18\n",
       "[110] +(A::BitArray, B::BitArray) in Base at bitarray.jl:1127\n",
       "[111] +(x::SparseArrays.AbstractSparseVector{Tv, Ti} where Ti where Tv, y::SparseArrays.AbstractSparseVector{Tv, Ti} where Ti where Tv) in SparseArrays at C:\\Users\\lkape\\AppData\\Local\\Programs\\Julia-1.7.0-DEV\\share\\julia\\stdlib\\v1.7\\SparseArrays\\src\\sparsevector.jl:1345\n",
       "[112] +(A::SparseArrays.AbstractSparseMatrix{Tv, Ti} where Ti where Tv, B::Hermitian{var\"#s830\", var\"#s829\"} where var\"#s829\"<:(SparseArrays.AbstractSparseMatrix{Tv, Ti} where Ti where Tv) where var\"#s830\") in SparseArrays at C:\\Users\\lkape\\AppData\\Local\\Programs\\Julia-1.7.0-DEV\\share\\julia\\stdlib\\v1.7\\SparseArrays\\src\\linalg.jl:12\n",
       "[113] +(A::SparseArrays.AbstractSparseMatrix{Tv, Ti} where Ti where Tv, B::Hermitian) in SparseArrays at C:\\Users\\lkape\\AppData\\Local\\Programs\\Julia-1.7.0-DEV\\share\\julia\\stdlib\\v1.7\\SparseArrays\\src\\linalg.jl:15\n",
       "[114] +(A::SparseArrays.AbstractSparseMatrix{Tv, Ti} where Ti where Tv, B::Symmetric{var\"#s830\", var\"#s829\"} where var\"#s829\"<:(SparseArrays.AbstractSparseMatrix{Tv, Ti} where Ti where Tv) where var\"#s830\") in SparseArrays at C:\\Users\\lkape\\AppData\\Local\\Programs\\Julia-1.7.0-DEV\\share\\julia\\stdlib\\v1.7\\SparseArrays\\src\\linalg.jl:12\n",
       "[115] +(A::SparseArrays.AbstractSparseMatrix{Tv, Ti} where Ti where Tv, B::Symmetric) in SparseArrays at C:\\Users\\lkape\\AppData\\Local\\Programs\\Julia-1.7.0-DEV\\share\\julia\\stdlib\\v1.7\\SparseArrays\\src\\linalg.jl:15\n",
       "[116] +(A::AbstractArray, B::AbstractArray) in Base at arraymath.jl:37\n",
       "[117] +(dt::Dates.Date, t::Dates.Time) in Dates at C:\\Users\\lkape\\AppData\\Local\\Programs\\Julia-1.7.0-DEV\\share\\julia\\stdlib\\v1.7\\Dates\\src\\arithmetic.jl:19\n",
       "[118] +(dt::Dates.Date, y::Dates.Year) in Dates at C:\\Users\\lkape\\AppData\\Local\\Programs\\Julia-1.7.0-DEV\\share\\julia\\stdlib\\v1.7\\Dates\\src\\arithmetic.jl:27\n",
       "[119] +(dt::Dates.Date, z::Dates.Month) in Dates at C:\\Users\\lkape\\AppData\\Local\\Programs\\Julia-1.7.0-DEV\\share\\julia\\stdlib\\v1.7\\Dates\\src\\arithmetic.jl:54\n",
       "[120] +(x::Dates.Date, y::Dates.Quarter) in Dates at C:\\Users\\lkape\\AppData\\Local\\Programs\\Julia-1.7.0-DEV\\share\\julia\\stdlib\\v1.7\\Dates\\src\\arithmetic.jl:73\n",
       "[121] +(x::Dates.Date, y::Dates.Week) in Dates at C:\\Users\\lkape\\AppData\\Local\\Programs\\Julia-1.7.0-DEV\\share\\julia\\stdlib\\v1.7\\Dates\\src\\arithmetic.jl:77\n",
       "[122] +(x::Dates.Date, y::Dates.Day) in Dates at C:\\Users\\lkape\\AppData\\Local\\Programs\\Julia-1.7.0-DEV\\share\\julia\\stdlib\\v1.7\\Dates\\src\\arithmetic.jl:79\n",
       "[123] +(x::Float64, y::Float64) in Base at float.jl:326\n",
       "[124] +(x::Float16, y::Float16) in Base at float.jl:324\n",
       "[125] +(dt::Dates.DateTime, y::Dates.Year) in Dates at C:\\Users\\lkape\\AppData\\Local\\Programs\\Julia-1.7.0-DEV\\share\\julia\\stdlib\\v1.7\\Dates\\src\\arithmetic.jl:23\n",
       "[126] +(dt::Dates.DateTime, z::Dates.Month) in Dates at C:\\Users\\lkape\\AppData\\Local\\Programs\\Julia-1.7.0-DEV\\share\\julia\\stdlib\\v1.7\\Dates\\src\\arithmetic.jl:47\n",
       "[127] +(x::Dates.DateTime, y::Dates.Quarter) in Dates at C:\\Users\\lkape\\AppData\\Local\\Programs\\Julia-1.7.0-DEV\\share\\julia\\stdlib\\v1.7\\Dates\\src\\arithmetic.jl:75\n",
       "[128] +(x::Dates.DateTime, y::Dates.Period) in Dates at C:\\Users\\lkape\\AppData\\Local\\Programs\\Julia-1.7.0-DEV\\share\\julia\\stdlib\\v1.7\\Dates\\src\\arithmetic.jl:81\n",
       "[129] +(x::Dates.CompoundPeriod, y::Dates.Period) in Dates at C:\\Users\\lkape\\AppData\\Local\\Programs\\Julia-1.7.0-DEV\\share\\julia\\stdlib\\v1.7\\Dates\\src\\periods.jl:352\n",
       "[130] +(x::Dates.CompoundPeriod, y::Dates.CompoundPeriod) in Dates at C:\\Users\\lkape\\AppData\\Local\\Programs\\Julia-1.7.0-DEV\\share\\julia\\stdlib\\v1.7\\Dates\\src\\periods.jl:354\n",
       "[131] +(x::Dates.CompoundPeriod, y::Dates.TimeType) in Dates at C:\\Users\\lkape\\AppData\\Local\\Programs\\Julia-1.7.0-DEV\\share\\julia\\stdlib\\v1.7\\Dates\\src\\periods.jl:382\n",
       "[132] +(x::Rational{BigInt}, y::Rational{BigInt}) in Base.GMP.MPQ at gmp.jl:886\n",
       "[133] +(x::Rational) in Base at rational.jl:267\n",
       "[134] +(x::Rational, y::Rational) in Base at rational.jl:283\n",
       "[135] +(x::BigInt, y::BigInt) in Base.GMP at gmp.jl:479\n",
       "[136] +(a::BigInt, b::BigInt, c::BigInt) in Base.GMP at gmp.jl:519\n",
       "[137] +(a::BigInt, b::BigInt, c::BigInt, d::BigInt) in Base.GMP at gmp.jl:520\n",
       "[138] +(a::BigInt, b::BigInt, c::BigInt, d::BigInt, e::BigInt) in Base.GMP at gmp.jl:521\n",
       "[139] +(x::BigInt, c::Union{UInt16, UInt32, UInt8}) in Base.GMP at gmp.jl:527\n",
       "[140] +(x::BigInt, c::Union{Int16, Int32, Int8}) in Base.GMP at gmp.jl:533\n",
       "[141] +(c::BigInt, x::BigFloat) in Base.MPFR at mpfr.jl:400\n",
       "[142] +(a::Pkg.Resolve.VersionWeight, b::Pkg.Resolve.VersionWeight) in Pkg.Resolve at C:\\Users\\lkape\\AppData\\Local\\Programs\\Julia-1.7.0-DEV\\share\\julia\\stdlib\\v1.7\\Pkg\\src\\Resolve\\versionweights.jl:22\n",
       "[143] +(t::Dates.Time, dt::Dates.Date) in Dates at C:\\Users\\lkape\\AppData\\Local\\Programs\\Julia-1.7.0-DEV\\share\\julia\\stdlib\\v1.7\\Dates\\src\\arithmetic.jl:20\n",
       "[144] +(x::Dates.Time, y::Dates.TimePeriod) in Dates at C:\\Users\\lkape\\AppData\\Local\\Programs\\Julia-1.7.0-DEV\\share\\julia\\stdlib\\v1.7\\Dates\\src\\arithmetic.jl:83\n",
       "[145] +(x::Dates.TimeType) in Dates at C:\\Users\\lkape\\AppData\\Local\\Programs\\Julia-1.7.0-DEV\\share\\julia\\stdlib\\v1.7\\Dates\\src\\arithmetic.jl:8\n",
       "[146] +(x::Dates.AbstractTime, y::Missing) in Dates at C:\\Users\\lkape\\AppData\\Local\\Programs\\Julia-1.7.0-DEV\\share\\julia\\stdlib\\v1.7\\Dates\\src\\arithmetic.jl:88\n",
       "[147] +(a::Dates.TimeType, b::Dates.Period, c::Dates.Period) in Dates at C:\\Users\\lkape\\AppData\\Local\\Programs\\Julia-1.7.0-DEV\\share\\julia\\stdlib\\v1.7\\Dates\\src\\periods.jl:373\n",
       "[148] +(a::Dates.TimeType, b::Dates.Period, c::Dates.Period, d::Dates.Period...) in Dates at C:\\Users\\lkape\\AppData\\Local\\Programs\\Julia-1.7.0-DEV\\share\\julia\\stdlib\\v1.7\\Dates\\src\\periods.jl:374\n",
       "[149] +(x::Dates.TimeType, y::Dates.CompoundPeriod) in Dates at C:\\Users\\lkape\\AppData\\Local\\Programs\\Julia-1.7.0-DEV\\share\\julia\\stdlib\\v1.7\\Dates\\src\\periods.jl:376\n",
       "[150] +(z::Complex{Bool}, x::Bool) in Base at complex.jl:287\n",
       "[151] +(z::Complex, x::Bool) in Base at complex.jl:294\n",
       "[152] +(z::Complex{Bool}, x::Real) in Base at complex.jl:301\n",
       "[153] +(z::Complex) in Base at complex.jl:273\n",
       "[154] +(z::Complex, x::Real) in Base at complex.jl:313\n",
       "[155] +(a::Pkg.Resolve.FieldValue, b::Pkg.Resolve.FieldValue) in Pkg.Resolve at C:\\Users\\lkape\\AppData\\Local\\Programs\\Julia-1.7.0-DEV\\share\\julia\\stdlib\\v1.7\\Pkg\\src\\Resolve\\fieldvalues.jl:43\n",
       "[156] +(B::BitMatrix, J::UniformScaling) in LinearAlgebra at C:\\Users\\lkape\\AppData\\Local\\Programs\\Julia-1.7.0-DEV\\share\\julia\\stdlib\\v1.7\\LinearAlgebra\\src\\uniformscaling.jl:152\n",
       "[157] +(A::AbstractMatrix{T} where T, J::UniformScaling) in LinearAlgebra at C:\\Users\\lkape\\AppData\\Local\\Programs\\Julia-1.7.0-DEV\\share\\julia\\stdlib\\v1.7\\LinearAlgebra\\src\\uniformscaling.jl:215\n",
       "[158] +(x::AbstractArray{var\"#s78\", N} where N where var\"#s78\"<:Number) in Base at abstractarraymath.jl:97\n",
       "[159] +(x::BigFloat, y::BigFloat) in Base.MPFR at mpfr.jl:364\n",
       "[160] +(x::BigFloat, c::Union{UInt16, UInt32, UInt8}) in Base.MPFR at mpfr.jl:371\n",
       "[161] +(x::BigFloat, c::Union{Int16, Int32, Int8}) in Base.MPFR at mpfr.jl:379\n",
       "[162] +(x::BigFloat, c::Union{Float16, Float32, Float64}) in Base.MPFR at mpfr.jl:387\n",
       "[163] +(x::BigFloat, c::BigInt) in Base.MPFR at mpfr.jl:395\n",
       "[164] +(a::BigFloat, b::BigFloat, c::BigFloat) in Base.MPFR at mpfr.jl:536\n",
       "[165] +(a::BigFloat, b::BigFloat, c::BigFloat, d::BigFloat) in Base.MPFR at mpfr.jl:542\n",
       "[166] +(a::BigFloat, b::BigFloat, c::BigFloat, d::BigFloat, e::BigFloat) in Base.MPFR at mpfr.jl:549\n",
       "[167] +(x::Bool) in Base at bool.jl:89\n",
       "[168] +(x::Integer, y::Ptr) in Base at pointer.jl:161\n",
       "[169] +(y::Integer, x::Rational) in Base at rational.jl:295\n",
       "[170] +(x::Integer, y::AbstractChar) in Base at char.jl:224\n",
       "[171] +(x::Number, y::Base.TwicePrecision) in Base at twiceprecision.jl:271\n",
       "[172] +(::Number, ::Missing) in Base at missing.jl:117\n",
       "[173] +(x::Number, J::UniformScaling) in LinearAlgebra at C:\\Users\\lkape\\AppData\\Local\\Programs\\Julia-1.7.0-DEV\\share\\julia\\stdlib\\v1.7\\LinearAlgebra\\src\\uniformscaling.jl:146\n",
       "[174] +(x::Bool, y::Bool) in Base at bool.jl:92\n",
       "[175] +(a::Integer, b::Integer) in Base at int.jl:919\n",
       "[176] +(x::Bool, y::T) where T<:AbstractFloat in Base at bool.jl:99\n",
       "[177] +(x::Bool, z::Complex{Bool}) in Base at complex.jl:286\n",
       "[178] +(x::Real, z::Complex{Bool}) in Base at complex.jl:300\n",
       "[179] +(x::Bool, z::Complex) in Base at complex.jl:293\n",
       "[180] +(x::Real, z::Complex) in Base at complex.jl:312\n",
       "[181] +(x::Float32, y::Float32) in Base at float.jl:325\n",
       "[182] +(x::Number) in Base at operators.jl:572\n",
       "[183] +(x::T, y::T) where T<:Number in Base at promotion.jl:395\n",
       "[184] +(x::Number, y::Number) in Base at promotion.jl:320\n",
       "[185] +(level::Base.CoreLogging.LogLevel, inc::Integer) in Base.CoreLogging at logging.jl:131\n",
       "[186] +(::Missing) in Base at missing.jl:101\n",
       "[187] +(::Missing, ::Missing) in Base at missing.jl:115\n",
       "[188] +(::Missing, ::Number) in Base at missing.jl:116\n",
       "[189] +(x::Missing, y::Dates.AbstractTime) in Dates at C:\\Users\\lkape\\AppData\\Local\\Programs\\Julia-1.7.0-DEV\\share\\julia\\stdlib\\v1.7\\Dates\\src\\arithmetic.jl:89\n",
       "[190] +(a, b, c, xs...) in Base at operators.jl:597"
      ]
     },
     "execution_count": 7,
     "metadata": {},
     "output_type": "execute_result"
    }
   ],
   "source": [
    "methods(+)"
   ]
  },
  {
   "cell_type": "code",
   "execution_count": 8,
   "metadata": {},
   "outputs": [
    {
     "data": {
      "text/html": [
       "# 2 methods for generic function <b>my_function</b>:<ul><li> my_function(x::<b>Int64</b>) in Main at In[8]:5</li> <li> my_function(x) in Main at In[8]:1</li> </ul>"
      ],
      "text/plain": [
       "# 2 methods for generic function \"my_function\":\n",
       "[1] my_function(x::Int64) in Main at In[8]:5\n",
       "[2] my_function(x) in Main at In[8]:1"
      ]
     },
     "execution_count": 8,
     "metadata": {},
     "output_type": "execute_result"
    }
   ],
   "source": [
    "function my_function(x)\n",
    "    println(\"Default output\")\n",
    "end\n",
    "\n",
    "function my_function(x::Int) # only called when x is an integer\n",
    "    println(\"You gave me an integer!\")\n",
    "end\n",
    "\n",
    "methods(my_function)"
   ]
  },
  {
   "cell_type": "code",
   "execution_count": 9,
   "metadata": {},
   "outputs": [
    {
     "name": "stdout",
     "output_type": "stream",
     "text": [
      "Default output\n",
      "You gave me an integer!\n",
      "Default output\n"
     ]
    }
   ],
   "source": [
    "my_function(1.0)\n",
    "my_function(1)\n",
    "my_function(\"ORC\")"
   ]
  },
  {
   "cell_type": "code",
   "execution_count": 10,
   "metadata": {},
   "outputs": [
    {
     "data": {
      "text/html": [
       "+(x::<b>T</b>, y::<b>T</b>)<i> where T<:Union{Int128, Int16, Int32, Int64, Int8, UInt128, UInt16, UInt32, UInt64, UInt8}</i> in Base at <a href=\"https://github.com/JuliaLang/julia/tree/676ccf4eaa9b6e6c6a53f75abb4bf3e1a2457426/base/int.jl#L87\" target=\"_blank\">int.jl:87</a>"
      ],
      "text/plain": [
       "+(x::T, y::T) where T<:Union{Int128, Int16, Int32, Int64, Int8, UInt128, UInt16, UInt32, UInt64, UInt8} in Base at int.jl:87"
      ]
     },
     "execution_count": 10,
     "metadata": {},
     "output_type": "execute_result"
    }
   ],
   "source": [
    "# you can check which method will be dispatched to with @which\n",
    "@which +(1, 2)"
   ]
  },
  {
   "cell_type": "markdown",
   "metadata": {},
   "source": [
    "We could have made `find_entering_var` more general e.g. we could have a simplex running in rational numbers, arbitrary precision, etc.!"
   ]
  },
  {
   "cell_type": "code",
   "execution_count": 11,
   "metadata": {},
   "outputs": [
    {
     "data": {
      "text/plain": [
       "Rational{Int64}"
      ]
     },
     "execution_count": 11,
     "metadata": {},
     "output_type": "execute_result"
    }
   ],
   "source": [
    "# E.g. \n",
    "1 // 2 # fraction in Julia\n",
    "typeof(1 // 2)"
   ]
  },
  {
   "cell_type": "code",
   "execution_count": 13,
   "metadata": {},
   "outputs": [
    {
     "data": {
      "text/plain": [
       "1.2399999999999999911182158029987476766109466552734375"
      ]
     },
     "execution_count": 13,
     "metadata": {},
     "output_type": "execute_result"
    }
   ],
   "source": [
    "a = BigFloat(1.24)"
   ]
  },
  {
   "cell_type": "code",
   "execution_count": 15,
   "metadata": {},
   "outputs": [
    {
     "data": {
      "text/plain": [
       "find_entering_var (generic function with 2 methods)"
      ]
     },
     "execution_count": 15,
     "metadata": {},
     "output_type": "execute_result"
    }
   ],
   "source": [
    "function find_entering_var(A::Matrix{T}, c::Vector{T}, pi::Vector{T}, var_status::Vector{Int}) where {T <: Real}\n",
    "    min_rc = 0\n",
    "    min_idx = 0\n",
    "    for k in eachindex(var_status)\n",
    "        # only check nonbasic variables\n",
    "        if iszero(var_status[k])         \n",
    "            rc = c[k] - dot(A[:, k], pi)\n",
    "            if rc < min_rc\n",
    "                min_rc = rc\n",
    "                min_idx = k\n",
    "            end\n",
    "        end\n",
    "    end\n",
    "    return (min_rc, min_idx)\n",
    "end"
   ]
  },
  {
   "cell_type": "code",
   "execution_count": 16,
   "metadata": {},
   "outputs": [
    {
     "name": "stdout",
     "output_type": "stream",
     "text": [
      "A = Rational{Int64}[3//1 2//1 1//1 2//1 1//1 0//1 0//1; 1//1 1//1 1//1 1//1 0//1 1//1 0//1; 4//1 3//1 3//1 4//1 0//1 0//1 1//1]\n",
      "b = Rational{Int64}[225//1, 117//1, 420//1]\n",
      "c = Rational{Int64}[-19//1, -13//1, -12//1, -17//1, 0//1, 0//1, 0//1]\n"
     ]
    }
   ],
   "source": [
    "# let's generate some rational data\n",
    "(A, b, c, B_inv, pi, var_status, basic_idxs) = make_data(Rational{Int})\n",
    "@show A\n",
    "@show b\n",
    "@show c\n",
    ";"
   ]
  },
  {
   "cell_type": "code",
   "execution_count": 17,
   "metadata": {},
   "outputs": [
    {
     "data": {
      "text/plain": [
       "(-3//2, 1)"
      ]
     },
     "execution_count": 17,
     "metadata": {},
     "output_type": "execute_result"
    }
   ],
   "source": [
    "# test that this \"just works\" by running this cell\n",
    "(min_rc, min_idx) = find_entering_var(A, c, pi, var_status) # should be (-3//2, 1)"
   ]
  },
  {
   "cell_type": "markdown",
   "metadata": {},
   "source": [
    "If we have type-stability (more later), Julia can infer the types of all variables in our functions based on the types of its arguments. Using this information the appropriate methods are precompiled. \n",
    "\n",
    "Implication: If the types of all variables are fixed, our code runs \"like\" that of a static language, every time we run a method, some precompiled code is executed for the types we are using. \n",
    "\n",
    "Let's make this more concrete."
   ]
  },
  {
   "cell_type": "code",
   "execution_count": 18,
   "metadata": {},
   "outputs": [
    {
     "name": "stdout",
     "output_type": "stream",
     "text": [
      "\u001b[90m;  @ int.jl:88 within `*'\u001b[39m\n",
      "\u001b[90m; Function Attrs: uwtable\u001b[39m\n",
      "\u001b[95mdefine\u001b[39m \u001b[36mi64\u001b[39m \u001b[93m@\"julia_\u001b[39m\u001b[0m*\u001b[0m_2472\"\u001b[33m(\u001b[39m\u001b[36mi64\u001b[39m \u001b[0m%0\u001b[0m, \u001b[36mi64\u001b[39m \u001b[0m%1\u001b[33m)\u001b[39m \u001b[0m#0 \u001b[33m{\u001b[39m\n",
      "\u001b[91mtop:\u001b[39m\n",
      "  \u001b[0m%2 \u001b[0m= \u001b[96m\u001b[1mmul\u001b[22m\u001b[39m \u001b[36mi64\u001b[39m \u001b[0m%1\u001b[0m, \u001b[0m%0\n",
      "  \u001b[96m\u001b[1mret\u001b[22m\u001b[39m \u001b[36mi64\u001b[39m \u001b[0m%2\n",
      "\u001b[33m}\u001b[39m\n"
     ]
    }
   ],
   "source": [
    "@code_llvm 2 * 5"
   ]
  },
  {
   "cell_type": "code",
   "execution_count": 19,
   "metadata": {},
   "outputs": [
    {
     "name": "stdout",
     "output_type": "stream",
     "text": [
      "\u001b[90m;  @ float.jl:332 within `*'\u001b[39m\n",
      "\u001b[90m; Function Attrs: uwtable\u001b[39m\n",
      "\u001b[95mdefine\u001b[39m \u001b[36mdouble\u001b[39m \u001b[93m@\"julia_\u001b[39m\u001b[0m*\u001b[0m_2497\"\u001b[33m(\u001b[39m\u001b[36mdouble\u001b[39m \u001b[0m%0\u001b[0m, \u001b[36mdouble\u001b[39m \u001b[0m%1\u001b[33m)\u001b[39m \u001b[0m#0 \u001b[33m{\u001b[39m\n",
      "\u001b[91mtop:\u001b[39m\n",
      "  \u001b[0m%2 \u001b[0m= \u001b[96m\u001b[1mfmul\u001b[22m\u001b[39m \u001b[36mdouble\u001b[39m \u001b[0m%0\u001b[0m, \u001b[0m%1\n",
      "  \u001b[96m\u001b[1mret\u001b[22m\u001b[39m \u001b[36mdouble\u001b[39m \u001b[0m%2\n",
      "\u001b[33m}\u001b[39m\n"
     ]
    }
   ],
   "source": [
    "@code_llvm 2.0 * 5.0"
   ]
  },
  {
   "cell_type": "code",
   "execution_count": 20,
   "metadata": {},
   "outputs": [
    {
     "name": "stdout",
     "output_type": "stream",
     "text": [
      "First use: slower\n",
      "  0.000003 seconds\n",
      "Second use: compiled and optimized automatically\n",
      "  0.000002 seconds\n"
     ]
    }
   ],
   "source": [
    "function count_up(n)\n",
    "    count = 0.0\n",
    "    for i in 1:n\n",
    "        count += sin(1.0) + cos(1.0) + tan(1.0)\n",
    "    end\n",
    "    return count\n",
    "end\n",
    "println(\"First use: slower\")\n",
    "@time count_up(100) \n",
    "println(\"Second use: compiled and optimized automatically\")\n",
    "@time count_up(100);\n",
    "println(\"Third use: compiled and optimized automatically\")\n",
    "@time count_up(100);"
   ]
  },
  {
   "cell_type": "markdown",
   "metadata": {},
   "source": [
    "Aside: always run twice when using @time"
   ]
  },
  {
   "cell_type": "markdown",
   "metadata": {},
   "source": [
    "### What is type stability?"
   ]
  },
  {
   "cell_type": "code",
   "execution_count": 22,
   "metadata": {},
   "outputs": [
    {
     "name": "stdout",
     "output_type": "stream",
     "text": [
      "Variables\n",
      "  #self#\u001b[36m::Core.Const(find_entering_var)\u001b[39m\n",
      "  A\u001b[36m::Matrix{Rational{Int64}}\u001b[39m\n",
      "  c\u001b[36m::Vector{Rational{Int64}}\u001b[39m\n",
      "  pi\u001b[36m::Vector{Rational{Int64}}\u001b[39m\n",
      "  var_status\u001b[36m::Vector{Int64}\u001b[39m\n",
      "  @_6\u001b[33m\u001b[1m::Union{Nothing, Tuple{Int64, Int64}}\u001b[22m\u001b[39m\n",
      "  min_idx\u001b[36m::Int64\u001b[39m\n",
      "  min_rc\u001b[91m\u001b[1m::Union{Rational{Int64}, Int64}\u001b[22m\u001b[39m\n",
      "  k\u001b[36m::Int64\u001b[39m\n",
      "  rc\u001b[36m::Rational{Int64}\u001b[39m\n",
      "\n",
      "Body\u001b[91m\u001b[1m::Tuple{Union{Rational{Int64}, Int64}, Int64}\u001b[22m\u001b[39m\n",
      "\u001b[90m1 ─\u001b[39m       (min_rc = 0)\n",
      "\u001b[90m│  \u001b[39m       (min_idx = 0)\n",
      "\u001b[90m│  \u001b[39m %3  = Main.eachindex(var_status)\u001b[36m::Base.OneTo{Int64}\u001b[39m\n",
      "\u001b[90m│  \u001b[39m       (@_6 = Base.iterate(%3))\n",
      "\u001b[90m│  \u001b[39m %5  = (@_6 === nothing)\u001b[36m::Bool\u001b[39m\n",
      "\u001b[90m│  \u001b[39m %6  = Base.not_int(%5)\u001b[36m::Bool\u001b[39m\n",
      "\u001b[90m└──\u001b[39m       goto #7 if not %6\n",
      "\u001b[90m2 ┄\u001b[39m       Core.NewvarNode(:(rc))\n",
      "\u001b[90m│  \u001b[39m %9  = @_6::Tuple{Int64, Int64}\u001b[36m::Tuple{Int64, Int64}\u001b[39m\n",
      "\u001b[90m│  \u001b[39m       (k = Core.getfield(%9, 1))\n",
      "\u001b[90m│  \u001b[39m %11 = Core.getfield(%9, 2)\u001b[36m::Int64\u001b[39m\n",
      "\u001b[90m│  \u001b[39m %12 = Base.getindex(var_status, k)\u001b[36m::Int64\u001b[39m\n",
      "\u001b[90m│  \u001b[39m %13 = Main.iszero(%12)\u001b[36m::Bool\u001b[39m\n",
      "\u001b[90m└──\u001b[39m       goto #5 if not %13\n",
      "\u001b[90m3 ─\u001b[39m %15 = Base.getindex(c, k)\u001b[36m::Rational{Int64}\u001b[39m\n",
      "\u001b[90m│  \u001b[39m %16 = Base.getindex(A, Main.:(:), k)\u001b[36m::Vector{Rational{Int64}}\u001b[39m\n",
      "\u001b[90m│  \u001b[39m %17 = Main.dot(%16, pi)\u001b[36m::Rational{Int64}\u001b[39m\n",
      "\u001b[90m│  \u001b[39m       (rc = %15 - %17)\n",
      "\u001b[90m│  \u001b[39m %19 = (rc < min_rc)\u001b[36m::Bool\u001b[39m\n",
      "\u001b[90m└──\u001b[39m       goto #5 if not %19\n",
      "\u001b[90m4 ─\u001b[39m       (min_rc = rc)\n",
      "\u001b[90m└──\u001b[39m       (min_idx = k)\n",
      "\u001b[90m5 ┄\u001b[39m       (@_6 = Base.iterate(%3, %11))\n",
      "\u001b[90m│  \u001b[39m %24 = (@_6 === nothing)\u001b[36m::Bool\u001b[39m\n",
      "\u001b[90m│  \u001b[39m %25 = Base.not_int(%24)\u001b[36m::Bool\u001b[39m\n",
      "\u001b[90m└──\u001b[39m       goto #7 if not %25\n",
      "\u001b[90m6 ─\u001b[39m       goto #2\n",
      "\u001b[90m7 ┄\u001b[39m %28 = Core.tuple(min_rc, min_idx)\u001b[91m\u001b[1m::Tuple{Union{Rational{Int64}, Int64}, Int64}\u001b[22m\u001b[39m\n",
      "\u001b[90m└──\u001b[39m       return %28\n"
     ]
    }
   ],
   "source": [
    "@code_warntype find_entering_var(A, c, pi, var_status)"
   ]
  },
  {
   "cell_type": "markdown",
   "metadata": {},
   "source": [
    "We see that `A`, `c`, and `pi` are rational, but the type of `min_rc` is not necessarily fixed throughout our function.\n",
    "\n",
    "Let's try to fix our function to get rid of the red."
   ]
  },
  {
   "cell_type": "code",
   "execution_count": 23,
   "metadata": {},
   "outputs": [
    {
     "name": "stdout",
     "output_type": "stream",
     "text": [
      "Variables\n",
      "  #self#\u001b[36m::Core.Const(find_entering_var)\u001b[39m\n",
      "  A\u001b[36m::Matrix{Rational{Int64}}\u001b[39m\n",
      "  c\u001b[36m::Vector{Rational{Int64}}\u001b[39m\n",
      "  pi\u001b[36m::Vector{Rational{Int64}}\u001b[39m\n",
      "  var_status\u001b[36m::Vector{Int64}\u001b[39m\n",
      "  @_6\u001b[33m\u001b[1m::Union{Nothing, Tuple{Int64, Int64}}\u001b[22m\u001b[39m\n",
      "  min_idx\u001b[36m::Int64\u001b[39m\n",
      "  min_rc\u001b[36m::Rational{Int64}\u001b[39m\n",
      "  k\u001b[36m::Int64\u001b[39m\n",
      "  rc\u001b[36m::Rational{Int64}\u001b[39m\n",
      "\n",
      "Body\u001b[36m::Tuple{Rational{Int64}, Int64}\u001b[39m\n",
      "\u001b[90m1 ─\u001b[39m       (min_rc = Main.zero($(Expr(:static_parameter, 1))))\n",
      "\u001b[90m│  \u001b[39m       (min_idx = 0)\n",
      "\u001b[90m│  \u001b[39m %3  = Main.eachindex(var_status)\u001b[36m::Base.OneTo{Int64}\u001b[39m\n",
      "\u001b[90m│  \u001b[39m       (@_6 = Base.iterate(%3))\n",
      "\u001b[90m│  \u001b[39m %5  = (@_6 === nothing)\u001b[36m::Bool\u001b[39m\n",
      "\u001b[90m│  \u001b[39m %6  = Base.not_int(%5)\u001b[36m::Bool\u001b[39m\n",
      "\u001b[90m└──\u001b[39m       goto #7 if not %6\n",
      "\u001b[90m2 ┄\u001b[39m       Core.NewvarNode(:(rc))\n",
      "\u001b[90m│  \u001b[39m %9  = @_6::Tuple{Int64, Int64}\u001b[36m::Tuple{Int64, Int64}\u001b[39m\n",
      "\u001b[90m│  \u001b[39m       (k = Core.getfield(%9, 1))\n",
      "\u001b[90m│  \u001b[39m %11 = Core.getfield(%9, 2)\u001b[36m::Int64\u001b[39m\n",
      "\u001b[90m│  \u001b[39m %12 = Base.getindex(var_status, k)\u001b[36m::Int64\u001b[39m\n",
      "\u001b[90m│  \u001b[39m %13 = Main.iszero(%12)\u001b[36m::Bool\u001b[39m\n",
      "\u001b[90m└──\u001b[39m       goto #5 if not %13\n",
      "\u001b[90m3 ─\u001b[39m %15 = Base.getindex(c, k)\u001b[36m::Rational{Int64}\u001b[39m\n",
      "\u001b[90m│  \u001b[39m %16 = Base.getindex(A, Main.:(:), k)\u001b[36m::Vector{Rational{Int64}}\u001b[39m\n",
      "\u001b[90m│  \u001b[39m %17 = Main.dot(%16, pi)\u001b[36m::Rational{Int64}\u001b[39m\n",
      "\u001b[90m│  \u001b[39m       (rc = %15 - %17)\n",
      "\u001b[90m│  \u001b[39m %19 = (rc < min_rc)\u001b[36m::Bool\u001b[39m\n",
      "\u001b[90m└──\u001b[39m       goto #5 if not %19\n",
      "\u001b[90m4 ─\u001b[39m       (min_rc = rc)\n",
      "\u001b[90m└──\u001b[39m       (min_idx = k)\n",
      "\u001b[90m5 ┄\u001b[39m       (@_6 = Base.iterate(%3, %11))\n",
      "\u001b[90m│  \u001b[39m %24 = (@_6 === nothing)\u001b[36m::Bool\u001b[39m\n",
      "\u001b[90m│  \u001b[39m %25 = Base.not_int(%24)\u001b[36m::Bool\u001b[39m\n",
      "\u001b[90m└──\u001b[39m       goto #7 if not %25\n",
      "\u001b[90m6 ─\u001b[39m       goto #2\n",
      "\u001b[90m7 ┄\u001b[39m %28 = Core.tuple(min_rc, min_idx)\u001b[36m::Tuple{Rational{Int64}, Int64}\u001b[39m\n",
      "\u001b[90m└──\u001b[39m       return %28\n"
     ]
    }
   ],
   "source": [
    "function find_entering_var(A::Matrix{T}, c::Vector{T}, pi::Vector{T}, var_status::Vector{Int}) where {T <: Real}\n",
    "    min_rc = zero(T) # <----------------\n",
    "    min_idx = 0\n",
    "    for k in eachindex(var_status)\n",
    "        # only check nonbasic variables\n",
    "        if iszero(var_status[k])\n",
    "            rc = c[k] - dot(A[:, k], pi)\n",
    "            if rc < min_rc\n",
    "                min_rc = rc\n",
    "                min_idx = k\n",
    "            end\n",
    "        end\n",
    "    end\n",
    "    return (min_rc, min_idx)\n",
    "end\n",
    "\n",
    "@code_warntype find_entering_var(A, c, pi, var_status)"
   ]
  },
  {
   "cell_type": "markdown",
   "metadata": {},
   "source": [
    "Other useful functions include `eltype()` or `one()`."
   ]
  },
  {
   "cell_type": "markdown",
   "metadata": {},
   "source": [
    "## Exercise\n",
    "Complete the function `find_leaving_var` to return `(min_ratio, min_idx)`. I.e. the minimum and the minimizer of:\n",
    "$$\n",
    "\\min_{k: e_k' B^{-1} A_i > 0} \\frac{e_k' B^{-1}b}{e_k' B^{-1} A_i}\n",
    "$$\n",
    "If $ e_k' B^{-1} A_i \\leq 0 $ for all $k$, return (0, Inf). Assume you are provided the vectors `B_inv_A_i = B \\ A_i`, and `x_b = B \\ b`, as well as a list of basic indices as input.\n",
    "\n",
    "Test for correctness and type stability by running the box below. "
   ]
  },
  {
   "cell_type": "code",
   "execution_count": 24,
   "metadata": {},
   "outputs": [
    {
     "name": "stdout",
     "output_type": "stream",
     "text": [
      "typeof(Inf) = Float64\n",
      "typeof(Float64(Inf)) = Float64\n",
      "typeof(Rational{Int}(Inf)) = Rational{Int64}\n"
     ]
    },
    {
     "data": {
      "text/plain": [
       "Rational{Int64}"
      ]
     },
     "execution_count": 24,
     "metadata": {},
     "output_type": "execute_result"
    }
   ],
   "source": [
    "# hint:\n",
    "@show typeof(Inf)\n",
    "@show typeof(Float64(Inf))\n",
    "@show typeof(Rational{Int}(Inf))"
   ]
  },
  {
   "cell_type": "code",
   "execution_count": 25,
   "metadata": {},
   "outputs": [
    {
     "data": {
      "text/plain": [
       "find_leaving_var (generic function with 1 method)"
      ]
     },
     "execution_count": 25,
     "metadata": {},
     "output_type": "execute_result"
    }
   ],
   "source": [
    "function find_leaving_var(x_b::Vector{T}, B_inv_A_i::Vector{T}, basic_idxs::Vector{Int}) where {T <: Real}\n",
    "    min_ratio = T(Inf)\n",
    "    min_idx = 0\n",
    "    for k in eachindex(B_inv_A_i)\n",
    "        if B_inv_A_i[k] > 0\n",
    "            ratio = x_b[k] / B_inv_A_i[k]\n",
    "            if ratio < min_ratio\n",
    "                min_ratio = ratio\n",
    "                min_idx = k\n",
    "            end\n",
    "        end\n",
    "    end\n",
    "    return (min_ratio, min_idx)\n",
    "end"
   ]
  },
  {
   "cell_type": "code",
   "execution_count": 26,
   "metadata": {},
   "outputs": [
    {
     "data": {
      "text/plain": [
       "(14.999999999999993, 1)"
      ]
     },
     "execution_count": 26,
     "metadata": {},
     "output_type": "execute_result"
    }
   ],
   "source": [
    "# use our data and entering variable from before\n",
    "(A, b, c, B_inv, pi, var_status, basic_idxs) = make_data(Float64)\n",
    "(_, entering_idx) = find_entering_var(A, c, pi, var_status)\n",
    "x_b = B_inv * b\n",
    "B_inv_A_i = B_inv * A[:, entering_idx]\n",
    "\n",
    "\n",
    "(min_ratio, leaving_idx) = find_leaving_var(x_b, B_inv_A_i, basic_idxs) # should be (14.999999999999993, 1)"
   ]
  },
  {
   "cell_type": "code",
   "execution_count": 27,
   "metadata": {},
   "outputs": [
    {
     "name": "stdout",
     "output_type": "stream",
     "text": [
      "Variables\n",
      "  #self#\u001b[36m::Core.Const(find_leaving_var)\u001b[39m\n",
      "  x_b\u001b[36m::Vector{Float64}\u001b[39m\n",
      "  B_inv_A_i\u001b[36m::Vector{Float64}\u001b[39m\n",
      "  basic_idxs\u001b[36m::Vector{Int64}\u001b[39m\n",
      "  @_5\u001b[33m\u001b[1m::Union{Nothing, Tuple{Int64, Int64}}\u001b[22m\u001b[39m\n",
      "  min_idx\u001b[36m::Int64\u001b[39m\n",
      "  min_ratio\u001b[36m::Float64\u001b[39m\n",
      "  k\u001b[36m::Int64\u001b[39m\n",
      "  ratio\u001b[36m::Float64\u001b[39m\n",
      "\n",
      "Body\u001b[36m::Tuple{Float64, Int64}\u001b[39m\n",
      "\u001b[90m1 ─\u001b[39m       (min_ratio = ($(Expr(:static_parameter, 1)))(Main.Inf))\n",
      "\u001b[90m│  \u001b[39m       (min_idx = 0)\n",
      "\u001b[90m│  \u001b[39m %3  = Main.eachindex(B_inv_A_i)\u001b[36m::Base.OneTo{Int64}\u001b[39m\n",
      "\u001b[90m│  \u001b[39m       (@_5 = Base.iterate(%3))\n",
      "\u001b[90m│  \u001b[39m %5  = (@_5 === nothing)\u001b[36m::Bool\u001b[39m\n",
      "\u001b[90m│  \u001b[39m %6  = Base.not_int(%5)\u001b[36m::Bool\u001b[39m\n",
      "\u001b[90m└──\u001b[39m       goto #7 if not %6\n",
      "\u001b[90m2 ┄\u001b[39m       Core.NewvarNode(:(ratio))\n",
      "\u001b[90m│  \u001b[39m %9  = @_5::Tuple{Int64, Int64}\u001b[36m::Tuple{Int64, Int64}\u001b[39m\n",
      "\u001b[90m│  \u001b[39m       (k = Core.getfield(%9, 1))\n",
      "\u001b[90m│  \u001b[39m %11 = Core.getfield(%9, 2)\u001b[36m::Int64\u001b[39m\n",
      "\u001b[90m│  \u001b[39m %12 = Base.getindex(B_inv_A_i, k)\u001b[36m::Float64\u001b[39m\n",
      "\u001b[90m│  \u001b[39m %13 = (%12 > 0)\u001b[36m::Bool\u001b[39m\n",
      "\u001b[90m└──\u001b[39m       goto #5 if not %13\n",
      "\u001b[90m3 ─\u001b[39m %15 = Base.getindex(x_b, k)\u001b[36m::Float64\u001b[39m\n",
      "\u001b[90m│  \u001b[39m %16 = Base.getindex(B_inv_A_i, k)\u001b[36m::Float64\u001b[39m\n",
      "\u001b[90m│  \u001b[39m       (ratio = %15 / %16)\n",
      "\u001b[90m│  \u001b[39m %18 = (ratio < min_ratio)\u001b[36m::Bool\u001b[39m\n",
      "\u001b[90m└──\u001b[39m       goto #5 if not %18\n",
      "\u001b[90m4 ─\u001b[39m       (min_ratio = ratio)\n",
      "\u001b[90m└──\u001b[39m       (min_idx = k)\n",
      "\u001b[90m5 ┄\u001b[39m       (@_5 = Base.iterate(%3, %11))\n",
      "\u001b[90m│  \u001b[39m %23 = (@_5 === nothing)\u001b[36m::Bool\u001b[39m\n",
      "\u001b[90m│  \u001b[39m %24 = Base.not_int(%23)\u001b[36m::Bool\u001b[39m\n",
      "\u001b[90m└──\u001b[39m       goto #7 if not %24\n",
      "\u001b[90m6 ─\u001b[39m       goto #2\n",
      "\u001b[90m7 ┄\u001b[39m %27 = Core.tuple(min_ratio, min_idx)\u001b[36m::Tuple{Float64, Int64}\u001b[39m\n",
      "\u001b[90m└──\u001b[39m       return %27\n"
     ]
    }
   ],
   "source": [
    "@code_warntype find_leaving_var(x_b, B_inv_A_i, basic_idxs)"
   ]
  },
  {
   "cell_type": "markdown",
   "metadata": {},
   "source": [
    "### Using the REPL\n",
    "\n",
    "Working in the REPL doesn't allow type specification:"
   ]
  },
  {
   "cell_type": "code",
   "execution_count": 28,
   "metadata": {},
   "outputs": [
    {
     "name": "stdout",
     "output_type": "stream",
     "text": [
      "Variables\n",
      "  #self#\u001b[36m::Core.Const(f)\u001b[39m\n",
      "\n",
      "Body\u001b[91m\u001b[1m::Any\u001b[22m\u001b[39m\n",
      "\u001b[90m1 ─\u001b[39m     return Main.a\n"
     ]
    }
   ],
   "source": [
    "a = 3\n",
    "f() = a\n",
    "@code_warntype f()"
   ]
  },
  {
   "cell_type": "code",
   "execution_count": 29,
   "metadata": {},
   "outputs": [
    {
     "name": "stdout",
     "output_type": "stream",
     "text": [
      "Variables\n",
      "  #self#\u001b[36m::Core.Const(foo)\u001b[39m\n",
      "  f\u001b[36m::var\"#f#1\"{Int64}\u001b[39m\n",
      "  a\u001b[36m::Int64\u001b[39m\n",
      "\n",
      "Body\u001b[36m::Int64\u001b[39m\n",
      "\u001b[90m1 ─\u001b[39m      (a = 3)\n",
      "\u001b[90m│  \u001b[39m %2 = Main.:(var\"#f#1\")\u001b[36m::Core.Const(var\"#f#1\")\u001b[39m\n",
      "\u001b[90m│  \u001b[39m %3 = Core.typeof(a::Core.Const(3))\u001b[36m::Core.Const(Int64)\u001b[39m\n",
      "\u001b[90m│  \u001b[39m %4 = Core.apply_type(%2, %3)\u001b[36m::Core.Const(var\"#f#1\"{Int64})\u001b[39m\n",
      "\u001b[90m│  \u001b[39m      (f = %new(%4, a::Core.Const(3)))\n",
      "\u001b[90m│  \u001b[39m %6 = (f::Core.Const(var\"#f#1\"{Int64}(3)))()\u001b[36m::Core.Const(3)\u001b[39m\n",
      "\u001b[90m└──\u001b[39m      return %6\n"
     ]
    }
   ],
   "source": [
    "# wrap code inside functions/modules when possible\n",
    "function foo()\n",
    "    a = 3\n",
    "    f() = a\n",
    "    return f()\n",
    "end\n",
    "@code_warntype foo()"
   ]
  },
  {
   "cell_type": "code",
   "execution_count": 30,
   "metadata": {},
   "outputs": [
    {
     "name": "stdout",
     "output_type": "stream",
     "text": [
      "Variables\n",
      "  #self#\u001b[36m::Core.Const(f)\u001b[39m\n",
      "\n",
      "Body\u001b[36m::Int64\u001b[39m\n",
      "\u001b[90m1 ─\u001b[39m     return Main.my_const\n"
     ]
    }
   ],
   "source": [
    "const my_const = 3\n",
    "f() = my_const\n",
    "@code_warntype f()"
   ]
  },
  {
   "cell_type": "markdown",
   "metadata": {},
   "source": [
    "## Matrices and views"
   ]
  },
  {
   "cell_type": "code",
   "execution_count": 31,
   "metadata": {},
   "outputs": [
    {
     "name": "stdout",
     "output_type": "stream",
     "text": [
      "A = [3 5; 8 12]\n",
      "A = [1 5; 8 12]\n",
      "B = [1 5; 8 12]\n"
     ]
    },
    {
     "data": {
      "text/plain": [
       "2×2 Matrix{Int64}:\n",
       " 1   5\n",
       " 8  12"
      ]
     },
     "execution_count": 31,
     "metadata": {},
     "output_type": "execute_result"
    }
   ],
   "source": [
    "A = [3 5; 8 12]\n",
    "@show A\n",
    "B = A\n",
    "B[1, 1] = 1\n",
    "@show A\n",
    "@show B"
   ]
  },
  {
   "cell_type": "code",
   "execution_count": 36,
   "metadata": {},
   "outputs": [
    {
     "data": {
      "text/plain": [
       "BenchmarkTools.Trial: \n",
       "  memory estimate:  0 bytes\n",
       "  allocs estimate:  0\n",
       "  --------------\n",
       "  minimum time:     1.400 ns (0.00% GC)\n",
       "  median time:      1.400 ns (0.00% GC)\n",
       "  mean time:        1.500 ns (0.00% GC)\n",
       "  maximum time:     59.300 ns (0.00% GC)\n",
       "  --------------\n",
       "  samples:          10000\n",
       "  evals/sample:     1000"
      ]
     },
     "execution_count": 36,
     "metadata": {},
     "output_type": "execute_result"
    }
   ],
   "source": [
    "using BenchmarkTools\n",
    "A = randn(100, 100); # random 100x100 matrix with elements from N(0,1)\n",
    "@benchmark B = A # set the value of B to point to the same location as A"
   ]
  },
  {
   "cell_type": "code",
   "execution_count": 35,
   "metadata": {},
   "outputs": [
    {
     "name": "stdout",
     "output_type": "stream",
     "text": [
      "B[1, 1] = 0.16312268571920324\n",
      "A[1, 44] = 0.16312268571920324\n",
      "B[1, 1] = 55.0\n",
      "A[1, 44] = 0.16312268571920324\n"
     ]
    },
    {
     "data": {
      "text/plain": [
       "0.16312268571920324"
      ]
     },
     "execution_count": 35,
     "metadata": {},
     "output_type": "execute_result"
    }
   ],
   "source": [
    "B = A[1:2, 44:67]\n",
    "@show B[1, 1]\n",
    "@show A[1, 44]\n",
    "B[1, 1] = 55\n",
    "@show B[1, 1]\n",
    "@show A[1, 44]"
   ]
  },
  {
   "cell_type": "code",
   "execution_count": 38,
   "metadata": {},
   "outputs": [
    {
     "data": {
      "text/plain": [
       "BenchmarkTools.Trial: \n",
       "  memory estimate:  496 bytes\n",
       "  allocs estimate:  1\n",
       "  --------------\n",
       "  minimum time:     120.678 ns (0.00% GC)\n",
       "  median time:      149.289 ns (0.00% GC)\n",
       "  mean time:        202.459 ns (3.82% GC)\n",
       "  maximum time:     3.780 μs (87.17% GC)\n",
       "  --------------\n",
       "  samples:          10000\n",
       "  evals/sample:     914"
      ]
     },
     "execution_count": 38,
     "metadata": {},
     "output_type": "execute_result"
    }
   ],
   "source": [
    "@benchmark B = A[1:2, 44:67]"
   ]
  },
  {
   "cell_type": "markdown",
   "metadata": {},
   "source": [
    "If we want to operate on `A[1:2, 44:67]`, using `A[1:2, 44:67]` creates a copy of the indexed elements in `A`. To avoid expensive copying, we can use the convenient `@views` macro."
   ]
  },
  {
   "cell_type": "code",
   "execution_count": 40,
   "metadata": {},
   "outputs": [
    {
     "name": "stdout",
     "output_type": "stream",
     "text": [
      "B[1, 1] = -0.4352571634371558\n",
      "A[1, 44] = -0.4352571634371558\n",
      "B[1, 1] = 55.0\n",
      "A[1, 44] = 55.0\n"
     ]
    },
    {
     "data": {
      "text/plain": [
       "55.0"
      ]
     },
     "execution_count": 40,
     "metadata": {},
     "output_type": "execute_result"
    }
   ],
   "source": [
    "@views B = A[1:2, 44:67]\n",
    "@show B[1, 1]\n",
    "@show A[1, 44]\n",
    "B[1, 1] = 55\n",
    "@show B[1, 1]\n",
    "@show A[1, 44]"
   ]
  },
  {
   "cell_type": "markdown",
   "metadata": {},
   "source": [
    "### Operations on arrays"
   ]
  },
  {
   "cell_type": "code",
   "execution_count": 41,
   "metadata": {},
   "outputs": [
    {
     "data": {
      "text/plain": [
       "f (generic function with 2 methods)"
      ]
     },
     "execution_count": 41,
     "metadata": {},
     "output_type": "execute_result"
    }
   ],
   "source": [
    "f(x) = 2x"
   ]
  },
  {
   "cell_type": "code",
   "execution_count": 42,
   "metadata": {},
   "outputs": [],
   "source": [
    "using Random\n",
    "Random.seed!(1)\n",
    "n = 500\n",
    "my_vec = randn(n);"
   ]
  },
  {
   "cell_type": "code",
   "execution_count": 46,
   "metadata": {},
   "outputs": [
    {
     "data": {
      "text/plain": [
       "BenchmarkTools.Trial: \n",
       "  memory estimate:  4.06 KiB\n",
       "  allocs estimate:  1\n",
       "  --------------\n",
       "  minimum time:     390.090 ns (0.00% GC)\n",
       "  median time:      642.793 ns (0.00% GC)\n",
       "  mean time:        1.148 μs (21.48% GC)\n",
       "  maximum time:     44.353 μs (93.86% GC)\n",
       "  --------------\n",
       "  samples:          10000\n",
       "  evals/sample:     222"
      ]
     },
     "execution_count": 46,
     "metadata": {},
     "output_type": "execute_result"
    }
   ],
   "source": [
    "@benchmark vec2 = f(my_vec)"
   ]
  },
  {
   "cell_type": "code",
   "execution_count": 47,
   "metadata": {},
   "outputs": [
    {
     "data": {
      "text/plain": [
       "BenchmarkTools.Trial: \n",
       "  memory estimate:  4.12 KiB\n",
       "  allocs estimate:  4\n",
       "  --------------\n",
       "  minimum time:     675.862 ns (0.00% GC)\n",
       "  median time:      934.483 ns (0.00% GC)\n",
       "  mean time:        1.324 μs (16.42% GC)\n",
       "  maximum time:     50.381 μs (93.62% GC)\n",
       "  --------------\n",
       "  samples:          10000\n",
       "  evals/sample:     145"
      ]
     },
     "execution_count": 47,
     "metadata": {},
     "output_type": "execute_result"
    }
   ],
   "source": [
    "@benchmark vec2 = f.(my_vec)"
   ]
  },
  {
   "cell_type": "code",
   "execution_count": 45,
   "metadata": {},
   "outputs": [
    {
     "data": {
      "text/plain": [
       "BenchmarkTools.Trial: \n",
       "  memory estimate:  32 bytes\n",
       "  allocs estimate:  2\n",
       "  --------------\n",
       "  minimum time:     332.917 ns (0.00% GC)\n",
       "  median time:      372.917 ns (0.00% GC)\n",
       "  mean time:        442.257 ns (0.13% GC)\n",
       "  maximum time:     6.270 μs (93.49% GC)\n",
       "  --------------\n",
       "  samples:          10000\n",
       "  evals/sample:     240"
      ]
     },
     "execution_count": 45,
     "metadata": {},
     "output_type": "execute_result"
    }
   ],
   "source": [
    "@benchmark vec2 .= f.(my_vec)"
   ]
  },
  {
   "cell_type": "code",
   "execution_count": 48,
   "metadata": {},
   "outputs": [
    {
     "data": {
      "text/plain": [
       "BenchmarkTools.Trial: \n",
       "  memory estimate:  32 bytes\n",
       "  allocs estimate:  2\n",
       "  --------------\n",
       "  minimum time:     316.228 ns (0.00% GC)\n",
       "  median time:      348.684 ns (0.00% GC)\n",
       "  mean time:        383.807 ns (0.17% GC)\n",
       "  maximum time:     6.810 μs (93.73% GC)\n",
       "  --------------\n",
       "  samples:          10000\n",
       "  evals/sample:     228"
      ]
     },
     "execution_count": 48,
     "metadata": {},
     "output_type": "execute_result"
    }
   ],
   "source": [
    "@benchmark @. vec2 = f(my_vec)"
   ]
  },
  {
   "cell_type": "code",
   "execution_count": 49,
   "metadata": {},
   "outputs": [
    {
     "data": {
      "text/plain": [
       "BenchmarkTools.Trial: \n",
       "  memory estimate:  384 bytes\n",
       "  allocs estimate:  5\n",
       "  --------------\n",
       "  minimum time:     209.057 ns (0.00% GC)\n",
       "  median time:      235.472 ns (0.00% GC)\n",
       "  mean time:        307.554 ns (5.56% GC)\n",
       "  maximum time:     7.222 μs (95.20% GC)\n",
       "  --------------\n",
       "  samples:          10000\n",
       "  evals/sample:     530"
      ]
     },
     "execution_count": 49,
     "metadata": {},
     "output_type": "execute_result"
    }
   ],
   "source": [
    "(A, b, c, B_inv, pi, var_status, basic_idxs) = make_data(Float64)\n",
    "@benchmark find_entering_var(A, c, pi, var_status)"
   ]
  },
  {
   "cell_type": "code",
   "execution_count": 50,
   "metadata": {},
   "outputs": [
    {
     "data": {
      "text/plain": [
       "BenchmarkTools.Trial: \n",
       "  memory estimate:  0 bytes\n",
       "  allocs estimate:  0\n",
       "  --------------\n",
       "  minimum time:     58.410 ns (0.00% GC)\n",
       "  median time:      62.283 ns (0.00% GC)\n",
       "  mean time:        76.597 ns (0.00% GC)\n",
       "  maximum time:     303.262 ns (0.00% GC)\n",
       "  --------------\n",
       "  samples:          10000\n",
       "  evals/sample:     981"
      ]
     },
     "execution_count": 50,
     "metadata": {},
     "output_type": "execute_result"
    }
   ],
   "source": [
    "function find_entering_var2(A::Matrix{Float64}, c::Vector{Float64}, pi::Vector{Float64}, var_status::Vector{Int})\n",
    "    min_rc = 0.0\n",
    "    min_idx = 0\n",
    "    for k in eachindex(var_status)\n",
    "        # only check nonbasic variables\n",
    "        if iszero(var_status[k])\n",
    "            @views rc = c[k] - dot(A[:, k], pi)\n",
    "            if rc < min_rc\n",
    "                min_rc = rc\n",
    "                min_idx = k\n",
    "            end\n",
    "        end\n",
    "    end\n",
    "    return (min_rc, min_idx)\n",
    "end\n",
    "@benchmark find_entering_var2($A, $c, $pi, $var_status)"
   ]
  },
  {
   "cell_type": "code",
   "execution_count": null,
   "metadata": {},
   "outputs": [],
   "source": []
  }
 ],
 "metadata": {
  "kernelspec": {
   "display_name": "Julia 1.7.0-DEV",
   "language": "julia",
   "name": "julia-1.7"
  },
  "language_info": {
   "file_extension": ".jl",
   "mimetype": "application/julia",
   "name": "julia",
   "version": "1.7.0"
  }
 },
 "nbformat": 4,
 "nbformat_minor": 2
}
