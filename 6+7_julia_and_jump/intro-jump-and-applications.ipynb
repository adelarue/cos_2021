{
 "cells": [
  {
   "cell_type": "markdown",
   "metadata": {
    "slideshow": {
     "slide_type": "slide"
    }
   },
   "source": [
    "# Optimization with JuMP\n",
    "\n",
    "Optimization models play a central role in operations research. \n",
    "\n",
    "In this session, we will explore the basic functionalities of JuMP, a modeling language to define and solve optimization models in Julia.\n",
    "\n",
    "In the first part, we will introduce the basics of implementating optimization in JuMP.\n",
    "In the second part, we will demonstrate its application via a case study the process from modeling the problem, implementing with data, to running experiment analysis.\n",
    "\n",
    "<a href=\"https://github.com/JuliaOpt/JuMP.jl\"><img src=\"figures/jump.svg\" alt=\"Julia\" style=\"width: 500px;\"/></a>"
   ]
  },
  {
   "cell_type": "markdown",
   "metadata": {},
   "source": [
    "## Part I: Brief introduction"
   ]
  },
  {
   "cell_type": "markdown",
   "metadata": {
    "slideshow": {
     "slide_type": "subslide"
    }
   },
   "source": [
    "[JuMP.jl](https://github.com/JuliaOpt/JuMP.jl) is a high-level modeling language for mathematical optimization embedded in Julia. It currently supports \n",
    "- a number of open-source and commercial solvers (Artelys Knitro, BARON, Bonmin, Cbc, Clp, Couenne, CPLEX, ECOS, FICO Xpress, GLPK, Gurobi, Ipopt, MOSEK, NLopt, SCS) \n",
    "- for a variety of problem classes, including linear programming, (mixed) integer programming, second-order conic programming, semidefinite programming, and nonlinear programming."
   ]
  },
  {
   "cell_type": "markdown",
   "metadata": {
    "slideshow": {
     "slide_type": "subslide"
    }
   },
   "source": [
    "<a href=\"http://www.juliaopt.org\"><img src=\"figures/juliaopt.png\" alt=\"JuliaOpt\" style=\"width: 1000px;\"/></a>"
   ]
  },
  {
   "cell_type": "markdown",
   "metadata": {
    "slideshow": {
     "slide_type": "slide"
    }
   },
   "source": [
    "## A toy example\n",
    "\n",
    "Consider the following (small) problem:\n",
    "\n",
    "\\begin{align*}\n",
    "    \\max\\:& x + y + z_{11} + z_{12} + z_{13}  \\\\\n",
    "    \\text{s.t.}\\:& x + 2y \\leq 1.5 \\\\\n",
    "    & -y + z_{ij} \\leq 1, \\forall i \\in \\{1,2\\}, j \\in \\{1,2,3\\} \\\\\n",
    "     & z_{ij} \\geq 0, \\forall i \\in \\{1,2\\}, j \\in \\{1,2,3\\}\\\\\n",
    "    & x \\in \\{0,1\\}, y \\in \\mathbb{Z} \\\\\n",
    "\\end{align*}\n"
   ]
  },
  {
   "cell_type": "markdown",
   "metadata": {
    "slideshow": {
     "slide_type": "slide"
    }
   },
   "source": [
    "# Implementation in JuMP\n",
    "\n",
    "Let's solve our simple problem in JuMP."
   ]
  },
  {
   "cell_type": "code",
   "execution_count": 1,
   "metadata": {},
   "outputs": [
    {
     "name": "stdout",
     "output_type": "stream",
     "text": [
      "Academic license - for non-commercial use only\n",
      "Max x + y + z[1,1] + z[1,2] + z[1,3]\n",
      "Subject to\n",
      " x + 2 y ≤ 1.5\n",
      " -y + z[1,1] ≤ 1.0\n",
      " -y + z[2,1] ≤ 1.0\n",
      " -y + z[1,2] ≤ 1.0\n",
      " -y + z[2,2] ≤ 1.0\n",
      " -y + z[1,3] ≤ 1.0\n",
      " -y + z[2,3] ≤ 1.0\n",
      " z[1,1] ≥ 0.0\n",
      " z[2,1] ≥ 0.0\n",
      " z[1,2] ≥ 0.0\n",
      " z[2,2] ≥ 0.0\n",
      " z[1,3] ≥ 0.0\n",
      " z[2,3] ≥ 0.0\n",
      " y integer\n",
      " x binary\n"
     ]
    }
   ],
   "source": [
    "using JuMP, Gurobi\n",
    "m = Model(Gurobi.Optimizer)\n",
    "\n",
    "@variable(m, x, Bin)\n",
    "@variable(m, y, Int)\n",
    "@variable(m, z[1:2,1:3]>=0)\n",
    "\n",
    "@constraint(m, x + 2y <= 1.5)\n",
    "@constraint(m, z .-y .<= 1)\n",
    "\n",
    "@objective(m, Max, x + y + sum(z[1,:]))\n",
    "\n",
    "print(m)"
   ]
  },
  {
   "cell_type": "markdown",
   "metadata": {
    "slideshow": {
     "slide_type": "subslide"
    }
   },
   "source": [
    "and solve it"
   ]
  },
  {
   "cell_type": "code",
   "execution_count": 2,
   "metadata": {
    "slideshow": {
     "slide_type": "fragment"
    }
   },
   "outputs": [
    {
     "name": "stdout",
     "output_type": "stream",
     "text": [
      "Gurobi Optimizer version 9.0.1 build v9.0.1rc0 (mac64)\n",
      "Optimize a model with 7 rows, 8 columns and 14 nonzeros\n",
      "Model fingerprint: 0xd6cb8957\n",
      "Variable types: 6 continuous, 2 integer (1 binary)\n",
      "Coefficient statistics:\n",
      "  Matrix range     [1e+00, 2e+00]\n",
      "  Objective range  [1e+00, 1e+00]\n",
      "  Bounds range     [0e+00, 0e+00]\n",
      "  RHS range        [1e+00, 2e+00]\n",
      "Found heuristic solution: objective 4.0000000\n",
      "Presolve removed 7 rows and 8 columns\n",
      "Presolve time: 0.00s\n",
      "Presolve: All rows and columns removed\n",
      "\n",
      "Explored 0 nodes (0 simplex iterations) in 0.00 seconds\n",
      "Thread count was 1 (of 4 available processors)\n",
      "\n",
      "Solution count 1: 4 \n",
      "\n",
      "Optimal solution found (tolerance 1.00e-04)\n",
      "Best objective 4.000000000000e+00, best bound 4.000000000000e+00, gap 0.0000%\n",
      "\n",
      "User-callback calls 33, time in user-callback 0.00 sec\n"
     ]
    }
   ],
   "source": [
    "optimize!(m)"
   ]
  },
  {
   "cell_type": "code",
   "execution_count": 3,
   "metadata": {},
   "outputs": [
    {
     "data": {
      "text/plain": [
       "4.0"
      ]
     },
     "execution_count": 3,
     "metadata": {},
     "output_type": "execute_result"
    }
   ],
   "source": [
    "mio_obj = objective_value(m)                                                       \n"
   ]
  },
  {
   "cell_type": "code",
   "execution_count": 4,
   "metadata": {},
   "outputs": [
    {
     "data": {
      "text/plain": [
       "2×3 Array{Float64,2}:\n",
       " 1.0  1.0  1.0\n",
       " 0.0  0.0  0.0"
      ]
     },
     "execution_count": 4,
     "metadata": {},
     "output_type": "execute_result"
    }
   ],
   "source": [
    "z_val = value.(z)\n"
   ]
  },
  {
   "cell_type": "code",
   "execution_count": 5,
   "metadata": {},
   "outputs": [
    {
     "name": "stdout",
     "output_type": "stream",
     "text": [
      "1.0\n",
      "0.0\n",
      "0.0005650520324707031\n"
     ]
    }
   ],
   "source": [
    "println(value(x))\n",
    "println(value(y))\n",
    "println(solve_time(m))"
   ]
  },
  {
   "cell_type": "markdown",
   "metadata": {
    "slideshow": {
     "slide_type": "skip"
    }
   },
   "source": [
    "# Solver parameters: Should you bother?\n",
    "\n",
    "Gurobi (and other high-quality solvers) allow you to tweak a wide range of different parameters; _sometimes_ tuning these can drastically improve performance. It can be kind of intimidating, though: Gurobi has over 100 parameters, so which are the important ones?\n",
    "\n",
    "Some useful ones:\n",
    "\n",
    "* ``TimeLimit``: How long the solver will run before giving up.\n",
    "* ``NodeLimit``: How many nodes to explore before giving up.\n",
    "* ``MIPGap``: Termination criterion for relative gap $\\frac{UB-LB}{LB}$.\n",
    "* ``MIPFocus``: High-level controls on solver priority (proving optimality or increasing bound or finding optimal solution).\n",
    "* ``Heuristics``: Determines the amount of time spent in MIP heuristics.\n",
    "* ``Cuts``: Controls the aggressiveness of cut generation.\n",
    "* ``Presolve``: Controls the presolve level (conservative or aggressive).\n",
    "\n",
    "Is that it? Well, no, but you probably need domain knowledge about your problem to go much further. There's an alternative: Gurobi has a parameter tuning feature you can try to \"learn\" good parameter settings for a particular model. Try it out if you aren't quite happy with your performance."
   ]
  },
  {
   "cell_type": "markdown",
   "metadata": {},
   "source": [
    "## Where to get help\n",
    "- JuMP docs https://www.juliaopt.org/JuMP.jl/v0.20.0/\n",
    "- JuMP issues https://github.com/JuliaOpt/JuMP.jl/issues\n",
    "- JuMP tutorial notebooks package https://github.com/JuliaOpt/JuMPTutorials.jl\n",
    "- Discourse https://discourse.julialang.org/c/domain/opt\n",
    "- Julia slack channels https://app.slack.com/client/T68168MUP/C66NPKCQZ/thread/C681S52FQ-1577546443.051000 \n",
    "- JuMP style guide https://www.juliaopt.org/JuMP.jl/dev/style/\n",
    "- Examples in the JuMP Github repo https://github.com/JuliaOpt/JuMP.jl/tree/master/examples"
   ]
  },
  {
   "cell_type": "markdown",
   "metadata": {},
   "source": [
    "Acknowledgement: The material in part one is developed upon courses materials by Lea Kapelevich in 2020 and by Jean Pauphilet in 2019."
   ]
  },
  {
   "cell_type": "markdown",
   "metadata": {},
   "source": [
    "## Part II: Case study: a medical scheduling problem"
   ]
  },
  {
   "cell_type": "markdown",
   "metadata": {},
   "source": [
    "1. Model the optimization problem\n",
    "2. Load data and parameters\n",
    "3. Implement and solve the problem in JuMP\n",
    "4. Analyze model outputs"
   ]
  },
  {
   "cell_type": "markdown",
   "metadata": {},
   "source": [
    "## 1. Model the optimization problem:\n",
    "For each provider team, visit type (in-person/telehealth), session, and day for a month…\n",
    "\tschedule the number of (a) provider hours, (b)  patients scheduled, and (c) patients waitlisted \n",
    "    \n",
    "Maximize the total visits achieved in one month (28 days)\n",
    "\n",
    "Satisfy a set of scheduling constraints\n"
   ]
  },
  {
   "cell_type": "markdown",
   "metadata": {},
   "source": [
    "\n",
    "## Variables:\n",
    "\n",
    "$z_{qjid}$: number of provider hours of type $q$ assigned to visits of type $j$ on shift $i$ of day $d$\n",
    "\n",
    "$x_{qjid}$: number of patients scheduled to see providers of type $q$ for visits of type $j$ on shift $i$ of day $d$ \n",
    "\n",
    "$w_{qjid}$: number of patients waitlisted to see providers of type $q$ for visits of type $j$ on shift $i$ of day $d$ \n"
   ]
  },
  {
   "cell_type": "markdown",
   "metadata": {},
   "source": [
    "## Constraints:\n",
    "Variable range:\n",
    "  $x_{qjid}, w_{qjid} \\in \\mathbb{Z^+},z_{qjid}\\geq 0, \\quad \\forall q,j,i,d$\n",
    "\n",
    "Maximum visits per provider hour: \n",
    "$x_{qjid}  \\leq C_{q} \\cdot z_{qjid},\\quad \\forall q,j,i,d$\n",
    "\n",
    "Capacity for patient waitlist:\n",
    "$w \\leq x$\n",
    "\n",
    "Capacity through the main entrance: \n",
    "$\\sum\\limits_{q \\in [Q], j \\in J_{in-person}} x_{qjid}  \\leq C_{\\max},\\quad \\forall i,d$\n",
    "\n",
    "Max inperson visits in each team per session:\n",
    "$x_{qjid}  \\leq C_{inperson}^j,\\quad \\forall q,i,d, j \\in J_{in-person}$\n",
    "\n",
    "Visit types not eligible or available for providers:\n",
    "$z_{qjid} = 0, \\quad \\forall (q,j) \\in N_P, i \\in [I], d \\in [D]$\n",
    "\n",
    "Number of provider hours available for each shift:\n",
    "$\\sum\\limits_{j} z_{qjid}  \\leq (1-\\alpha_{q}) E_{qid} H_q, \\quad \\forall q, i,d$\n",
    "\n",
    "Bound on maximum number of providers' weekly working hours:\n",
    "$\\sum\\limits_{d \\in Dw_w, j \\in [J], i \\in [I]} z_{qjid} H_q \\leq \\overline{Tn_\\max^q}, \\quad \\forall q,w$\n",
    "\n",
    "Bound on maximum visits for each provider team per month:\n",
    "$\\sum\\limits_{d \\in [D], j \\in [J], i \\in [I]} z_{qjid} \\leq \\overline{Vn_\\max^q} , \\quad \\forall q$\n"
   ]
  },
  {
   "cell_type": "markdown",
   "metadata": {},
   "source": [
    "## Objective:\n",
    "$\\max \\quad \\sum\\limits_{q,j,i,d} \\min\\{x_{qjid}, (1-\\beta_{q}) x_{qjid} + (1-\\gamma_{q}) w_{qjid}\\}$"
   ]
  },
  {
   "cell_type": "markdown",
   "metadata": {},
   "source": [
    "## 2. Load data and parameters"
   ]
  },
  {
   "cell_type": "code",
   "execution_count": 6,
   "metadata": {},
   "outputs": [],
   "source": [
    "# using Pkg\n",
    "# Pkg.add(\"CSV\")\n",
    "# Pkg.add(\"DataFrames\")\n",
    "# Pkg.add(\"Plots\")\n",
    "# Pkg.add(\"Statistics\")\n",
    "using CSV\n",
    "using DataFrames\n",
    "using Plots\n",
    "#using Statistics"
   ]
  },
  {
   "cell_type": "code",
   "execution_count": 7,
   "metadata": {},
   "outputs": [
    {
     "data": {
      "text/plain": [
       "4-element Array{UnitRange{Int64},1}:\n",
       " 1:7\n",
       " 8:14\n",
       " 15:21\n",
       " 22:28"
      ]
     },
     "execution_count": 7,
     "metadata": {},
     "output_type": "execute_result"
    }
   ],
   "source": [
    "## sizes\n",
    "Q = 8  # provider teams\n",
    "J = 2 # visits types: inperson, remote\n",
    "D = 28 #days\n",
    "D_kend = [6,7,13,14,20,21,27,28] # set of weekend days\n",
    "I = 3 # morning, afternoon, evening shifts\n",
    "W = 4 # weeks\n",
    "Dw = [1:7,8:14,15:21,22:28] # days of each week"
   ]
  },
  {
   "cell_type": "code",
   "execution_count": 8,
   "metadata": {},
   "outputs": [],
   "source": [
    "# #generate data \n",
    "# using Random\n",
    "# Random.seed!(1)\n",
    "# Cq = 1.5 .+ rand(Q)\n",
    "# alpha = 0.05 .+ 0.05 .* rand(Q)\n",
    "# beta = 0.05 .+ 0.05 .* rand(Q)\n",
    "# gamma = 0.05 .+ 0.05 .* rand(Q)\n",
    "# C_inperson = 50 .+ 100 .* rand(Q)\n",
    "# Tn_max = 400 .+ 200 .* rand(Q)\n",
    "# Vn_max = 1000 .+ 200 .* rand(Q)\n",
    "# H = 3 .+ rand(Q)\n",
    "# data_byteam = hcat(1:Q,Cq,alpha,beta,gamma,C_inperson,Tn_max,Vn_max)\n",
    "# data_byteam = DataFrame(data_byteam)\n",
    "# CSV.write(\"data/data_byteam.csv\",data_byteam)"
   ]
  },
  {
   "cell_type": "code",
   "execution_count": 9,
   "metadata": {},
   "outputs": [
    {
     "data": {
      "text/html": [
       "<table class=\"data-frame\"><thead><tr><th></th><th>x1</th><th>x2</th><th>x3</th><th>x4</th><th>x5</th><th>x6</th><th>x7</th><th>x8</th></tr><tr><th></th><th>Float64</th><th>Float64</th><th>Float64</th><th>Float64</th><th>Float64</th><th>Float64</th><th>Float64</th><th>Float64</th></tr></thead><tbody><p>8 rows × 8 columns</p><tr><th>1</th><td>1.0</td><td>1.73603</td><td>0.0625831</td><td>0.062569</td><td>0.0875656</td><td>61.1981</td><td>474.194</td><td>1048.32</td></tr><tr><th>2</th><td>2.0</td><td>1.84652</td><td>0.0993333</td><td>0.0510187</td><td>0.0822442</td><td>147.631</td><td>578.833</td><td>1176.97</td></tr><tr><th>3</th><td>3.0</td><td>1.81271</td><td>0.0777876</td><td>0.0643851</td><td>0.0538913</td><td>55.1615</td><td>529.611</td><td>1088.18</td></tr><tr><th>4</th><td>4.0</td><td>1.50791</td><td>0.0718554</td><td>0.0929756</td><td>0.0924093</td><td>103.803</td><td>483.408</td><td>1080.93</td></tr><tr><th>5</th><td>5.0</td><td>1.98861</td><td>0.0712359</td><td>0.0538475</td><td>0.0542818</td><td>95.5692</td><td>428.913</td><td>1147.36</td></tr><tr><th>6</th><td>6.0</td><td>1.71097</td><td>0.0886612</td><td>0.0820198</td><td>0.0776603</td><td>77.9395</td><td>524.481</td><td>1190.76</td></tr><tr><th>7</th><td>7.0</td><td>2.45192</td><td>0.0640595</td><td>0.0936772</td><td>0.0731675</td><td>67.8246</td><td>574.467</td><td>1019.04</td></tr><tr><th>8</th><td>8.0</td><td>2.4999</td><td>0.0604736</td><td>0.0639291</td><td>0.0592911</td><td>104.898</td><td>504.995</td><td>1103.94</td></tr></tbody></table>"
      ],
      "text/latex": [
       "\\begin{tabular}{r|cccccccc}\n",
       "\t& x1 & x2 & x3 & x4 & x5 & x6 & x7 & x8\\\\\n",
       "\t\\hline\n",
       "\t& Float64 & Float64 & Float64 & Float64 & Float64 & Float64 & Float64 & Float64\\\\\n",
       "\t\\hline\n",
       "\t1 & 1.0 & 1.73603 & 0.0625831 & 0.062569 & 0.0875656 & 61.1981 & 474.194 & 1048.32 \\\\\n",
       "\t2 & 2.0 & 1.84652 & 0.0993333 & 0.0510187 & 0.0822442 & 147.631 & 578.833 & 1176.97 \\\\\n",
       "\t3 & 3.0 & 1.81271 & 0.0777876 & 0.0643851 & 0.0538913 & 55.1615 & 529.611 & 1088.18 \\\\\n",
       "\t4 & 4.0 & 1.50791 & 0.0718554 & 0.0929756 & 0.0924093 & 103.803 & 483.408 & 1080.93 \\\\\n",
       "\t5 & 5.0 & 1.98861 & 0.0712359 & 0.0538475 & 0.0542818 & 95.5692 & 428.913 & 1147.36 \\\\\n",
       "\t6 & 6.0 & 1.71097 & 0.0886612 & 0.0820198 & 0.0776603 & 77.9395 & 524.481 & 1190.76 \\\\\n",
       "\t7 & 7.0 & 2.45192 & 0.0640595 & 0.0936772 & 0.0731675 & 67.8246 & 574.467 & 1019.04 \\\\\n",
       "\t8 & 8.0 & 2.4999 & 0.0604736 & 0.0639291 & 0.0592911 & 104.898 & 504.995 & 1103.94 \\\\\n",
       "\\end{tabular}\n"
      ],
      "text/plain": [
       "\u001b[1m8×8 DataFrame\u001b[0m\n",
       "\u001b[1m Row \u001b[0m│\u001b[1m x1      \u001b[0m\u001b[1m x2      \u001b[0m\u001b[1m x3        \u001b[0m\u001b[1m x4        \u001b[0m\u001b[1m x5        \u001b[0m\u001b[1m x6       \u001b[0m\u001b[1m x7      \u001b[0m\u001b[1m x\u001b[0m ⋯\n",
       "\u001b[1m     \u001b[0m│\u001b[90m Float64 \u001b[0m\u001b[90m Float64 \u001b[0m\u001b[90m Float64   \u001b[0m\u001b[90m Float64   \u001b[0m\u001b[90m Float64   \u001b[0m\u001b[90m Float64  \u001b[0m\u001b[90m Float64 \u001b[0m\u001b[90m F\u001b[0m ⋯\n",
       "─────┼──────────────────────────────────────────────────────────────────────────\n",
       "   1 │     1.0  1.73603  0.0625831  0.062569   0.0875656   61.1981  474.194  1 ⋯\n",
       "   2 │     2.0  1.84652  0.0993333  0.0510187  0.0822442  147.631   578.833  1\n",
       "   3 │     3.0  1.81271  0.0777876  0.0643851  0.0538913   55.1615  529.611  1\n",
       "   4 │     4.0  1.50791  0.0718554  0.0929756  0.0924093  103.803   483.408  1\n",
       "   5 │     5.0  1.98861  0.0712359  0.0538475  0.0542818   95.5692  428.913  1 ⋯\n",
       "   6 │     6.0  1.71097  0.0886612  0.0820198  0.0776603   77.9395  524.481  1\n",
       "   7 │     7.0  2.45192  0.0640595  0.0936772  0.0731675   67.8246  574.467  1\n",
       "   8 │     8.0  2.4999   0.0604736  0.0639291  0.0592911  104.898   504.995  1\n",
       "\u001b[36m                                                                1 column omitted\u001b[0m"
      ]
     },
     "execution_count": 9,
     "metadata": {},
     "output_type": "execute_result"
    }
   ],
   "source": [
    "data = CSV.read(\"data/data_byteam.csv\",DataFrame)"
   ]
  },
  {
   "cell_type": "code",
   "execution_count": 10,
   "metadata": {},
   "outputs": [],
   "source": [
    "Cq = data[:,2] #Maximum visits per provider hour\n",
    "alpha = data[:,3] # provider cancellation rate\n",
    "beta = data[:,4] # patient no show rate\n",
    "gamma = data[:,5]# patient no show rate (for those waitlisted)\n",
    "C_inperson = data[:,6] # max inperson visits in each team per session \n",
    "Tn_max = data[:,7] # weekly working hours\n",
    "Vn_max = data[:,8]; # monthly max visits"
   ]
  },
  {
   "cell_type": "code",
   "execution_count": 11,
   "metadata": {},
   "outputs": [
    {
     "data": {
      "text/plain": [
       "8-element Array{Float64,1}:\n",
       " 3.5\n",
       " 3.5\n",
       " 3.5\n",
       " 3.5\n",
       " 3.5\n",
       " 3.5\n",
       " 3.5\n",
       " 3.5"
      ]
     },
     "execution_count": 11,
     "metadata": {},
     "output_type": "execute_result"
    }
   ],
   "source": [
    "E = 4 .* ones(Q,I,D);\n",
    "#E .+ rand(-1:4,Q,I,D)\n",
    "C_max = 40\n",
    "J_inperson = [1]  #set of appointment types j that are in-person\n",
    "wl_bool = false \n",
    "evening_bool = false #true \n",
    "weekend_bool = false #true \n",
    "H =3.5*ones(Q)"
   ]
  },
  {
   "cell_type": "markdown",
   "metadata": {},
   "source": [
    "## 3.Implement and solve the problem in JuMP"
   ]
  },
  {
   "cell_type": "code",
   "execution_count": 12,
   "metadata": {},
   "outputs": [
    {
     "data": {
      "text/plain": [
       "mio (generic function with 1 method)"
      ]
     },
     "execution_count": 12,
     "metadata": {},
     "output_type": "execute_result"
    }
   ],
   "source": [
    "miotol = 1e-2\n",
    "function mio(wl_bool,evening_bool,weekend_bool,Cq,alpha,beta,gamma,C_inperson,C_max,Tn_max,Vn_max,H,E)\n",
    "    m = Model(Gurobi.Optimizer)\n",
    "    set_optimizer_attribute(m, \"OutputFlag\", 0)\n",
    "    set_optimizer_attribute(m, \"MIPGap\", miotol)\n",
    "    @variable(m, z[1:Q,1:J,1:I,1:D] >= 0)\n",
    "    @variable(m, x[1:Q,1:J,1:I,1:D] >= 0,Int)\n",
    "    @variable(m, w[1:Q,1:J,1:I,1:D] >= 0,Int)\n",
    "\n",
    "    for i in 1:I, d in 1:D\n",
    "        @constraint(m,sum(x[q,j,i,d] for q in vcat(1:3,8) for j in J_inperson) <= C_max*3.5) # capacity main door\n",
    "        for q in 1:Q, j in 1:J                \n",
    "            @constraint(m,x[q,j,i,d] <= z[q,j,i,d] * Cq[q]) # Maximum visits per provider hour\n",
    "            @constraint(m,w[q,j,i,d] <= x[q,j,i,d]) # capacity for waitlist \n",
    "        end\n",
    "        for q in 1:Q\n",
    "            @constraint(m, sum(z[q,j,i,d] for j in 1:J) <= (1-alpha[q]) * E[q,i,d] * H[q]) # availability #\n",
    "            @constraint(m,x[q,1,i,d] <=C_inperson[q]) # max inperson visits in each team per session  \n",
    "        end\n",
    "    end                                                                                                                                \n",
    "    @constraint(m,z[8,2,:,:] .== 0)     # walk in center\n",
    "    @constraint(m,z[7,1,:,:] .== 0)     # telehealth                                              \n",
    "    for w in 1:W, q in 1:Q\n",
    "       @constraint(m, sum(z[q,j,i,d]*H[q] for j in 1:J for i in 1:I for d in Dw[w]) <= Tn_max[q]) # Bounds on total number of nurses’ weekly working hours:\n",
    "    end\n",
    "    for q in 1:Q                              \n",
    "        @constraint(m, sum(z[q,j,i,d] for j in 1:J for i in 1:I for d in 1:D) <= Vn_max[q]) # expected visits per month\n",
    "    end                                                            \n",
    "    # if no evening / weekend; if no waitlist : set to zero\n",
    "    if wl_bool == false\n",
    "        @constraint(m, w .== 0)\n",
    "    end \n",
    "    if evening_bool == false\n",
    "        @constraint(m, z[:,:,3,:] .== 0)\n",
    "    end \n",
    "    if weekend_bool == false\n",
    "        @constraint(m, z[:,:,:,D_kend] .== 0)\n",
    "    end \n",
    "    # objective\n",
    "    @variable(m,nvisits[1:Q,1:J,1:I,1:D] >= 0,Int)\n",
    "    for i in 1:I, j in 1:J, d in 1:D, q in 1:Q \n",
    "        @constraint(m, nvisits[q,j,i,d] <= x[q,j,i,d] ) # scheduled\n",
    "        @constraint(m, nvisits[q,j,i,d] <= ((1-beta[q])*x[q,j,i,d] + (1-gamma[q]) *w[q,j,i,d])) # patient show up \n",
    "    end\n",
    "    @objective(m,Max, sum(nvisits))\n",
    "    optimize!(m)\n",
    "    mio_obj = objective_value(m)                                                       \n",
    "    z_val = value.(z)\n",
    "    x_val = value.(x)\n",
    "    w_val = value.(w)\n",
    "    nvisits_val = value.(nvisits)\n",
    "    nvisit_obj = sum(nvisits_val) \n",
    "    soltime = solve_time(m)\n",
    "#     println(sum(z_val))\n",
    "#     println(sum(x_val))\n",
    "#     println(sum(w_val))\n",
    "    return mio_obj,nvisit_obj,z_val,x_val,w_val,nvisits_val,soltime\n",
    "end"
   ]
  },
  {
   "cell_type": "code",
   "execution_count": 13,
   "metadata": {},
   "outputs": [
    {
     "name": "stdout",
     "output_type": "stream",
     "text": [
      "Academic license - for non-commercial use only\n"
     ]
    },
    {
     "data": {
      "text/plain": [
       "7131.0"
      ]
     },
     "execution_count": 13,
     "metadata": {},
     "output_type": "execute_result"
    }
   ],
   "source": [
    "#Current scenario\n",
    "mio_obj,nvisit_obj_cur,z_val,x_val,w_val,nvisits_val,soltime = mio(wl_bool,evening_bool,weekend_bool,Cq,alpha,beta,gamma,C_inperson,C_max,Tn_max,Vn_max,H,E);\n",
    "nvisit_obj_cur"
   ]
  },
  {
   "cell_type": "markdown",
   "metadata": {},
   "source": [
    "## 4. Analyze model outputs"
   ]
  },
  {
   "cell_type": "code",
   "execution_count": 14,
   "metadata": {},
   "outputs": [
    {
     "data": {
      "text/plain": [
       "8×2 Array{Float64,2}:\n",
       "  800.0     0.0\n",
       "  840.0     0.0\n",
       "  840.0     0.0\n",
       "  680.0     0.0\n",
       "  293.0   598.0\n",
       "  760.0     0.0\n",
       "    0.0  1160.0\n",
       " 1160.0     0.0"
      ]
     },
     "execution_count": 14,
     "metadata": {},
     "output_type": "execute_result"
    }
   ],
   "source": [
    "nvisits_qj = zeros(Q,J)\n",
    "for q in 1:Q, j in 1:J\n",
    " nvisits_qj[q,j] = sum(nvisits_val[q,j,:,:])\n",
    "end\n",
    "nvisits_qj"
   ]
  },
  {
   "cell_type": "code",
   "execution_count": 15,
   "metadata": {},
   "outputs": [
    {
     "name": "stdout",
     "output_type": "stream",
     "text": [
      "Academic license - for non-commercial use only\n",
      "Academic license - for non-commercial use only\n",
      "Academic license - for non-commercial use only\n",
      "Academic license - for non-commercial use only\n",
      "Academic license - for non-commercial use only\n",
      "Academic license - for non-commercial use only\n",
      "Academic license - for non-commercial use only\n",
      "Academic license - for non-commercial use only\n",
      "Academic license - for non-commercial use only\n",
      "Academic license - for non-commercial use only\n",
      "Academic license - for non-commercial use only\n"
     ]
    },
    {
     "data": {
      "image/svg+xml": [
       "<?xml version=\"1.0\" encoding=\"utf-8\"?>\n",
       "<svg xmlns=\"http://www.w3.org/2000/svg\" xmlns:xlink=\"http://www.w3.org/1999/xlink\" width=\"600\" height=\"400\" viewBox=\"0 0 2400 1600\">\n",
       "<defs>\n",
       "  <clipPath id=\"clip140\">\n",
       "    <rect x=\"0\" y=\"0\" width=\"2400\" height=\"1600\"/>\n",
       "  </clipPath>\n",
       "</defs>\n",
       "<path clip-path=\"url(#clip140)\" d=\"\n",
       "M0 1600 L2400 1600 L2400 0 L0 0  Z\n",
       "  \" fill=\"#ffffff\" fill-rule=\"evenodd\" fill-opacity=\"1\"/>\n",
       "<defs>\n",
       "  <clipPath id=\"clip141\">\n",
       "    <rect x=\"480\" y=\"0\" width=\"1681\" height=\"1600\"/>\n",
       "  </clipPath>\n",
       "</defs>\n",
       "<path clip-path=\"url(#clip140)\" d=\"\n",
       "M251.88 1423.18 L2024.11 1423.18 L2024.11 47.2441 L251.88 47.2441  Z\n",
       "  \" fill=\"#ffffff\" fill-rule=\"evenodd\" fill-opacity=\"1\"/>\n",
       "<defs>\n",
       "  <clipPath id=\"clip142\">\n",
       "    <rect x=\"251\" y=\"47\" width=\"1773\" height=\"1377\"/>\n",
       "  </clipPath>\n",
       "</defs>\n",
       "<polyline clip-path=\"url(#clip142)\" style=\"stroke:#000000; stroke-width:2; stroke-opacity:0.1; fill:none\" points=\"\n",
       "  469.229,1423.18 469.229,47.2441 \n",
       "  \"/>\n",
       "<polyline clip-path=\"url(#clip142)\" style=\"stroke:#000000; stroke-width:2; stroke-opacity:0.1; fill:none\" points=\"\n",
       "  803.612,1423.18 803.612,47.2441 \n",
       "  \"/>\n",
       "<polyline clip-path=\"url(#clip142)\" style=\"stroke:#000000; stroke-width:2; stroke-opacity:0.1; fill:none\" points=\"\n",
       "  1138,1423.18 1138,47.2441 \n",
       "  \"/>\n",
       "<polyline clip-path=\"url(#clip142)\" style=\"stroke:#000000; stroke-width:2; stroke-opacity:0.1; fill:none\" points=\"\n",
       "  1472.38,1423.18 1472.38,47.2441 \n",
       "  \"/>\n",
       "<polyline clip-path=\"url(#clip142)\" style=\"stroke:#000000; stroke-width:2; stroke-opacity:0.1; fill:none\" points=\"\n",
       "  1806.76,1423.18 1806.76,47.2441 \n",
       "  \"/>\n",
       "<polyline clip-path=\"url(#clip140)\" style=\"stroke:#000000; stroke-width:4; stroke-opacity:1; fill:none\" points=\"\n",
       "  251.88,1423.18 2024.11,1423.18 \n",
       "  \"/>\n",
       "<polyline clip-path=\"url(#clip140)\" style=\"stroke:#000000; stroke-width:4; stroke-opacity:1; fill:none\" points=\"\n",
       "  469.229,1423.18 469.229,1406.67 \n",
       "  \"/>\n",
       "<polyline clip-path=\"url(#clip140)\" style=\"stroke:#000000; stroke-width:4; stroke-opacity:1; fill:none\" points=\"\n",
       "  803.612,1423.18 803.612,1406.67 \n",
       "  \"/>\n",
       "<polyline clip-path=\"url(#clip140)\" style=\"stroke:#000000; stroke-width:4; stroke-opacity:1; fill:none\" points=\"\n",
       "  1138,1423.18 1138,1406.67 \n",
       "  \"/>\n",
       "<polyline clip-path=\"url(#clip140)\" style=\"stroke:#000000; stroke-width:4; stroke-opacity:1; fill:none\" points=\"\n",
       "  1472.38,1423.18 1472.38,1406.67 \n",
       "  \"/>\n",
       "<polyline clip-path=\"url(#clip140)\" style=\"stroke:#000000; stroke-width:4; stroke-opacity:1; fill:none\" points=\"\n",
       "  1806.76,1423.18 1806.76,1406.67 \n",
       "  \"/>\n",
       "<path clip-path=\"url(#clip140)\" d=\"M 0 0 M456.127 1464.71 Q452.979 1464.71 451.127 1466.86 Q449.299 1469.01 449.299 1472.76 Q449.299 1476.49 451.127 1478.67 Q452.979 1480.82 456.127 1480.82 Q459.275 1480.82 461.104 1478.67 Q462.956 1476.49 462.956 1472.76 Q462.956 1469.01 461.104 1466.86 Q459.275 1464.71 456.127 1464.71 M465.41 1450.06 L465.41 1454.31 Q463.65 1453.48 461.845 1453.04 Q460.062 1452.6 458.303 1452.6 Q453.674 1452.6 451.22 1455.73 Q448.789 1458.85 448.442 1465.17 Q449.808 1463.16 451.868 1462.09 Q453.928 1461 456.405 1461 Q461.613 1461 464.623 1464.18 Q467.655 1467.32 467.655 1472.76 Q467.655 1478.09 464.507 1481.31 Q461.359 1484.52 456.127 1484.52 Q450.132 1484.52 446.961 1479.94 Q443.789 1475.33 443.789 1466.61 Q443.789 1458.41 447.678 1453.55 Q451.567 1448.67 458.118 1448.67 Q459.877 1448.67 461.66 1449.01 Q463.465 1449.36 465.41 1450.06 Z\" fill=\"#000000\" fill-rule=\"evenodd\" fill-opacity=\"1\" /><path clip-path=\"url(#clip140)\" d=\"M 0 0 M482.724 1452.37 Q479.113 1452.37 477.285 1455.94 Q475.479 1459.48 475.479 1466.61 Q475.479 1473.71 477.285 1477.28 Q479.113 1480.82 482.724 1480.82 Q486.359 1480.82 488.164 1477.28 Q489.993 1473.71 489.993 1466.61 Q489.993 1459.48 488.164 1455.94 Q486.359 1452.37 482.724 1452.37 M482.724 1448.67 Q488.535 1448.67 491.59 1453.27 Q494.669 1457.86 494.669 1466.61 Q494.669 1475.33 491.59 1479.94 Q488.535 1484.52 482.724 1484.52 Q476.914 1484.52 473.836 1479.94 Q470.78 1475.33 470.78 1466.61 Q470.78 1457.86 473.836 1453.27 Q476.914 1448.67 482.724 1448.67 Z\" fill=\"#000000\" fill-rule=\"evenodd\" fill-opacity=\"1\" /><path clip-path=\"url(#clip140)\" d=\"M 0 0 M790.105 1467.44 Q786.772 1467.44 784.851 1469.22 Q782.953 1471 782.953 1474.13 Q782.953 1477.25 784.851 1479.04 Q786.772 1480.82 790.105 1480.82 Q793.439 1480.82 795.36 1479.04 Q797.281 1477.23 797.281 1474.13 Q797.281 1471 795.36 1469.22 Q793.462 1467.44 790.105 1467.44 M785.43 1465.45 Q782.42 1464.71 780.73 1462.65 Q779.064 1460.59 779.064 1457.63 Q779.064 1453.48 782.004 1451.07 Q784.967 1448.67 790.105 1448.67 Q795.267 1448.67 798.207 1451.07 Q801.147 1453.48 801.147 1457.63 Q801.147 1460.59 799.457 1462.65 Q797.791 1464.71 794.804 1465.45 Q798.184 1466.24 800.059 1468.53 Q801.957 1470.82 801.957 1474.13 Q801.957 1479.15 798.879 1481.84 Q795.823 1484.52 790.105 1484.52 Q784.388 1484.52 781.309 1481.84 Q778.254 1479.15 778.254 1474.13 Q778.254 1470.82 780.152 1468.53 Q782.05 1466.24 785.43 1465.45 M783.717 1458.06 Q783.717 1460.75 785.383 1462.25 Q787.073 1463.76 790.105 1463.76 Q793.115 1463.76 794.804 1462.25 Q796.517 1460.75 796.517 1458.06 Q796.517 1455.38 794.804 1453.88 Q793.115 1452.37 790.105 1452.37 Q787.073 1452.37 785.383 1453.88 Q783.717 1455.38 783.717 1458.06 Z\" fill=\"#000000\" fill-rule=\"evenodd\" fill-opacity=\"1\" /><path clip-path=\"url(#clip140)\" d=\"M 0 0 M817.027 1452.37 Q813.415 1452.37 811.587 1455.94 Q809.781 1459.48 809.781 1466.61 Q809.781 1473.71 811.587 1477.28 Q813.415 1480.82 817.027 1480.82 Q820.661 1480.82 822.466 1477.28 Q824.295 1473.71 824.295 1466.61 Q824.295 1459.48 822.466 1455.94 Q820.661 1452.37 817.027 1452.37 M817.027 1448.67 Q822.837 1448.67 825.892 1453.27 Q828.971 1457.86 828.971 1466.61 Q828.971 1475.33 825.892 1479.94 Q822.837 1484.52 817.027 1484.52 Q811.216 1484.52 808.138 1479.94 Q805.082 1475.33 805.082 1466.61 Q805.082 1457.86 808.138 1453.27 Q811.216 1448.67 817.027 1448.67 Z\" fill=\"#000000\" fill-rule=\"evenodd\" fill-opacity=\"1\" /><path clip-path=\"url(#clip140)\" d=\"M 0 0 M1101.36 1479.92 L1109 1479.92 L1109 1453.55 L1100.69 1455.22 L1100.69 1450.96 L1108.96 1449.29 L1113.63 1449.29 L1113.63 1479.92 L1121.27 1479.92 L1121.27 1483.85 L1101.36 1483.85 L1101.36 1479.92 Z\" fill=\"#000000\" fill-rule=\"evenodd\" fill-opacity=\"1\" /><path clip-path=\"url(#clip140)\" d=\"M 0 0 M1136.34 1452.37 Q1132.73 1452.37 1130.9 1455.94 Q1129.1 1459.48 1129.1 1466.61 Q1129.1 1473.71 1130.9 1477.28 Q1132.73 1480.82 1136.34 1480.82 Q1139.97 1480.82 1141.78 1477.28 Q1143.61 1473.71 1143.61 1466.61 Q1143.61 1459.48 1141.78 1455.94 Q1139.97 1452.37 1136.34 1452.37 M1136.34 1448.67 Q1142.15 1448.67 1145.21 1453.27 Q1148.28 1457.86 1148.28 1466.61 Q1148.28 1475.33 1145.21 1479.94 Q1142.15 1484.52 1136.34 1484.52 Q1130.53 1484.52 1127.45 1479.94 Q1124.4 1475.33 1124.4 1466.61 Q1124.4 1457.86 1127.45 1453.27 Q1130.53 1448.67 1136.34 1448.67 Z\" fill=\"#000000\" fill-rule=\"evenodd\" fill-opacity=\"1\" /><path clip-path=\"url(#clip140)\" d=\"M 0 0 M1163.35 1452.37 Q1159.74 1452.37 1157.91 1455.94 Q1156.11 1459.48 1156.11 1466.61 Q1156.11 1473.71 1157.91 1477.28 Q1159.74 1480.82 1163.35 1480.82 Q1166.99 1480.82 1168.79 1477.28 Q1170.62 1473.71 1170.62 1466.61 Q1170.62 1459.48 1168.79 1455.94 Q1166.99 1452.37 1163.35 1452.37 M1163.35 1448.67 Q1169.16 1448.67 1172.22 1453.27 Q1175.3 1457.86 1175.3 1466.61 Q1175.3 1475.33 1172.22 1479.94 Q1169.16 1484.52 1163.35 1484.52 Q1157.54 1484.52 1154.47 1479.94 Q1151.41 1475.33 1151.41 1466.61 Q1151.41 1457.86 1154.47 1453.27 Q1157.54 1448.67 1163.35 1448.67 Z\" fill=\"#000000\" fill-rule=\"evenodd\" fill-opacity=\"1\" /><path clip-path=\"url(#clip140)\" d=\"M 0 0 M1436.55 1479.92 L1444.18 1479.92 L1444.18 1453.55 L1435.87 1455.22 L1435.87 1450.96 L1444.14 1449.29 L1448.81 1449.29 L1448.81 1479.92 L1456.45 1479.92 L1456.45 1483.85 L1436.55 1483.85 L1436.55 1479.92 Z\" fill=\"#000000\" fill-rule=\"evenodd\" fill-opacity=\"1\" /><path clip-path=\"url(#clip140)\" d=\"M 0 0 M1465.55 1479.92 L1481.87 1479.92 L1481.87 1483.85 L1459.93 1483.85 L1459.93 1479.92 Q1462.59 1477.16 1467.17 1472.53 Q1471.78 1467.88 1472.96 1466.54 Q1475.2 1464.01 1476.08 1462.28 Q1476.99 1460.52 1476.99 1458.83 Q1476.99 1456.07 1475.04 1454.34 Q1473.12 1452.6 1470.02 1452.6 Q1467.82 1452.6 1465.36 1453.37 Q1462.93 1454.13 1460.16 1455.68 L1460.16 1450.96 Q1462.98 1449.82 1465.43 1449.25 Q1467.89 1448.67 1469.93 1448.67 Q1475.3 1448.67 1478.49 1451.35 Q1481.68 1454.04 1481.68 1458.53 Q1481.68 1460.66 1480.87 1462.58 Q1480.09 1464.48 1477.98 1467.07 Q1477.4 1467.74 1474.3 1470.96 Q1471.2 1474.15 1465.55 1479.92 Z\" fill=\"#000000\" fill-rule=\"evenodd\" fill-opacity=\"1\" /><path clip-path=\"url(#clip140)\" d=\"M 0 0 M1496.94 1452.37 Q1493.33 1452.37 1491.5 1455.94 Q1489.69 1459.48 1489.69 1466.61 Q1489.69 1473.71 1491.5 1477.28 Q1493.33 1480.82 1496.94 1480.82 Q1500.57 1480.82 1502.38 1477.28 Q1504.21 1473.71 1504.21 1466.61 Q1504.21 1459.48 1502.38 1455.94 Q1500.57 1452.37 1496.94 1452.37 M1496.94 1448.67 Q1502.75 1448.67 1505.8 1453.27 Q1508.88 1457.86 1508.88 1466.61 Q1508.88 1475.33 1505.8 1479.94 Q1502.75 1484.52 1496.94 1484.52 Q1491.13 1484.52 1488.05 1479.94 Q1484.99 1475.33 1484.99 1466.61 Q1484.99 1457.86 1488.05 1453.27 Q1491.13 1448.67 1496.94 1448.67 Z\" fill=\"#000000\" fill-rule=\"evenodd\" fill-opacity=\"1\" /><path clip-path=\"url(#clip140)\" d=\"M 0 0 M1769.89 1479.92 L1777.53 1479.92 L1777.53 1453.55 L1769.22 1455.22 L1769.22 1450.96 L1777.48 1449.29 L1782.16 1449.29 L1782.16 1479.92 L1789.79 1479.92 L1789.79 1483.85 L1769.89 1483.85 L1769.89 1479.92 Z\" fill=\"#000000\" fill-rule=\"evenodd\" fill-opacity=\"1\" /><path clip-path=\"url(#clip140)\" d=\"M 0 0 M1807.71 1453.37 L1795.91 1471.81 L1807.71 1471.81 L1807.71 1453.37 M1806.48 1449.29 L1812.36 1449.29 L1812.36 1471.81 L1817.29 1471.81 L1817.29 1475.7 L1812.36 1475.7 L1812.36 1483.85 L1807.71 1483.85 L1807.71 1475.7 L1792.11 1475.7 L1792.11 1471.19 L1806.48 1449.29 Z\" fill=\"#000000\" fill-rule=\"evenodd\" fill-opacity=\"1\" /><path clip-path=\"url(#clip140)\" d=\"M 0 0 M1832.36 1452.37 Q1828.75 1452.37 1826.92 1455.94 Q1825.12 1459.48 1825.12 1466.61 Q1825.12 1473.71 1826.92 1477.28 Q1828.75 1480.82 1832.36 1480.82 Q1836 1480.82 1837.8 1477.28 Q1839.63 1473.71 1839.63 1466.61 Q1839.63 1459.48 1837.8 1455.94 Q1836 1452.37 1832.36 1452.37 M1832.36 1448.67 Q1838.17 1448.67 1841.23 1453.27 Q1844.31 1457.86 1844.31 1466.61 Q1844.31 1475.33 1841.23 1479.94 Q1838.17 1484.52 1832.36 1484.52 Q1826.55 1484.52 1823.47 1479.94 Q1820.42 1475.33 1820.42 1466.61 Q1820.42 1457.86 1823.47 1453.27 Q1826.55 1448.67 1832.36 1448.67 Z\" fill=\"#000000\" fill-rule=\"evenodd\" fill-opacity=\"1\" /><path clip-path=\"url(#clip140)\" d=\"M 0 0 M438.786 1513.81 L438.786 1531.66 L446.871 1531.66 Q451.359 1531.66 453.809 1529.34 Q456.26 1527.02 456.26 1522.72 Q456.26 1518.45 453.809 1516.13 Q451.359 1513.81 446.871 1513.81 L438.786 1513.81 M432.357 1508.52 L446.871 1508.52 Q454.86 1508.52 458.934 1512.15 Q463.04 1515.75 463.04 1522.72 Q463.04 1529.75 458.934 1533.35 Q454.86 1536.95 446.871 1536.95 L438.786 1536.95 L438.786 1556.04 L432.357 1556.04 L432.357 1508.52 Z\" fill=\"#000000\" fill-rule=\"evenodd\" fill-opacity=\"1\" /><path clip-path=\"url(#clip140)\" d=\"M 0 0 M488.693 1525.87 Q487.707 1525.3 486.529 1525.04 Q485.383 1524.76 483.983 1524.76 Q479.018 1524.76 476.344 1528 Q473.702 1531.22 473.702 1537.27 L473.702 1556.04 L467.814 1556.04 L467.814 1520.4 L473.702 1520.4 L473.702 1525.93 Q475.548 1522.69 478.508 1521.13 Q481.468 1519.54 485.702 1519.54 Q486.306 1519.54 487.038 1519.63 Q487.77 1519.7 488.662 1519.85 L488.693 1525.87 Z\" fill=\"#000000\" fill-rule=\"evenodd\" fill-opacity=\"1\" /><path clip-path=\"url(#clip140)\" d=\"M 0 0 M507.218 1524.5 Q502.507 1524.5 499.77 1528.19 Q497.032 1531.85 497.032 1538.25 Q497.032 1544.65 499.738 1548.34 Q502.475 1552 507.218 1552 Q511.896 1552 514.634 1548.31 Q517.371 1544.62 517.371 1538.25 Q517.371 1531.92 514.634 1528.23 Q511.896 1524.5 507.218 1524.5 M507.218 1519.54 Q514.856 1519.54 519.217 1524.5 Q523.577 1529.47 523.577 1538.25 Q523.577 1547 519.217 1552 Q514.856 1556.97 507.218 1556.97 Q499.547 1556.97 495.186 1552 Q490.858 1547 490.858 1538.25 Q490.858 1529.47 495.186 1524.5 Q499.547 1519.54 507.218 1519.54 Z\" fill=\"#000000\" fill-rule=\"evenodd\" fill-opacity=\"1\" /><path clip-path=\"url(#clip140)\" d=\"M 0 0 M525.519 1520.4 L531.726 1520.4 L542.866 1550.31 L554.006 1520.4 L560.212 1520.4 L546.844 1556.04 L538.887 1556.04 L525.519 1520.4 Z\" fill=\"#000000\" fill-rule=\"evenodd\" fill-opacity=\"1\" /><path clip-path=\"url(#clip140)\" d=\"M 0 0 M566.355 1520.4 L572.211 1520.4 L572.211 1556.04 L566.355 1556.04 L566.355 1520.4 M566.355 1506.52 L572.211 1506.52 L572.211 1513.93 L566.355 1513.93 L566.355 1506.52 Z\" fill=\"#000000\" fill-rule=\"evenodd\" fill-opacity=\"1\" /><path clip-path=\"url(#clip140)\" d=\"M 0 0 M601.812 1525.81 L601.812 1506.52 L607.668 1506.52 L607.668 1556.04 L601.812 1556.04 L601.812 1550.7 Q599.966 1553.88 597.133 1555.44 Q594.332 1556.97 590.386 1556.97 Q583.924 1556.97 579.85 1551.81 Q575.808 1546.65 575.808 1538.25 Q575.808 1529.85 579.85 1524.69 Q583.924 1519.54 590.386 1519.54 Q594.332 1519.54 597.133 1521.1 Q599.966 1522.62 601.812 1525.81 M581.856 1538.25 Q581.856 1544.71 584.497 1548.4 Q587.171 1552.07 591.818 1552.07 Q596.465 1552.07 599.138 1548.4 Q601.812 1544.71 601.812 1538.25 Q601.812 1531.79 599.138 1528.13 Q596.465 1524.44 591.818 1524.44 Q587.171 1524.44 584.497 1528.13 Q581.856 1531.79 581.856 1538.25 Z\" fill=\"#000000\" fill-rule=\"evenodd\" fill-opacity=\"1\" /><path clip-path=\"url(#clip140)\" d=\"M 0 0 M644.303 1536.76 L644.303 1539.62 L617.376 1539.62 Q617.758 1545.67 621.005 1548.85 Q624.283 1552 630.108 1552 Q633.481 1552 636.632 1551.17 Q639.815 1550.35 642.934 1548.69 L642.934 1554.23 Q639.783 1555.57 636.473 1556.27 Q633.163 1556.97 629.757 1556.97 Q621.227 1556.97 616.23 1552 Q611.265 1547.04 611.265 1538.57 Q611.265 1529.82 615.976 1524.69 Q620.718 1519.54 628.739 1519.54 Q635.932 1519.54 640.102 1524.18 Q644.303 1528.8 644.303 1536.76 M638.447 1535.04 Q638.383 1530.23 635.741 1527.37 Q633.131 1524.5 628.803 1524.5 Q623.901 1524.5 620.941 1527.27 Q618.013 1530.04 617.567 1535.07 L638.447 1535.04 Z\" fill=\"#000000\" fill-rule=\"evenodd\" fill-opacity=\"1\" /><path clip-path=\"url(#clip140)\" d=\"M 0 0 M671.103 1525.87 Q670.116 1525.3 668.938 1525.04 Q667.793 1524.76 666.392 1524.76 Q661.427 1524.76 658.753 1528 Q656.111 1531.22 656.111 1537.27 L656.111 1556.04 L650.223 1556.04 L650.223 1520.4 L656.111 1520.4 L656.111 1525.93 Q657.958 1522.69 660.918 1521.13 Q663.878 1519.54 668.111 1519.54 Q668.716 1519.54 669.448 1519.63 Q670.18 1519.7 671.071 1519.85 L671.103 1525.87 Z\" fill=\"#000000\" fill-rule=\"evenodd\" fill-opacity=\"1\" /><path clip-path=\"url(#clip140)\" d=\"M 0 0 M723.62 1521.76 L723.62 1527.24 Q721.137 1525.87 718.623 1525.2 Q716.14 1524.5 713.594 1524.5 Q707.897 1524.5 704.745 1528.13 Q701.594 1531.73 701.594 1538.25 Q701.594 1544.78 704.745 1548.4 Q707.897 1552 713.594 1552 Q716.14 1552 718.623 1551.33 Q721.137 1550.63 723.62 1549.26 L723.62 1554.68 Q721.169 1555.82 718.527 1556.39 Q715.917 1556.97 712.957 1556.97 Q704.905 1556.97 700.162 1551.91 Q695.42 1546.85 695.42 1538.25 Q695.42 1529.53 700.194 1524.53 Q705 1519.54 713.339 1519.54 Q716.045 1519.54 718.623 1520.11 Q721.201 1520.65 723.62 1521.76 Z\" fill=\"#000000\" fill-rule=\"evenodd\" fill-opacity=\"1\" /><path clip-path=\"url(#clip140)\" d=\"M 0 0 M745.963 1538.12 Q738.866 1538.12 736.128 1539.75 Q733.391 1541.37 733.391 1545.29 Q733.391 1548.4 735.428 1550.25 Q737.497 1552.07 741.03 1552.07 Q745.9 1552.07 748.828 1548.63 Q751.788 1545.16 751.788 1539.43 L751.788 1538.12 L745.963 1538.12 M757.645 1535.71 L757.645 1556.04 L751.788 1556.04 L751.788 1550.63 Q749.783 1553.88 746.791 1555.44 Q743.799 1556.97 739.47 1556.97 Q733.996 1556.97 730.749 1553.91 Q727.535 1550.82 727.535 1545.67 Q727.535 1539.65 731.545 1536.6 Q735.587 1533.54 743.576 1533.54 L751.788 1533.54 L751.788 1532.97 Q751.788 1528.93 749.114 1526.73 Q746.473 1524.5 741.667 1524.5 Q738.611 1524.5 735.715 1525.23 Q732.818 1525.97 730.145 1527.43 L730.145 1522.02 Q733.359 1520.78 736.383 1520.17 Q739.407 1519.54 742.271 1519.54 Q750.006 1519.54 753.825 1523.55 Q757.645 1527.56 757.645 1535.71 Z\" fill=\"#000000\" fill-rule=\"evenodd\" fill-opacity=\"1\" /><path clip-path=\"url(#clip140)\" d=\"M 0 0 M793.42 1534.53 L793.42 1556.04 L787.563 1556.04 L787.563 1534.72 Q787.563 1529.66 785.59 1527.14 Q783.617 1524.63 779.67 1524.63 Q774.927 1524.63 772.19 1527.65 Q769.453 1530.68 769.453 1535.9 L769.453 1556.04 L763.565 1556.04 L763.565 1520.4 L769.453 1520.4 L769.453 1525.93 Q771.554 1522.72 774.386 1521.13 Q777.251 1519.54 780.975 1519.54 Q787.118 1519.54 790.269 1523.36 Q793.42 1527.14 793.42 1534.53 Z\" fill=\"#000000\" fill-rule=\"evenodd\" fill-opacity=\"1\" /><path clip-path=\"url(#clip140)\" d=\"M 0 0 M825.216 1521.76 L825.216 1527.24 Q822.734 1525.87 820.219 1525.2 Q817.737 1524.5 815.191 1524.5 Q809.493 1524.5 806.342 1528.13 Q803.191 1531.73 803.191 1538.25 Q803.191 1544.78 806.342 1548.4 Q809.493 1552 815.191 1552 Q817.737 1552 820.219 1551.33 Q822.734 1550.63 825.216 1549.26 L825.216 1554.68 Q822.766 1555.82 820.124 1556.39 Q817.514 1556.97 814.554 1556.97 Q806.501 1556.97 801.759 1551.91 Q797.016 1546.85 797.016 1538.25 Q797.016 1529.53 801.791 1524.53 Q806.597 1519.54 814.936 1519.54 Q817.641 1519.54 820.219 1520.11 Q822.798 1520.65 825.216 1521.76 Z\" fill=\"#000000\" fill-rule=\"evenodd\" fill-opacity=\"1\" /><path clip-path=\"url(#clip140)\" d=\"M 0 0 M861.851 1536.76 L861.851 1539.62 L834.924 1539.62 Q835.306 1545.67 838.553 1548.85 Q841.831 1552 847.656 1552 Q851.029 1552 854.18 1551.17 Q857.363 1550.35 860.483 1548.69 L860.483 1554.23 Q857.331 1555.57 854.021 1556.27 Q850.711 1556.97 847.305 1556.97 Q838.775 1556.97 833.778 1552 Q828.813 1547.04 828.813 1538.57 Q828.813 1529.82 833.524 1524.69 Q838.266 1519.54 846.287 1519.54 Q853.48 1519.54 857.65 1524.18 Q861.851 1528.8 861.851 1536.76 M855.995 1535.04 Q855.931 1530.23 853.289 1527.37 Q850.679 1524.5 846.351 1524.5 Q841.449 1524.5 838.489 1527.27 Q835.561 1530.04 835.115 1535.07 L855.995 1535.04 Z\" fill=\"#000000\" fill-rule=\"evenodd\" fill-opacity=\"1\" /><path clip-path=\"url(#clip140)\" d=\"M 0 0 M867.994 1506.52 L873.85 1506.52 L873.85 1556.04 L867.994 1556.04 L867.994 1506.52 Z\" fill=\"#000000\" fill-rule=\"evenodd\" fill-opacity=\"1\" /><path clip-path=\"url(#clip140)\" d=\"M 0 0 M879.993 1506.52 L885.85 1506.52 L885.85 1556.04 L879.993 1556.04 L879.993 1506.52 Z\" fill=\"#000000\" fill-rule=\"evenodd\" fill-opacity=\"1\" /><path clip-path=\"url(#clip140)\" d=\"M 0 0 M908.193 1538.12 Q901.096 1538.12 898.358 1539.75 Q895.621 1541.37 895.621 1545.29 Q895.621 1548.4 897.658 1550.25 Q899.727 1552.07 903.26 1552.07 Q908.13 1552.07 911.058 1548.63 Q914.018 1545.16 914.018 1539.43 L914.018 1538.12 L908.193 1538.12 M919.875 1535.71 L919.875 1556.04 L914.018 1556.04 L914.018 1550.63 Q912.013 1553.88 909.021 1555.44 Q906.029 1556.97 901.7 1556.97 Q896.226 1556.97 892.979 1553.91 Q889.765 1550.82 889.765 1545.67 Q889.765 1539.65 893.775 1536.6 Q897.817 1533.54 905.806 1533.54 L914.018 1533.54 L914.018 1532.97 Q914.018 1528.93 911.345 1526.73 Q908.703 1524.5 903.897 1524.5 Q900.841 1524.5 897.945 1525.23 Q895.048 1525.97 892.375 1527.43 L892.375 1522.02 Q895.589 1520.78 898.613 1520.17 Q901.637 1519.54 904.501 1519.54 Q912.236 1519.54 916.055 1523.55 Q919.875 1527.56 919.875 1535.71 Z\" fill=\"#000000\" fill-rule=\"evenodd\" fill-opacity=\"1\" /><path clip-path=\"url(#clip140)\" d=\"M 0 0 M931.81 1510.27 L931.81 1520.4 L943.873 1520.4 L943.873 1524.95 L931.81 1524.95 L931.81 1544.3 Q931.81 1548.66 932.988 1549.9 Q934.197 1551.14 937.858 1551.14 L943.873 1551.14 L943.873 1556.04 L937.858 1556.04 Q931.078 1556.04 928.5 1553.53 Q925.922 1550.98 925.922 1544.3 L925.922 1524.95 L921.625 1524.95 L921.625 1520.4 L925.922 1520.4 L925.922 1510.27 L931.81 1510.27 Z\" fill=\"#000000\" fill-rule=\"evenodd\" fill-opacity=\"1\" /><path clip-path=\"url(#clip140)\" d=\"M 0 0 M950.016 1520.4 L955.873 1520.4 L955.873 1556.04 L950.016 1556.04 L950.016 1520.4 M950.016 1506.52 L955.873 1506.52 L955.873 1513.93 L950.016 1513.93 L950.016 1506.52 Z\" fill=\"#000000\" fill-rule=\"evenodd\" fill-opacity=\"1\" /><path clip-path=\"url(#clip140)\" d=\"M 0 0 M975.829 1524.5 Q971.118 1524.5 968.381 1528.19 Q965.644 1531.85 965.644 1538.25 Q965.644 1544.65 968.349 1548.34 Q971.087 1552 975.829 1552 Q980.508 1552 983.245 1548.31 Q985.982 1544.62 985.982 1538.25 Q985.982 1531.92 983.245 1528.23 Q980.508 1524.5 975.829 1524.5 M975.829 1519.54 Q983.468 1519.54 987.828 1524.5 Q992.189 1529.47 992.189 1538.25 Q992.189 1547 987.828 1552 Q983.468 1556.97 975.829 1556.97 Q968.158 1556.97 963.798 1552 Q959.469 1547 959.469 1538.25 Q959.469 1529.47 963.798 1524.5 Q968.158 1519.54 975.829 1519.54 Z\" fill=\"#000000\" fill-rule=\"evenodd\" fill-opacity=\"1\" /><path clip-path=\"url(#clip140)\" d=\"M 0 0 M1027.96 1534.53 L1027.96 1556.04 L1022.11 1556.04 L1022.11 1534.72 Q1022.11 1529.66 1020.13 1527.14 Q1018.16 1524.63 1014.21 1524.63 Q1009.47 1524.63 1006.73 1527.65 Q1004 1530.68 1004 1535.9 L1004 1556.04 L998.109 1556.04 L998.109 1520.4 L1004 1520.4 L1004 1525.93 Q1006.1 1522.72 1008.93 1521.13 Q1011.8 1519.54 1015.52 1519.54 Q1021.66 1519.54 1024.81 1523.36 Q1027.96 1527.14 1027.96 1534.53 Z\" fill=\"#000000\" fill-rule=\"evenodd\" fill-opacity=\"1\" /><path clip-path=\"url(#clip140)\" d=\"M 0 0 M1075.48 1525.87 Q1074.5 1525.3 1073.32 1525.04 Q1072.17 1524.76 1070.77 1524.76 Q1065.81 1524.76 1063.13 1528 Q1060.49 1531.22 1060.49 1537.27 L1060.49 1556.04 L1054.6 1556.04 L1054.6 1520.4 L1060.49 1520.4 L1060.49 1525.93 Q1062.34 1522.69 1065.3 1521.13 Q1068.26 1519.54 1072.49 1519.54 Q1073.1 1519.54 1073.83 1519.63 Q1074.56 1519.7 1075.45 1519.85 L1075.48 1525.87 Z\" fill=\"#000000\" fill-rule=\"evenodd\" fill-opacity=\"1\" /><path clip-path=\"url(#clip140)\" d=\"M 0 0 M1097.83 1538.12 Q1090.73 1538.12 1087.99 1539.75 Q1085.26 1541.37 1085.26 1545.29 Q1085.26 1548.4 1087.29 1550.25 Q1089.36 1552.07 1092.89 1552.07 Q1097.76 1552.07 1100.69 1548.63 Q1103.65 1545.16 1103.65 1539.43 L1103.65 1538.12 L1097.83 1538.12 M1109.51 1535.71 L1109.51 1556.04 L1103.65 1556.04 L1103.65 1550.63 Q1101.65 1553.88 1098.66 1555.44 Q1095.66 1556.97 1091.33 1556.97 Q1085.86 1556.97 1082.61 1553.91 Q1079.4 1550.82 1079.4 1545.67 Q1079.4 1539.65 1083.41 1536.6 Q1087.45 1533.54 1095.44 1533.54 L1103.65 1533.54 L1103.65 1532.97 Q1103.65 1528.93 1100.98 1526.73 Q1098.34 1524.5 1093.53 1524.5 Q1090.48 1524.5 1087.58 1525.23 Q1084.68 1525.97 1082.01 1527.43 L1082.01 1522.02 Q1085.22 1520.78 1088.25 1520.17 Q1091.27 1519.54 1094.14 1519.54 Q1101.87 1519.54 1105.69 1523.55 Q1109.51 1527.56 1109.51 1535.71 Z\" fill=\"#000000\" fill-rule=\"evenodd\" fill-opacity=\"1\" /><path clip-path=\"url(#clip140)\" d=\"M 0 0 M1121.44 1510.27 L1121.44 1520.4 L1133.51 1520.4 L1133.51 1524.95 L1121.44 1524.95 L1121.44 1544.3 Q1121.44 1548.66 1122.62 1549.9 Q1123.83 1551.14 1127.49 1551.14 L1133.51 1551.14 L1133.51 1556.04 L1127.49 1556.04 Q1120.71 1556.04 1118.13 1553.53 Q1115.56 1550.98 1115.56 1544.3 L1115.56 1524.95 L1111.26 1524.95 L1111.26 1520.4 L1115.56 1520.4 L1115.56 1510.27 L1121.44 1510.27 Z\" fill=\"#000000\" fill-rule=\"evenodd\" fill-opacity=\"1\" /><path clip-path=\"url(#clip140)\" d=\"M 0 0 M1170.14 1536.76 L1170.14 1539.62 L1143.22 1539.62 Q1143.6 1545.67 1146.84 1548.85 Q1150.12 1552 1155.95 1552 Q1159.32 1552 1162.47 1551.17 Q1165.65 1550.35 1168.77 1548.69 L1168.77 1554.23 Q1165.62 1555.57 1162.31 1556.27 Q1159 1556.97 1155.6 1556.97 Q1147.07 1556.97 1142.07 1552 Q1137.1 1547.04 1137.1 1538.57 Q1137.1 1529.82 1141.81 1524.69 Q1146.56 1519.54 1154.58 1519.54 Q1161.77 1519.54 1165.94 1524.18 Q1170.14 1528.8 1170.14 1536.76 M1164.29 1535.04 Q1164.22 1530.23 1161.58 1527.37 Q1158.97 1524.5 1154.64 1524.5 Q1149.74 1524.5 1146.78 1527.27 Q1143.85 1530.04 1143.41 1535.07 L1164.29 1535.04 Z\" fill=\"#000000\" fill-rule=\"evenodd\" fill-opacity=\"1\" /><path clip-path=\"url(#clip140)\" d=\"M 0 0 M1211.07 1506.58 Q1206.81 1513.9 1204.74 1521.06 Q1202.67 1528.23 1202.67 1535.58 Q1202.67 1542.93 1204.74 1550.16 Q1206.84 1557.35 1211.07 1564.64 L1205.98 1564.64 Q1201.21 1557.16 1198.82 1549.93 Q1196.46 1542.71 1196.46 1535.58 Q1196.46 1528.48 1198.82 1521.29 Q1201.18 1514.09 1205.98 1506.58 L1211.07 1506.58 Z\" fill=\"#000000\" fill-rule=\"evenodd\" fill-opacity=\"1\" /><path clip-path=\"url(#clip140)\" d=\"M 0 0 M1258.47 1535.13 Q1255.7 1535.13 1254.11 1537.49 Q1252.55 1539.84 1252.55 1544.04 Q1252.55 1548.18 1254.11 1550.57 Q1255.7 1552.92 1258.47 1552.92 Q1261.17 1552.92 1262.73 1550.57 Q1264.32 1548.18 1264.32 1544.04 Q1264.32 1539.87 1262.73 1537.52 Q1261.17 1535.13 1258.47 1535.13 M1258.47 1531.09 Q1263.5 1531.09 1266.46 1534.59 Q1269.42 1538.09 1269.42 1544.04 Q1269.42 1550 1266.42 1553.5 Q1263.46 1556.97 1258.47 1556.97 Q1253.37 1556.97 1250.41 1553.5 Q1247.45 1550 1247.45 1544.04 Q1247.45 1538.06 1250.41 1534.59 Q1253.41 1531.09 1258.47 1531.09 M1225.62 1511.71 Q1222.88 1511.71 1221.29 1514.09 Q1219.73 1516.45 1219.73 1520.59 Q1219.73 1524.79 1221.29 1527.14 Q1222.85 1529.5 1225.62 1529.5 Q1228.39 1529.5 1229.95 1527.14 Q1231.54 1524.79 1231.54 1520.59 Q1231.54 1516.48 1229.95 1514.09 Q1228.36 1511.71 1225.62 1511.71 M1254.36 1507.66 L1259.45 1507.66 L1229.73 1556.97 L1224.63 1556.97 L1254.36 1507.66 M1225.62 1507.66 Q1230.65 1507.66 1233.64 1511.17 Q1236.63 1514.63 1236.63 1520.59 Q1236.63 1526.6 1233.64 1530.07 Q1230.68 1533.54 1225.62 1533.54 Q1220.56 1533.54 1217.6 1530.07 Q1214.67 1526.57 1214.67 1520.59 Q1214.67 1514.67 1217.63 1511.17 Q1220.59 1507.66 1225.62 1507.66 Z\" fill=\"#000000\" fill-rule=\"evenodd\" fill-opacity=\"1\" /><path clip-path=\"url(#clip140)\" d=\"M 0 0 M1316.94 1525.87 Q1315.95 1525.3 1314.77 1525.04 Q1313.63 1524.76 1312.22 1524.76 Q1307.26 1524.76 1304.59 1528 Q1301.94 1531.22 1301.94 1537.27 L1301.94 1556.04 L1296.06 1556.04 L1296.06 1520.4 L1301.94 1520.4 L1301.94 1525.93 Q1303.79 1522.69 1306.75 1521.13 Q1309.71 1519.54 1313.94 1519.54 Q1314.55 1519.54 1315.28 1519.63 Q1316.01 1519.7 1316.9 1519.85 L1316.94 1525.87 Z\" fill=\"#000000\" fill-rule=\"evenodd\" fill-opacity=\"1\" /><path clip-path=\"url(#clip140)\" d=\"M 0 0 M1352.14 1536.76 L1352.14 1539.62 L1325.21 1539.62 Q1325.59 1545.67 1328.84 1548.85 Q1332.12 1552 1337.94 1552 Q1341.32 1552 1344.47 1551.17 Q1347.65 1550.35 1350.77 1548.69 L1350.77 1554.23 Q1347.62 1555.57 1344.31 1556.27 Q1341 1556.97 1337.59 1556.97 Q1329.06 1556.97 1324.07 1552 Q1319.1 1547.04 1319.1 1538.57 Q1319.1 1529.82 1323.81 1524.69 Q1328.55 1519.54 1336.57 1519.54 Q1343.77 1519.54 1347.94 1524.18 Q1352.14 1528.8 1352.14 1536.76 M1346.28 1535.04 Q1346.22 1530.23 1343.58 1527.37 Q1340.97 1524.5 1336.64 1524.5 Q1331.74 1524.5 1328.78 1527.27 Q1325.85 1530.04 1325.4 1535.07 L1346.28 1535.04 Z\" fill=\"#000000\" fill-rule=\"evenodd\" fill-opacity=\"1\" /><path clip-path=\"url(#clip140)\" d=\"M 0 0 M1358.28 1506.52 L1364.14 1506.52 L1364.14 1556.04 L1358.28 1556.04 L1358.28 1506.52 Z\" fill=\"#000000\" fill-rule=\"evenodd\" fill-opacity=\"1\" /><path clip-path=\"url(#clip140)\" d=\"M 0 0 M1386.48 1538.12 Q1379.38 1538.12 1376.65 1539.75 Q1373.91 1541.37 1373.91 1545.29 Q1373.91 1548.4 1375.95 1550.25 Q1378.01 1552.07 1381.55 1552.07 Q1386.42 1552.07 1389.35 1548.63 Q1392.31 1545.16 1392.31 1539.43 L1392.31 1538.12 L1386.48 1538.12 M1398.16 1535.71 L1398.16 1556.04 L1392.31 1556.04 L1392.31 1550.63 Q1390.3 1553.88 1387.31 1555.44 Q1384.32 1556.97 1379.99 1556.97 Q1374.51 1556.97 1371.27 1553.91 Q1368.05 1550.82 1368.05 1545.67 Q1368.05 1539.65 1372.06 1536.6 Q1376.1 1533.54 1384.09 1533.54 L1392.31 1533.54 L1392.31 1532.97 Q1392.31 1528.93 1389.63 1526.73 Q1386.99 1524.5 1382.18 1524.5 Q1379.13 1524.5 1376.23 1525.23 Q1373.34 1525.97 1370.66 1527.43 L1370.66 1522.02 Q1373.88 1520.78 1376.9 1520.17 Q1379.92 1519.54 1382.79 1519.54 Q1390.52 1519.54 1394.34 1523.55 Q1398.16 1527.56 1398.16 1535.71 Z\" fill=\"#000000\" fill-rule=\"evenodd\" fill-opacity=\"1\" /><path clip-path=\"url(#clip140)\" d=\"M 0 0 M1410.1 1510.27 L1410.1 1520.4 L1422.16 1520.4 L1422.16 1524.95 L1410.1 1524.95 L1410.1 1544.3 Q1410.1 1548.66 1411.28 1549.9 Q1412.48 1551.14 1416.15 1551.14 L1422.16 1551.14 L1422.16 1556.04 L1416.15 1556.04 Q1409.37 1556.04 1406.79 1553.53 Q1404.21 1550.98 1404.21 1544.3 L1404.21 1524.95 L1399.91 1524.95 L1399.91 1520.4 L1404.21 1520.4 L1404.21 1510.27 L1410.1 1510.27 Z\" fill=\"#000000\" fill-rule=\"evenodd\" fill-opacity=\"1\" /><path clip-path=\"url(#clip140)\" d=\"M 0 0 M1428.3 1520.4 L1434.16 1520.4 L1434.16 1556.04 L1428.3 1556.04 L1428.3 1520.4 M1428.3 1506.52 L1434.16 1506.52 L1434.16 1513.93 L1428.3 1513.93 L1428.3 1506.52 Z\" fill=\"#000000\" fill-rule=\"evenodd\" fill-opacity=\"1\" /><path clip-path=\"url(#clip140)\" d=\"M 0 0 M1436.1 1520.4 L1442.31 1520.4 L1453.45 1550.31 L1464.59 1520.4 L1470.79 1520.4 L1457.43 1556.04 L1449.47 1556.04 L1436.1 1520.4 Z\" fill=\"#000000\" fill-rule=\"evenodd\" fill-opacity=\"1\" /><path clip-path=\"url(#clip140)\" d=\"M 0 0 M1507.43 1536.76 L1507.43 1539.62 L1480.5 1539.62 Q1480.88 1545.67 1484.13 1548.85 Q1487.41 1552 1493.23 1552 Q1496.61 1552 1499.76 1551.17 Q1502.94 1550.35 1506.06 1548.69 L1506.06 1554.23 Q1502.91 1555.57 1499.6 1556.27 Q1496.29 1556.97 1492.88 1556.97 Q1484.35 1556.97 1479.36 1552 Q1474.39 1547.04 1474.39 1538.57 Q1474.39 1529.82 1479.1 1524.69 Q1483.84 1519.54 1491.87 1519.54 Q1499.06 1519.54 1503.23 1524.18 Q1507.43 1528.8 1507.43 1536.76 M1501.57 1535.04 Q1501.51 1530.23 1498.87 1527.37 Q1496.26 1524.5 1491.93 1524.5 Q1487.03 1524.5 1484.07 1527.27 Q1481.14 1530.04 1480.69 1535.07 L1501.57 1535.04 Z\" fill=\"#000000\" fill-rule=\"evenodd\" fill-opacity=\"1\" /><path clip-path=\"url(#clip140)\" d=\"M 0 0 M1540.09 1510.27 L1540.09 1520.4 L1552.15 1520.4 L1552.15 1524.95 L1540.09 1524.95 L1540.09 1544.3 Q1540.09 1548.66 1541.26 1549.9 Q1542.47 1551.14 1546.13 1551.14 L1552.15 1551.14 L1552.15 1556.04 L1546.13 1556.04 Q1539.35 1556.04 1536.78 1553.53 Q1534.2 1550.98 1534.2 1544.3 L1534.2 1524.95 L1529.9 1524.95 L1529.9 1520.4 L1534.2 1520.4 L1534.2 1510.27 L1540.09 1510.27 Z\" fill=\"#000000\" fill-rule=\"evenodd\" fill-opacity=\"1\" /><path clip-path=\"url(#clip140)\" d=\"M 0 0 M1572.1 1524.5 Q1567.39 1524.5 1564.66 1528.19 Q1561.92 1531.85 1561.92 1538.25 Q1561.92 1544.65 1564.63 1548.34 Q1567.36 1552 1572.1 1552 Q1576.78 1552 1579.52 1548.31 Q1582.26 1544.62 1582.26 1538.25 Q1582.26 1531.92 1579.52 1528.23 Q1576.78 1524.5 1572.1 1524.5 M1572.1 1519.54 Q1579.74 1519.54 1584.1 1524.5 Q1588.46 1529.47 1588.46 1538.25 Q1588.46 1547 1584.1 1552 Q1579.74 1556.97 1572.1 1556.97 Q1564.43 1556.97 1560.07 1552 Q1555.74 1547 1555.74 1538.25 Q1555.74 1529.47 1560.07 1524.5 Q1564.43 1519.54 1572.1 1519.54 Z\" fill=\"#000000\" fill-rule=\"evenodd\" fill-opacity=\"1\" /><path clip-path=\"url(#clip140)\" d=\"M 0 0 M1640.98 1521.76 L1640.98 1527.24 Q1638.5 1525.87 1635.98 1525.2 Q1633.5 1524.5 1630.96 1524.5 Q1625.26 1524.5 1622.11 1528.13 Q1618.96 1531.73 1618.96 1538.25 Q1618.96 1544.78 1622.11 1548.4 Q1625.26 1552 1630.96 1552 Q1633.5 1552 1635.98 1551.33 Q1638.5 1550.63 1640.98 1549.26 L1640.98 1554.68 Q1638.53 1555.82 1635.89 1556.39 Q1633.28 1556.97 1630.32 1556.97 Q1622.27 1556.97 1617.52 1551.91 Q1612.78 1546.85 1612.78 1538.25 Q1612.78 1529.53 1617.56 1524.53 Q1622.36 1519.54 1630.7 1519.54 Q1633.41 1519.54 1635.98 1520.11 Q1638.56 1520.65 1640.98 1521.76 Z\" fill=\"#000000\" fill-rule=\"evenodd\" fill-opacity=\"1\" /><path clip-path=\"url(#clip140)\" d=\"M 0 0 M1646.52 1541.98 L1646.52 1520.4 L1652.38 1520.4 L1652.38 1541.75 Q1652.38 1546.81 1654.35 1549.36 Q1656.32 1551.87 1660.27 1551.87 Q1665.01 1551.87 1667.75 1548.85 Q1670.52 1545.83 1670.52 1540.61 L1670.52 1520.4 L1676.38 1520.4 L1676.38 1556.04 L1670.52 1556.04 L1670.52 1550.57 Q1668.39 1553.82 1665.55 1555.41 Q1662.75 1556.97 1659.03 1556.97 Q1652.89 1556.97 1649.7 1553.15 Q1646.52 1549.33 1646.52 1541.98 M1661.26 1519.54 L1661.26 1519.54 Z\" fill=\"#000000\" fill-rule=\"evenodd\" fill-opacity=\"1\" /><path clip-path=\"url(#clip140)\" d=\"M 0 0 M1703.17 1525.87 Q1702.19 1525.3 1701.01 1525.04 Q1699.86 1524.76 1698.46 1524.76 Q1693.5 1524.76 1690.83 1528 Q1688.18 1531.22 1688.18 1537.27 L1688.18 1556.04 L1682.3 1556.04 L1682.3 1520.4 L1688.18 1520.4 L1688.18 1525.93 Q1690.03 1522.69 1692.99 1521.13 Q1695.95 1519.54 1700.18 1519.54 Q1700.79 1519.54 1701.52 1519.63 Q1702.25 1519.7 1703.14 1519.85 L1703.17 1525.87 Z\" fill=\"#000000\" fill-rule=\"evenodd\" fill-opacity=\"1\" /><path clip-path=\"url(#clip140)\" d=\"M 0 0 M1728.83 1525.87 Q1727.84 1525.3 1726.66 1525.04 Q1725.52 1524.76 1724.12 1524.76 Q1719.15 1524.76 1716.48 1528 Q1713.84 1531.22 1713.84 1537.27 L1713.84 1556.04 L1707.95 1556.04 L1707.95 1520.4 L1713.84 1520.4 L1713.84 1525.93 Q1715.68 1522.69 1718.64 1521.13 Q1721.6 1519.54 1725.84 1519.54 Q1726.44 1519.54 1727.17 1519.63 Q1727.91 1519.7 1728.8 1519.85 L1728.83 1525.87 Z\" fill=\"#000000\" fill-rule=\"evenodd\" fill-opacity=\"1\" /><path clip-path=\"url(#clip140)\" d=\"M 0 0 M1764.03 1536.76 L1764.03 1539.62 L1737.1 1539.62 Q1737.49 1545.67 1740.73 1548.85 Q1744.01 1552 1749.84 1552 Q1753.21 1552 1756.36 1551.17 Q1759.54 1550.35 1762.66 1548.69 L1762.66 1554.23 Q1759.51 1555.57 1756.2 1556.27 Q1752.89 1556.97 1749.49 1556.97 Q1740.96 1556.97 1735.96 1552 Q1730.99 1547.04 1730.99 1538.57 Q1730.99 1529.82 1735.7 1524.69 Q1740.45 1519.54 1748.47 1519.54 Q1755.66 1519.54 1759.83 1524.18 Q1764.03 1528.8 1764.03 1536.76 M1758.17 1535.04 Q1758.11 1530.23 1755.47 1527.37 Q1752.86 1524.5 1748.53 1524.5 Q1743.63 1524.5 1740.67 1527.27 Q1737.74 1530.04 1737.29 1535.07 L1758.17 1535.04 Z\" fill=\"#000000\" fill-rule=\"evenodd\" fill-opacity=\"1\" /><path clip-path=\"url(#clip140)\" d=\"M 0 0 M1799.81 1534.53 L1799.81 1556.04 L1793.95 1556.04 L1793.95 1534.72 Q1793.95 1529.66 1791.98 1527.14 Q1790 1524.63 1786.06 1524.63 Q1781.31 1524.63 1778.58 1527.65 Q1775.84 1530.68 1775.84 1535.9 L1775.84 1556.04 L1769.95 1556.04 L1769.95 1520.4 L1775.84 1520.4 L1775.84 1525.93 Q1777.94 1522.72 1780.77 1521.13 Q1783.64 1519.54 1787.36 1519.54 Q1793.5 1519.54 1796.66 1523.36 Q1799.81 1527.14 1799.81 1534.53 Z\" fill=\"#000000\" fill-rule=\"evenodd\" fill-opacity=\"1\" /><path clip-path=\"url(#clip140)\" d=\"M 0 0 M1811.74 1510.27 L1811.74 1520.4 L1823.8 1520.4 L1823.8 1524.95 L1811.74 1524.95 L1811.74 1544.3 Q1811.74 1548.66 1812.92 1549.9 Q1814.13 1551.14 1817.79 1551.14 L1823.8 1551.14 L1823.8 1556.04 L1817.79 1556.04 Q1811.01 1556.04 1808.43 1553.53 Q1805.85 1550.98 1805.85 1544.3 L1805.85 1524.95 L1801.56 1524.95 L1801.56 1520.4 L1805.85 1520.4 L1805.85 1510.27 L1811.74 1510.27 Z\" fill=\"#000000\" fill-rule=\"evenodd\" fill-opacity=\"1\" /><path clip-path=\"url(#clip140)\" d=\"M 0 0 M1829.02 1506.58 L1834.12 1506.58 Q1838.89 1514.09 1841.25 1521.29 Q1843.63 1528.48 1843.63 1535.58 Q1843.63 1542.71 1841.25 1549.93 Q1838.89 1557.16 1834.12 1564.64 L1829.02 1564.64 Q1833.26 1557.35 1835.33 1550.16 Q1837.43 1542.93 1837.43 1535.58 Q1837.43 1528.23 1835.33 1521.06 Q1833.26 1513.9 1829.02 1506.58 Z\" fill=\"#000000\" fill-rule=\"evenodd\" fill-opacity=\"1\" /><polyline clip-path=\"url(#clip142)\" style=\"stroke:#000000; stroke-width:2; stroke-opacity:0.1; fill:none\" points=\"\n",
       "  251.88,1245.16 2024.11,1245.16 \n",
       "  \"/>\n",
       "<polyline clip-path=\"url(#clip142)\" style=\"stroke:#000000; stroke-width:2; stroke-opacity:0.1; fill:none\" points=\"\n",
       "  251.88,1013.37 2024.11,1013.37 \n",
       "  \"/>\n",
       "<polyline clip-path=\"url(#clip142)\" style=\"stroke:#000000; stroke-width:2; stroke-opacity:0.1; fill:none\" points=\"\n",
       "  251.88,781.571 2024.11,781.571 \n",
       "  \"/>\n",
       "<polyline clip-path=\"url(#clip142)\" style=\"stroke:#000000; stroke-width:2; stroke-opacity:0.1; fill:none\" points=\"\n",
       "  251.88,549.776 2024.11,549.776 \n",
       "  \"/>\n",
       "<polyline clip-path=\"url(#clip142)\" style=\"stroke:#000000; stroke-width:2; stroke-opacity:0.1; fill:none\" points=\"\n",
       "  251.88,317.981 2024.11,317.981 \n",
       "  \"/>\n",
       "<polyline clip-path=\"url(#clip142)\" style=\"stroke:#000000; stroke-width:2; stroke-opacity:0.1; fill:none\" points=\"\n",
       "  251.88,86.1857 2024.11,86.1857 \n",
       "  \"/>\n",
       "<polyline clip-path=\"url(#clip140)\" style=\"stroke:#000000; stroke-width:4; stroke-opacity:1; fill:none\" points=\"\n",
       "  251.88,1423.18 251.88,47.2441 \n",
       "  \"/>\n",
       "<polyline clip-path=\"url(#clip140)\" style=\"stroke:#000000; stroke-width:4; stroke-opacity:1; fill:none\" points=\"\n",
       "  251.88,1245.16 273.147,1245.16 \n",
       "  \"/>\n",
       "<polyline clip-path=\"url(#clip140)\" style=\"stroke:#000000; stroke-width:4; stroke-opacity:1; fill:none\" points=\"\n",
       "  251.88,1013.37 273.147,1013.37 \n",
       "  \"/>\n",
       "<polyline clip-path=\"url(#clip140)\" style=\"stroke:#000000; stroke-width:4; stroke-opacity:1; fill:none\" points=\"\n",
       "  251.88,781.571 273.147,781.571 \n",
       "  \"/>\n",
       "<polyline clip-path=\"url(#clip140)\" style=\"stroke:#000000; stroke-width:4; stroke-opacity:1; fill:none\" points=\"\n",
       "  251.88,549.776 273.147,549.776 \n",
       "  \"/>\n",
       "<polyline clip-path=\"url(#clip140)\" style=\"stroke:#000000; stroke-width:4; stroke-opacity:1; fill:none\" points=\"\n",
       "  251.88,317.981 273.147,317.981 \n",
       "  \"/>\n",
       "<polyline clip-path=\"url(#clip140)\" style=\"stroke:#000000; stroke-width:4; stroke-opacity:1; fill:none\" points=\"\n",
       "  251.88,86.1857 273.147,86.1857 \n",
       "  \"/>\n",
       "<path clip-path=\"url(#clip140)\" d=\"M 0 0 M139.63 1227.88 L161.852 1227.88 L161.852 1229.87 L149.306 1262.44 L144.422 1262.44 L156.228 1231.82 L139.63 1231.82 L139.63 1227.88 Z\" fill=\"#000000\" fill-rule=\"evenodd\" fill-opacity=\"1\" /><path clip-path=\"url(#clip140)\" d=\"M 0 0 M176.922 1230.96 Q173.311 1230.96 171.482 1234.52 Q169.677 1238.07 169.677 1245.2 Q169.677 1252.3 171.482 1255.87 Q173.311 1259.41 176.922 1259.41 Q180.556 1259.41 182.362 1255.87 Q184.19 1252.3 184.19 1245.2 Q184.19 1238.07 182.362 1234.52 Q180.556 1230.96 176.922 1230.96 M176.922 1227.26 Q182.732 1227.26 185.788 1231.86 Q188.866 1236.45 188.866 1245.2 Q188.866 1253.92 185.788 1258.53 Q182.732 1263.11 176.922 1263.11 Q171.112 1263.11 168.033 1258.53 Q164.977 1253.92 164.977 1245.2 Q164.977 1236.45 168.033 1231.86 Q171.112 1227.26 176.922 1227.26 Z\" fill=\"#000000\" fill-rule=\"evenodd\" fill-opacity=\"1\" /><path clip-path=\"url(#clip140)\" d=\"M 0 0 M203.936 1230.96 Q200.325 1230.96 198.496 1234.52 Q196.69 1238.07 196.69 1245.2 Q196.69 1252.3 198.496 1255.87 Q200.325 1259.41 203.936 1259.41 Q207.57 1259.41 209.375 1255.87 Q211.204 1252.3 211.204 1245.2 Q211.204 1238.07 209.375 1234.52 Q207.57 1230.96 203.936 1230.96 M203.936 1227.26 Q209.746 1227.26 212.801 1231.86 Q215.88 1236.45 215.88 1245.2 Q215.88 1253.92 212.801 1258.53 Q209.746 1263.11 203.936 1263.11 Q198.125 1263.11 195.047 1258.53 Q191.991 1253.92 191.991 1245.2 Q191.991 1236.45 195.047 1231.86 Q198.125 1227.26 203.936 1227.26 Z\" fill=\"#000000\" fill-rule=\"evenodd\" fill-opacity=\"1\" /><path clip-path=\"url(#clip140)\" d=\"M 0 0 M150.001 1014.23 Q146.667 1014.23 144.746 1016.02 Q142.848 1017.8 142.848 1020.92 Q142.848 1024.05 144.746 1025.83 Q146.667 1027.61 150.001 1027.61 Q153.334 1027.61 155.255 1025.83 Q157.177 1024.03 157.177 1020.92 Q157.177 1017.8 155.255 1016.02 Q153.357 1014.23 150.001 1014.23 M145.325 1012.24 Q142.316 1011.5 140.626 1009.44 Q138.959 1007.38 138.959 1004.42 Q138.959 1000.28 141.899 997.868 Q144.862 995.461 150.001 995.461 Q155.163 995.461 158.103 997.868 Q161.042 1000.28 161.042 1004.42 Q161.042 1007.38 159.353 1009.44 Q157.686 1011.5 154.7 1012.24 Q158.079 1013.03 159.954 1015.32 Q161.852 1017.61 161.852 1020.92 Q161.852 1025.95 158.774 1028.63 Q155.718 1031.32 150.001 1031.32 Q144.283 1031.32 141.204 1028.63 Q138.149 1025.95 138.149 1020.92 Q138.149 1017.61 140.047 1015.32 Q141.945 1013.03 145.325 1012.24 M143.612 1004.86 Q143.612 1007.54 145.279 1009.05 Q146.968 1010.55 150.001 1010.55 Q153.01 1010.55 154.7 1009.05 Q156.413 1007.54 156.413 1004.86 Q156.413 1002.17 154.7 1000.67 Q153.01 999.165 150.001 999.165 Q146.968 999.165 145.279 1000.67 Q143.612 1002.17 143.612 1004.86 Z\" fill=\"#000000\" fill-rule=\"evenodd\" fill-opacity=\"1\" /><path clip-path=\"url(#clip140)\" d=\"M 0 0 M176.922 999.165 Q173.311 999.165 171.482 1002.73 Q169.677 1006.27 169.677 1013.4 Q169.677 1020.51 171.482 1024.07 Q173.311 1027.61 176.922 1027.61 Q180.556 1027.61 182.362 1024.07 Q184.19 1020.51 184.19 1013.4 Q184.19 1006.27 182.362 1002.73 Q180.556 999.165 176.922 999.165 M176.922 995.461 Q182.732 995.461 185.788 1000.07 Q188.866 1004.65 188.866 1013.4 Q188.866 1022.13 185.788 1026.73 Q182.732 1031.32 176.922 1031.32 Q171.112 1031.32 168.033 1026.73 Q164.977 1022.13 164.977 1013.4 Q164.977 1004.65 168.033 1000.07 Q171.112 995.461 176.922 995.461 Z\" fill=\"#000000\" fill-rule=\"evenodd\" fill-opacity=\"1\" /><path clip-path=\"url(#clip140)\" d=\"M 0 0 M203.936 999.165 Q200.325 999.165 198.496 1002.73 Q196.69 1006.27 196.69 1013.4 Q196.69 1020.51 198.496 1024.07 Q200.325 1027.61 203.936 1027.61 Q207.57 1027.61 209.375 1024.07 Q211.204 1020.51 211.204 1013.4 Q211.204 1006.27 209.375 1002.73 Q207.57 999.165 203.936 999.165 M203.936 995.461 Q209.746 995.461 212.801 1000.07 Q215.88 1004.65 215.88 1013.4 Q215.88 1022.13 212.801 1026.73 Q209.746 1031.32 203.936 1031.32 Q198.125 1031.32 195.047 1026.73 Q191.991 1022.13 191.991 1013.4 Q191.991 1004.65 195.047 1000.07 Q198.125 995.461 203.936 995.461 Z\" fill=\"#000000\" fill-rule=\"evenodd\" fill-opacity=\"1\" /><path clip-path=\"url(#clip140)\" d=\"M 0 0 M140.232 798.133 L140.232 793.874 Q141.991 794.707 143.797 795.147 Q145.603 795.587 147.339 795.587 Q151.968 795.587 154.399 792.485 Q156.853 789.36 157.2 783.018 Q155.857 785.008 153.797 786.073 Q151.737 787.138 149.237 787.138 Q144.052 787.138 141.019 784.013 Q138.01 780.865 138.01 775.425 Q138.01 770.101 141.158 766.884 Q144.306 763.666 149.538 763.666 Q155.533 763.666 158.681 768.272 Q161.852 772.856 161.852 781.606 Q161.852 789.777 157.964 794.661 Q154.098 799.522 147.547 799.522 Q145.788 799.522 143.982 799.175 Q142.177 798.828 140.232 798.133 M149.538 783.481 Q152.686 783.481 154.515 781.328 Q156.366 779.175 156.366 775.425 Q156.366 771.698 154.515 769.546 Q152.686 767.37 149.538 767.37 Q146.39 767.37 144.538 769.546 Q142.709 771.698 142.709 775.425 Q142.709 779.175 144.538 781.328 Q146.39 783.481 149.538 783.481 Z\" fill=\"#000000\" fill-rule=\"evenodd\" fill-opacity=\"1\" /><path clip-path=\"url(#clip140)\" d=\"M 0 0 M176.922 767.37 Q173.311 767.37 171.482 770.934 Q169.677 774.476 169.677 781.606 Q169.677 788.712 171.482 792.277 Q173.311 795.819 176.922 795.819 Q180.556 795.819 182.362 792.277 Q184.19 788.712 184.19 781.606 Q184.19 774.476 182.362 770.934 Q180.556 767.37 176.922 767.37 M176.922 763.666 Q182.732 763.666 185.788 768.272 Q188.866 772.856 188.866 781.606 Q188.866 790.333 185.788 794.939 Q182.732 799.522 176.922 799.522 Q171.112 799.522 168.033 794.939 Q164.977 790.333 164.977 781.606 Q164.977 772.856 168.033 768.272 Q171.112 763.666 176.922 763.666 Z\" fill=\"#000000\" fill-rule=\"evenodd\" fill-opacity=\"1\" /><path clip-path=\"url(#clip140)\" d=\"M 0 0 M203.936 767.37 Q200.325 767.37 198.496 770.934 Q196.69 774.476 196.69 781.606 Q196.69 788.712 198.496 792.277 Q200.325 795.819 203.936 795.819 Q207.57 795.819 209.375 792.277 Q211.204 788.712 211.204 781.606 Q211.204 774.476 209.375 770.934 Q207.57 767.37 203.936 767.37 M203.936 763.666 Q209.746 763.666 212.801 768.272 Q215.88 772.856 215.88 781.606 Q215.88 790.333 212.801 794.939 Q209.746 799.522 203.936 799.522 Q198.125 799.522 195.047 794.939 Q191.991 790.333 191.991 781.606 Q191.991 772.856 195.047 768.272 Q198.125 763.666 203.936 763.666 Z\" fill=\"#000000\" fill-rule=\"evenodd\" fill-opacity=\"1\" /><path clip-path=\"url(#clip140)\" d=\"M 0 0 M114.931 563.121 L122.57 563.121 L122.57 536.755 L114.26 538.422 L114.26 534.163 L122.524 532.496 L127.2 532.496 L127.2 563.121 L134.839 563.121 L134.839 567.056 L114.931 567.056 L114.931 563.121 Z\" fill=\"#000000\" fill-rule=\"evenodd\" fill-opacity=\"1\" /><path clip-path=\"url(#clip140)\" d=\"M 0 0 M149.908 535.575 Q146.297 535.575 144.468 539.139 Q142.663 542.681 142.663 549.811 Q142.663 556.917 144.468 560.482 Q146.297 564.023 149.908 564.023 Q153.542 564.023 155.348 560.482 Q157.177 556.917 157.177 549.811 Q157.177 542.681 155.348 539.139 Q153.542 535.575 149.908 535.575 M149.908 531.871 Q155.718 531.871 158.774 536.477 Q161.852 541.061 161.852 549.811 Q161.852 558.537 158.774 563.144 Q155.718 567.727 149.908 567.727 Q144.098 567.727 141.019 563.144 Q137.964 558.537 137.964 549.811 Q137.964 541.061 141.019 536.477 Q144.098 531.871 149.908 531.871 Z\" fill=\"#000000\" fill-rule=\"evenodd\" fill-opacity=\"1\" /><path clip-path=\"url(#clip140)\" d=\"M 0 0 M176.922 535.575 Q173.311 535.575 171.482 539.139 Q169.677 542.681 169.677 549.811 Q169.677 556.917 171.482 560.482 Q173.311 564.023 176.922 564.023 Q180.556 564.023 182.362 560.482 Q184.19 556.917 184.19 549.811 Q184.19 542.681 182.362 539.139 Q180.556 535.575 176.922 535.575 M176.922 531.871 Q182.732 531.871 185.788 536.477 Q188.866 541.061 188.866 549.811 Q188.866 558.537 185.788 563.144 Q182.732 567.727 176.922 567.727 Q171.112 567.727 168.033 563.144 Q164.977 558.537 164.977 549.811 Q164.977 541.061 168.033 536.477 Q171.112 531.871 176.922 531.871 Z\" fill=\"#000000\" fill-rule=\"evenodd\" fill-opacity=\"1\" /><path clip-path=\"url(#clip140)\" d=\"M 0 0 M203.936 535.575 Q200.325 535.575 198.496 539.139 Q196.69 542.681 196.69 549.811 Q196.69 556.917 198.496 560.482 Q200.325 564.023 203.936 564.023 Q207.57 564.023 209.375 560.482 Q211.204 556.917 211.204 549.811 Q211.204 542.681 209.375 539.139 Q207.57 535.575 203.936 535.575 M203.936 531.871 Q209.746 531.871 212.801 536.477 Q215.88 541.061 215.88 549.811 Q215.88 558.537 212.801 563.144 Q209.746 567.727 203.936 567.727 Q198.125 567.727 195.047 563.144 Q191.991 558.537 191.991 549.811 Q191.991 541.061 195.047 536.477 Q198.125 531.871 203.936 531.871 Z\" fill=\"#000000\" fill-rule=\"evenodd\" fill-opacity=\"1\" /><path clip-path=\"url(#clip140)\" d=\"M 0 0 M116.158 331.326 L123.797 331.326 L123.797 304.96 L115.487 306.627 L115.487 302.367 L123.751 300.701 L128.427 300.701 L128.427 331.326 L136.066 331.326 L136.066 335.261 L116.158 335.261 L116.158 331.326 Z\" fill=\"#000000\" fill-rule=\"evenodd\" fill-opacity=\"1\" /><path clip-path=\"url(#clip140)\" d=\"M 0 0 M141.945 331.326 L149.584 331.326 L149.584 304.96 L141.274 306.627 L141.274 302.367 L149.538 300.701 L154.214 300.701 L154.214 331.326 L161.852 331.326 L161.852 335.261 L141.945 335.261 L141.945 331.326 Z\" fill=\"#000000\" fill-rule=\"evenodd\" fill-opacity=\"1\" /><path clip-path=\"url(#clip140)\" d=\"M 0 0 M176.922 303.779 Q173.311 303.779 171.482 307.344 Q169.677 310.886 169.677 318.016 Q169.677 325.122 171.482 328.687 Q173.311 332.228 176.922 332.228 Q180.556 332.228 182.362 328.687 Q184.19 325.122 184.19 318.016 Q184.19 310.886 182.362 307.344 Q180.556 303.779 176.922 303.779 M176.922 300.076 Q182.732 300.076 185.788 304.682 Q188.866 309.266 188.866 318.016 Q188.866 326.742 185.788 331.349 Q182.732 335.932 176.922 335.932 Q171.112 335.932 168.033 331.349 Q164.977 326.742 164.977 318.016 Q164.977 309.266 168.033 304.682 Q171.112 300.076 176.922 300.076 Z\" fill=\"#000000\" fill-rule=\"evenodd\" fill-opacity=\"1\" /><path clip-path=\"url(#clip140)\" d=\"M 0 0 M203.936 303.779 Q200.325 303.779 198.496 307.344 Q196.69 310.886 196.69 318.016 Q196.69 325.122 198.496 328.687 Q200.325 332.228 203.936 332.228 Q207.57 332.228 209.375 328.687 Q211.204 325.122 211.204 318.016 Q211.204 310.886 209.375 307.344 Q207.57 303.779 203.936 303.779 M203.936 300.076 Q209.746 300.076 212.801 304.682 Q215.88 309.266 215.88 318.016 Q215.88 326.742 212.801 331.349 Q209.746 335.932 203.936 335.932 Q198.125 335.932 195.047 331.349 Q191.991 326.742 191.991 318.016 Q191.991 309.266 195.047 304.682 Q198.125 300.076 203.936 300.076 Z\" fill=\"#000000\" fill-rule=\"evenodd\" fill-opacity=\"1\" /><path clip-path=\"url(#clip140)\" d=\"M 0 0 M116.529 99.5305 L124.168 99.5305 L124.168 73.1649 L115.857 74.8316 L115.857 70.5723 L124.121 68.9057 L128.797 68.9057 L128.797 99.5305 L136.436 99.5305 L136.436 103.466 L116.529 103.466 L116.529 99.5305 Z\" fill=\"#000000\" fill-rule=\"evenodd\" fill-opacity=\"1\" /><path clip-path=\"url(#clip140)\" d=\"M 0 0 M145.533 99.5305 L161.852 99.5305 L161.852 103.466 L139.908 103.466 L139.908 99.5305 Q142.57 96.7759 147.153 92.1463 Q151.76 87.4935 152.941 86.151 Q155.186 83.6278 156.065 81.8917 Q156.968 80.1325 156.968 78.4427 Q156.968 75.688 155.024 73.9519 Q153.103 72.2158 150.001 72.2158 Q147.802 72.2158 145.348 72.9797 Q142.917 73.7436 140.14 75.2945 L140.14 70.5723 Q142.964 69.4381 145.417 68.8594 Q147.871 68.2807 149.908 68.2807 Q155.278 68.2807 158.473 70.9658 Q161.667 73.651 161.667 78.1417 Q161.667 80.2714 160.857 82.1926 Q160.07 84.0908 157.964 86.6834 Q157.385 87.3546 154.283 90.5722 Q151.181 93.7667 145.533 99.5305 Z\" fill=\"#000000\" fill-rule=\"evenodd\" fill-opacity=\"1\" /><path clip-path=\"url(#clip140)\" d=\"M 0 0 M176.922 71.9844 Q173.311 71.9844 171.482 75.5492 Q169.677 79.0908 169.677 86.2204 Q169.677 93.3268 171.482 96.8916 Q173.311 100.433 176.922 100.433 Q180.556 100.433 182.362 96.8916 Q184.19 93.3268 184.19 86.2204 Q184.19 79.0908 182.362 75.5492 Q180.556 71.9844 176.922 71.9844 M176.922 68.2807 Q182.732 68.2807 185.788 72.8871 Q188.866 77.4704 188.866 86.2204 Q188.866 94.9472 185.788 99.5537 Q182.732 104.137 176.922 104.137 Q171.112 104.137 168.033 99.5537 Q164.977 94.9472 164.977 86.2204 Q164.977 77.4704 168.033 72.8871 Q171.112 68.2807 176.922 68.2807 Z\" fill=\"#000000\" fill-rule=\"evenodd\" fill-opacity=\"1\" /><path clip-path=\"url(#clip140)\" d=\"M 0 0 M203.936 71.9844 Q200.325 71.9844 198.496 75.5492 Q196.69 79.0908 196.69 86.2204 Q196.69 93.3268 198.496 96.8916 Q200.325 100.433 203.936 100.433 Q207.57 100.433 209.375 96.8916 Q211.204 93.3268 211.204 86.2204 Q211.204 79.0908 209.375 75.5492 Q207.57 71.9844 203.936 71.9844 M203.936 68.2807 Q209.746 68.2807 212.801 72.8871 Q215.88 77.4704 215.88 86.2204 Q215.88 94.9472 212.801 99.5537 Q209.746 104.137 203.936 104.137 Q198.125 104.137 195.047 99.5537 Q191.991 94.9472 191.991 86.2204 Q191.991 77.4704 195.047 72.8871 Q198.125 68.2807 203.936 68.2807 Z\" fill=\"#000000\" fill-rule=\"evenodd\" fill-opacity=\"1\" /><path clip-path=\"url(#clip140)\" d=\"M 0 0 M40.4842 974.563 L40.4842 965.905 L80.238 944.835 L40.4842 944.835 L40.4842 938.596 L88.0042 938.596 L88.0042 947.254 L48.2503 968.324 L88.0042 968.324 L88.0042 974.563 L40.4842 974.563 Z\" fill=\"#000000\" fill-rule=\"evenodd\" fill-opacity=\"1\" /><path clip-path=\"url(#clip140)\" d=\"M 0 0 M73.9359 933.058 L52.3562 933.058 L52.3562 927.202 L73.7131 927.202 Q78.7739 927.202 81.3202 925.228 Q83.8346 923.255 83.8346 919.308 Q83.8346 914.566 80.8109 911.828 Q77.7872 909.059 72.5673 909.059 L52.3562 909.059 L52.3562 903.203 L88.0042 903.203 L88.0042 909.059 L82.5296 909.059 Q85.7762 911.192 87.3676 914.025 Q88.9272 916.826 88.9272 920.55 Q88.9272 926.692 85.1078 929.875 Q81.2883 933.058 73.9359 933.058 M51.4968 918.322 L51.4968 918.322 Z\" fill=\"#000000\" fill-rule=\"evenodd\" fill-opacity=\"1\" /><path clip-path=\"url(#clip140)\" d=\"M 0 0 M59.1993 869.306 Q55.2526 867.109 53.3747 864.054 Q51.4968 860.998 51.4968 856.861 Q51.4968 851.291 55.4117 848.267 Q59.2948 845.243 66.4881 845.243 L88.0042 845.243 L88.0042 851.131 L66.679 851.131 Q61.5546 851.131 59.072 852.946 Q56.5894 854.76 56.5894 858.484 Q56.5894 863.035 59.6131 865.677 Q62.6368 868.319 67.8567 868.319 L88.0042 868.319 L88.0042 874.207 L66.679 874.207 Q61.5228 874.207 59.072 876.021 Q56.5894 877.836 56.5894 881.623 Q56.5894 886.111 59.6449 888.753 Q62.6686 891.395 67.8567 891.395 L88.0042 891.395 L88.0042 897.283 L52.3562 897.283 L52.3562 891.395 L57.8944 891.395 Q54.616 889.389 53.0564 886.588 Q51.4968 883.788 51.4968 879.936 Q51.4968 876.053 53.4702 873.348 Q55.4436 870.611 59.1993 869.306 Z\" fill=\"#000000\" fill-rule=\"evenodd\" fill-opacity=\"1\" /><path clip-path=\"url(#clip140)\" d=\"M 0 0 M70.212 813.51 Q63.7508 813.51 60.0905 816.184 Q56.3984 818.826 56.3984 823.472 Q56.3984 828.119 60.0905 830.793 Q63.7508 833.435 70.212 833.435 Q76.6732 833.435 80.3653 830.793 Q84.0256 828.119 84.0256 823.472 Q84.0256 818.826 80.3653 816.184 Q76.6732 813.51 70.212 813.51 M57.7671 833.435 Q54.5842 831.589 53.0564 828.788 Q51.4968 825.955 51.4968 822.04 Q51.4968 815.547 56.6531 811.505 Q61.8093 807.431 70.212 807.431 Q78.6147 807.431 83.771 811.505 Q88.9272 815.547 88.9272 822.04 Q88.9272 825.955 87.3994 828.788 Q85.8398 831.589 82.657 833.435 L88.0042 833.435 L88.0042 839.323 L38.479 839.323 L38.479 833.435 L57.7671 833.435 Z\" fill=\"#000000\" fill-rule=\"evenodd\" fill-opacity=\"1\" /><path clip-path=\"url(#clip140)\" d=\"M 0 0 M68.7161 770.796 L71.5806 770.796 L71.5806 797.723 Q77.6281 797.341 80.8109 794.095 Q83.9619 790.816 83.9619 784.992 Q83.9619 781.618 83.1344 778.467 Q82.3069 775.284 80.6518 772.165 L86.1899 772.165 Q87.5267 775.316 88.227 778.626 Q88.9272 781.936 88.9272 785.342 Q88.9272 793.872 83.9619 798.869 Q78.9967 803.834 70.5303 803.834 Q61.7774 803.834 56.6531 799.124 Q51.4968 794.381 51.4968 786.36 Q51.4968 779.167 56.1438 774.998 Q60.7589 770.796 68.7161 770.796 M66.9973 776.653 Q62.1912 776.716 59.3266 779.358 Q56.4621 781.968 56.4621 786.297 Q56.4621 791.198 59.2312 794.158 Q62.0002 797.087 67.0292 797.532 L66.9973 776.653 Z\" fill=\"#000000\" fill-rule=\"evenodd\" fill-opacity=\"1\" /><path clip-path=\"url(#clip140)\" d=\"M 0 0 M57.8307 743.997 Q57.2578 744.983 57.0032 746.161 Q56.7167 747.307 56.7167 748.707 Q56.7167 753.673 59.9632 756.346 Q63.1779 758.988 69.2253 758.988 L88.0042 758.988 L88.0042 764.876 L52.3562 764.876 L52.3562 758.988 L57.8944 758.988 Q54.6479 757.142 53.0883 754.182 Q51.4968 751.222 51.4968 746.989 Q51.4968 746.384 51.5923 745.652 Q51.656 744.92 51.8151 744.028 L57.8307 743.997 Z\" fill=\"#000000\" fill-rule=\"evenodd\" fill-opacity=\"1\" /><path clip-path=\"url(#clip140)\" d=\"M 0 0 M56.4621 703.32 Q56.4621 708.03 60.1542 710.768 Q63.8145 713.505 70.212 713.505 Q76.6095 713.505 80.3017 710.799 Q83.9619 708.062 83.9619 703.32 Q83.9619 698.641 80.2698 695.904 Q76.5777 693.166 70.212 693.166 Q63.8781 693.166 60.186 695.904 Q56.4621 698.641 56.4621 703.32 M51.4968 703.32 Q51.4968 695.681 56.4621 691.32 Q61.4273 686.96 70.212 686.96 Q78.9649 686.96 83.9619 691.32 Q88.9272 695.681 88.9272 703.32 Q88.9272 710.99 83.9619 715.351 Q78.9649 719.68 70.212 719.68 Q61.4273 719.68 56.4621 715.351 Q51.4968 710.99 51.4968 703.32 Z\" fill=\"#000000\" fill-rule=\"evenodd\" fill-opacity=\"1\" /><path clip-path=\"url(#clip140)\" d=\"M 0 0 M38.479 662.77 L43.3487 662.77 L43.3487 668.372 Q43.3487 671.523 44.6219 672.764 Q45.895 673.974 49.2052 673.974 L52.3562 673.974 L52.3562 664.33 L56.9077 664.33 L56.9077 673.974 L88.0042 673.974 L88.0042 679.862 L56.9077 679.862 L56.9077 685.464 L52.3562 685.464 L52.3562 679.862 L49.8736 679.862 Q43.9216 679.862 41.2162 677.093 Q38.479 674.324 38.479 668.308 L38.479 662.77 Z\" fill=\"#000000\" fill-rule=\"evenodd\" fill-opacity=\"1\" /><path clip-path=\"url(#clip140)\" d=\"M 0 0 M52.3562 640.108 L52.3562 633.902 L82.275 622.762 L52.3562 611.622 L52.3562 605.415 L88.0042 618.783 L88.0042 626.74 L52.3562 640.108 Z\" fill=\"#000000\" fill-rule=\"evenodd\" fill-opacity=\"1\" /><path clip-path=\"url(#clip140)\" d=\"M 0 0 M52.3562 599.272 L52.3562 593.416 L88.0042 593.416 L88.0042 599.272 L52.3562 599.272 M38.479 599.272 L38.479 593.416 L45.895 593.416 L45.895 599.272 L38.479 599.272 Z\" fill=\"#000000\" fill-rule=\"evenodd\" fill-opacity=\"1\" /><path clip-path=\"url(#clip140)\" d=\"M 0 0 M53.4065 564.547 L58.9447 564.547 Q57.6716 567.03 57.035 569.704 Q56.3984 572.377 56.3984 575.242 Q56.3984 579.602 57.7352 581.798 Q59.072 583.963 61.7456 583.963 Q63.7826 583.963 64.9603 582.403 Q66.1061 580.844 67.1565 576.133 L67.6021 574.128 Q68.9389 567.889 71.3897 565.279 Q73.8086 562.638 78.1691 562.638 Q83.1344 562.638 86.0308 566.584 Q88.9272 570.499 88.9272 577.374 Q88.9272 580.239 88.3543 583.358 Q87.8132 586.445 86.6992 589.883 L80.6518 589.883 Q82.3387 586.636 83.198 583.485 Q84.0256 580.334 84.0256 577.247 Q84.0256 573.109 82.6251 570.881 Q81.1929 568.653 78.6147 568.653 Q76.2276 568.653 74.9545 570.277 Q73.6813 571.868 72.5037 577.311 L72.0262 579.348 Q70.8804 584.79 68.5251 587.209 Q66.138 589.628 62.0002 589.628 Q56.9713 589.628 54.2341 586.063 Q51.4968 582.499 51.4968 575.942 Q51.4968 572.695 51.9743 569.831 Q52.4517 566.966 53.4065 564.547 Z\" fill=\"#000000\" fill-rule=\"evenodd\" fill-opacity=\"1\" /><path clip-path=\"url(#clip140)\" d=\"M 0 0 M52.3562 556.495 L52.3562 550.638 L88.0042 550.638 L88.0042 556.495 L52.3562 556.495 M38.479 556.495 L38.479 550.638 L45.895 550.638 L45.895 556.495 L38.479 556.495 Z\" fill=\"#000000\" fill-rule=\"evenodd\" fill-opacity=\"1\" /><path clip-path=\"url(#clip140)\" d=\"M 0 0 M42.2347 538.703 L52.3562 538.703 L52.3562 526.64 L56.9077 526.64 L56.9077 538.703 L76.2594 538.703 Q80.6199 538.703 81.8613 537.525 Q83.1026 536.315 83.1026 532.655 L83.1026 526.64 L88.0042 526.64 L88.0042 532.655 Q88.0042 539.435 85.4897 542.013 Q82.9434 544.591 76.2594 544.591 L56.9077 544.591 L56.9077 548.888 L52.3562 548.888 L52.3562 544.591 L42.2347 544.591 L42.2347 538.703 Z\" fill=\"#000000\" fill-rule=\"evenodd\" fill-opacity=\"1\" /><path clip-path=\"url(#clip140)\" d=\"M 0 0 M53.4065 497.771 L58.9447 497.771 Q57.6716 500.254 57.035 502.927 Q56.3984 505.601 56.3984 508.465 Q56.3984 512.826 57.7352 515.022 Q59.072 517.187 61.7456 517.187 Q63.7826 517.187 64.9603 515.627 Q66.1061 514.067 67.1565 509.357 L67.6021 507.351 Q68.9389 501.113 71.3897 498.503 Q73.8086 495.861 78.1691 495.861 Q83.1344 495.861 86.0308 499.808 Q88.9272 503.723 88.9272 510.598 Q88.9272 513.463 88.3543 516.582 Q87.8132 519.669 86.6992 523.107 L80.6518 523.107 Q82.3387 519.86 83.198 516.709 Q84.0256 513.558 84.0256 510.471 Q84.0256 506.333 82.6251 504.105 Q81.1929 501.877 78.6147 501.877 Q76.2276 501.877 74.9545 503.5 Q73.6813 505.092 72.5037 510.534 L72.0262 512.571 Q70.8804 518.014 68.5251 520.433 Q66.138 522.852 62.0002 522.852 Q56.9713 522.852 54.2341 519.287 Q51.4968 515.722 51.4968 509.166 Q51.4968 505.919 51.9743 503.055 Q52.4517 500.19 53.4065 497.771 Z\" fill=\"#000000\" fill-rule=\"evenodd\" fill-opacity=\"1\" /><polyline clip-path=\"url(#clip142)\" style=\"stroke:#009af9; stroke-width:4; stroke-opacity:1; fill:none\" points=\"\n",
       "  302.037,920.648 469.229,920.648 636.421,920.648 803.612,920.648 970.804,1013.37 1138,1013.37 1305.19,1013.37 1472.38,1013.37 1639.57,1013.37 1806.76,1013.37 \n",
       "  1973.95,1013.37 \n",
       "  \"/>\n",
       "<polyline clip-path=\"url(#clip142)\" style=\"stroke:#e26f46; stroke-width:4; stroke-opacity:1; fill:none\" points=\"\n",
       "  302.037,827.93 469.229,827.93 636.421,827.93 803.612,920.648 970.804,920.648 1138,920.648 1305.19,920.648 1472.38,1013.37 1639.57,1013.37 1806.76,1013.37 \n",
       "  1973.95,1106.08 \n",
       "  \"/>\n",
       "<polyline clip-path=\"url(#clip142)\" style=\"stroke:#3da44d; stroke-width:4; stroke-opacity:1; fill:none\" points=\"\n",
       "  302.037,827.93 469.229,827.93 636.421,920.648 803.612,920.648 970.804,920.648 1138,920.648 1305.19,920.648 1472.38,920.648 1639.57,1013.37 1806.76,1013.37 \n",
       "  1973.95,1013.37 \n",
       "  \"/>\n",
       "<polyline clip-path=\"url(#clip142)\" style=\"stroke:#c271d2; stroke-width:4; stroke-opacity:1; fill:none\" points=\"\n",
       "  302.037,1198.8 469.229,1198.8 636.421,1198.8 803.612,1291.52 970.804,1291.52 1138,1291.52 1305.19,1291.52 1472.38,1291.52 1639.57,1291.52 1806.76,1384.24 \n",
       "  1973.95,1384.24 \n",
       "  \"/>\n",
       "<polyline clip-path=\"url(#clip142)\" style=\"stroke:#ac8d18; stroke-width:4; stroke-opacity:1; fill:none\" points=\"\n",
       "  302.037,793.161 469.229,793.161 636.421,793.161 803.612,793.161 970.804,793.161 1138,802.433 1305.19,802.433 1472.38,802.433 1639.57,802.433 1806.76,802.433 \n",
       "  1973.95,827.93 \n",
       "  \"/>\n",
       "<polyline clip-path=\"url(#clip142)\" style=\"stroke:#00a9ad; stroke-width:4; stroke-opacity:1; fill:none\" points=\"\n",
       "  302.037,1013.37 469.229,1013.37 636.421,1013.37 803.612,1013.37 970.804,1013.37 1138,1106.08 1305.19,1106.08 1472.38,1106.08 1639.57,1106.08 1806.76,1198.8 \n",
       "  1973.95,1198.8 \n",
       "  \"/>\n",
       "<polyline clip-path=\"url(#clip142)\" style=\"stroke:#ed5d92; stroke-width:4; stroke-opacity:1; fill:none\" points=\"\n",
       "  302.037,178.904 469.229,178.904 636.421,178.904 803.612,178.904 970.804,178.904 1138,178.904 1305.19,271.622 1472.38,271.622 1639.57,271.622 1806.76,271.622 \n",
       "  1973.95,271.622 \n",
       "  \"/>\n",
       "<polyline clip-path=\"url(#clip142)\" style=\"stroke:#c68125; stroke-width:4; stroke-opacity:1; fill:none\" points=\"\n",
       "  302.037,86.1857 469.229,86.1857 636.421,86.1857 803.612,86.1857 970.804,86.1857 1138,178.904 1305.19,178.904 1472.38,178.904 1639.57,178.904 1806.76,178.904 \n",
       "  1973.95,178.904 \n",
       "  \"/>\n",
       "<path clip-path=\"url(#clip140)\" d=\"\n",
       "M2094.14 977.132 L2352.76 977.132 L2352.76 432.812 L2094.14 432.812  Z\n",
       "  \" fill=\"#ffffff\" fill-rule=\"evenodd\" fill-opacity=\"1\"/>\n",
       "<polyline clip-path=\"url(#clip140)\" style=\"stroke:#000000; stroke-width:4; stroke-opacity:1; fill:none\" points=\"\n",
       "  2094.14,977.132 2352.76,977.132 2352.76,432.812 2094.14,432.812 2094.14,977.132 \n",
       "  \"/>\n",
       "<polyline clip-path=\"url(#clip140)\" style=\"stroke:#009af9; stroke-width:4; stroke-opacity:1; fill:none\" points=\"\n",
       "  2117.48,493.292 2257.54,493.292 \n",
       "  \"/>\n",
       "<path clip-path=\"url(#clip140)\" d=\"M 0 0 M2281.56 506.637 L2289.19 506.637 L2289.19 480.271 L2280.88 481.938 L2280.88 477.679 L2289.15 476.012 L2293.82 476.012 L2293.82 506.637 L2301.46 506.637 L2301.46 510.572 L2281.56 510.572 L2281.56 506.637 Z\" fill=\"#000000\" fill-rule=\"evenodd\" fill-opacity=\"1\" /><polyline clip-path=\"url(#clip140)\" style=\"stroke:#e26f46; stroke-width:4; stroke-opacity:1; fill:none\" points=\"\n",
       "  2117.48,553.772 2257.54,553.772 \n",
       "  \"/>\n",
       "<path clip-path=\"url(#clip140)\" d=\"M 0 0 M2286.51 567.117 L2302.83 567.117 L2302.83 571.052 L2280.88 571.052 L2280.88 567.117 Q2283.55 564.362 2288.13 559.733 Q2292.74 555.08 2293.92 553.737 Q2296.16 551.214 2297.04 549.478 Q2297.94 547.719 2297.94 546.029 Q2297.94 543.274 2296 541.538 Q2294.08 539.802 2290.98 539.802 Q2288.78 539.802 2286.32 540.566 Q2283.89 541.33 2281.12 542.881 L2281.12 538.159 Q2283.94 537.024 2286.39 536.446 Q2288.85 535.867 2290.88 535.867 Q2296.26 535.867 2299.45 538.552 Q2302.64 541.237 2302.64 545.728 Q2302.64 547.858 2301.83 549.779 Q2301.05 551.677 2298.94 554.27 Q2298.36 554.941 2295.26 558.159 Q2292.16 561.353 2286.51 567.117 Z\" fill=\"#000000\" fill-rule=\"evenodd\" fill-opacity=\"1\" /><polyline clip-path=\"url(#clip140)\" style=\"stroke:#3da44d; stroke-width:4; stroke-opacity:1; fill:none\" points=\"\n",
       "  2117.48,614.252 2257.54,614.252 \n",
       "  \"/>\n",
       "<path clip-path=\"url(#clip140)\" d=\"M 0 0 M2296.51 612.898 Q2299.87 613.615 2301.74 615.884 Q2303.64 618.152 2303.64 621.486 Q2303.64 626.601 2300.12 629.402 Q2296.6 632.203 2290.12 632.203 Q2287.94 632.203 2285.63 631.763 Q2283.34 631.347 2280.88 630.49 L2280.88 625.976 Q2282.83 627.111 2285.14 627.689 Q2287.46 628.268 2289.98 628.268 Q2294.38 628.268 2296.67 626.532 Q2298.99 624.796 2298.99 621.486 Q2298.99 618.43 2296.83 616.717 Q2294.7 614.981 2290.88 614.981 L2286.86 614.981 L2286.86 611.139 L2291.07 611.139 Q2294.52 611.139 2296.35 609.773 Q2298.18 608.384 2298.18 605.791 Q2298.18 603.129 2296.28 601.717 Q2294.4 600.282 2290.88 600.282 Q2288.96 600.282 2286.76 600.699 Q2284.57 601.115 2281.93 601.995 L2281.93 597.828 Q2284.59 597.088 2286.9 596.717 Q2289.24 596.347 2291.3 596.347 Q2296.63 596.347 2299.73 598.778 Q2302.83 601.185 2302.83 605.305 Q2302.83 608.176 2301.19 610.166 Q2299.54 612.134 2296.51 612.898 Z\" fill=\"#000000\" fill-rule=\"evenodd\" fill-opacity=\"1\" /><polyline clip-path=\"url(#clip140)\" style=\"stroke:#c271d2; stroke-width:4; stroke-opacity:1; fill:none\" points=\"\n",
       "  2117.48,674.732 2257.54,674.732 \n",
       "  \"/>\n",
       "<path clip-path=\"url(#clip140)\" d=\"M 0 0 M2296.49 661.526 L2284.68 679.975 L2296.49 679.975 L2296.49 661.526 M2295.26 657.452 L2301.14 657.452 L2301.14 679.975 L2306.07 679.975 L2306.07 683.864 L2301.14 683.864 L2301.14 692.012 L2296.49 692.012 L2296.49 683.864 L2280.88 683.864 L2280.88 679.35 L2295.26 657.452 Z\" fill=\"#000000\" fill-rule=\"evenodd\" fill-opacity=\"1\" /><polyline clip-path=\"url(#clip140)\" style=\"stroke:#ac8d18; stroke-width:4; stroke-opacity:1; fill:none\" points=\"\n",
       "  2117.48,735.212 2257.54,735.212 \n",
       "  \"/>\n",
       "<path clip-path=\"url(#clip140)\" d=\"M 0 0 M2282.34 717.932 L2300.7 717.932 L2300.7 721.867 L2286.63 721.867 L2286.63 730.339 Q2287.64 729.992 2288.66 729.83 Q2289.68 729.645 2290.7 729.645 Q2296.49 729.645 2299.87 732.816 Q2303.25 735.987 2303.25 741.404 Q2303.25 746.983 2299.77 750.085 Q2296.3 753.163 2289.98 753.163 Q2287.81 753.163 2285.54 752.793 Q2283.29 752.423 2280.88 751.682 L2280.88 746.983 Q2282.97 748.117 2285.19 748.673 Q2287.41 749.228 2289.89 749.228 Q2293.89 749.228 2296.23 747.122 Q2298.57 745.015 2298.57 741.404 Q2298.57 737.793 2296.23 735.687 Q2293.89 733.58 2289.89 733.58 Q2288.01 733.58 2286.14 733.997 Q2284.29 734.413 2282.34 735.293 L2282.34 717.932 Z\" fill=\"#000000\" fill-rule=\"evenodd\" fill-opacity=\"1\" /><polyline clip-path=\"url(#clip140)\" style=\"stroke:#00a9ad; stroke-width:4; stroke-opacity:1; fill:none\" points=\"\n",
       "  2117.48,795.692 2257.54,795.692 \n",
       "  \"/>\n",
       "<path clip-path=\"url(#clip140)\" d=\"M 0 0 M2293.22 793.829 Q2290.07 793.829 2288.22 795.981 Q2286.39 798.134 2286.39 801.884 Q2286.39 805.611 2288.22 807.787 Q2290.07 809.94 2293.22 809.94 Q2296.37 809.94 2298.2 807.787 Q2300.05 805.611 2300.05 801.884 Q2300.05 798.134 2298.2 795.981 Q2296.37 793.829 2293.22 793.829 M2302.5 779.176 L2302.5 783.435 Q2300.75 782.602 2298.94 782.162 Q2297.16 781.722 2295.4 781.722 Q2290.77 781.722 2288.32 784.847 Q2285.88 787.972 2285.54 794.292 Q2286.9 792.278 2288.96 791.213 Q2291.02 790.125 2293.5 790.125 Q2298.71 790.125 2301.72 793.296 Q2304.75 796.444 2304.75 801.884 Q2304.75 807.208 2301.6 810.426 Q2298.45 813.643 2293.22 813.643 Q2287.23 813.643 2284.06 809.06 Q2280.88 804.453 2280.88 795.727 Q2280.88 787.532 2284.77 782.671 Q2288.66 777.787 2295.21 777.787 Q2296.97 777.787 2298.75 778.134 Q2300.56 778.481 2302.5 779.176 Z\" fill=\"#000000\" fill-rule=\"evenodd\" fill-opacity=\"1\" /><polyline clip-path=\"url(#clip140)\" style=\"stroke:#ed5d92; stroke-width:4; stroke-opacity:1; fill:none\" points=\"\n",
       "  2117.48,856.172 2257.54,856.172 \n",
       "  \"/>\n",
       "<path clip-path=\"url(#clip140)\" d=\"M 0 0 M2280.88 838.892 L2303.11 838.892 L2303.11 840.883 L2290.56 873.452 L2285.68 873.452 L2297.48 842.827 L2280.88 842.827 L2280.88 838.892 Z\" fill=\"#000000\" fill-rule=\"evenodd\" fill-opacity=\"1\" /><polyline clip-path=\"url(#clip140)\" style=\"stroke:#c68125; stroke-width:4; stroke-opacity:1; fill:none\" points=\"\n",
       "  2117.48,916.652 2257.54,916.652 \n",
       "  \"/>\n",
       "<path clip-path=\"url(#clip140)\" d=\"M 0 0 M2292.74 917.52 Q2289.4 917.52 2287.48 919.302 Q2285.58 921.085 2285.58 924.21 Q2285.58 927.335 2287.48 929.117 Q2289.4 930.9 2292.74 930.9 Q2296.07 930.9 2297.99 929.117 Q2299.91 927.312 2299.91 924.21 Q2299.91 921.085 2297.99 919.302 Q2296.09 917.52 2292.74 917.52 M2288.06 915.529 Q2285.05 914.789 2283.36 912.728 Q2281.69 910.668 2281.69 907.705 Q2281.69 903.562 2284.63 901.154 Q2287.6 898.747 2292.74 898.747 Q2297.9 898.747 2300.84 901.154 Q2303.78 903.562 2303.78 907.705 Q2303.78 910.668 2302.09 912.728 Q2300.42 914.789 2297.44 915.529 Q2300.82 916.316 2302.69 918.608 Q2304.59 920.9 2304.59 924.21 Q2304.59 929.233 2301.51 931.918 Q2298.45 934.603 2292.74 934.603 Q2287.02 934.603 2283.94 931.918 Q2280.88 929.233 2280.88 924.21 Q2280.88 920.9 2282.78 918.608 Q2284.68 916.316 2288.06 915.529 M2286.35 908.145 Q2286.35 910.83 2288.01 912.335 Q2289.7 913.839 2292.74 913.839 Q2295.75 913.839 2297.44 912.335 Q2299.15 910.83 2299.15 908.145 Q2299.15 905.46 2297.44 903.955 Q2295.75 902.451 2292.74 902.451 Q2289.7 902.451 2288.01 903.955 Q2286.35 905.46 2286.35 908.145 Z\" fill=\"#000000\" fill-rule=\"evenodd\" fill-opacity=\"1\" /></svg>\n"
      ]
     },
     "execution_count": 15,
     "metadata": {},
     "output_type": "execute_result"
    }
   ],
   "source": [
    "delta_list = range(0.5,stop=1.5,length=11)\n",
    "all_delta = zeros(Q+1,11)\n",
    "for i in 1:11\n",
    "    mio_obj,nvisit_obj,z_val,x_val,w_val,nvisits_val,soltime = mio(wl_bool,evening_bool,weekend_bool,Cq,alpha.*delta_list[i],beta,gamma,C_inperson,C_max,Tn_max,Vn_max,H,E);\n",
    "    all_delta[1,i] = nvisit_obj\n",
    "    for q in 1:Q\n",
    "        all_delta[q+1,i] = sum(nvisits_val[q,:,:,:])\n",
    "    end\n",
    "end\n",
    "plot(delta_list.*100,all_delta[2,:],label=1,legend=:outerright,xlabel=\"Provider cancellation rate (% relative to current)\",ylabel=\"Number of visits\") \n",
    "for q in 2:Q\n",
    "    plot!(delta_list.*100,all_delta[q+1,:],label=q)\n",
    "end\n",
    "current()\n",
    "# telehealth team most impact "
   ]
  },
  {
   "cell_type": "code",
   "execution_count": 16,
   "metadata": {},
   "outputs": [
    {
     "name": "stdout",
     "output_type": "stream",
     "text": [
      "Academic license - for non-commercial use only\n",
      "Academic license - for non-commercial use only\n",
      "Academic license - for non-commercial use only\n",
      "Academic license - for non-commercial use only\n",
      "Academic license - for non-commercial use only\n",
      "Academic license - for non-commercial use only\n",
      "Academic license - for non-commercial use only\n",
      "Academic license - for non-commercial use only\n",
      "Academic license - for non-commercial use only\n",
      "Academic license - for non-commercial use only\n",
      "Academic license - for non-commercial use only\n"
     ]
    },
    {
     "data": {
      "image/svg+xml": [
       "<?xml version=\"1.0\" encoding=\"utf-8\"?>\n",
       "<svg xmlns=\"http://www.w3.org/2000/svg\" xmlns:xlink=\"http://www.w3.org/1999/xlink\" width=\"600\" height=\"400\" viewBox=\"0 0 2400 1600\">\n",
       "<defs>\n",
       "  <clipPath id=\"clip180\">\n",
       "    <rect x=\"0\" y=\"0\" width=\"2400\" height=\"1600\"/>\n",
       "  </clipPath>\n",
       "</defs>\n",
       "<path clip-path=\"url(#clip180)\" d=\"\n",
       "M0 1600 L2400 1600 L2400 0 L0 0  Z\n",
       "  \" fill=\"#ffffff\" fill-rule=\"evenodd\" fill-opacity=\"1\"/>\n",
       "<defs>\n",
       "  <clipPath id=\"clip181\">\n",
       "    <rect x=\"480\" y=\"0\" width=\"1681\" height=\"1600\"/>\n",
       "  </clipPath>\n",
       "</defs>\n",
       "<path clip-path=\"url(#clip180)\" d=\"\n",
       "M251.88 1423.18 L2024.11 1423.18 L2024.11 47.2441 L251.88 47.2441  Z\n",
       "  \" fill=\"#ffffff\" fill-rule=\"evenodd\" fill-opacity=\"1\"/>\n",
       "<defs>\n",
       "  <clipPath id=\"clip182\">\n",
       "    <rect x=\"251\" y=\"47\" width=\"1773\" height=\"1377\"/>\n",
       "  </clipPath>\n",
       "</defs>\n",
       "<polyline clip-path=\"url(#clip182)\" style=\"stroke:#000000; stroke-width:2; stroke-opacity:0.1; fill:none\" points=\"\n",
       "  469.229,1423.18 469.229,47.2441 \n",
       "  \"/>\n",
       "<polyline clip-path=\"url(#clip182)\" style=\"stroke:#000000; stroke-width:2; stroke-opacity:0.1; fill:none\" points=\"\n",
       "  803.612,1423.18 803.612,47.2441 \n",
       "  \"/>\n",
       "<polyline clip-path=\"url(#clip182)\" style=\"stroke:#000000; stroke-width:2; stroke-opacity:0.1; fill:none\" points=\"\n",
       "  1138,1423.18 1138,47.2441 \n",
       "  \"/>\n",
       "<polyline clip-path=\"url(#clip182)\" style=\"stroke:#000000; stroke-width:2; stroke-opacity:0.1; fill:none\" points=\"\n",
       "  1472.38,1423.18 1472.38,47.2441 \n",
       "  \"/>\n",
       "<polyline clip-path=\"url(#clip182)\" style=\"stroke:#000000; stroke-width:2; stroke-opacity:0.1; fill:none\" points=\"\n",
       "  1806.76,1423.18 1806.76,47.2441 \n",
       "  \"/>\n",
       "<polyline clip-path=\"url(#clip180)\" style=\"stroke:#000000; stroke-width:4; stroke-opacity:1; fill:none\" points=\"\n",
       "  251.88,1423.18 2024.11,1423.18 \n",
       "  \"/>\n",
       "<polyline clip-path=\"url(#clip180)\" style=\"stroke:#000000; stroke-width:4; stroke-opacity:1; fill:none\" points=\"\n",
       "  469.229,1423.18 469.229,1406.67 \n",
       "  \"/>\n",
       "<polyline clip-path=\"url(#clip180)\" style=\"stroke:#000000; stroke-width:4; stroke-opacity:1; fill:none\" points=\"\n",
       "  803.612,1423.18 803.612,1406.67 \n",
       "  \"/>\n",
       "<polyline clip-path=\"url(#clip180)\" style=\"stroke:#000000; stroke-width:4; stroke-opacity:1; fill:none\" points=\"\n",
       "  1138,1423.18 1138,1406.67 \n",
       "  \"/>\n",
       "<polyline clip-path=\"url(#clip180)\" style=\"stroke:#000000; stroke-width:4; stroke-opacity:1; fill:none\" points=\"\n",
       "  1472.38,1423.18 1472.38,1406.67 \n",
       "  \"/>\n",
       "<polyline clip-path=\"url(#clip180)\" style=\"stroke:#000000; stroke-width:4; stroke-opacity:1; fill:none\" points=\"\n",
       "  1806.76,1423.18 1806.76,1406.67 \n",
       "  \"/>\n",
       "<path clip-path=\"url(#clip180)\" d=\"M 0 0 M456.127 1464.71 Q452.979 1464.71 451.127 1466.86 Q449.299 1469.01 449.299 1472.76 Q449.299 1476.49 451.127 1478.67 Q452.979 1480.82 456.127 1480.82 Q459.275 1480.82 461.104 1478.67 Q462.956 1476.49 462.956 1472.76 Q462.956 1469.01 461.104 1466.86 Q459.275 1464.71 456.127 1464.71 M465.41 1450.06 L465.41 1454.31 Q463.65 1453.48 461.845 1453.04 Q460.062 1452.6 458.303 1452.6 Q453.674 1452.6 451.22 1455.73 Q448.789 1458.85 448.442 1465.17 Q449.808 1463.16 451.868 1462.09 Q453.928 1461 456.405 1461 Q461.613 1461 464.623 1464.18 Q467.655 1467.32 467.655 1472.76 Q467.655 1478.09 464.507 1481.31 Q461.359 1484.52 456.127 1484.52 Q450.132 1484.52 446.961 1479.94 Q443.789 1475.33 443.789 1466.61 Q443.789 1458.41 447.678 1453.55 Q451.567 1448.67 458.118 1448.67 Q459.877 1448.67 461.66 1449.01 Q463.465 1449.36 465.41 1450.06 Z\" fill=\"#000000\" fill-rule=\"evenodd\" fill-opacity=\"1\" /><path clip-path=\"url(#clip180)\" d=\"M 0 0 M482.724 1452.37 Q479.113 1452.37 477.285 1455.94 Q475.479 1459.48 475.479 1466.61 Q475.479 1473.71 477.285 1477.28 Q479.113 1480.82 482.724 1480.82 Q486.359 1480.82 488.164 1477.28 Q489.993 1473.71 489.993 1466.61 Q489.993 1459.48 488.164 1455.94 Q486.359 1452.37 482.724 1452.37 M482.724 1448.67 Q488.535 1448.67 491.59 1453.27 Q494.669 1457.86 494.669 1466.61 Q494.669 1475.33 491.59 1479.94 Q488.535 1484.52 482.724 1484.52 Q476.914 1484.52 473.836 1479.94 Q470.78 1475.33 470.78 1466.61 Q470.78 1457.86 473.836 1453.27 Q476.914 1448.67 482.724 1448.67 Z\" fill=\"#000000\" fill-rule=\"evenodd\" fill-opacity=\"1\" /><path clip-path=\"url(#clip180)\" d=\"M 0 0 M790.105 1467.44 Q786.772 1467.44 784.851 1469.22 Q782.953 1471 782.953 1474.13 Q782.953 1477.25 784.851 1479.04 Q786.772 1480.82 790.105 1480.82 Q793.439 1480.82 795.36 1479.04 Q797.281 1477.23 797.281 1474.13 Q797.281 1471 795.36 1469.22 Q793.462 1467.44 790.105 1467.44 M785.43 1465.45 Q782.42 1464.71 780.73 1462.65 Q779.064 1460.59 779.064 1457.63 Q779.064 1453.48 782.004 1451.07 Q784.967 1448.67 790.105 1448.67 Q795.267 1448.67 798.207 1451.07 Q801.147 1453.48 801.147 1457.63 Q801.147 1460.59 799.457 1462.65 Q797.791 1464.71 794.804 1465.45 Q798.184 1466.24 800.059 1468.53 Q801.957 1470.82 801.957 1474.13 Q801.957 1479.15 798.879 1481.84 Q795.823 1484.52 790.105 1484.52 Q784.388 1484.52 781.309 1481.84 Q778.254 1479.15 778.254 1474.13 Q778.254 1470.82 780.152 1468.53 Q782.05 1466.24 785.43 1465.45 M783.717 1458.06 Q783.717 1460.75 785.383 1462.25 Q787.073 1463.76 790.105 1463.76 Q793.115 1463.76 794.804 1462.25 Q796.517 1460.75 796.517 1458.06 Q796.517 1455.38 794.804 1453.88 Q793.115 1452.37 790.105 1452.37 Q787.073 1452.37 785.383 1453.88 Q783.717 1455.38 783.717 1458.06 Z\" fill=\"#000000\" fill-rule=\"evenodd\" fill-opacity=\"1\" /><path clip-path=\"url(#clip180)\" d=\"M 0 0 M817.027 1452.37 Q813.415 1452.37 811.587 1455.94 Q809.781 1459.48 809.781 1466.61 Q809.781 1473.71 811.587 1477.28 Q813.415 1480.82 817.027 1480.82 Q820.661 1480.82 822.466 1477.28 Q824.295 1473.71 824.295 1466.61 Q824.295 1459.48 822.466 1455.94 Q820.661 1452.37 817.027 1452.37 M817.027 1448.67 Q822.837 1448.67 825.892 1453.27 Q828.971 1457.86 828.971 1466.61 Q828.971 1475.33 825.892 1479.94 Q822.837 1484.52 817.027 1484.52 Q811.216 1484.52 808.138 1479.94 Q805.082 1475.33 805.082 1466.61 Q805.082 1457.86 808.138 1453.27 Q811.216 1448.67 817.027 1448.67 Z\" fill=\"#000000\" fill-rule=\"evenodd\" fill-opacity=\"1\" /><path clip-path=\"url(#clip180)\" d=\"M 0 0 M1101.36 1479.92 L1109 1479.92 L1109 1453.55 L1100.69 1455.22 L1100.69 1450.96 L1108.96 1449.29 L1113.63 1449.29 L1113.63 1479.92 L1121.27 1479.92 L1121.27 1483.85 L1101.36 1483.85 L1101.36 1479.92 Z\" fill=\"#000000\" fill-rule=\"evenodd\" fill-opacity=\"1\" /><path clip-path=\"url(#clip180)\" d=\"M 0 0 M1136.34 1452.37 Q1132.73 1452.37 1130.9 1455.94 Q1129.1 1459.48 1129.1 1466.61 Q1129.1 1473.71 1130.9 1477.28 Q1132.73 1480.82 1136.34 1480.82 Q1139.97 1480.82 1141.78 1477.28 Q1143.61 1473.71 1143.61 1466.61 Q1143.61 1459.48 1141.78 1455.94 Q1139.97 1452.37 1136.34 1452.37 M1136.34 1448.67 Q1142.15 1448.67 1145.21 1453.27 Q1148.28 1457.86 1148.28 1466.61 Q1148.28 1475.33 1145.21 1479.94 Q1142.15 1484.52 1136.34 1484.52 Q1130.53 1484.52 1127.45 1479.94 Q1124.4 1475.33 1124.4 1466.61 Q1124.4 1457.86 1127.45 1453.27 Q1130.53 1448.67 1136.34 1448.67 Z\" fill=\"#000000\" fill-rule=\"evenodd\" fill-opacity=\"1\" /><path clip-path=\"url(#clip180)\" d=\"M 0 0 M1163.35 1452.37 Q1159.74 1452.37 1157.91 1455.94 Q1156.11 1459.48 1156.11 1466.61 Q1156.11 1473.71 1157.91 1477.28 Q1159.74 1480.82 1163.35 1480.82 Q1166.99 1480.82 1168.79 1477.28 Q1170.62 1473.71 1170.62 1466.61 Q1170.62 1459.48 1168.79 1455.94 Q1166.99 1452.37 1163.35 1452.37 M1163.35 1448.67 Q1169.16 1448.67 1172.22 1453.27 Q1175.3 1457.86 1175.3 1466.61 Q1175.3 1475.33 1172.22 1479.94 Q1169.16 1484.52 1163.35 1484.52 Q1157.54 1484.52 1154.47 1479.94 Q1151.41 1475.33 1151.41 1466.61 Q1151.41 1457.86 1154.47 1453.27 Q1157.54 1448.67 1163.35 1448.67 Z\" fill=\"#000000\" fill-rule=\"evenodd\" fill-opacity=\"1\" /><path clip-path=\"url(#clip180)\" d=\"M 0 0 M1436.55 1479.92 L1444.18 1479.92 L1444.18 1453.55 L1435.87 1455.22 L1435.87 1450.96 L1444.14 1449.29 L1448.81 1449.29 L1448.81 1479.92 L1456.45 1479.92 L1456.45 1483.85 L1436.55 1483.85 L1436.55 1479.92 Z\" fill=\"#000000\" fill-rule=\"evenodd\" fill-opacity=\"1\" /><path clip-path=\"url(#clip180)\" d=\"M 0 0 M1465.55 1479.92 L1481.87 1479.92 L1481.87 1483.85 L1459.93 1483.85 L1459.93 1479.92 Q1462.59 1477.16 1467.17 1472.53 Q1471.78 1467.88 1472.96 1466.54 Q1475.2 1464.01 1476.08 1462.28 Q1476.99 1460.52 1476.99 1458.83 Q1476.99 1456.07 1475.04 1454.34 Q1473.12 1452.6 1470.02 1452.6 Q1467.82 1452.6 1465.36 1453.37 Q1462.93 1454.13 1460.16 1455.68 L1460.16 1450.96 Q1462.98 1449.82 1465.43 1449.25 Q1467.89 1448.67 1469.93 1448.67 Q1475.3 1448.67 1478.49 1451.35 Q1481.68 1454.04 1481.68 1458.53 Q1481.68 1460.66 1480.87 1462.58 Q1480.09 1464.48 1477.98 1467.07 Q1477.4 1467.74 1474.3 1470.96 Q1471.2 1474.15 1465.55 1479.92 Z\" fill=\"#000000\" fill-rule=\"evenodd\" fill-opacity=\"1\" /><path clip-path=\"url(#clip180)\" d=\"M 0 0 M1496.94 1452.37 Q1493.33 1452.37 1491.5 1455.94 Q1489.69 1459.48 1489.69 1466.61 Q1489.69 1473.71 1491.5 1477.28 Q1493.33 1480.82 1496.94 1480.82 Q1500.57 1480.82 1502.38 1477.28 Q1504.21 1473.71 1504.21 1466.61 Q1504.21 1459.48 1502.38 1455.94 Q1500.57 1452.37 1496.94 1452.37 M1496.94 1448.67 Q1502.75 1448.67 1505.8 1453.27 Q1508.88 1457.86 1508.88 1466.61 Q1508.88 1475.33 1505.8 1479.94 Q1502.75 1484.52 1496.94 1484.52 Q1491.13 1484.52 1488.05 1479.94 Q1484.99 1475.33 1484.99 1466.61 Q1484.99 1457.86 1488.05 1453.27 Q1491.13 1448.67 1496.94 1448.67 Z\" fill=\"#000000\" fill-rule=\"evenodd\" fill-opacity=\"1\" /><path clip-path=\"url(#clip180)\" d=\"M 0 0 M1769.89 1479.92 L1777.53 1479.92 L1777.53 1453.55 L1769.22 1455.22 L1769.22 1450.96 L1777.48 1449.29 L1782.16 1449.29 L1782.16 1479.92 L1789.79 1479.92 L1789.79 1483.85 L1769.89 1483.85 L1769.89 1479.92 Z\" fill=\"#000000\" fill-rule=\"evenodd\" fill-opacity=\"1\" /><path clip-path=\"url(#clip180)\" d=\"M 0 0 M1807.71 1453.37 L1795.91 1471.81 L1807.71 1471.81 L1807.71 1453.37 M1806.48 1449.29 L1812.36 1449.29 L1812.36 1471.81 L1817.29 1471.81 L1817.29 1475.7 L1812.36 1475.7 L1812.36 1483.85 L1807.71 1483.85 L1807.71 1475.7 L1792.11 1475.7 L1792.11 1471.19 L1806.48 1449.29 Z\" fill=\"#000000\" fill-rule=\"evenodd\" fill-opacity=\"1\" /><path clip-path=\"url(#clip180)\" d=\"M 0 0 M1832.36 1452.37 Q1828.75 1452.37 1826.92 1455.94 Q1825.12 1459.48 1825.12 1466.61 Q1825.12 1473.71 1826.92 1477.28 Q1828.75 1480.82 1832.36 1480.82 Q1836 1480.82 1837.8 1477.28 Q1839.63 1473.71 1839.63 1466.61 Q1839.63 1459.48 1837.8 1455.94 Q1836 1452.37 1832.36 1452.37 M1832.36 1448.67 Q1838.17 1448.67 1841.23 1453.27 Q1844.31 1457.86 1844.31 1466.61 Q1844.31 1475.33 1841.23 1479.94 Q1838.17 1484.52 1832.36 1484.52 Q1826.55 1484.52 1823.47 1479.94 Q1820.42 1475.33 1820.42 1466.61 Q1820.42 1457.86 1823.47 1453.27 Q1826.55 1448.67 1832.36 1448.67 Z\" fill=\"#000000\" fill-rule=\"evenodd\" fill-opacity=\"1\" /><path clip-path=\"url(#clip180)\" d=\"M 0 0 M559.003 1508.52 L568.583 1508.52 L580.71 1540.86 L592.9 1508.52 L602.48 1508.52 L602.48 1556.04 L596.21 1556.04 L596.21 1514.32 L583.956 1546.91 L577.495 1546.91 L565.241 1514.32 L565.241 1556.04 L559.003 1556.04 L559.003 1508.52 Z\" fill=\"#000000\" fill-rule=\"evenodd\" fill-opacity=\"1\" /><path clip-path=\"url(#clip180)\" d=\"M 0 0 M624.824 1538.12 Q617.726 1538.12 614.989 1539.75 Q612.252 1541.37 612.252 1545.29 Q612.252 1548.4 614.289 1550.25 Q616.358 1552.07 619.891 1552.07 Q624.76 1552.07 627.689 1548.63 Q630.649 1545.16 630.649 1539.43 L630.649 1538.12 L624.824 1538.12 M636.505 1535.71 L636.505 1556.04 L630.649 1556.04 L630.649 1550.63 Q628.643 1553.88 625.652 1555.44 Q622.66 1556.97 618.331 1556.97 Q612.857 1556.97 609.61 1553.91 Q606.395 1550.82 606.395 1545.67 Q606.395 1539.65 610.406 1536.6 Q614.448 1533.54 622.437 1533.54 L630.649 1533.54 L630.649 1532.97 Q630.649 1528.93 627.975 1526.73 Q625.333 1524.5 620.527 1524.5 Q617.472 1524.5 614.575 1525.23 Q611.679 1525.97 609.005 1527.43 L609.005 1522.02 Q612.22 1520.78 615.244 1520.17 Q618.267 1519.54 621.132 1519.54 Q628.866 1519.54 632.686 1523.55 Q636.505 1527.56 636.505 1535.71 Z\" fill=\"#000000\" fill-rule=\"evenodd\" fill-opacity=\"1\" /><path clip-path=\"url(#clip180)\" d=\"M 0 0 M672.28 1520.4 L659.39 1537.74 L672.949 1556.04 L666.042 1556.04 L655.666 1542.04 L645.29 1556.04 L638.383 1556.04 L652.228 1537.39 L639.561 1520.4 L646.467 1520.4 L655.921 1533.1 L665.374 1520.4 L672.28 1520.4 Z\" fill=\"#000000\" fill-rule=\"evenodd\" fill-opacity=\"1\" /><path clip-path=\"url(#clip180)\" d=\"M 0 0 M729.444 1534.53 L729.444 1556.04 L723.588 1556.04 L723.588 1534.72 Q723.588 1529.66 721.615 1527.14 Q719.641 1524.63 715.695 1524.63 Q710.952 1524.63 708.215 1527.65 Q705.478 1530.68 705.478 1535.9 L705.478 1556.04 L699.589 1556.04 L699.589 1506.52 L705.478 1506.52 L705.478 1525.93 Q707.578 1522.72 710.411 1521.13 Q713.276 1519.54 716.999 1519.54 Q723.142 1519.54 726.293 1523.36 Q729.444 1527.14 729.444 1534.53 Z\" fill=\"#000000\" fill-rule=\"evenodd\" fill-opacity=\"1\" /><path clip-path=\"url(#clip180)\" d=\"M 0 0 M749.401 1524.5 Q744.69 1524.5 741.953 1528.19 Q739.216 1531.85 739.216 1538.25 Q739.216 1544.65 741.921 1548.34 Q744.658 1552 749.401 1552 Q754.08 1552 756.817 1548.31 Q759.554 1544.62 759.554 1538.25 Q759.554 1531.92 756.817 1528.23 Q754.08 1524.5 749.401 1524.5 M749.401 1519.54 Q757.04 1519.54 761.4 1524.5 Q765.761 1529.47 765.761 1538.25 Q765.761 1547 761.4 1552 Q757.04 1556.97 749.401 1556.97 Q741.73 1556.97 737.37 1552 Q733.041 1547 733.041 1538.25 Q733.041 1529.47 737.37 1524.5 Q741.73 1519.54 749.401 1519.54 Z\" fill=\"#000000\" fill-rule=\"evenodd\" fill-opacity=\"1\" /><path clip-path=\"url(#clip180)\" d=\"M 0 0 M771.299 1541.98 L771.299 1520.4 L777.155 1520.4 L777.155 1541.75 Q777.155 1546.81 779.129 1549.36 Q781.102 1551.87 785.049 1551.87 Q789.791 1551.87 792.529 1548.85 Q795.298 1545.83 795.298 1540.61 L795.298 1520.4 L801.154 1520.4 L801.154 1556.04 L795.298 1556.04 L795.298 1550.57 Q793.165 1553.82 790.332 1555.41 Q787.532 1556.97 783.808 1556.97 Q777.665 1556.97 774.482 1553.15 Q771.299 1549.33 771.299 1541.98 M786.036 1519.54 L786.036 1519.54 Z\" fill=\"#000000\" fill-rule=\"evenodd\" fill-opacity=\"1\" /><path clip-path=\"url(#clip180)\" d=\"M 0 0 M827.954 1525.87 Q826.967 1525.3 825.789 1525.04 Q824.644 1524.76 823.243 1524.76 Q818.278 1524.76 815.604 1528 Q812.963 1531.22 812.963 1537.27 L812.963 1556.04 L807.074 1556.04 L807.074 1520.4 L812.963 1520.4 L812.963 1525.93 Q814.809 1522.69 817.769 1521.13 Q820.729 1519.54 824.962 1519.54 Q825.567 1519.54 826.299 1519.63 Q827.031 1519.7 827.922 1519.85 L827.954 1525.87 Z\" fill=\"#000000\" fill-rule=\"evenodd\" fill-opacity=\"1\" /><path clip-path=\"url(#clip180)\" d=\"M 0 0 M834.097 1506.52 L839.953 1506.52 L839.953 1556.04 L834.097 1556.04 L834.097 1506.52 Z\" fill=\"#000000\" fill-rule=\"evenodd\" fill-opacity=\"1\" /><path clip-path=\"url(#clip180)\" d=\"M 0 0 M860.928 1559.35 Q858.445 1565.72 856.09 1567.66 Q853.735 1569.6 849.788 1569.6 L845.109 1569.6 L845.109 1564.7 L848.547 1564.7 Q850.966 1564.7 852.303 1563.56 Q853.639 1562.41 855.263 1558.14 L856.313 1555.47 L841.895 1520.4 L848.101 1520.4 L859.241 1548.28 L870.381 1520.4 L876.588 1520.4 L860.928 1559.35 Z\" fill=\"#000000\" fill-rule=\"evenodd\" fill-opacity=\"1\" /><path clip-path=\"url(#clip180)\" d=\"M 0 0 M899.25 1520.4 L905.456 1520.4 L916.596 1550.31 L927.736 1520.4 L933.943 1520.4 L920.575 1556.04 L912.618 1556.04 L899.25 1520.4 Z\" fill=\"#000000\" fill-rule=\"evenodd\" fill-opacity=\"1\" /><path clip-path=\"url(#clip180)\" d=\"M 0 0 M940.086 1520.4 L945.942 1520.4 L945.942 1556.04 L940.086 1556.04 L940.086 1520.4 M940.086 1506.52 L945.942 1506.52 L945.942 1513.93 L940.086 1513.93 L940.086 1506.52 Z\" fill=\"#000000\" fill-rule=\"evenodd\" fill-opacity=\"1\" /><path clip-path=\"url(#clip180)\" d=\"M 0 0 M974.811 1521.45 L974.811 1526.98 Q972.328 1525.71 969.654 1525.07 Q966.981 1524.44 964.116 1524.44 Q959.756 1524.44 957.56 1525.77 Q955.395 1527.11 955.395 1529.79 Q955.395 1531.82 956.955 1533 Q958.514 1534.15 963.225 1535.2 L965.23 1535.64 Q971.469 1536.98 974.079 1539.43 Q976.72 1541.85 976.72 1546.21 Q976.72 1551.17 972.774 1554.07 Q968.859 1556.97 961.984 1556.97 Q959.119 1556.97 956 1556.39 Q952.913 1555.85 949.475 1554.74 L949.475 1548.69 Q952.722 1550.38 955.873 1551.24 Q959.024 1552.07 962.111 1552.07 Q966.249 1552.07 968.477 1550.66 Q970.705 1549.23 970.705 1546.65 Q970.705 1544.27 969.081 1542.99 Q967.49 1541.72 962.047 1540.54 L960.01 1540.07 Q954.568 1538.92 952.149 1536.56 Q949.73 1534.18 949.73 1530.04 Q949.73 1525.01 953.295 1522.27 Q956.859 1519.54 963.416 1519.54 Q966.662 1519.54 969.527 1520.01 Q972.392 1520.49 974.811 1521.45 Z\" fill=\"#000000\" fill-rule=\"evenodd\" fill-opacity=\"1\" /><path clip-path=\"url(#clip180)\" d=\"M 0 0 M982.863 1520.4 L988.72 1520.4 L988.72 1556.04 L982.863 1556.04 L982.863 1520.4 M982.863 1506.52 L988.72 1506.52 L988.72 1513.93 L982.863 1513.93 L982.863 1506.52 Z\" fill=\"#000000\" fill-rule=\"evenodd\" fill-opacity=\"1\" /><path clip-path=\"url(#clip180)\" d=\"M 0 0 M1000.66 1510.27 L1000.66 1520.4 L1012.72 1520.4 L1012.72 1524.95 L1000.66 1524.95 L1000.66 1544.3 Q1000.66 1548.66 1001.83 1549.9 Q1003.04 1551.14 1006.7 1551.14 L1012.72 1551.14 L1012.72 1556.04 L1006.7 1556.04 Q999.923 1556.04 997.345 1553.53 Q994.767 1550.98 994.767 1544.3 L994.767 1524.95 L990.47 1524.95 L990.47 1520.4 L994.767 1520.4 L994.767 1510.27 L1000.66 1510.27 Z\" fill=\"#000000\" fill-rule=\"evenodd\" fill-opacity=\"1\" /><path clip-path=\"url(#clip180)\" d=\"M 0 0 M1041.59 1521.45 L1041.59 1526.98 Q1039.1 1525.71 1036.43 1525.07 Q1033.76 1524.44 1030.89 1524.44 Q1026.53 1524.44 1024.34 1525.77 Q1022.17 1527.11 1022.17 1529.79 Q1022.17 1531.82 1023.73 1533 Q1025.29 1534.15 1030 1535.2 L1032.01 1535.64 Q1038.24 1536.98 1040.85 1539.43 Q1043.5 1541.85 1043.5 1546.21 Q1043.5 1551.17 1039.55 1554.07 Q1035.63 1556.97 1028.76 1556.97 Q1025.9 1556.97 1022.78 1556.39 Q1019.69 1555.85 1016.25 1554.74 L1016.25 1548.69 Q1019.5 1550.38 1022.65 1551.24 Q1025.8 1552.07 1028.89 1552.07 Q1033.02 1552.07 1035.25 1550.66 Q1037.48 1549.23 1037.48 1546.65 Q1037.48 1544.27 1035.86 1542.99 Q1034.27 1541.72 1028.82 1540.54 L1026.79 1540.07 Q1021.34 1538.92 1018.92 1536.56 Q1016.51 1534.18 1016.51 1530.04 Q1016.51 1525.01 1020.07 1522.27 Q1023.64 1519.54 1030.19 1519.54 Q1033.44 1519.54 1036.3 1520.01 Q1039.17 1520.49 1041.59 1521.45 Z\" fill=\"#000000\" fill-rule=\"evenodd\" fill-opacity=\"1\" /><path clip-path=\"url(#clip180)\" d=\"M 0 0 M1084.43 1506.58 Q1080.16 1513.9 1078.09 1521.06 Q1076.03 1528.23 1076.03 1535.58 Q1076.03 1542.93 1078.09 1550.16 Q1080.19 1557.35 1084.43 1564.64 L1079.34 1564.64 Q1074.56 1557.16 1072.17 1549.93 Q1069.82 1542.71 1069.82 1535.58 Q1069.82 1528.48 1072.17 1521.29 Q1074.53 1514.09 1079.34 1506.58 L1084.43 1506.58 Z\" fill=\"#000000\" fill-rule=\"evenodd\" fill-opacity=\"1\" /><path clip-path=\"url(#clip180)\" d=\"M 0 0 M1131.82 1535.13 Q1129.05 1535.13 1127.46 1537.49 Q1125.9 1539.84 1125.9 1544.04 Q1125.9 1548.18 1127.46 1550.57 Q1129.05 1552.92 1131.82 1552.92 Q1134.53 1552.92 1136.09 1550.57 Q1137.68 1548.18 1137.68 1544.04 Q1137.68 1539.87 1136.09 1537.52 Q1134.53 1535.13 1131.82 1535.13 M1131.82 1531.09 Q1136.85 1531.09 1139.81 1534.59 Q1142.77 1538.09 1142.77 1544.04 Q1142.77 1550 1139.78 1553.5 Q1136.82 1556.97 1131.82 1556.97 Q1126.73 1556.97 1123.77 1553.5 Q1120.81 1550 1120.81 1544.04 Q1120.81 1538.06 1123.77 1534.59 Q1126.76 1531.09 1131.82 1531.09 M1098.97 1511.71 Q1096.24 1511.71 1094.65 1514.09 Q1093.09 1516.45 1093.09 1520.59 Q1093.09 1524.79 1094.65 1527.14 Q1096.2 1529.5 1098.97 1529.5 Q1101.74 1529.5 1103.3 1527.14 Q1104.89 1524.79 1104.89 1520.59 Q1104.89 1516.48 1103.3 1514.09 Q1101.71 1511.71 1098.97 1511.71 M1127.71 1507.66 L1132.81 1507.66 L1103.08 1556.97 L1097.99 1556.97 L1127.71 1507.66 M1098.97 1507.66 Q1104 1507.66 1106.99 1511.17 Q1109.99 1514.63 1109.99 1520.59 Q1109.99 1526.6 1106.99 1530.07 Q1104.03 1533.54 1098.97 1533.54 Q1093.91 1533.54 1090.95 1530.07 Q1088.02 1526.57 1088.02 1520.59 Q1088.02 1514.67 1090.98 1511.17 Q1093.94 1507.66 1098.97 1507.66 Z\" fill=\"#000000\" fill-rule=\"evenodd\" fill-opacity=\"1\" /><path clip-path=\"url(#clip180)\" d=\"M 0 0 M1190.29 1525.87 Q1189.3 1525.3 1188.13 1525.04 Q1186.98 1524.76 1185.58 1524.76 Q1180.61 1524.76 1177.94 1528 Q1175.3 1531.22 1175.3 1537.27 L1175.3 1556.04 L1169.41 1556.04 L1169.41 1520.4 L1175.3 1520.4 L1175.3 1525.93 Q1177.14 1522.69 1180.1 1521.13 Q1183.06 1519.54 1187.3 1519.54 Q1187.9 1519.54 1188.63 1519.63 Q1189.37 1519.7 1190.26 1519.85 L1190.29 1525.87 Z\" fill=\"#000000\" fill-rule=\"evenodd\" fill-opacity=\"1\" /><path clip-path=\"url(#clip180)\" d=\"M 0 0 M1225.49 1536.76 L1225.49 1539.62 L1198.57 1539.62 Q1198.95 1545.67 1202.19 1548.85 Q1205.47 1552 1211.3 1552 Q1214.67 1552 1217.82 1551.17 Q1221 1550.35 1224.12 1548.69 L1224.12 1554.23 Q1220.97 1555.57 1217.66 1556.27 Q1214.35 1556.97 1210.95 1556.97 Q1202.42 1556.97 1197.42 1552 Q1192.45 1547.04 1192.45 1538.57 Q1192.45 1529.82 1197.16 1524.69 Q1201.91 1519.54 1209.93 1519.54 Q1217.12 1519.54 1221.29 1524.18 Q1225.49 1528.8 1225.49 1536.76 M1219.64 1535.04 Q1219.57 1530.23 1216.93 1527.37 Q1214.32 1524.5 1209.99 1524.5 Q1205.09 1524.5 1202.13 1527.27 Q1199.2 1530.04 1198.76 1535.07 L1219.64 1535.04 Z\" fill=\"#000000\" fill-rule=\"evenodd\" fill-opacity=\"1\" /><path clip-path=\"url(#clip180)\" d=\"M 0 0 M1231.64 1506.52 L1237.49 1506.52 L1237.49 1556.04 L1231.64 1556.04 L1231.64 1506.52 Z\" fill=\"#000000\" fill-rule=\"evenodd\" fill-opacity=\"1\" /><path clip-path=\"url(#clip180)\" d=\"M 0 0 M1259.84 1538.12 Q1252.74 1538.12 1250 1539.75 Q1247.26 1541.37 1247.26 1545.29 Q1247.26 1548.4 1249.3 1550.25 Q1251.37 1552.07 1254.9 1552.07 Q1259.77 1552.07 1262.7 1548.63 Q1265.66 1545.16 1265.66 1539.43 L1265.66 1538.12 L1259.84 1538.12 M1271.52 1535.71 L1271.52 1556.04 L1265.66 1556.04 L1265.66 1550.63 Q1263.65 1553.88 1260.66 1555.44 Q1257.67 1556.97 1253.34 1556.97 Q1247.87 1556.97 1244.62 1553.91 Q1241.41 1550.82 1241.41 1545.67 Q1241.41 1539.65 1245.42 1536.6 Q1249.46 1533.54 1257.45 1533.54 L1265.66 1533.54 L1265.66 1532.97 Q1265.66 1528.93 1262.99 1526.73 Q1260.34 1524.5 1255.54 1524.5 Q1252.48 1524.5 1249.59 1525.23 Q1246.69 1525.97 1244.02 1527.43 L1244.02 1522.02 Q1247.23 1520.78 1250.25 1520.17 Q1253.28 1519.54 1256.14 1519.54 Q1263.88 1519.54 1267.7 1523.55 Q1271.52 1527.56 1271.52 1535.71 Z\" fill=\"#000000\" fill-rule=\"evenodd\" fill-opacity=\"1\" /><path clip-path=\"url(#clip180)\" d=\"M 0 0 M1283.45 1510.27 L1283.45 1520.4 L1295.51 1520.4 L1295.51 1524.95 L1283.45 1524.95 L1283.45 1544.3 Q1283.45 1548.66 1284.63 1549.9 Q1285.84 1551.14 1289.5 1551.14 L1295.51 1551.14 L1295.51 1556.04 L1289.5 1556.04 Q1282.72 1556.04 1280.14 1553.53 Q1277.56 1550.98 1277.56 1544.3 L1277.56 1524.95 L1273.27 1524.95 L1273.27 1520.4 L1277.56 1520.4 L1277.56 1510.27 L1283.45 1510.27 Z\" fill=\"#000000\" fill-rule=\"evenodd\" fill-opacity=\"1\" /><path clip-path=\"url(#clip180)\" d=\"M 0 0 M1301.66 1520.4 L1307.51 1520.4 L1307.51 1556.04 L1301.66 1556.04 L1301.66 1520.4 M1301.66 1506.52 L1307.51 1506.52 L1307.51 1513.93 L1301.66 1513.93 L1301.66 1506.52 Z\" fill=\"#000000\" fill-rule=\"evenodd\" fill-opacity=\"1\" /><path clip-path=\"url(#clip180)\" d=\"M 0 0 M1309.46 1520.4 L1315.66 1520.4 L1326.8 1550.31 L1337.94 1520.4 L1344.15 1520.4 L1330.78 1556.04 L1322.82 1556.04 L1309.46 1520.4 Z\" fill=\"#000000\" fill-rule=\"evenodd\" fill-opacity=\"1\" /><path clip-path=\"url(#clip180)\" d=\"M 0 0 M1380.78 1536.76 L1380.78 1539.62 L1353.86 1539.62 Q1354.24 1545.67 1357.49 1548.85 Q1360.76 1552 1366.59 1552 Q1369.96 1552 1373.11 1551.17 Q1376.3 1550.35 1379.41 1548.69 L1379.41 1554.23 Q1376.26 1555.57 1372.95 1556.27 Q1369.64 1556.97 1366.24 1556.97 Q1357.71 1556.97 1352.71 1552 Q1347.75 1547.04 1347.75 1538.57 Q1347.75 1529.82 1352.46 1524.69 Q1357.2 1519.54 1365.22 1519.54 Q1372.41 1519.54 1376.58 1524.18 Q1380.78 1528.8 1380.78 1536.76 M1374.93 1535.04 Q1374.86 1530.23 1372.22 1527.37 Q1369.61 1524.5 1365.28 1524.5 Q1360.38 1524.5 1357.42 1527.27 Q1354.49 1530.04 1354.05 1535.07 L1374.93 1535.04 Z\" fill=\"#000000\" fill-rule=\"evenodd\" fill-opacity=\"1\" /><path clip-path=\"url(#clip180)\" d=\"M 0 0 M1413.44 1510.27 L1413.44 1520.4 L1425.5 1520.4 L1425.5 1524.95 L1413.44 1524.95 L1413.44 1544.3 Q1413.44 1548.66 1414.62 1549.9 Q1415.83 1551.14 1419.49 1551.14 L1425.5 1551.14 L1425.5 1556.04 L1419.49 1556.04 Q1412.71 1556.04 1410.13 1553.53 Q1407.55 1550.98 1407.55 1544.3 L1407.55 1524.95 L1403.25 1524.95 L1403.25 1520.4 L1407.55 1520.4 L1407.55 1510.27 L1413.44 1510.27 Z\" fill=\"#000000\" fill-rule=\"evenodd\" fill-opacity=\"1\" /><path clip-path=\"url(#clip180)\" d=\"M 0 0 M1445.46 1524.5 Q1440.75 1524.5 1438.01 1528.19 Q1435.27 1531.85 1435.27 1538.25 Q1435.27 1544.65 1437.98 1548.34 Q1440.72 1552 1445.46 1552 Q1450.14 1552 1452.88 1548.31 Q1455.61 1544.62 1455.61 1538.25 Q1455.61 1531.92 1452.88 1528.23 Q1450.14 1524.5 1445.46 1524.5 M1445.46 1519.54 Q1453.1 1519.54 1457.46 1524.5 Q1461.82 1529.47 1461.82 1538.25 Q1461.82 1547 1457.46 1552 Q1453.1 1556.97 1445.46 1556.97 Q1437.79 1556.97 1433.43 1552 Q1429.1 1547 1429.1 1538.25 Q1429.1 1529.47 1433.43 1524.5 Q1437.79 1519.54 1445.46 1519.54 Z\" fill=\"#000000\" fill-rule=\"evenodd\" fill-opacity=\"1\" /><path clip-path=\"url(#clip180)\" d=\"M 0 0 M1514.34 1521.76 L1514.34 1527.24 Q1511.85 1525.87 1509.34 1525.2 Q1506.86 1524.5 1504.31 1524.5 Q1498.61 1524.5 1495.46 1528.13 Q1492.31 1531.73 1492.31 1538.25 Q1492.31 1544.78 1495.46 1548.4 Q1498.61 1552 1504.31 1552 Q1506.86 1552 1509.34 1551.33 Q1511.85 1550.63 1514.34 1549.26 L1514.34 1554.68 Q1511.89 1555.82 1509.24 1556.39 Q1506.63 1556.97 1503.67 1556.97 Q1495.62 1556.97 1490.88 1551.91 Q1486.14 1546.85 1486.14 1538.25 Q1486.14 1529.53 1490.91 1524.53 Q1495.72 1519.54 1504.06 1519.54 Q1506.76 1519.54 1509.34 1520.11 Q1511.92 1520.65 1514.34 1521.76 Z\" fill=\"#000000\" fill-rule=\"evenodd\" fill-opacity=\"1\" /><path clip-path=\"url(#clip180)\" d=\"M 0 0 M1519.87 1541.98 L1519.87 1520.4 L1525.73 1520.4 L1525.73 1541.75 Q1525.73 1546.81 1527.7 1549.36 Q1529.68 1551.87 1533.62 1551.87 Q1538.37 1551.87 1541.1 1548.85 Q1543.87 1545.83 1543.87 1540.61 L1543.87 1520.4 L1549.73 1520.4 L1549.73 1556.04 L1543.87 1556.04 L1543.87 1550.57 Q1541.74 1553.82 1538.91 1555.41 Q1536.11 1556.97 1532.38 1556.97 Q1526.24 1556.97 1523.06 1553.15 Q1519.87 1549.33 1519.87 1541.98 M1534.61 1519.54 L1534.61 1519.54 Z\" fill=\"#000000\" fill-rule=\"evenodd\" fill-opacity=\"1\" /><path clip-path=\"url(#clip180)\" d=\"M 0 0 M1576.53 1525.87 Q1575.54 1525.3 1574.36 1525.04 Q1573.22 1524.76 1571.82 1524.76 Q1566.85 1524.76 1564.18 1528 Q1561.54 1531.22 1561.54 1537.27 L1561.54 1556.04 L1555.65 1556.04 L1555.65 1520.4 L1561.54 1520.4 L1561.54 1525.93 Q1563.38 1522.69 1566.34 1521.13 Q1569.3 1519.54 1573.54 1519.54 Q1574.14 1519.54 1574.87 1519.63 Q1575.61 1519.7 1576.5 1519.85 L1576.53 1525.87 Z\" fill=\"#000000\" fill-rule=\"evenodd\" fill-opacity=\"1\" /><path clip-path=\"url(#clip180)\" d=\"M 0 0 M1602.18 1525.87 Q1601.2 1525.3 1600.02 1525.04 Q1598.87 1524.76 1597.47 1524.76 Q1592.51 1524.76 1589.83 1528 Q1587.19 1531.22 1587.19 1537.27 L1587.19 1556.04 L1581.3 1556.04 L1581.3 1520.4 L1587.19 1520.4 L1587.19 1525.93 Q1589.04 1522.69 1592 1521.13 Q1594.96 1519.54 1599.19 1519.54 Q1599.8 1519.54 1600.53 1519.63 Q1601.26 1519.7 1602.15 1519.85 L1602.18 1525.87 Z\" fill=\"#000000\" fill-rule=\"evenodd\" fill-opacity=\"1\" /><path clip-path=\"url(#clip180)\" d=\"M 0 0 M1637.39 1536.76 L1637.39 1539.62 L1610.46 1539.62 Q1610.84 1545.67 1614.09 1548.85 Q1617.37 1552 1623.19 1552 Q1626.56 1552 1629.71 1551.17 Q1632.9 1550.35 1636.02 1548.69 L1636.02 1554.23 Q1632.87 1555.57 1629.56 1556.27 Q1626.25 1556.97 1622.84 1556.97 Q1614.31 1556.97 1609.31 1552 Q1604.35 1547.04 1604.35 1538.57 Q1604.35 1529.82 1609.06 1524.69 Q1613.8 1519.54 1621.82 1519.54 Q1629.01 1519.54 1633.18 1524.18 Q1637.39 1528.8 1637.39 1536.76 M1631.53 1535.04 Q1631.47 1530.23 1628.82 1527.37 Q1626.21 1524.5 1621.88 1524.5 Q1616.98 1524.5 1614.02 1527.27 Q1611.09 1530.04 1610.65 1535.07 L1631.53 1535.04 Z\" fill=\"#000000\" fill-rule=\"evenodd\" fill-opacity=\"1\" /><path clip-path=\"url(#clip180)\" d=\"M 0 0 M1673.16 1534.53 L1673.16 1556.04 L1667.3 1556.04 L1667.3 1534.72 Q1667.3 1529.66 1665.33 1527.14 Q1663.36 1524.63 1659.41 1524.63 Q1654.67 1524.63 1651.93 1527.65 Q1649.19 1530.68 1649.19 1535.9 L1649.19 1556.04 L1643.31 1556.04 L1643.31 1520.4 L1649.19 1520.4 L1649.19 1525.93 Q1651.29 1522.72 1654.13 1521.13 Q1656.99 1519.54 1660.72 1519.54 Q1666.86 1519.54 1670.01 1523.36 Q1673.16 1527.14 1673.16 1534.53 Z\" fill=\"#000000\" fill-rule=\"evenodd\" fill-opacity=\"1\" /><path clip-path=\"url(#clip180)\" d=\"M 0 0 M1685.1 1510.27 L1685.1 1520.4 L1697.16 1520.4 L1697.16 1524.95 L1685.1 1524.95 L1685.1 1544.3 Q1685.1 1548.66 1686.27 1549.9 Q1687.48 1551.14 1691.14 1551.14 L1697.16 1551.14 L1697.16 1556.04 L1691.14 1556.04 Q1684.36 1556.04 1681.79 1553.53 Q1679.21 1550.98 1679.21 1544.3 L1679.21 1524.95 L1674.91 1524.95 L1674.91 1520.4 L1679.21 1520.4 L1679.21 1510.27 L1685.1 1510.27 Z\" fill=\"#000000\" fill-rule=\"evenodd\" fill-opacity=\"1\" /><path clip-path=\"url(#clip180)\" d=\"M 0 0 M1702.38 1506.58 L1707.47 1506.58 Q1712.25 1514.09 1714.6 1521.29 Q1716.99 1528.48 1716.99 1535.58 Q1716.99 1542.71 1714.6 1549.93 Q1712.25 1557.16 1707.47 1564.64 L1702.38 1564.64 Q1706.61 1557.35 1708.68 1550.16 Q1710.78 1542.93 1710.78 1535.58 Q1710.78 1528.23 1708.68 1521.06 Q1706.61 1513.9 1702.38 1506.58 Z\" fill=\"#000000\" fill-rule=\"evenodd\" fill-opacity=\"1\" /><polyline clip-path=\"url(#clip182)\" style=\"stroke:#000000; stroke-width:2; stroke-opacity:0.1; fill:none\" points=\"\n",
       "  251.88,1226.37 2024.11,1226.37 \n",
       "  \"/>\n",
       "<polyline clip-path=\"url(#clip182)\" style=\"stroke:#000000; stroke-width:2; stroke-opacity:0.1; fill:none\" points=\"\n",
       "  251.88,1007.1 2024.11,1007.1 \n",
       "  \"/>\n",
       "<polyline clip-path=\"url(#clip182)\" style=\"stroke:#000000; stroke-width:2; stroke-opacity:0.1; fill:none\" points=\"\n",
       "  251.88,787.836 2024.11,787.836 \n",
       "  \"/>\n",
       "<polyline clip-path=\"url(#clip182)\" style=\"stroke:#000000; stroke-width:2; stroke-opacity:0.1; fill:none\" points=\"\n",
       "  251.88,568.57 2024.11,568.57 \n",
       "  \"/>\n",
       "<polyline clip-path=\"url(#clip182)\" style=\"stroke:#000000; stroke-width:2; stroke-opacity:0.1; fill:none\" points=\"\n",
       "  251.88,349.304 2024.11,349.304 \n",
       "  \"/>\n",
       "<polyline clip-path=\"url(#clip182)\" style=\"stroke:#000000; stroke-width:2; stroke-opacity:0.1; fill:none\" points=\"\n",
       "  251.88,130.039 2024.11,130.039 \n",
       "  \"/>\n",
       "<polyline clip-path=\"url(#clip180)\" style=\"stroke:#000000; stroke-width:4; stroke-opacity:1; fill:none\" points=\"\n",
       "  251.88,1423.18 251.88,47.2441 \n",
       "  \"/>\n",
       "<polyline clip-path=\"url(#clip180)\" style=\"stroke:#000000; stroke-width:4; stroke-opacity:1; fill:none\" points=\"\n",
       "  251.88,1226.37 273.147,1226.37 \n",
       "  \"/>\n",
       "<polyline clip-path=\"url(#clip180)\" style=\"stroke:#000000; stroke-width:4; stroke-opacity:1; fill:none\" points=\"\n",
       "  251.88,1007.1 273.147,1007.1 \n",
       "  \"/>\n",
       "<polyline clip-path=\"url(#clip180)\" style=\"stroke:#000000; stroke-width:4; stroke-opacity:1; fill:none\" points=\"\n",
       "  251.88,787.836 273.147,787.836 \n",
       "  \"/>\n",
       "<polyline clip-path=\"url(#clip180)\" style=\"stroke:#000000; stroke-width:4; stroke-opacity:1; fill:none\" points=\"\n",
       "  251.88,568.57 273.147,568.57 \n",
       "  \"/>\n",
       "<polyline clip-path=\"url(#clip180)\" style=\"stroke:#000000; stroke-width:4; stroke-opacity:1; fill:none\" points=\"\n",
       "  251.88,349.304 273.147,349.304 \n",
       "  \"/>\n",
       "<polyline clip-path=\"url(#clip180)\" style=\"stroke:#000000; stroke-width:4; stroke-opacity:1; fill:none\" points=\"\n",
       "  251.88,130.039 273.147,130.039 \n",
       "  \"/>\n",
       "<path clip-path=\"url(#clip180)\" d=\"M 0 0 M140.95 1209.09 L159.306 1209.09 L159.306 1213.02 L145.232 1213.02 L145.232 1221.49 Q146.251 1221.15 147.269 1220.99 Q148.288 1220.8 149.306 1220.8 Q155.093 1220.8 158.473 1223.97 Q161.852 1227.14 161.852 1232.56 Q161.852 1238.14 158.38 1241.24 Q154.908 1244.32 148.589 1244.32 Q146.413 1244.32 144.144 1243.95 Q141.899 1243.58 139.492 1242.84 L139.492 1238.14 Q141.575 1239.27 143.797 1239.83 Q146.019 1240.38 148.496 1240.38 Q152.501 1240.38 154.839 1238.28 Q157.177 1236.17 157.177 1232.56 Q157.177 1228.95 154.839 1226.84 Q152.501 1224.74 148.496 1224.74 Q146.621 1224.74 144.746 1225.15 Q142.894 1225.57 140.95 1226.45 L140.95 1209.09 Z\" fill=\"#000000\" fill-rule=\"evenodd\" fill-opacity=\"1\" /><path clip-path=\"url(#clip180)\" d=\"M 0 0 M176.922 1212.17 Q173.311 1212.17 171.482 1215.73 Q169.677 1219.27 169.677 1226.4 Q169.677 1233.51 171.482 1237.07 Q173.311 1240.61 176.922 1240.61 Q180.556 1240.61 182.362 1237.07 Q184.19 1233.51 184.19 1226.4 Q184.19 1219.27 182.362 1215.73 Q180.556 1212.17 176.922 1212.17 M176.922 1208.46 Q182.732 1208.46 185.788 1213.07 Q188.866 1217.65 188.866 1226.4 Q188.866 1235.13 185.788 1239.73 Q182.732 1244.32 176.922 1244.32 Q171.112 1244.32 168.033 1239.73 Q164.977 1235.13 164.977 1226.4 Q164.977 1217.65 168.033 1213.07 Q171.112 1208.46 176.922 1208.46 Z\" fill=\"#000000\" fill-rule=\"evenodd\" fill-opacity=\"1\" /><path clip-path=\"url(#clip180)\" d=\"M 0 0 M203.936 1212.17 Q200.325 1212.17 198.496 1215.73 Q196.69 1219.27 196.69 1226.4 Q196.69 1233.51 198.496 1237.07 Q200.325 1240.61 203.936 1240.61 Q207.57 1240.61 209.375 1237.07 Q211.204 1233.51 211.204 1226.4 Q211.204 1219.27 209.375 1215.73 Q207.57 1212.17 203.936 1212.17 M203.936 1208.46 Q209.746 1208.46 212.801 1213.07 Q215.88 1217.65 215.88 1226.4 Q215.88 1235.13 212.801 1239.73 Q209.746 1244.32 203.936 1244.32 Q198.125 1244.32 195.047 1239.73 Q191.991 1235.13 191.991 1226.4 Q191.991 1217.65 195.047 1213.07 Q198.125 1208.46 203.936 1208.46 Z\" fill=\"#000000\" fill-rule=\"evenodd\" fill-opacity=\"1\" /><path clip-path=\"url(#clip180)\" d=\"M 0 0 M140.626 989.821 L162.848 989.821 L162.848 991.812 L150.302 1024.38 L145.417 1024.38 L157.223 993.757 L140.626 993.757 L140.626 989.821 Z\" fill=\"#000000\" fill-rule=\"evenodd\" fill-opacity=\"1\" /><path clip-path=\"url(#clip180)\" d=\"M 0 0 M167.964 989.821 L186.32 989.821 L186.32 993.757 L172.246 993.757 L172.246 1002.23 Q173.264 1001.88 174.283 1001.72 Q175.301 1001.53 176.32 1001.53 Q182.107 1001.53 185.487 1004.71 Q188.866 1007.88 188.866 1013.29 Q188.866 1018.87 185.394 1021.97 Q181.922 1025.05 175.602 1025.05 Q173.427 1025.05 171.158 1024.68 Q168.913 1024.31 166.505 1023.57 L166.505 1018.87 Q168.589 1020.01 170.811 1020.56 Q173.033 1021.12 175.51 1021.12 Q179.514 1021.12 181.852 1019.01 Q184.19 1016.9 184.19 1013.29 Q184.19 1009.68 181.852 1007.58 Q179.514 1005.47 175.51 1005.47 Q173.635 1005.47 171.76 1005.89 Q169.908 1006.3 167.964 1007.18 L167.964 989.821 Z\" fill=\"#000000\" fill-rule=\"evenodd\" fill-opacity=\"1\" /><path clip-path=\"url(#clip180)\" d=\"M 0 0 M203.936 992.9 Q200.325 992.9 198.496 996.465 Q196.69 1000.01 196.69 1007.14 Q196.69 1014.24 198.496 1017.81 Q200.325 1021.35 203.936 1021.35 Q207.57 1021.35 209.375 1017.81 Q211.204 1014.24 211.204 1007.14 Q211.204 1000.01 209.375 996.465 Q207.57 992.9 203.936 992.9 M203.936 989.196 Q209.746 989.196 212.801 993.803 Q215.88 998.386 215.88 1007.14 Q215.88 1015.86 212.801 1020.47 Q209.746 1025.05 203.936 1025.05 Q198.125 1025.05 195.047 1020.47 Q191.991 1015.86 191.991 1007.14 Q191.991 998.386 195.047 993.803 Q198.125 989.196 203.936 989.196 Z\" fill=\"#000000\" fill-rule=\"evenodd\" fill-opacity=\"1\" /><path clip-path=\"url(#clip180)\" d=\"M 0 0 M114.931 801.181 L122.57 801.181 L122.57 774.815 L114.26 776.482 L114.26 772.222 L122.524 770.556 L127.2 770.556 L127.2 801.181 L134.839 801.181 L134.839 805.116 L114.931 805.116 L114.931 801.181 Z\" fill=\"#000000\" fill-rule=\"evenodd\" fill-opacity=\"1\" /><path clip-path=\"url(#clip180)\" d=\"M 0 0 M149.908 773.634 Q146.297 773.634 144.468 777.199 Q142.663 780.741 142.663 787.87 Q142.663 794.977 144.468 798.542 Q146.297 802.083 149.908 802.083 Q153.542 802.083 155.348 798.542 Q157.177 794.977 157.177 787.87 Q157.177 780.741 155.348 777.199 Q153.542 773.634 149.908 773.634 M149.908 769.931 Q155.718 769.931 158.774 774.537 Q161.852 779.12 161.852 787.87 Q161.852 796.597 158.774 801.204 Q155.718 805.787 149.908 805.787 Q144.098 805.787 141.019 801.204 Q137.964 796.597 137.964 787.87 Q137.964 779.12 141.019 774.537 Q144.098 769.931 149.908 769.931 Z\" fill=\"#000000\" fill-rule=\"evenodd\" fill-opacity=\"1\" /><path clip-path=\"url(#clip180)\" d=\"M 0 0 M176.922 773.634 Q173.311 773.634 171.482 777.199 Q169.677 780.741 169.677 787.87 Q169.677 794.977 171.482 798.542 Q173.311 802.083 176.922 802.083 Q180.556 802.083 182.362 798.542 Q184.19 794.977 184.19 787.87 Q184.19 780.741 182.362 777.199 Q180.556 773.634 176.922 773.634 M176.922 769.931 Q182.732 769.931 185.788 774.537 Q188.866 779.12 188.866 787.87 Q188.866 796.597 185.788 801.204 Q182.732 805.787 176.922 805.787 Q171.112 805.787 168.033 801.204 Q164.977 796.597 164.977 787.87 Q164.977 779.12 168.033 774.537 Q171.112 769.931 176.922 769.931 Z\" fill=\"#000000\" fill-rule=\"evenodd\" fill-opacity=\"1\" /><path clip-path=\"url(#clip180)\" d=\"M 0 0 M203.936 773.634 Q200.325 773.634 198.496 777.199 Q196.69 780.741 196.69 787.87 Q196.69 794.977 198.496 798.542 Q200.325 802.083 203.936 802.083 Q207.57 802.083 209.375 798.542 Q211.204 794.977 211.204 787.87 Q211.204 780.741 209.375 777.199 Q207.57 773.634 203.936 773.634 M203.936 769.931 Q209.746 769.931 212.801 774.537 Q215.88 779.12 215.88 787.87 Q215.88 796.597 212.801 801.204 Q209.746 805.787 203.936 805.787 Q198.125 805.787 195.047 801.204 Q191.991 796.597 191.991 787.87 Q191.991 779.12 195.047 774.537 Q198.125 769.931 203.936 769.931 Z\" fill=\"#000000\" fill-rule=\"evenodd\" fill-opacity=\"1\" /><path clip-path=\"url(#clip180)\" d=\"M 0 0 M117.524 581.915 L125.163 581.915 L125.163 555.549 L116.853 557.216 L116.853 552.957 L125.117 551.29 L129.792 551.29 L129.792 581.915 L137.431 581.915 L137.431 585.85 L117.524 585.85 L117.524 581.915 Z\" fill=\"#000000\" fill-rule=\"evenodd\" fill-opacity=\"1\" /><path clip-path=\"url(#clip180)\" d=\"M 0 0 M146.529 581.915 L162.848 581.915 L162.848 585.85 L140.904 585.85 L140.904 581.915 Q143.566 579.16 148.149 574.531 Q152.755 569.878 153.936 568.535 Q156.181 566.012 157.061 564.276 Q157.964 562.517 157.964 560.827 Q157.964 558.072 156.019 556.336 Q154.098 554.6 150.996 554.6 Q148.797 554.6 146.343 555.364 Q143.913 556.128 141.135 557.679 L141.135 552.957 Q143.959 551.822 146.413 551.244 Q148.866 550.665 150.903 550.665 Q156.274 550.665 159.468 553.35 Q162.663 556.035 162.663 560.526 Q162.663 562.656 161.852 564.577 Q161.065 566.475 158.959 569.068 Q158.38 569.739 155.278 572.957 Q152.177 576.151 146.529 581.915 Z\" fill=\"#000000\" fill-rule=\"evenodd\" fill-opacity=\"1\" /><path clip-path=\"url(#clip180)\" d=\"M 0 0 M167.964 551.29 L186.32 551.29 L186.32 555.225 L172.246 555.225 L172.246 563.697 Q173.264 563.35 174.283 563.188 Q175.301 563.003 176.32 563.003 Q182.107 563.003 185.487 566.174 Q188.866 569.346 188.866 574.762 Q188.866 580.341 185.394 583.443 Q181.922 586.521 175.602 586.521 Q173.427 586.521 171.158 586.151 Q168.913 585.781 166.505 585.04 L166.505 580.341 Q168.589 581.475 170.811 582.031 Q173.033 582.586 175.51 582.586 Q179.514 582.586 181.852 580.48 Q184.19 578.373 184.19 574.762 Q184.19 571.151 181.852 569.045 Q179.514 566.938 175.51 566.938 Q173.635 566.938 171.76 567.355 Q169.908 567.771 167.964 568.651 L167.964 551.29 Z\" fill=\"#000000\" fill-rule=\"evenodd\" fill-opacity=\"1\" /><path clip-path=\"url(#clip180)\" d=\"M 0 0 M203.936 554.369 Q200.325 554.369 198.496 557.934 Q196.69 561.475 196.69 568.605 Q196.69 575.711 198.496 579.276 Q200.325 582.818 203.936 582.818 Q207.57 582.818 209.375 579.276 Q211.204 575.711 211.204 568.605 Q211.204 561.475 209.375 557.934 Q207.57 554.369 203.936 554.369 M203.936 550.665 Q209.746 550.665 212.801 555.272 Q215.88 559.855 215.88 568.605 Q215.88 577.332 212.801 581.938 Q209.746 586.521 203.936 586.521 Q198.125 586.521 195.047 581.938 Q191.991 577.332 191.991 568.605 Q191.991 559.855 195.047 555.272 Q198.125 550.665 203.936 550.665 Z\" fill=\"#000000\" fill-rule=\"evenodd\" fill-opacity=\"1\" /><path clip-path=\"url(#clip180)\" d=\"M 0 0 M115.927 362.649 L123.566 362.649 L123.566 336.284 L115.256 337.95 L115.256 333.691 L123.519 332.024 L128.195 332.024 L128.195 362.649 L135.834 362.649 L135.834 366.584 L115.927 366.584 L115.927 362.649 Z\" fill=\"#000000\" fill-rule=\"evenodd\" fill-opacity=\"1\" /><path clip-path=\"url(#clip180)\" d=\"M 0 0 M140.95 332.024 L159.306 332.024 L159.306 335.96 L145.232 335.96 L145.232 344.432 Q146.251 344.085 147.269 343.923 Q148.288 343.737 149.306 343.737 Q155.093 343.737 158.473 346.909 Q161.852 350.08 161.852 355.497 Q161.852 361.075 158.38 364.177 Q154.908 367.256 148.589 367.256 Q146.413 367.256 144.144 366.885 Q141.899 366.515 139.492 365.774 L139.492 361.075 Q141.575 362.209 143.797 362.765 Q146.019 363.321 148.496 363.321 Q152.501 363.321 154.839 361.214 Q157.177 359.108 157.177 355.497 Q157.177 351.885 154.839 349.779 Q152.501 347.673 148.496 347.673 Q146.621 347.673 144.746 348.089 Q142.894 348.506 140.95 349.385 L140.95 332.024 Z\" fill=\"#000000\" fill-rule=\"evenodd\" fill-opacity=\"1\" /><path clip-path=\"url(#clip180)\" d=\"M 0 0 M176.922 335.103 Q173.311 335.103 171.482 338.668 Q169.677 342.21 169.677 349.339 Q169.677 356.446 171.482 360.01 Q173.311 363.552 176.922 363.552 Q180.556 363.552 182.362 360.01 Q184.19 356.446 184.19 349.339 Q184.19 342.21 182.362 338.668 Q180.556 335.103 176.922 335.103 M176.922 331.399 Q182.732 331.399 185.788 336.006 Q188.866 340.589 188.866 349.339 Q188.866 358.066 185.788 362.672 Q182.732 367.256 176.922 367.256 Q171.112 367.256 168.033 362.672 Q164.977 358.066 164.977 349.339 Q164.977 340.589 168.033 336.006 Q171.112 331.399 176.922 331.399 Z\" fill=\"#000000\" fill-rule=\"evenodd\" fill-opacity=\"1\" /><path clip-path=\"url(#clip180)\" d=\"M 0 0 M203.936 335.103 Q200.325 335.103 198.496 338.668 Q196.69 342.21 196.69 349.339 Q196.69 356.446 198.496 360.01 Q200.325 363.552 203.936 363.552 Q207.57 363.552 209.375 360.01 Q211.204 356.446 211.204 349.339 Q211.204 342.21 209.375 338.668 Q207.57 335.103 203.936 335.103 M203.936 331.399 Q209.746 331.399 212.801 336.006 Q215.88 340.589 215.88 349.339 Q215.88 358.066 212.801 362.672 Q209.746 367.256 203.936 367.256 Q198.125 367.256 195.047 362.672 Q191.991 358.066 191.991 349.339 Q191.991 340.589 195.047 336.006 Q198.125 331.399 203.936 331.399 Z\" fill=\"#000000\" fill-rule=\"evenodd\" fill-opacity=\"1\" /><path clip-path=\"url(#clip180)\" d=\"M 0 0 M116.83 143.384 L124.468 143.384 L124.468 117.018 L116.158 118.685 L116.158 114.425 L124.422 112.759 L129.098 112.759 L129.098 143.384 L136.737 143.384 L136.737 147.319 L116.83 147.319 L116.83 143.384 Z\" fill=\"#000000\" fill-rule=\"evenodd\" fill-opacity=\"1\" /><path clip-path=\"url(#clip180)\" d=\"M 0 0 M140.626 112.759 L162.848 112.759 L162.848 114.75 L150.302 147.319 L145.417 147.319 L157.223 116.694 L140.626 116.694 L140.626 112.759 Z\" fill=\"#000000\" fill-rule=\"evenodd\" fill-opacity=\"1\" /><path clip-path=\"url(#clip180)\" d=\"M 0 0 M167.964 112.759 L186.32 112.759 L186.32 116.694 L172.246 116.694 L172.246 125.166 Q173.264 124.819 174.283 124.657 Q175.301 124.472 176.32 124.472 Q182.107 124.472 185.487 127.643 Q188.866 130.814 188.866 136.231 Q188.866 141.81 185.394 144.911 Q181.922 147.99 175.602 147.99 Q173.427 147.99 171.158 147.62 Q168.913 147.249 166.505 146.509 L166.505 141.81 Q168.589 142.944 170.811 143.499 Q173.033 144.055 175.51 144.055 Q179.514 144.055 181.852 141.948 Q184.19 139.842 184.19 136.231 Q184.19 132.62 181.852 130.513 Q179.514 128.407 175.51 128.407 Q173.635 128.407 171.76 128.824 Q169.908 129.24 167.964 130.12 L167.964 112.759 Z\" fill=\"#000000\" fill-rule=\"evenodd\" fill-opacity=\"1\" /><path clip-path=\"url(#clip180)\" d=\"M 0 0 M203.936 115.837 Q200.325 115.837 198.496 119.402 Q196.69 122.944 196.69 130.074 Q196.69 137.18 198.496 140.745 Q200.325 144.286 203.936 144.286 Q207.57 144.286 209.375 140.745 Q211.204 137.18 211.204 130.074 Q211.204 122.944 209.375 119.402 Q207.57 115.837 203.936 115.837 M203.936 112.134 Q209.746 112.134 212.801 116.74 Q215.88 121.324 215.88 130.074 Q215.88 138.8 212.801 143.407 Q209.746 147.99 203.936 147.99 Q198.125 147.99 195.047 143.407 Q191.991 138.8 191.991 130.074 Q191.991 121.324 195.047 116.74 Q198.125 112.134 203.936 112.134 Z\" fill=\"#000000\" fill-rule=\"evenodd\" fill-opacity=\"1\" /><path clip-path=\"url(#clip180)\" d=\"M 0 0 M40.4842 974.563 L40.4842 965.905 L80.238 944.835 L40.4842 944.835 L40.4842 938.596 L88.0042 938.596 L88.0042 947.254 L48.2503 968.324 L88.0042 968.324 L88.0042 974.563 L40.4842 974.563 Z\" fill=\"#000000\" fill-rule=\"evenodd\" fill-opacity=\"1\" /><path clip-path=\"url(#clip180)\" d=\"M 0 0 M73.9359 933.058 L52.3562 933.058 L52.3562 927.202 L73.7131 927.202 Q78.7739 927.202 81.3202 925.228 Q83.8346 923.255 83.8346 919.308 Q83.8346 914.566 80.8109 911.828 Q77.7872 909.059 72.5673 909.059 L52.3562 909.059 L52.3562 903.203 L88.0042 903.203 L88.0042 909.059 L82.5296 909.059 Q85.7762 911.192 87.3676 914.025 Q88.9272 916.826 88.9272 920.55 Q88.9272 926.692 85.1078 929.875 Q81.2883 933.058 73.9359 933.058 M51.4968 918.322 L51.4968 918.322 Z\" fill=\"#000000\" fill-rule=\"evenodd\" fill-opacity=\"1\" /><path clip-path=\"url(#clip180)\" d=\"M 0 0 M59.1993 869.306 Q55.2526 867.109 53.3747 864.054 Q51.4968 860.998 51.4968 856.861 Q51.4968 851.291 55.4117 848.267 Q59.2948 845.243 66.4881 845.243 L88.0042 845.243 L88.0042 851.131 L66.679 851.131 Q61.5546 851.131 59.072 852.946 Q56.5894 854.76 56.5894 858.484 Q56.5894 863.035 59.6131 865.677 Q62.6368 868.319 67.8567 868.319 L88.0042 868.319 L88.0042 874.207 L66.679 874.207 Q61.5228 874.207 59.072 876.021 Q56.5894 877.836 56.5894 881.623 Q56.5894 886.111 59.6449 888.753 Q62.6686 891.395 67.8567 891.395 L88.0042 891.395 L88.0042 897.283 L52.3562 897.283 L52.3562 891.395 L57.8944 891.395 Q54.616 889.389 53.0564 886.588 Q51.4968 883.788 51.4968 879.936 Q51.4968 876.053 53.4702 873.348 Q55.4436 870.611 59.1993 869.306 Z\" fill=\"#000000\" fill-rule=\"evenodd\" fill-opacity=\"1\" /><path clip-path=\"url(#clip180)\" d=\"M 0 0 M70.212 813.51 Q63.7508 813.51 60.0905 816.184 Q56.3984 818.826 56.3984 823.472 Q56.3984 828.119 60.0905 830.793 Q63.7508 833.435 70.212 833.435 Q76.6732 833.435 80.3653 830.793 Q84.0256 828.119 84.0256 823.472 Q84.0256 818.826 80.3653 816.184 Q76.6732 813.51 70.212 813.51 M57.7671 833.435 Q54.5842 831.589 53.0564 828.788 Q51.4968 825.955 51.4968 822.04 Q51.4968 815.547 56.6531 811.505 Q61.8093 807.431 70.212 807.431 Q78.6147 807.431 83.771 811.505 Q88.9272 815.547 88.9272 822.04 Q88.9272 825.955 87.3994 828.788 Q85.8398 831.589 82.657 833.435 L88.0042 833.435 L88.0042 839.323 L38.479 839.323 L38.479 833.435 L57.7671 833.435 Z\" fill=\"#000000\" fill-rule=\"evenodd\" fill-opacity=\"1\" /><path clip-path=\"url(#clip180)\" d=\"M 0 0 M68.7161 770.796 L71.5806 770.796 L71.5806 797.723 Q77.6281 797.341 80.8109 794.095 Q83.9619 790.816 83.9619 784.992 Q83.9619 781.618 83.1344 778.467 Q82.3069 775.284 80.6518 772.165 L86.1899 772.165 Q87.5267 775.316 88.227 778.626 Q88.9272 781.936 88.9272 785.342 Q88.9272 793.872 83.9619 798.869 Q78.9967 803.834 70.5303 803.834 Q61.7774 803.834 56.6531 799.124 Q51.4968 794.381 51.4968 786.36 Q51.4968 779.167 56.1438 774.998 Q60.7589 770.796 68.7161 770.796 M66.9973 776.653 Q62.1912 776.716 59.3266 779.358 Q56.4621 781.968 56.4621 786.297 Q56.4621 791.198 59.2312 794.158 Q62.0002 797.087 67.0292 797.532 L66.9973 776.653 Z\" fill=\"#000000\" fill-rule=\"evenodd\" fill-opacity=\"1\" /><path clip-path=\"url(#clip180)\" d=\"M 0 0 M57.8307 743.997 Q57.2578 744.983 57.0032 746.161 Q56.7167 747.307 56.7167 748.707 Q56.7167 753.673 59.9632 756.346 Q63.1779 758.988 69.2253 758.988 L88.0042 758.988 L88.0042 764.876 L52.3562 764.876 L52.3562 758.988 L57.8944 758.988 Q54.6479 757.142 53.0883 754.182 Q51.4968 751.222 51.4968 746.989 Q51.4968 746.384 51.5923 745.652 Q51.656 744.92 51.8151 744.028 L57.8307 743.997 Z\" fill=\"#000000\" fill-rule=\"evenodd\" fill-opacity=\"1\" /><path clip-path=\"url(#clip180)\" d=\"M 0 0 M56.4621 703.32 Q56.4621 708.03 60.1542 710.768 Q63.8145 713.505 70.212 713.505 Q76.6095 713.505 80.3017 710.799 Q83.9619 708.062 83.9619 703.32 Q83.9619 698.641 80.2698 695.904 Q76.5777 693.166 70.212 693.166 Q63.8781 693.166 60.186 695.904 Q56.4621 698.641 56.4621 703.32 M51.4968 703.32 Q51.4968 695.681 56.4621 691.32 Q61.4273 686.96 70.212 686.96 Q78.9649 686.96 83.9619 691.32 Q88.9272 695.681 88.9272 703.32 Q88.9272 710.99 83.9619 715.351 Q78.9649 719.68 70.212 719.68 Q61.4273 719.68 56.4621 715.351 Q51.4968 710.99 51.4968 703.32 Z\" fill=\"#000000\" fill-rule=\"evenodd\" fill-opacity=\"1\" /><path clip-path=\"url(#clip180)\" d=\"M 0 0 M38.479 662.77 L43.3487 662.77 L43.3487 668.372 Q43.3487 671.523 44.6219 672.764 Q45.895 673.974 49.2052 673.974 L52.3562 673.974 L52.3562 664.33 L56.9077 664.33 L56.9077 673.974 L88.0042 673.974 L88.0042 679.862 L56.9077 679.862 L56.9077 685.464 L52.3562 685.464 L52.3562 679.862 L49.8736 679.862 Q43.9216 679.862 41.2162 677.093 Q38.479 674.324 38.479 668.308 L38.479 662.77 Z\" fill=\"#000000\" fill-rule=\"evenodd\" fill-opacity=\"1\" /><path clip-path=\"url(#clip180)\" d=\"M 0 0 M52.3562 640.108 L52.3562 633.902 L82.275 622.762 L52.3562 611.622 L52.3562 605.415 L88.0042 618.783 L88.0042 626.74 L52.3562 640.108 Z\" fill=\"#000000\" fill-rule=\"evenodd\" fill-opacity=\"1\" /><path clip-path=\"url(#clip180)\" d=\"M 0 0 M52.3562 599.272 L52.3562 593.416 L88.0042 593.416 L88.0042 599.272 L52.3562 599.272 M38.479 599.272 L38.479 593.416 L45.895 593.416 L45.895 599.272 L38.479 599.272 Z\" fill=\"#000000\" fill-rule=\"evenodd\" fill-opacity=\"1\" /><path clip-path=\"url(#clip180)\" d=\"M 0 0 M53.4065 564.547 L58.9447 564.547 Q57.6716 567.03 57.035 569.704 Q56.3984 572.377 56.3984 575.242 Q56.3984 579.602 57.7352 581.798 Q59.072 583.963 61.7456 583.963 Q63.7826 583.963 64.9603 582.403 Q66.1061 580.844 67.1565 576.133 L67.6021 574.128 Q68.9389 567.889 71.3897 565.279 Q73.8086 562.638 78.1691 562.638 Q83.1344 562.638 86.0308 566.584 Q88.9272 570.499 88.9272 577.374 Q88.9272 580.239 88.3543 583.358 Q87.8132 586.445 86.6992 589.883 L80.6518 589.883 Q82.3387 586.636 83.198 583.485 Q84.0256 580.334 84.0256 577.247 Q84.0256 573.109 82.6251 570.881 Q81.1929 568.653 78.6147 568.653 Q76.2276 568.653 74.9545 570.277 Q73.6813 571.868 72.5037 577.311 L72.0262 579.348 Q70.8804 584.79 68.5251 587.209 Q66.138 589.628 62.0002 589.628 Q56.9713 589.628 54.2341 586.063 Q51.4968 582.499 51.4968 575.942 Q51.4968 572.695 51.9743 569.831 Q52.4517 566.966 53.4065 564.547 Z\" fill=\"#000000\" fill-rule=\"evenodd\" fill-opacity=\"1\" /><path clip-path=\"url(#clip180)\" d=\"M 0 0 M52.3562 556.495 L52.3562 550.638 L88.0042 550.638 L88.0042 556.495 L52.3562 556.495 M38.479 556.495 L38.479 550.638 L45.895 550.638 L45.895 556.495 L38.479 556.495 Z\" fill=\"#000000\" fill-rule=\"evenodd\" fill-opacity=\"1\" /><path clip-path=\"url(#clip180)\" d=\"M 0 0 M42.2347 538.703 L52.3562 538.703 L52.3562 526.64 L56.9077 526.64 L56.9077 538.703 L76.2594 538.703 Q80.6199 538.703 81.8613 537.525 Q83.1026 536.315 83.1026 532.655 L83.1026 526.64 L88.0042 526.64 L88.0042 532.655 Q88.0042 539.435 85.4897 542.013 Q82.9434 544.591 76.2594 544.591 L56.9077 544.591 L56.9077 548.888 L52.3562 548.888 L52.3562 544.591 L42.2347 544.591 L42.2347 538.703 Z\" fill=\"#000000\" fill-rule=\"evenodd\" fill-opacity=\"1\" /><path clip-path=\"url(#clip180)\" d=\"M 0 0 M53.4065 497.771 L58.9447 497.771 Q57.6716 500.254 57.035 502.927 Q56.3984 505.601 56.3984 508.465 Q56.3984 512.826 57.7352 515.022 Q59.072 517.187 61.7456 517.187 Q63.7826 517.187 64.9603 515.627 Q66.1061 514.067 67.1565 509.357 L67.6021 507.351 Q68.9389 501.113 71.3897 498.503 Q73.8086 495.861 78.1691 495.861 Q83.1344 495.861 86.0308 499.808 Q88.9272 503.723 88.9272 510.598 Q88.9272 513.463 88.3543 516.582 Q87.8132 519.669 86.6992 523.107 L80.6518 523.107 Q82.3387 519.86 83.198 516.709 Q84.0256 513.558 84.0256 510.471 Q84.0256 506.333 82.6251 504.105 Q81.1929 501.877 78.6147 501.877 Q76.2276 501.877 74.9545 503.5 Q73.6813 505.092 72.5037 510.534 L72.0262 512.571 Q70.8804 518.014 68.5251 520.433 Q66.138 522.852 62.0002 522.852 Q56.9713 522.852 54.2341 519.287 Q51.4968 515.722 51.4968 509.166 Q51.4968 505.919 51.9743 503.055 Q52.4517 500.19 53.4065 497.771 Z\" fill=\"#000000\" fill-rule=\"evenodd\" fill-opacity=\"1\" /><polyline clip-path=\"url(#clip182)\" style=\"stroke:#009af9; stroke-width:4; stroke-opacity:1; fill:none\" points=\"\n",
       "  302.037,1314.07 469.229,1243.91 636.421,1173.74 803.612,1103.58 970.804,1033.41 1138,963.248 1305.19,858.001 1472.38,787.836 1639.57,717.671 1806.76,647.506 \n",
       "  1973.95,577.341 \n",
       "  \"/>\n",
       "<polyline clip-path=\"url(#clip182)\" style=\"stroke:#e26f46; stroke-width:4; stroke-opacity:1; fill:none\" points=\"\n",
       "  302.037,1314.07 469.229,1243.91 636.421,1138.66 803.612,1068.5 970.804,1033.41 1138,928.166 1305.19,858.001 1472.38,787.836 1639.57,682.588 1806.76,612.423 \n",
       "  1973.95,542.258 \n",
       "  \"/>\n",
       "<polyline clip-path=\"url(#clip182)\" style=\"stroke:#3da44d; stroke-width:4; stroke-opacity:1; fill:none\" points=\"\n",
       "  302.037,1314.07 469.229,1208.83 636.421,1173.74 803.612,1103.58 970.804,998.331 1138,928.166 1305.19,858.001 1472.38,752.753 1639.57,682.588 1806.76,647.506 \n",
       "  1973.95,542.258 \n",
       "  \"/>\n",
       "<polyline clip-path=\"url(#clip182)\" style=\"stroke:#c271d2; stroke-width:4; stroke-opacity:1; fill:none\" points=\"\n",
       "  302.037,1384.24 469.229,1349.16 636.421,1278.99 803.612,1208.83 970.804,1138.66 1138,1068.5 1305.19,998.331 1472.38,963.248 1639.57,893.083 1806.76,822.918 \n",
       "  1973.95,752.753 \n",
       "  \"/>\n",
       "<polyline clip-path=\"url(#clip182)\" style=\"stroke:#ac8d18; stroke-width:4; stroke-opacity:1; fill:none\" points=\"\n",
       "  302.037,1278.99 469.229,1187.78 636.421,1103.58 803.612,1048.32 970.804,959.74 1138,883.436 1305.19,792.221 1472.38,707.146 1639.57,626.456 1806.76,535.242 \n",
       "  1973.95,464.2 \n",
       "  \"/>\n",
       "<polyline clip-path=\"url(#clip182)\" style=\"stroke:#00a9ad; stroke-width:4; stroke-opacity:1; fill:none\" points=\"\n",
       "  302.037,1349.16 469.229,1278.99 636.421,1208.83 803.612,1138.66 970.804,1068.5 1138,998.331 1305.19,893.083 1472.38,858.001 1639.57,787.836 1806.76,717.671 \n",
       "  1973.95,647.506 \n",
       "  \"/>\n",
       "<polyline clip-path=\"url(#clip182)\" style=\"stroke:#ed5d92; stroke-width:4; stroke-opacity:1; fill:none\" points=\"\n",
       "  302.037,1173.74 469.229,1068.5 636.421,998.331 803.612,893.083 970.804,787.836 1138,647.506 1305.19,577.341 1472.38,472.093 1639.57,366.846 1806.76,296.681 \n",
       "  1973.95,156.351 \n",
       "  \"/>\n",
       "<polyline clip-path=\"url(#clip182)\" style=\"stroke:#c68125; stroke-width:4; stroke-opacity:1; fill:none\" points=\"\n",
       "  302.037,1173.74 469.229,1068.5 636.421,928.166 803.612,822.918 970.804,717.671 1138,647.506 1305.19,507.176 1472.38,401.928 1639.57,296.681 1806.76,156.351 \n",
       "  1973.95,86.1857 \n",
       "  \"/>\n",
       "<path clip-path=\"url(#clip180)\" d=\"\n",
       "M2094.14 977.132 L2352.76 977.132 L2352.76 432.812 L2094.14 432.812  Z\n",
       "  \" fill=\"#ffffff\" fill-rule=\"evenodd\" fill-opacity=\"1\"/>\n",
       "<polyline clip-path=\"url(#clip180)\" style=\"stroke:#000000; stroke-width:4; stroke-opacity:1; fill:none\" points=\"\n",
       "  2094.14,977.132 2352.76,977.132 2352.76,432.812 2094.14,432.812 2094.14,977.132 \n",
       "  \"/>\n",
       "<polyline clip-path=\"url(#clip180)\" style=\"stroke:#009af9; stroke-width:4; stroke-opacity:1; fill:none\" points=\"\n",
       "  2117.48,493.292 2257.54,493.292 \n",
       "  \"/>\n",
       "<path clip-path=\"url(#clip180)\" d=\"M 0 0 M2281.56 506.637 L2289.19 506.637 L2289.19 480.271 L2280.88 481.938 L2280.88 477.679 L2289.15 476.012 L2293.82 476.012 L2293.82 506.637 L2301.46 506.637 L2301.46 510.572 L2281.56 510.572 L2281.56 506.637 Z\" fill=\"#000000\" fill-rule=\"evenodd\" fill-opacity=\"1\" /><polyline clip-path=\"url(#clip180)\" style=\"stroke:#e26f46; stroke-width:4; stroke-opacity:1; fill:none\" points=\"\n",
       "  2117.48,553.772 2257.54,553.772 \n",
       "  \"/>\n",
       "<path clip-path=\"url(#clip180)\" d=\"M 0 0 M2286.51 567.117 L2302.83 567.117 L2302.83 571.052 L2280.88 571.052 L2280.88 567.117 Q2283.55 564.362 2288.13 559.733 Q2292.74 555.08 2293.92 553.737 Q2296.16 551.214 2297.04 549.478 Q2297.94 547.719 2297.94 546.029 Q2297.94 543.274 2296 541.538 Q2294.08 539.802 2290.98 539.802 Q2288.78 539.802 2286.32 540.566 Q2283.89 541.33 2281.12 542.881 L2281.12 538.159 Q2283.94 537.024 2286.39 536.446 Q2288.85 535.867 2290.88 535.867 Q2296.26 535.867 2299.45 538.552 Q2302.64 541.237 2302.64 545.728 Q2302.64 547.858 2301.83 549.779 Q2301.05 551.677 2298.94 554.27 Q2298.36 554.941 2295.26 558.159 Q2292.16 561.353 2286.51 567.117 Z\" fill=\"#000000\" fill-rule=\"evenodd\" fill-opacity=\"1\" /><polyline clip-path=\"url(#clip180)\" style=\"stroke:#3da44d; stroke-width:4; stroke-opacity:1; fill:none\" points=\"\n",
       "  2117.48,614.252 2257.54,614.252 \n",
       "  \"/>\n",
       "<path clip-path=\"url(#clip180)\" d=\"M 0 0 M2296.51 612.898 Q2299.87 613.615 2301.74 615.884 Q2303.64 618.152 2303.64 621.486 Q2303.64 626.601 2300.12 629.402 Q2296.6 632.203 2290.12 632.203 Q2287.94 632.203 2285.63 631.763 Q2283.34 631.347 2280.88 630.49 L2280.88 625.976 Q2282.83 627.111 2285.14 627.689 Q2287.46 628.268 2289.98 628.268 Q2294.38 628.268 2296.67 626.532 Q2298.99 624.796 2298.99 621.486 Q2298.99 618.43 2296.83 616.717 Q2294.7 614.981 2290.88 614.981 L2286.86 614.981 L2286.86 611.139 L2291.07 611.139 Q2294.52 611.139 2296.35 609.773 Q2298.18 608.384 2298.18 605.791 Q2298.18 603.129 2296.28 601.717 Q2294.4 600.282 2290.88 600.282 Q2288.96 600.282 2286.76 600.699 Q2284.57 601.115 2281.93 601.995 L2281.93 597.828 Q2284.59 597.088 2286.9 596.717 Q2289.24 596.347 2291.3 596.347 Q2296.63 596.347 2299.73 598.778 Q2302.83 601.185 2302.83 605.305 Q2302.83 608.176 2301.19 610.166 Q2299.54 612.134 2296.51 612.898 Z\" fill=\"#000000\" fill-rule=\"evenodd\" fill-opacity=\"1\" /><polyline clip-path=\"url(#clip180)\" style=\"stroke:#c271d2; stroke-width:4; stroke-opacity:1; fill:none\" points=\"\n",
       "  2117.48,674.732 2257.54,674.732 \n",
       "  \"/>\n",
       "<path clip-path=\"url(#clip180)\" d=\"M 0 0 M2296.49 661.526 L2284.68 679.975 L2296.49 679.975 L2296.49 661.526 M2295.26 657.452 L2301.14 657.452 L2301.14 679.975 L2306.07 679.975 L2306.07 683.864 L2301.14 683.864 L2301.14 692.012 L2296.49 692.012 L2296.49 683.864 L2280.88 683.864 L2280.88 679.35 L2295.26 657.452 Z\" fill=\"#000000\" fill-rule=\"evenodd\" fill-opacity=\"1\" /><polyline clip-path=\"url(#clip180)\" style=\"stroke:#ac8d18; stroke-width:4; stroke-opacity:1; fill:none\" points=\"\n",
       "  2117.48,735.212 2257.54,735.212 \n",
       "  \"/>\n",
       "<path clip-path=\"url(#clip180)\" d=\"M 0 0 M2282.34 717.932 L2300.7 717.932 L2300.7 721.867 L2286.63 721.867 L2286.63 730.339 Q2287.64 729.992 2288.66 729.83 Q2289.68 729.645 2290.7 729.645 Q2296.49 729.645 2299.87 732.816 Q2303.25 735.987 2303.25 741.404 Q2303.25 746.983 2299.77 750.085 Q2296.3 753.163 2289.98 753.163 Q2287.81 753.163 2285.54 752.793 Q2283.29 752.423 2280.88 751.682 L2280.88 746.983 Q2282.97 748.117 2285.19 748.673 Q2287.41 749.228 2289.89 749.228 Q2293.89 749.228 2296.23 747.122 Q2298.57 745.015 2298.57 741.404 Q2298.57 737.793 2296.23 735.687 Q2293.89 733.58 2289.89 733.58 Q2288.01 733.58 2286.14 733.997 Q2284.29 734.413 2282.34 735.293 L2282.34 717.932 Z\" fill=\"#000000\" fill-rule=\"evenodd\" fill-opacity=\"1\" /><polyline clip-path=\"url(#clip180)\" style=\"stroke:#00a9ad; stroke-width:4; stroke-opacity:1; fill:none\" points=\"\n",
       "  2117.48,795.692 2257.54,795.692 \n",
       "  \"/>\n",
       "<path clip-path=\"url(#clip180)\" d=\"M 0 0 M2293.22 793.829 Q2290.07 793.829 2288.22 795.981 Q2286.39 798.134 2286.39 801.884 Q2286.39 805.611 2288.22 807.787 Q2290.07 809.94 2293.22 809.94 Q2296.37 809.94 2298.2 807.787 Q2300.05 805.611 2300.05 801.884 Q2300.05 798.134 2298.2 795.981 Q2296.37 793.829 2293.22 793.829 M2302.5 779.176 L2302.5 783.435 Q2300.75 782.602 2298.94 782.162 Q2297.16 781.722 2295.4 781.722 Q2290.77 781.722 2288.32 784.847 Q2285.88 787.972 2285.54 794.292 Q2286.9 792.278 2288.96 791.213 Q2291.02 790.125 2293.5 790.125 Q2298.71 790.125 2301.72 793.296 Q2304.75 796.444 2304.75 801.884 Q2304.75 807.208 2301.6 810.426 Q2298.45 813.643 2293.22 813.643 Q2287.23 813.643 2284.06 809.06 Q2280.88 804.453 2280.88 795.727 Q2280.88 787.532 2284.77 782.671 Q2288.66 777.787 2295.21 777.787 Q2296.97 777.787 2298.75 778.134 Q2300.56 778.481 2302.5 779.176 Z\" fill=\"#000000\" fill-rule=\"evenodd\" fill-opacity=\"1\" /><polyline clip-path=\"url(#clip180)\" style=\"stroke:#ed5d92; stroke-width:4; stroke-opacity:1; fill:none\" points=\"\n",
       "  2117.48,856.172 2257.54,856.172 \n",
       "  \"/>\n",
       "<path clip-path=\"url(#clip180)\" d=\"M 0 0 M2280.88 838.892 L2303.11 838.892 L2303.11 840.883 L2290.56 873.452 L2285.68 873.452 L2297.48 842.827 L2280.88 842.827 L2280.88 838.892 Z\" fill=\"#000000\" fill-rule=\"evenodd\" fill-opacity=\"1\" /><polyline clip-path=\"url(#clip180)\" style=\"stroke:#c68125; stroke-width:4; stroke-opacity:1; fill:none\" points=\"\n",
       "  2117.48,916.652 2257.54,916.652 \n",
       "  \"/>\n",
       "<path clip-path=\"url(#clip180)\" d=\"M 0 0 M2292.74 917.52 Q2289.4 917.52 2287.48 919.302 Q2285.58 921.085 2285.58 924.21 Q2285.58 927.335 2287.48 929.117 Q2289.4 930.9 2292.74 930.9 Q2296.07 930.9 2297.99 929.117 Q2299.91 927.312 2299.91 924.21 Q2299.91 921.085 2297.99 919.302 Q2296.09 917.52 2292.74 917.52 M2288.06 915.529 Q2285.05 914.789 2283.36 912.728 Q2281.69 910.668 2281.69 907.705 Q2281.69 903.562 2284.63 901.154 Q2287.6 898.747 2292.74 898.747 Q2297.9 898.747 2300.84 901.154 Q2303.78 903.562 2303.78 907.705 Q2303.78 910.668 2302.09 912.728 Q2300.42 914.789 2297.44 915.529 Q2300.82 916.316 2302.69 918.608 Q2304.59 920.9 2304.59 924.21 Q2304.59 929.233 2301.51 931.918 Q2298.45 934.603 2292.74 934.603 Q2287.02 934.603 2283.94 931.918 Q2280.88 929.233 2280.88 924.21 Q2280.88 920.9 2282.78 918.608 Q2284.68 916.316 2288.06 915.529 M2286.35 908.145 Q2286.35 910.83 2288.01 912.335 Q2289.7 913.839 2292.74 913.839 Q2295.75 913.839 2297.44 912.335 Q2299.15 910.83 2299.15 908.145 Q2299.15 905.46 2297.44 903.955 Q2295.75 902.451 2292.74 902.451 Q2289.7 902.451 2288.01 903.955 Q2286.35 905.46 2286.35 908.145 Z\" fill=\"#000000\" fill-rule=\"evenodd\" fill-opacity=\"1\" /></svg>\n"
      ]
     },
     "execution_count": 16,
     "metadata": {},
     "output_type": "execute_result"
    }
   ],
   "source": [
    "# average # visits per hour\n",
    "delta_list = range(0.5,stop=1.5,length=11)\n",
    "all_delta = zeros(Q+1,11)\n",
    "for i in 1:11\n",
    "    mio_obj,nvisit_obj,z_val,x_val,w_val,nvisits_val,soltime = mio(wl_bool,evening_bool,weekend_bool,Cq.*delta_list[i],alpha,beta,gamma,C_inperson,C_max,Tn_max,Vn_max,H,E);\n",
    "    all_delta[1,i] = nvisit_obj\n",
    "    for q in 1:Q\n",
    "        all_delta[q+1,i] = sum(nvisits_val[q,:,:,:])\n",
    "    end\n",
    "end\n",
    "plot(delta_list.*100,all_delta[2,:],label=1,legend=:outerright,xlabel=\"Max hourly visits (% relative to current)\",ylabel=\"Number of visits\") #,title=\"Number of visits vs main entrance capacity\")\n",
    "for q in 2:Q\n",
    "    plot!(delta_list.*100,all_delta[q+1,:],label=q)\n",
    "end\n",
    "current()\n",
    "# shorten visit duration"
   ]
  },
  {
   "cell_type": "markdown",
   "metadata": {},
   "source": [
    "Exercise: pick two oher constraints to perturbate and evaluate how each of them affects the outcome"
   ]
  },
  {
   "cell_type": "code",
   "execution_count": 17,
   "metadata": {},
   "outputs": [
    {
     "name": "stdout",
     "output_type": "stream",
     "text": [
      "Academic license - for non-commercial use only\n",
      "7852.0\n"
     ]
    },
    {
     "data": {
      "text/plain": [
       "0.1011078390127611"
      ]
     },
     "execution_count": 17,
     "metadata": {},
     "output_type": "execute_result"
    }
   ],
   "source": [
    "# evaluate outcome if adding a waitlist \n",
    "mio_obj,nvisit_obj,z_val,x_val,w_val,nvisits_val,soltime = mio(true,evening_bool,weekend_bool,Cq,alpha,beta,gamma,C_inperson,C_max,Tn_max,Vn_max,H,E);\n",
    "println(nvisit_obj)\n",
    "nvisit_obj / nvisit_obj_cur - 1"
   ]
  },
  {
   "cell_type": "markdown",
   "metadata": {},
   "source": [
    "Exercise: try to evaluate the outcome if adding evening hours or weekend hours "
   ]
  },
  {
   "cell_type": "markdown",
   "metadata": {},
   "source": [
    "Acknowledgement: The material in part two is developed by Irra Na with reference to a model from Healthcare Lab using synthetic data."
   ]
  }
 ],
 "metadata": {
  "@webio": {
   "lastCommId": null,
   "lastKernelId": null
  },
  "anaconda-cloud": {},
  "celltoolbar": "Slideshow",
  "kernelspec": {
   "display_name": "Julia 1.5.3",
   "language": "julia",
   "name": "julia-1.5"
  },
  "language_info": {
   "file_extension": ".jl",
   "mimetype": "application/julia",
   "name": "julia",
   "version": "1.5.3"
  }
 },
 "nbformat": 4,
 "nbformat_minor": 1
}
