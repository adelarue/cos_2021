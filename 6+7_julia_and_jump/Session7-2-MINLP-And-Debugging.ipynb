{
 "cells": [
  {
   "cell_type": "markdown",
   "metadata": {},
   "source": [
    "# A Reminder: What do we care about when we solve optimization problems?"
   ]
  },
  {
   "cell_type": "markdown",
   "metadata": {},
   "source": [
    "**We care about four distinct attributes:**\n",
    "\n",
    "1) **Correctness** (Are \"feasible\" solutions feasible? Are \"optimal\" solutions optimal?)\n",
    "\n",
    "2) **Time taken** (fast is every user's favourite feature).\n",
    "\n",
    "3) **Bound quality** (how good is the lower bound?).\n",
    "\n",
    "4) **Solution quality** (how good is the best solution identified?)\n",
    "\n",
    "\n",
    "How do we obtain these four attributes?\n",
    "\n",
    "1) **Test your code regularly, with real data**\n",
    "  * There might be bugs in any of the following:\n",
    "    * Your data (even if you acquired it from a well-known repository).\n",
    "    * Your code.\n",
    "    * Julia (the solver interface (CPLEX.jl, Gurobi.jl), JuMP, Julia base.).\n",
    "    * The solver: I have personally seen bugs in both CPLEX and Gurobi, open-source solvers are even less reliable.\n",
    "  * You need to create test scripts before you start developing Julia code, and run these every time you make changes to your code, or update anything, to verify correctness.\n",
    "      * This includes changing your Gurobi version, executing Pkg.update().\n",
    "  * Synthetic data makes for bad test cases: if possible, use real data (e.g. from repositories, the literature).\n",
    "   \n",
    "2) **Adjust your expectations**\n",
    "   * Adjust the solve time: if you obtain a feasible solution, then you can terminate early.\n",
    "   * Adjust the optimality tolerance: since your data is probably not error free, the benefits of closing the optimality gap from 1% to 0% are probably limited.\n",
    "   * Improve 3-4.\n",
    "   \n",
    "3) **Get Better Relaxations**\n",
    "  * Cuts (improve the lower bounds).\n",
    "    * Tune solver cuts.\n",
    "    * Add clever problem-specific cuts.\n",
    "    * Branching strategies (construct the tree in a smart way).\n",
    "    * Subproblem solution strategies (how we solve each node of the branch-and-bound tree).\n",
    "  * Apriori lower bounds (e.g. from QCQP, SOCP, SDP).\n",
    "    \n",
    "4) **Use Heuristics for Warm-Starts**\n",
    "* Heuristics (improve the upper bounds via feasible solutions).\n",
    "\n",
    "**In the rest of this session, we will discuss how to go about testing your optimization code.**"
   ]
  },
  {
   "cell_type": "markdown",
   "metadata": {},
   "source": [
    "# Our running example: Robust Portfolio Optimization"
   ]
  },
  {
   "cell_type": "markdown",
   "metadata": {},
   "source": [
    "We are going to use robust portfolio optimization as our running example for this session (based on code written by Iain Dunning [here](https://github.com/joehuchette/OR-software-tools-2015/blob/master/7-adv-optimization/Callbacks.ipynb))."
   ]
  },
  {
   "cell_type": "markdown",
   "metadata": {},
   "source": [
    "Portfolio optimization is the problem of constructing a portfolio of assets to maximize our risk-adjusted expected return. If we maximize the expected return while taking on arbitrary risk, we have a very high chance of going bankrupt. On the other hand, if we are unwilling to take on any risk then we will probably not be able to outperform US treasury bounds. Our goal is to write a solver which allows us to explore portfolios between these two extremes, and verify its correctness."
   ]
  },
  {
   "cell_type": "markdown",
   "metadata": {},
   "source": [
    "Robust optimization is an one approach to solving this problem. It says that we don't know the exact expected returns of each asset, because we only have access to noisy historical data. Therefore, a reasonable approach to take is to maximize the worst case expected return, where the returns are drawn from a bounded set of outcomes centered on the historical expected returns. We refer to this set of outcomes as an uncertainty set. \n",
    "\n",
    "It can be shown that robust optimization is equivalent to maximizing risk-adjusted expected returns, for some attitudes towards risk, so varying the size of the uncertainty set lets us explore portfolios with different attitudes towards risk."
   ]
  },
  {
   "cell_type": "markdown",
   "metadata": {},
   "source": [
    "# A formulation of the problem "
   ]
  },
  {
   "cell_type": "markdown",
   "metadata": {},
   "source": [
    "* Let $x_i$ be the proportion we invest in asset $i$. We are going to ban short-selling, and we need to invest all our money, so $\\sum_i x_i=1$ and $x \\geq 0$.\n",
    "* We're also going to restrict ourselves to buying at most a quarter of the assets in the market (buying every asset in the market is called index tracking, and clients don't like it if you do index tracking while charging high fees). This means we need **binary** variables $y_i \\in \\{0, 1\\}$ and the additional constraints $x \\leq y$ and $\\sum_i y_i \\leq \\frac{N}{4}$.\n",
    "* Let $p_i$ be the expected return for asset $i$. We assume that $p \\in U$, where...\n",
    "* $U$ is our uncertainty set. We assume that we are given the following data: $\\bar{p}_i$, the historical expected return, and $\\sigma_i$, the historical standard deviation, for each asset $i$. Given this information, we can construct the uncertainty set $U^Γ$, which we define by:\n",
    "\\begin{align*}\n",
    "U^Γ:=\\{p: p_i=\\bar{p}_i+\\sigma_i d_i, || d|| \\leq Γ\\}.\n",
    "\\end{align*}\n"
   ]
  },
  {
   "cell_type": "markdown",
   "metadata": {},
   "source": [
    "Given this information, we can formulate our problem as follows:\n",
    "\n",
    "\\begin{align*}\n",
    "    \\max_{z, x} \\ z\\\\\n",
    "    \\text{s.t.} \\ z \\leq p^\\top x, \\ \\forall p \\in U^Γ,\\\\\n",
    "    \\ \\ e^\\top x=1,\\\\\n",
    "    0 \\leq x \\leq y,\\\\\n",
    "    e^\\top y \\leq N/4,\\\\\n",
    "    y \\in \\{0, 1\\}^n.\\\\\n",
    "\\end{align*}\n",
    "\n",
    "While this problem has infinitely many constraints, we can solve it via a cutting-plane method."
   ]
  },
  {
   "cell_type": "markdown",
   "metadata": {},
   "source": [
    "We will write this in JuMP as follows:"
   ]
  },
  {
   "cell_type": "code",
   "execution_count": 1,
   "metadata": {},
   "outputs": [
    {
     "ename": "LoadError",
     "evalue": "LoadError: UndefVarError: @lazyconstraint not defined\nin expression starting at In[1]:48",
     "output_type": "error",
     "traceback": [
      "LoadError: UndefVarError: @lazyconstraint not defined\nin expression starting at In[1]:48",
      "",
      "Stacktrace:",
      " [1] top-level scope",
      " [2] include_string(::Function, ::Module, ::String, ::String) at ./loading.jl:1091"
     ]
    }
   ],
   "source": [
    "using JuMP, Gurobi, LinearAlgebra\n",
    "\n",
    "# Generate data\n",
    "n = 20\n",
    "p̄ = [1.15 + i*0.05/150 for i in 1:n]\n",
    "σ = [0.05/450*√(2*i*n*(n+1)) for i in 1:n]\n",
    "\n",
    "function solve_portfolio()\n",
    "    port = Model(solver=GurobiSolver())\n",
    "\n",
    "    @variable(port, z <= maximum(p̄)) # We can't earn a higher expected return than the highest expected return of all stocks\n",
    "    @objective(port, Max, z)\n",
    "    @variable(port, 0 <= x[1:n] <= 1)\n",
    "    @constraint(port, sum(x) == 1)\n",
    "    \n",
    "    @variable(port, y[1:n], Bin)\n",
    "    @constraint(port, x.<=y)\n",
    "    @constraint(port, sum(y) <= n/4)\n",
    "    \n",
    "\n",
    "    # Link z to x\n",
    "    function portobj(cb)\n",
    "        # Get values of z and x\n",
    "        zval = getvalue(z)\n",
    "        xval = getvalue(x)[:]\n",
    "    \n",
    "        # Find most pessimistic value of p'x\n",
    "        # over all p in the uncertainty set\n",
    "        rob = Model(solver=GurobiSolver(OutputFlag=0))\n",
    "        @variable(rob, p[i=1:n])\n",
    "        @variable(rob, d[i=1:n])\n",
    "        @objective(rob, Min, LinearAlgebra.dot(xval,p))\n",
    "        Γ = sqrt(10)\n",
    "        @constraint(rob, sum(d[i]^2 for i=1:n) ≤ Γ)\n",
    "        for i in 1:n\n",
    "            @constraint(rob, p[i] == p̄[i] + σ[i]*d[i])\n",
    "        end\n",
    "        solve(rob)\n",
    "        worst_z = getobjectivevalue(rob)\n",
    "        @show (zval, worst_z)\n",
    "        worst_p = getvalue(p)[:]\n",
    "        \n",
    "        # Is this worst_p going to change the objective\n",
    "        # because worst_z is worse than the current z?\n",
    "        if worst_z < zval - 1e-2\n",
    "            # Yep, we've made things worse!\n",
    "            # Gurobi should try to find a better portfolio now\n",
    "            @lazyconstraint(cb, z <= LinearAlgebra.dot(worst_p,x))\n",
    "        end\n",
    "    end\n",
    "    addlazycallback(port, portobj)\n",
    "    \n",
    "    solve(port)\n",
    "    \n",
    "    return getvalue(x)[:]\n",
    "end"
   ]
  },
  {
   "cell_type": "markdown",
   "metadata": {},
   "source": [
    "We can time how long the problem takes to solve, and measure its memory use, via the @time macro. Using this macro is a better idea than writing down the time reported by CPLEX/Gurobi, because the later ommits the time required in pre and post processing steps. This isn't a big deal when the only extra step is writing the problem to Gurobi, but becomes a bigger deal if you are adding other nuts and bolts on (e.g. a warm-start heuristic).\n"
   ]
  },
  {
   "cell_type": "code",
   "execution_count": 2,
   "metadata": {},
   "outputs": [
    {
     "ename": "LoadError",
     "evalue": "UndefVarError: solve_portfolio not defined",
     "output_type": "error",
     "traceback": [
      "UndefVarError: solve_portfolio not defined",
      "",
      "Stacktrace:",
      " [1] top-level scope at ./timing.jl:174 [inlined]",
      " [2] top-level scope at ./In[2]:0",
      " [3] include_string(::Function, ::Module, ::String, ::String) at ./loading.jl:1091"
     ]
    }
   ],
   "source": [
    "@time proportion=solve_portfolio()"
   ]
  },
  {
   "cell_type": "markdown",
   "metadata": {},
   "source": [
    "Notice that the @time macro (correctly) tells us that the time taken is actually about 0.04 seconds longer than Gurobi reported."
   ]
  },
  {
   "cell_type": "markdown",
   "metadata": {},
   "source": [
    "# Testing for correctness\n",
    "\n",
    "The first thing which we should do to test correctness is check whether the \"optimal\" solution satisfies all of our constraints. We can achieve this using the Test.jl package, which evaluates statements to decide if they are true and prints warnings if they are not. If you are writing a Julia package then it can also be linked to things like TravisCI, which gives a neat summary of what percentage of test-cases your code is passing."
   ]
  },
  {
   "cell_type": "code",
   "execution_count": 45,
   "metadata": {},
   "outputs": [
    {
     "data": {
      "text/plain": [
       "\u001b[32m\u001b[1mTest Passed\u001b[22m\u001b[39m"
      ]
     },
     "execution_count": 45,
     "metadata": {},
     "output_type": "execute_result"
    }
   ],
   "source": [
    "using Test\n",
    "\n",
    "# Test that e'x=1\n",
    "@test abs(sum(proportion)-1.0)<=1e-12\n",
    "\n",
    "# Test that we are investing in at most N/4 assets\n",
    "@test sum(proportion.>=1e-12*ones(n))<=n/4\n",
    "\n",
    "# Test that we are not short-selling\n",
    "@test minimum(proportion) >=-1e-12"
   ]
  },
  {
   "cell_type": "markdown",
   "metadata": {},
   "source": [
    "A better way to write these tests is to wrap them in a TestSet, as follows:"
   ]
  },
  {
   "cell_type": "code",
   "execution_count": 46,
   "metadata": {},
   "outputs": [
    {
     "name": "stdout",
     "output_type": "stream",
     "text": [
      "\u001b[37m\u001b[1mTest Summary:     | \u001b[22m\u001b[39m\u001b[32m\u001b[1mPass  \u001b[22m\u001b[39m\u001b[36m\u001b[1mTotal\u001b[22m\u001b[39m\n",
      "Feasibility Tests | \u001b[32m   3  \u001b[39m\u001b[36m    3\u001b[39m\n"
     ]
    },
    {
     "data": {
      "text/plain": [
       "Test.DefaultTestSet(\"Feasibility Tests\", Any[], 3, false)"
      ]
     },
     "execution_count": 46,
     "metadata": {},
     "output_type": "execute_result"
    }
   ],
   "source": [
    "@testset \"Feasibility Tests\" begin\n",
    "    # Test that e'x=1\n",
    "    @test abs(sum(proportion)-1.0)<=1e-12\n",
    "    \n",
    "    # Test that we are investing in at most N/4 assets\n",
    "    @test sum(proportion.>=1e-12*ones(n))<=n/4\n",
    "    \n",
    "    # Test that we are not short-selling\n",
    "    @test minimum(proportion) >=-1e-12\n",
    "end"
   ]
  },
  {
   "cell_type": "markdown",
   "metadata": {},
   "source": [
    "Notice that we get a neat summary of which test cases we are passing. This means that every time we add something to a piece of code, we can test if the code is still correct (with respect to our test-set) by running an appropriate testing file. Whenever you are coding something more serious than a homework assignment in JuMP, you should do this every time you commit to GitHub."
   ]
  },
  {
   "cell_type": "markdown",
   "metadata": {},
   "source": [
    "**Discussion: does passing the above test cases mean that we have found the optimal solution?**"
   ]
  },
  {
   "cell_type": "markdown",
   "metadata": {},
   "source": [
    "* No! All that we have confirmed thus far is that we have a feasible solution.\n",
    "* **Actually, the solution which we found is wrong! This is because I \"forgot\" to square $Γ$ in the constraint:**\n",
    "@constraint(rob, sum(d[i]^2 for i=1:n) ≤ Γ)"
   ]
  },
  {
   "cell_type": "markdown",
   "metadata": {},
   "source": [
    "How could we have picked this out? Some suggestions:\n",
    "\n",
    "1) Gold standard: solve the problem using a different approach, and test if you get the same answer. In this case, you can also solve the problem as one giant MIQP by taking the dual with respect to p, and then compare your answer from the two approaches (see the link to Iain's notebook for how to do this). If there is only one approach, you could ask a friend to code up a second solver (without looking at your solver) and see if you get the same result. \n",
    "\n",
    "2) Bronze standard: Included more test cases, such as testing if we get the analytical solution to some easy problems, and perform unit testing on the inner problem.\n",
    "\n"
   ]
  },
  {
   "cell_type": "markdown",
   "metadata": {},
   "source": [
    "# Final (correct) version"
   ]
  },
  {
   "cell_type": "code",
   "execution_count": 47,
   "metadata": {},
   "outputs": [
    {
     "name": "stdout",
     "output_type": "stream",
     "text": [
      "Academic license - for non-commercial use only\n",
      "Optimize a model with 22 rows, 41 columns and 80 nonzeros\n",
      "Variable types: 21 continuous, 20 integer (20 binary)\n",
      "Coefficient statistics:\n",
      "  Matrix range     [1e+00, 1e+00]\n",
      "  Objective range  [1e+00, 1e+00]\n",
      "  Bounds range     [1e+00, 1e+00]\n",
      "  RHS range        [1e+00, 5e+00]\n",
      "Academic license - for non-commercial use only\n",
      "(zval, worst_z) = (1.1566666666666665, 1.1119445303971691)\n",
      "Presolve time: 0.00s\n",
      "Presolved: 22 rows, 41 columns, 80 nonzeros\n",
      "Variable types: 21 continuous, 20 integer (20 binary)\n",
      "Academic license - for non-commercial use only\n",
      "(zval, worst_z) = (1.1566666666666665, 1.1145993788007809)\n",
      "\n",
      "Root relaxation: objective 1.156667e+00, 3 iterations, 0.00 seconds\n",
      "Academic license - for non-commercial use only\n",
      "(zval, worst_z) = (1.1566666666666665, 1.1111247140712786)\n",
      "Academic license - for non-commercial use only\n",
      "(zval, worst_z) = (1.1563333333333332, 1.1119445303971691)\n",
      "Academic license - for non-commercial use only\n",
      "(zval, worst_z) = (1.156, 1.1127951134750609)\n",
      "Academic license - for non-commercial use only\n",
      "(zval, worst_z) = (1.1556666666666666, 1.1136790657845412)\n",
      "Academic license - for non-commercial use only\n",
      "(zval, worst_z) = (1.1549999999999998, 1.1155595196157315)\n",
      "Academic license - for non-commercial use only\n",
      "(zval, worst_z) = (1.1546666666666665, 1.1165635440594261)\n",
      "Academic license - for non-commercial use only\n",
      "(zval, worst_z) = (1.1543333333333332, 1.1176162469600004)\n",
      "Academic license - for non-commercial use only\n",
      "(zval, worst_z) = (1.154, 1.1187233656301556)\n",
      "Academic license - for non-commercial use only\n",
      "(zval, worst_z) = (1.1536666666666666, 1.1198918616159343)\n",
      "Academic license - for non-commercial use only\n",
      "(zval, worst_z) = (1.1533333333333333, 1.1211303209787777)\n",
      "Academic license - for non-commercial use only\n",
      "(zval, worst_z) = (1.1529999999999998, 1.122449540434657)\n",
      "Academic license - for non-commercial use only\n",
      "(zval, worst_z) = (1.1526666666666665, 1.123863417151279)\n",
      "Academic license - for non-commercial use only\n",
      "(zval, worst_z) = (1.1523333333333332, 1.1253903599468296)\n",
      "Academic license - for non-commercial use only\n",
      "(zval, worst_z) = (1.152, 1.1270556524085023)\n",
      "\n",
      "    Nodes    |    Current Node    |     Objective Bounds      |     Work\n",
      " Expl Unexpl |  Obj  Depth IntInf | Incumbent    BestBd   Gap | It/Node Time\n",
      "\n",
      "     0     0    1.15174    0   11          -    1.15174      -     -    0s\n",
      "Academic license - for non-commercial use only\n",
      "(zval, worst_z) = (1.1470246141262213, 1.1395302693799527)\n",
      "H    0     0                       1.1470246    1.15174  0.41%     -    0s\n",
      "     0     0    1.15174    0   11    1.14702    1.15174  0.41%     -    0s\n",
      "     0     2    1.15174    0   11    1.14702    1.15174  0.41%     -    0s\n",
      "Academic license - for non-commercial use only\n",
      "(zval, worst_z) = (1.1516666666666664, 1.1288956946511663)\n",
      "Academic license - for non-commercial use only\n",
      "(zval, worst_z) = (1.1513333333333386, 1.130966353248065)\n",
      "Academic license - for non-commercial use only\n",
      "(zval, worst_z) = (1.1509999999999838, 1.1333616726369449)\n",
      "Academic license - for non-commercial use only\n",
      "(zval, worst_z) = (1.1470358899320057, 1.139416556084899)\n",
      "H   71    38                       1.1470359    1.15165  0.40%   3.5    0s\n",
      "Academic license - for non-commercial use only\n",
      "(zval, worst_z) = (1.1470731681552697, 1.1408482018497643)\n",
      "H   89    42                       1.1470732    1.15165  0.40%   3.8    0s\n",
      "Academic license - for non-commercial use only\n",
      "(zval, worst_z) = (1.1471044010756768, 1.140580136773766)\n",
      "H   90    38                       1.1471044    1.15165  0.40%   3.8    0s\n",
      "Academic license - for non-commercial use only\n",
      "(zval, worst_z) = (1.150666666666653, 1.1362650259476395)\n",
      "Academic license - for non-commercial use only\n",
      "(zval, worst_z) = (1.150333333333333, 1.140149838993063)\n",
      "Academic license - for non-commercial use only\n",
      "(zval, worst_z) = (1.1472180112252837, 1.141109444738968)\n",
      "*  127    37              14       1.1472180    1.15164  0.39%   3.9    0s\n",
      "Academic license - for non-commercial use only\n",
      "(zval, worst_z) = (1.1472205685242376, 1.1412372077249857)\n",
      "*  135    39              14       1.1472206    1.15164  0.39%   3.8    0s\n",
      "Academic license - for non-commercial use only\n",
      "(zval, worst_z) = (1.147223837518013, 1.1413091087390832)\n",
      "*  142    40              14       1.1472238    1.15164  0.39%   3.9    0s\n",
      "Academic license - for non-commercial use only\n",
      "(zval, worst_z) = (1.147226948886493, 1.1409601110968652)\n",
      "*  147    40              14       1.1472269    1.15164  0.38%   3.9    0s\n",
      "Academic license - for non-commercial use only\n",
      "(zval, worst_z) = (1.1472639755889378, 1.1414168110808254)\n",
      "*  154    41              14       1.1472640    1.15164  0.38%   3.9    0s\n",
      "Academic license - for non-commercial use only\n",
      "(zval, worst_z) = (1.147519862998885, 1.1420505736524629)\n",
      "*  181    44              16       1.1475199    1.15164  0.36%   3.8    0s\n",
      "Academic license - for non-commercial use only\n",
      "(zval, worst_z) = (1.1475347047913584, 1.1422251624305897)\n",
      "H  192    53                       1.1475347    1.15164  0.36%   3.7    0s\n",
      "Academic license - for non-commercial use only\n",
      "(zval, worst_z) = (1.1475941284357136, 1.1420161357192662)\n",
      "*  273    54              17       1.1475941    1.15160  0.35%   3.8    0s\n",
      "Academic license - for non-commercial use only\n",
      "(zval, worst_z) = (1.147681823202479, 1.1419960401799099)\n",
      "H  292    64                       1.1476818    1.15160  0.34%   3.8    0s\n",
      "Academic license - for non-commercial use only\n",
      "(zval, worst_z) = (1.1477206408607699, 1.143212196957846)\n",
      "H  471    86                       1.1477206    1.15153  0.33%   3.8    0s\n",
      "Academic license - for non-commercial use only\n",
      "(zval, worst_z) = (1.1477986813765453, 1.1429932586477347)\n",
      "H  581   103                       1.1477987    1.15146  0.32%   3.8    0s\n",
      "Academic license - for non-commercial use only\n",
      "(zval, worst_z) = (1.1478323896466476, 1.1426937389776741)\n",
      "H  767   118                       1.1478324    1.15144  0.31%   3.7    0s\n",
      "Academic license - for non-commercial use only\n",
      "(zval, worst_z) = (1.1478417664928284, 1.1432637845110905)\n",
      "H 3962   521                       1.1478418    1.15080  0.26%   3.6    0s\n",
      "Academic license - for non-commercial use only\n",
      "(zval, worst_z) = (1.1478530175315944, 1.1426888673936826)\n",
      "* 4035   521              19       1.1478530    1.15074  0.25%   3.6    0s\n",
      "Academic license - for non-commercial use only\n",
      "(zval, worst_z) = (1.1478728769581348, 1.1426678308260882)\n",
      "* 4511   625              19       1.1478729    1.15070  0.25%   3.5    0s\n",
      "Academic license - for non-commercial use only\n",
      "(zval, worst_z) = (1.1478728769581348, 1.1426678308260882)\n",
      "Academic license - for non-commercial use only\n",
      "(zval, worst_z) = (1.1478937106104161, 1.1426547321813583)\n",
      "H 5826   800                       1.1478937    1.15064  0.24%   3.5    0s\n",
      "Academic license - for non-commercial use only\n",
      "(zval, worst_z) = (1.1479043340268085, 1.1426504142288092)\n",
      "H 5877   759                       1.1479043    1.15064  0.24%   3.5    0s\n",
      "\n",
      "Explored 29448 nodes (81038 simplex iterations) in 0.41 seconds\n",
      "Thread count was 12 (of 12 available processors)\n",
      "\n",
      "Solution count 10: 1.1479 1.14789 1.14787 ... 1.14759\n",
      "\n",
      "Optimal solution found (tolerance 1.00e-04)\n",
      "Best objective 1.147904334027e+00, best bound 1.147904334027e+00, gap 0.0000%\n"
     ]
    },
    {
     "data": {
      "text/plain": [
       "20-element Array{Float64,1}:\n",
       " 0.41739159941369663\n",
       " 0.2951403297190225 \n",
       " 0.0                \n",
       " 0.0                \n",
       " 0.0                \n",
       " 0.0                \n",
       " 0.0                \n",
       " 0.0                \n",
       " 0.0                \n",
       " 0.0                \n",
       " 0.0                \n",
       " 0.0                \n",
       " 0.0                \n",
       " 0.0                \n",
       " 0.0                \n",
       " 0.0                \n",
       " 0.0                \n",
       " 0.09838019104277032\n",
       " 0.09575624277179975\n",
       " 0.09333163705271079"
      ]
     },
     "execution_count": 47,
     "metadata": {},
     "output_type": "execute_result"
    }
   ],
   "source": [
    "using JuMP, Gurobi\n",
    "\n",
    "# Generate data\n",
    "n = 20\n",
    "p̄ = [1.15 + i*0.05/150 for i in 1:n]\n",
    "σ = [0.05/450*√(2*i*n*(n+1)) for i in 1:n]\n",
    "\n",
    "function solve_portfolio()\n",
    "    port = Model(solver=GurobiSolver())\n",
    "\n",
    "    @variable(port, z <= maximum(p̄)) # We can't earn a higher expected return than the highest expected return of all stocks\n",
    "    @objective(port, Max, z)\n",
    "    @variable(port, 0 <= x[1:n] <= 1)\n",
    "    @constraint(port, sum(x) == 1)\n",
    "    \n",
    "    @variable(port, y[1:n], Bin)\n",
    "    @constraint(port, x.<=y)\n",
    "    @constraint(port, sum(y) <= n/4)\n",
    "    \n",
    "\n",
    "    # Link z to x\n",
    "    function portobj(cb)\n",
    "        # Get values of z and x\n",
    "        zval = getvalue(z)\n",
    "        xval = getvalue(x)[:]\n",
    "    \n",
    "        # Find most pessimistic value of p'x\n",
    "        # over all p in the uncertainty set\n",
    "        rob = Model(solver=GurobiSolver(OutputFlag=0))\n",
    "        @variable(rob, p[i=1:n])\n",
    "        @variable(rob, d[i=1:n])\n",
    "        @objective(rob, Min, LinearAlgebra.dot(xval,p))\n",
    "        Γ = sqrt(10)\n",
    "        @constraint(rob, sum(d[i]^2 for i=1:n) <= Γ^2)\n",
    "        for i in 1:n\n",
    "            @constraint(rob, p[i] == p̄[i] + σ[i]*d[i])\n",
    "        end\n",
    "        solve(rob)\n",
    "        worst_z = getobjectivevalue(rob)\n",
    "        @show (zval, worst_z)\n",
    "        worst_p = getvalue(p)[:]\n",
    "        \n",
    "        # Is this worst_p going to change the objective\n",
    "        # because worst_z is worse than the current z?\n",
    "        if worst_z < zval - 1e-2\n",
    "            # Yep, we've made things worse!\n",
    "            # Gurobi should try to find a better portfolio now\n",
    "            @lazyconstraint(cb, z <= LinearAlgebra.dot(worst_p,x))\n",
    "        end\n",
    "    end\n",
    "    addlazycallback(port, portobj)\n",
    "    \n",
    "    solve(port)\n",
    "    \n",
    "    return getvalue(x)[:]\n",
    "end\n",
    "\n",
    "solve_portfolio()"
   ]
  },
  {
   "cell_type": "code",
   "execution_count": null,
   "metadata": {},
   "outputs": [],
   "source": []
  }
 ],
 "metadata": {
  "kernelspec": {
   "display_name": "Julia 1.5.3",
   "language": "julia",
   "name": "julia-1.5"
  },
  "language_info": {
   "file_extension": ".jl",
   "mimetype": "application/julia",
   "name": "julia",
   "version": "1.5.3"
  }
 },
 "nbformat": 4,
 "nbformat_minor": 2
}
