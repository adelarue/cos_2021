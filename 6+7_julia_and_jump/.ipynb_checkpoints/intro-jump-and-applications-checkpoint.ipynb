{
 "cells": [
  {
   "cell_type": "markdown",
   "metadata": {
    "slideshow": {
     "slide_type": "slide"
    }
   },
   "source": [
    "# Optimization with JuMP\n",
    "\n",
    "Optimization models play a central role in operations research. \n",
    "\n",
    "In this session, we will explore the basic functionalities of JuMP, a modeling language to define and solve optimization models in Julia.\n",
    "\n",
    "In the first part, we will introduce the basics of implementating optimization in JuMP.\n",
    "In the second part, we will demonstrate its application via a case study the process from modeling the problem, implementing with data, to running experiment analysis.\n",
    "\n",
    "<a href=\"https://github.com/JuliaOpt/JuMP.jl\"><img src=\"figures/jump.svg\" alt=\"Julia\" style=\"width: 500px;\"/></a>"
   ]
  },
  {
   "cell_type": "markdown",
   "metadata": {},
   "source": [
    "## Part I: Brief introduction"
   ]
  },
  {
   "cell_type": "markdown",
   "metadata": {
    "slideshow": {
     "slide_type": "subslide"
    }
   },
   "source": [
    "[JuMP.jl](https://github.com/JuliaOpt/JuMP.jl) is a high-level modeling language for mathematical optimization embedded in Julia. It currently supports \n",
    "- a number of open-source and commercial solvers (Artelys Knitro, BARON, Bonmin, Cbc, Clp, Couenne, CPLEX, ECOS, FICO Xpress, GLPK, Gurobi, Ipopt, MOSEK, NLopt, SCS) \n",
    "- for a variety of problem classes, including linear programming, (mixed) integer programming, second-order conic programming, semidefinite programming, and nonlinear programming."
   ]
  },
  {
   "cell_type": "markdown",
   "metadata": {
    "slideshow": {
     "slide_type": "subslide"
    }
   },
   "source": [
    "<a href=\"http://www.juliaopt.org\"><img src=\"figures/juliaopt.png\" alt=\"JuliaOpt\" style=\"width: 1000px;\"/></a>"
   ]
  },
  {
   "cell_type": "markdown",
   "metadata": {
    "slideshow": {
     "slide_type": "slide"
    }
   },
   "source": [
    "## A toy example\n",
    "\n",
    "Consider the following (small) problem:\n",
    "\n",
    "\\begin{align*}\n",
    "    \\max\\:& x + y + z_{11} + z_{12} + z_{13}  \\\\\n",
    "    \\text{s.t.}\\:& x + 2y \\leq 1.5 \\\\\n",
    "    & -y + z_{ij} \\leq 1, \\forall i \\in \\{1,2\\}, j \\in \\{1,2,3\\} \\\\\n",
    "     & z_{ij} \\geq 0, \\forall i \\in \\{1,2\\}, j \\in \\{1,2,3\\}\\\\\n",
    "    & x \\in \\{0,1\\}, y \\in \\mathbb{Z} \\\\\n",
    "\\end{align*}\n"
   ]
  },
  {
   "cell_type": "markdown",
   "metadata": {
    "slideshow": {
     "slide_type": "slide"
    }
   },
   "source": [
    "# Implementation in JuMP\n",
    "\n",
    "Let's solve our simple problem in JuMP."
   ]
  },
  {
   "cell_type": "code",
   "execution_count": 1,
   "metadata": {},
   "outputs": [
    {
     "name": "stdout",
     "output_type": "stream",
     "text": [
      "Academic license - for non-commercial use only\n",
      "Max x + y + z[1,1] + z[1,2] + z[1,3]\n",
      "Subject to\n",
      " x + 2 y ≤ 1.5\n",
      " -y + z[1,1] ≤ 1.0\n",
      " -y + z[2,1] ≤ 1.0\n",
      " -y + z[1,2] ≤ 1.0\n",
      " -y + z[2,2] ≤ 1.0\n",
      " -y + z[1,3] ≤ 1.0\n",
      " -y + z[2,3] ≤ 1.0\n",
      " z[1,1] ≥ 0.0\n",
      " z[2,1] ≥ 0.0\n",
      " z[1,2] ≥ 0.0\n",
      " z[2,2] ≥ 0.0\n",
      " z[1,3] ≥ 0.0\n",
      " z[2,3] ≥ 0.0\n",
      " y integer\n",
      " x binary\n"
     ]
    }
   ],
   "source": [
    "using JuMP, Gurobi\n",
    "m = Model(Gurobi.Optimizer)\n",
    "\n",
    "@variable(m, x, Bin)\n",
    "@variable(m, y, Int)\n",
    "@variable(m, z[1:2,1:3]>=0)\n",
    "\n",
    "@constraint(m, x + 2y <= 1.5)\n",
    "@constraint(m, z .-y .<= 1)\n",
    "\n",
    "@objective(m, Max, x + y + sum(z[1,:]))\n",
    "\n",
    "print(m)"
   ]
  },
  {
   "cell_type": "markdown",
   "metadata": {
    "slideshow": {
     "slide_type": "subslide"
    }
   },
   "source": [
    "and solve it"
   ]
  },
  {
   "cell_type": "code",
   "execution_count": 2,
   "metadata": {
    "slideshow": {
     "slide_type": "fragment"
    }
   },
   "outputs": [
    {
     "name": "stdout",
     "output_type": "stream",
     "text": [
      "Gurobi Optimizer version 9.0.1 build v9.0.1rc0 (mac64)\n",
      "Optimize a model with 7 rows, 8 columns and 14 nonzeros\n",
      "Model fingerprint: 0xd6cb8957\n",
      "Variable types: 6 continuous, 2 integer (1 binary)\n",
      "Coefficient statistics:\n",
      "  Matrix range     [1e+00, 2e+00]\n",
      "  Objective range  [1e+00, 1e+00]\n",
      "  Bounds range     [0e+00, 0e+00]\n",
      "  RHS range        [1e+00, 2e+00]\n",
      "Found heuristic solution: objective 4.0000000\n",
      "Presolve removed 7 rows and 8 columns\n",
      "Presolve time: 0.00s\n",
      "Presolve: All rows and columns removed\n",
      "\n",
      "Explored 0 nodes (0 simplex iterations) in 0.00 seconds\n",
      "Thread count was 1 (of 4 available processors)\n",
      "\n",
      "Solution count 1: 4 \n",
      "\n",
      "Optimal solution found (tolerance 1.00e-04)\n",
      "Best objective 4.000000000000e+00, best bound 4.000000000000e+00, gap 0.0000%\n",
      "\n",
      "User-callback calls 33, time in user-callback 0.00 sec\n"
     ]
    }
   ],
   "source": [
    "optimize!(m)"
   ]
  },
  {
   "cell_type": "code",
   "execution_count": 3,
   "metadata": {},
   "outputs": [
    {
     "data": {
      "text/plain": [
       "4.0"
      ]
     },
     "execution_count": 3,
     "metadata": {},
     "output_type": "execute_result"
    }
   ],
   "source": [
    "mio_obj = objective_value(m)                                                       \n"
   ]
  },
  {
   "cell_type": "code",
   "execution_count": 4,
   "metadata": {},
   "outputs": [
    {
     "data": {
      "text/plain": [
       "2×3 Array{Float64,2}:\n",
       " 1.0  1.0  1.0\n",
       " 0.0  0.0  0.0"
      ]
     },
     "execution_count": 4,
     "metadata": {},
     "output_type": "execute_result"
    }
   ],
   "source": [
    "z_val = value.(z)\n"
   ]
  },
  {
   "cell_type": "code",
   "execution_count": 5,
   "metadata": {},
   "outputs": [
    {
     "name": "stdout",
     "output_type": "stream",
     "text": [
      "1.0\n",
      "0.0\n",
      "0.0005650520324707031\n"
     ]
    }
   ],
   "source": [
    "println(value(x))\n",
    "println(value(y))\n",
    "println(solve_time(m))"
   ]
  },
  {
   "cell_type": "markdown",
   "metadata": {
    "slideshow": {
     "slide_type": "skip"
    }
   },
   "source": [
    "# Solver parameters: Should you bother?\n",
    "\n",
    "Gurobi (and other high-quality solvers) allow you to tweak a wide range of different parameters; _sometimes_ tuning these can drastically improve performance. It can be kind of intimidating, though: Gurobi has over 100 parameters, so which are the important ones?\n",
    "\n",
    "Some useful ones:\n",
    "\n",
    "* ``TimeLimit``: How long the solver will run before giving up.\n",
    "* ``NodeLimit``: How many nodes to explore before giving up.\n",
    "* ``MIPGap``: Termination criterion for relative gap $\\frac{UB-LB}{LB}$.\n",
    "* ``MIPFocus``: High-level controls on solver priority (proving optimality or increasing bound or finding optimal solution).\n",
    "* ``Heuristics``: Determines the amount of time spent in MIP heuristics.\n",
    "* ``Cuts``: Controls the aggressiveness of cut generation.\n",
    "* ``Presolve``: Controls the presolve level (conservative or aggressive).\n",
    "\n",
    "Is that it? Well, no, but you probably need domain knowledge about your problem to go much further. There's an alternative: Gurobi has a parameter tuning feature you can try to \"learn\" good parameter settings for a particular model. Try it out if you aren't quite happy with your performance."
   ]
  },
  {
   "cell_type": "markdown",
   "metadata": {},
   "source": [
    "## Where to get help\n",
    "- JuMP docs https://www.juliaopt.org/JuMP.jl/v0.20.0/\n",
    "- JuMP issues https://github.com/JuliaOpt/JuMP.jl/issues\n",
    "- JuMP tutorial notebooks package https://github.com/JuliaOpt/JuMPTutorials.jl\n",
    "- Discourse https://discourse.julialang.org/c/domain/opt\n",
    "- Julia slack channels https://app.slack.com/client/T68168MUP/C66NPKCQZ/thread/C681S52FQ-1577546443.051000 \n",
    "- JuMP style guide https://www.juliaopt.org/JuMP.jl/dev/style/\n",
    "- Examples in the JuMP Github repo https://github.com/JuliaOpt/JuMP.jl/tree/master/examples"
   ]
  },
  {
   "cell_type": "markdown",
   "metadata": {},
   "source": [
    "Acknowledgement: The material in part one is developed upon courses materials by Lea Kapelevich in 2020 and by Jean Pauphilet in 2019."
   ]
  },
  {
   "cell_type": "markdown",
   "metadata": {},
   "source": [
    "## Part II: Case study: a medical scheduling problem"
   ]
  },
  {
   "cell_type": "markdown",
   "metadata": {},
   "source": [
    "1. Model the optimization problem\n",
    "2. Load data and parameters\n",
    "3. Implement and solve the problem in JuMP\n",
    "4. Analyze model outputs"
   ]
  },
  {
   "cell_type": "markdown",
   "metadata": {},
   "source": [
    "## 1. Model the optimization problem:\n",
    "For each provider team, visit type (in-person/telehealth), session, and day for a month…\n",
    "\tschedule the number of (a) provider hours, (b)  patients scheduled, and (c) patients waitlisted \n",
    "    \n",
    "Maximize the total visits achieved in one month (28 days)\n",
    "\n",
    "Satisfy a set of scheduling constraints\n"
   ]
  },
  {
   "cell_type": "markdown",
   "metadata": {},
   "source": [
    "\n",
    "## Variables:\n",
    "\n",
    "$z_{qjid}$: number of provider hours of type $q$ assigned to visits of type $j$ on shift $i$ of day $d$\n",
    "\n",
    "$x_{qjid}$: number of patients scheduled to see providers of type $q$ for visits of type $j$ on shift $i$ of day $d$ \n",
    "\n",
    "$w_{qjid}$: number of patients waitlisted to see providers of type $q$ for visits of type $j$ on shift $i$ of day $d$ \n"
   ]
  },
  {
   "cell_type": "markdown",
   "metadata": {},
   "source": [
    "## Constraints:\n",
    "Variable range:\n",
    "  $x_{qjid}, w_{qjid} \\in \\mathbb{Z^+},z_{qjid}\\geq 0, \\quad \\forall q,j,i,d$\n",
    "\n",
    "Maximum visits per provider hour: \n",
    "$x_{qjid}  \\leq C_{q} \\cdot z_{qjid},\\quad \\forall q,j,i,d$\n",
    "\n",
    "Capacity for patient waitlist:\n",
    "$w \\leq x$\n",
    "\n",
    "Capacity through the main entrance: \n",
    "$\\sum\\limits_{q \\in [Q], j \\in J_{in-person}} x_{qjid}  \\leq C_{\\max},\\quad \\forall i,d$\n",
    "\n",
    "Max inperson visits in each team per session:\n",
    "$x_{qjid}  \\leq C_{inperson}^j,\\quad \\forall q,i,d, j \\in J_{in-person}$\n",
    "\n",
    "Visit types not eligible or available for providers:\n",
    "$z_{qjid} = 0, \\quad \\forall (q,j) \\in N_P, i \\in [I], d \\in [D]$\n",
    "\n",
    "Number of provider hours available for each shift:\n",
    "$\\sum\\limits_{j} z_{qjid}  \\leq (1-\\alpha_{q}) E_{qid} H_q, \\quad \\forall q, i,d$\n",
    "\n",
    "Bound on maximum number of providers' weekly working hours:\n",
    "$\\sum\\limits_{d \\in Dw_w, j \\in [J], i \\in [I]} z_{qjid} H_q \\leq \\overline{Tn_\\max^q}, \\quad \\forall q,w$\n",
    "\n",
    "Bound on maximum visits for each provider team per month:\n",
    "$\\sum\\limits_{d \\in [D], j \\in [J], i \\in [I]} z_{qjid} \\leq \\overline{Vn_\\max^q} , \\quad \\forall q$\n"
   ]
  },
  {
   "cell_type": "markdown",
   "metadata": {},
   "source": [
    "## Objective:\n",
    "$\\max \\quad \\sum\\limits_{q,j,i,d} \\min\\{x_{qjid}, (1-\\beta_{q}) x_{qjid} + (1-\\gamma_{q}) w_{qjid}\\}$"
   ]
  },
  {
   "cell_type": "markdown",
   "metadata": {},
   "source": [
    "## 2. Load data and parameters"
   ]
  },
  {
   "cell_type": "code",
   "execution_count": 6,
   "metadata": {},
   "outputs": [],
   "source": [
    "# using Pkg\n",
    "# Pkg.add(\"CSV\")\n",
    "# Pkg.add(\"DataFrames\")\n",
    "# Pkg.add(\"Plots\")\n",
    "# Pkg.add(\"Statistics\")\n",
    "using CSV\n",
    "using DataFrames\n",
    "using Plots\n",
    "using Statistics"
   ]
  },
  {
   "cell_type": "code",
   "execution_count": 7,
   "metadata": {},
   "outputs": [
    {
     "data": {
      "text/plain": [
       "4-element Array{UnitRange{Int64},1}:\n",
       " 1:7\n",
       " 8:14\n",
       " 15:21\n",
       " 22:28"
      ]
     },
     "execution_count": 7,
     "metadata": {},
     "output_type": "execute_result"
    }
   ],
   "source": [
    "## sizes\n",
    "Q = 8  # provider teams\n",
    "J = 2 # visits types: inperson, remote\n",
    "D = 28 #days\n",
    "D_kend = [6,7,13,14,20,21,27,28] # set of weekend days\n",
    "I = 3 # morning, afternoon, evening shifts\n",
    "W = 4 # weeks\n",
    "Dw = [1:7,8:14,15:21,22:28] # days of each week"
   ]
  },
  {
   "cell_type": "code",
   "execution_count": 8,
   "metadata": {},
   "outputs": [],
   "source": [
    "# #generate data \n",
    "# using Random\n",
    "# Random.seed!(1)\n",
    "# Cq = 1.5 .+ rand(Q)\n",
    "# alpha = 0.05 .+ 0.05 .* rand(Q)\n",
    "# beta = 0.05 .+ 0.05 .* rand(Q)\n",
    "# gamma = 0.05 .+ 0.05 .* rand(Q)\n",
    "# C_inperson = 50 .+ 100 .* rand(Q)\n",
    "# Tn_max = 400 .+ 200 .* rand(Q)\n",
    "# Vn_max = 1000 .+ 200 .* rand(Q)\n",
    "# H = 3 .+ rand(Q)\n",
    "# data_byteam = hcat(1:Q,Cq,alpha,beta,gamma,C_inperson,Tn_max,Vn_max)\n",
    "# data_byteam = DataFrame(data_byteam)\n",
    "# CSV.write(\"data/data_byteam.csv\",data_byteam)"
   ]
  },
  {
   "cell_type": "code",
   "execution_count": null,
   "metadata": {},
   "outputs": [],
   "source": [
    "data = CSV.read(\"data/data_byteam.csv\",DataFrame)"
   ]
  },
  {
   "cell_type": "code",
   "execution_count": null,
   "metadata": {},
   "outputs": [],
   "source": [
    "Cq = data[:,2] #Maximum visits per provider hour\n",
    "alpha = data[:,3] # provider cancellation rate\n",
    "beta = data[:,4] # patient no show rate\n",
    "gamma = data[:,5]# patient no show rate (for those waitlisted)\n",
    "C_inperson = data[:,6] # max inperson visits in each team per session \n",
    "Tn_max = data[:,7] # weekly working hours\n",
    "Vn_max = data[:,8]; # monthly max visits"
   ]
  },
  {
   "cell_type": "code",
   "execution_count": null,
   "metadata": {},
   "outputs": [],
   "source": [
    "E = 4 .* ones(Q,I,D);\n",
    "#E .+ rand(-1:4,Q,I,D)\n",
    "C_max = 40\n",
    "J_inperson = [1]  #set of appointment types j that are in-person\n",
    "wl_bool = false \n",
    "evening_bool = false #true \n",
    "weekend_bool = false #true \n",
    "H =3.5*ones(Q)"
   ]
  },
  {
   "cell_type": "markdown",
   "metadata": {},
   "source": [
    "## 3.Implement and solve the problem in JuMP"
   ]
  },
  {
   "cell_type": "code",
   "execution_count": null,
   "metadata": {},
   "outputs": [],
   "source": [
    "miotol = 1e-2\n",
    "function mio(wl_bool,evening_bool,weekend_bool,Cq,alpha,beta,gamma,C_inperson,C_max,Tn_max,Vn_max,H,E)\n",
    "    m = Model(Gurobi.Optimizer)\n",
    "    set_optimizer_attribute(m, \"OutputFlag\", 0)\n",
    "    set_optimizer_attribute(m, \"MIPGap\", miotol)\n",
    "    @variable(m, z[1:Q,1:J,1:I,1:D] >= 0)\n",
    "    @variable(m, x[1:Q,1:J,1:I,1:D] >= 0,Int)\n",
    "    @variable(m, w[1:Q,1:J,1:I,1:D] >= 0,Int)\n",
    "\n",
    "    for i in 1:I, d in 1:D\n",
    "        @constraint(m,sum(x[q,j,i,d] for q in vcat(1:3,8) for j in J_inperson) <= C_max*3.5) # capacity main door\n",
    "        for q in 1:Q, j in 1:J                \n",
    "            @constraint(m,x[q,j,i,d] <= z[q,j,i,d] * Cq[q]) # Maximum visits per provider hour\n",
    "            @constraint(m,w[q,j,i,d] <= x[q,j,i,d]) # capacity for waitlist \n",
    "        end\n",
    "        for q in 1:Q\n",
    "            @constraint(m, sum(z[q,j,i,d] for j in 1:J) <= (1-alpha[q]) * E[q,i,d] * H[q]) # availability #\n",
    "            @constraint(m,x[q,1,i,d] <=C_inperson[q]) # max inperson visits in each team per session  \n",
    "        end\n",
    "    end                                                                                                                                \n",
    "    @constraint(m,z[8,2,:,:] .== 0)     # walk in center\n",
    "    @constraint(m,z[7,1,:,:] .== 0)     # telehealth                                              \n",
    "    for w in 1:W, q in 1:Q\n",
    "       @constraint(m, sum(z[q,j,i,d]*H[q] for j in 1:J for i in 1:I for d in Dw[w]) <= Tn_max[q]) # Bounds on total number of nurses’ weekly working hours:\n",
    "    end\n",
    "    for q in 1:Q                              \n",
    "        @constraint(m, sum(z[q,j,i,d] for j in 1:J for i in 1:I for d in 1:D) <= Vn_max[q]) # expected visits per month\n",
    "    end                                                            \n",
    "    # if no evening / weekend; if no waitlist : set to zero\n",
    "    if wl_bool == false\n",
    "        @constraint(m, w .== 0)\n",
    "    end \n",
    "    if evening_bool == false\n",
    "        @constraint(m, z[:,:,3,:] .== 0)\n",
    "    end \n",
    "    if weekend_bool == false\n",
    "        @constraint(m, z[:,:,:,D_kend] .== 0)\n",
    "    end \n",
    "    # objective\n",
    "    @variable(m,nvisits[1:Q,1:J,1:I,1:D] >= 0,Int)\n",
    "    for i in 1:I, j in 1:J, d in 1:D, q in 1:Q \n",
    "        @constraint(m, nvisits[q,j,i,d] <= x[q,j,i,d] ) # scheduled\n",
    "        @constraint(m, nvisits[q,j,i,d] <= ((1-beta[q])*x[q,j,i,d] + (1-gamma[q]) *w[q,j,i,d])) # patient show up \n",
    "    end\n",
    "    @objective(m,Max, sum(nvisits))\n",
    "    optimize!(m)\n",
    "    mio_obj = objective_value(m)                                                       \n",
    "    z_val = value.(z)\n",
    "    x_val = value.(x)\n",
    "    w_val = value.(w)\n",
    "    nvisits_val = value.(nvisits)\n",
    "    nvisit_obj = sum(nvisits_val) \n",
    "    soltime = solve_time(m)\n",
    "#     println(sum(z_val))\n",
    "#     println(sum(x_val))\n",
    "#     println(sum(w_val))\n",
    "    return mio_obj,nvisit_obj,z_val,x_val,w_val,nvisits_val,soltime\n",
    "end"
   ]
  },
  {
   "cell_type": "code",
   "execution_count": null,
   "metadata": {},
   "outputs": [],
   "source": [
    "#Current scenario\n",
    "mio_obj,nvisit_obj_cur,z_val,x_val,w_val,nvisits_val,soltime = mio(wl_bool,evening_bool,weekend_bool,Cq,alpha,beta,gamma,C_inperson,C_max,Tn_max,Vn_max,H,E);\n",
    "nvisit_obj_cur"
   ]
  },
  {
   "cell_type": "markdown",
   "metadata": {},
   "source": [
    "## 4. Analyze model outputs"
   ]
  },
  {
   "cell_type": "code",
   "execution_count": null,
   "metadata": {},
   "outputs": [],
   "source": [
    "nvisits_qj = zeros(Q,J)\n",
    "for q in 1:Q, j in 1:J\n",
    " nvisits_qj[q,j] = sum(nvisits_val[q,j,:,:])\n",
    "end\n",
    "nvisits_qj"
   ]
  },
  {
   "cell_type": "code",
   "execution_count": null,
   "metadata": {},
   "outputs": [],
   "source": [
    "delta_list = range(0.5,stop=1.5,length=11)\n",
    "all_delta = zeros(Q+1,11)\n",
    "for i in 1:11\n",
    "    mio_obj,nvisit_obj,z_val,x_val,w_val,nvisits_val,soltime = mio(wl_bool,evening_bool,weekend_bool,Cq,alpha.*delta_list[i],beta,gamma,C_inperson,C_max,Tn_max,Vn_max,H,E);\n",
    "    all_delta[1,i] = nvisit_obj\n",
    "    for q in 1:Q\n",
    "        all_delta[q+1,i] = sum(nvisits_val[q,:,:,:])\n",
    "    end\n",
    "end\n",
    "plot(delta_list.*100,all_delta[2,:],label=1,legend=:outerright,xlabel=\"Provider cancellation rate (% relative to current)\",ylabel=\"Number of visits\") \n",
    "for q in 2:Q\n",
    "    plot!(delta_list.*100,all_delta[q+1,:],label=q)\n",
    "end\n",
    "current()\n",
    "# telehealth team most impact "
   ]
  },
  {
   "cell_type": "code",
   "execution_count": null,
   "metadata": {},
   "outputs": [],
   "source": [
    "# average # visits per hour\n",
    "delta_list = range(0.5,stop=1.5,length=11)\n",
    "all_delta = zeros(Q+1,11)\n",
    "for i in 1:11\n",
    "    mio_obj,nvisit_obj,z_val,x_val,w_val,nvisits_val,soltime = mio(wl_bool,evening_bool,weekend_bool,Cq.*delta_list[i],alpha,beta,gamma,C_inperson,C_max,Tn_max,Vn_max,H,E);\n",
    "    all_delta[1,i] = nvisit_obj\n",
    "    for q in 1:Q\n",
    "        all_delta[q+1,i] = sum(nvisits_val[q,:,:,:])\n",
    "    end\n",
    "end\n",
    "plot(delta_list.*100,all_delta[2,:],label=1,legend=:outerright,xlabel=\"Max hourly visits (% relative to current)\",ylabel=\"Number of visits\") #,title=\"Number of visits vs main entrance capacity\")\n",
    "for q in 2:Q\n",
    "    plot!(delta_list.*100,all_delta[q+1,:],label=q)\n",
    "end\n",
    "current()\n",
    "# shorten visit duration"
   ]
  },
  {
   "cell_type": "markdown",
   "metadata": {},
   "source": [
    "Exercise: pick two oher constraints to perturbate and evaluate how each of them affects the outcome"
   ]
  },
  {
   "cell_type": "code",
   "execution_count": null,
   "metadata": {},
   "outputs": [],
   "source": [
    "# evaluate outcome if adding a waitlist \n",
    "mio_obj,nvisit_obj,z_val,x_val,w_val,nvisits_val,soltime = mio(true,evening_bool,weekend_bool,Cq,alpha,beta,gamma,C_inperson,C_max,Tn_max,Vn_max,H,E);\n",
    "println(nvisit_obj)\n",
    "nvisit_obj / nvisit_obj_cur - 1"
   ]
  },
  {
   "cell_type": "markdown",
   "metadata": {},
   "source": [
    "Exercise: try to evaluate the outcome if adding evening hours or weekend hours "
   ]
  },
  {
   "cell_type": "markdown",
   "metadata": {},
   "source": [
    "Acknowledgement: The material in part two is developed by Irra Na with reference to a model from Healthcare Lab using synthetic data."
   ]
  }
 ],
 "metadata": {
  "@webio": {
   "lastCommId": null,
   "lastKernelId": null
  },
  "anaconda-cloud": {},
  "celltoolbar": "Slideshow",
  "kernelspec": {
   "display_name": "Julia 1.5.3",
   "language": "julia",
   "name": "julia-1.5"
  },
  "language_info": {
   "file_extension": ".jl",
   "mimetype": "application/julia",
   "name": "julia",
   "version": "1.5.3"
  }
 },
 "nbformat": 4,
 "nbformat_minor": 1
}
