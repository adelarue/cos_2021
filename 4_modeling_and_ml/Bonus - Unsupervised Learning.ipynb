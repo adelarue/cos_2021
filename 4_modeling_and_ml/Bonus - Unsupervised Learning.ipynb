{
 "cells": [
  {
   "cell_type": "markdown",
   "metadata": {},
   "source": [
    "# Introduction to Machine Learning in Python"
   ]
  },
  {
   "cell_type": "markdown",
   "metadata": {},
   "source": [
    "Now that we've covered supervised learning for both classification and regression, let's take a look at unsupervised learning."
   ]
  },
  {
   "cell_type": "markdown",
   "metadata": {},
   "source": [
    "## Part 0: Preparing Data"
   ]
  },
  {
   "cell_type": "markdown",
   "metadata": {},
   "source": [
    "We'll quickly repeat the data cleaning pipeline to get ready to start modeling."
   ]
  },
  {
   "cell_type": "code",
   "execution_count": 1,
   "metadata": {},
   "outputs": [],
   "source": [
    "import pandas as pd\n",
    "import numpy as np\n",
    "import random"
   ]
  },
  {
   "cell_type": "code",
   "execution_count": 2,
   "metadata": {
    "scrolled": true
   },
   "outputs": [],
   "source": [
    "## Load the data\n",
    "listings_raw = pd.read_csv('../data/listings_with_amenities.csv')"
   ]
  },
  {
   "cell_type": "code",
   "execution_count": 3,
   "metadata": {},
   "outputs": [],
   "source": [
    "def clean_price(p):\n",
    "    p = p.replace('$','').replace(',','') # replace all '$' and ',', similar to in R\n",
    "    return float(p)\n",
    "\n",
    "listings_raw.loc[:,'price'] = listings_raw.loc[:,'price'].apply(lambda x: clean_price(x));"
   ]
  },
  {
   "cell_type": "code",
   "execution_count": 4,
   "metadata": {},
   "outputs": [],
   "source": [
    "# We'll also clean up some outliers\n",
    "listings_clean = listings_raw.query('accommodates <= 10 & price <= 1000')\n",
    "listings_clean = listings_clean.query('maximum_nights <= 2000')\n",
    "\n",
    "# Filter by property type\n",
    "listings_clean = listings_clean[listings_clean['property_type'].isin([\"Apartment\", \"House\", \"Bed & Breakfast\", \"Condominium\", \"Loft\", \"Townhouse\"])]\n",
    "listings_clean = listings_clean[~listings_clean['neighbourhood_cleansed'].isin([\"Leather District\", \"Longwood Medical Area\"])]\n",
    "\n",
    "# Find columns with sufficient fill (at most 25% missing values)\n",
    "cols_keep = listings_clean.columns[listings_clean.isnull().mean() <= 0.25]\n",
    "listings_clean = listings_clean.loc[:,cols_keep]\n",
    "\n",
    "# Let's one-hot encode our property types\n",
    "listings_clean = pd.get_dummies(listings_clean, columns = ['property_type'], drop_first = True)\n",
    "\n",
    "# We're also going to filter to numeric columns for now- \n",
    "# You can use one-hot encoding to handle categorical variables, but today we'll stick to this.\n",
    "listings_clean = listings_clean.select_dtypes(include=np.number)"
   ]
  },
  {
   "cell_type": "markdown",
   "metadata": {},
   "source": [
    "Let's impute the missing data - we will simply impute the mean. There are other options available in `sklearn.impute`.\n",
    "Notice that the missingness is in numeric columns only, which makes it easier to deal with. If there are categoric columns with missing data, different approaches need to be taken (e.g. mode imputation)."
   ]
  },
  {
   "cell_type": "code",
   "execution_count": 5,
   "metadata": {},
   "outputs": [],
   "source": [
    "from sklearn.impute import SimpleImputer\n",
    "\n",
    "imp_mean = SimpleImputer(missing_values=np.nan, strategy='mean')\n",
    "imp_mean.fit(listings_clean)\n",
    "\n",
    "# Get the imputed values and convert back into a dataframe (it will return a matrix)\n",
    "listings = pd.DataFrame(imp_mean.transform(listings_clean), \n",
    "                        columns = listings_clean.columns)"
   ]
  },
  {
   "cell_type": "markdown",
   "metadata": {},
   "source": [
    "We'll start by defining our feature space. We'll only look at numeric features to keep things simple for now."
   ]
  },
  {
   "cell_type": "code",
   "execution_count": 6,
   "metadata": {},
   "outputs": [],
   "source": [
    "features = ['host_listings_count', 'accommodates',\n",
    "       'bathrooms', 'bedrooms', 'beds', 'price', 'guests_included',\n",
    "       'minimum_nights', 'maximum_nights', \n",
    "       'number_of_reviews', 'review_scores_rating', 'review_scores_accuracy',\n",
    "       'review_scores_cleanliness', 'review_scores_checkin',\n",
    "       'review_scores_communication', 'review_scores_location',\n",
    "       'review_scores_value',\n",
    "       'reviews_per_month']\n",
    "\n",
    "X = listings[features]"
   ]
  },
  {
   "cell_type": "markdown",
   "metadata": {},
   "source": [
    "We also need to *standardize* the data. Clustering groups together observations by the disstance between them. If the features are on inconsistent scales, this leads \"large\" features to dominate the distance metric and thus cluster assignment. "
   ]
  },
  {
   "cell_type": "code",
   "execution_count": 10,
   "metadata": {
    "scrolled": true
   },
   "outputs": [],
   "source": [
    "from sklearn.preprocessing import StandardScaler\n",
    "from sklearn.cluster import KMeans\n",
    "\n",
    "scaler = StandardScaler()\n",
    "scaler.fit(X)\n",
    "X_std = pd.DataFrame(scaler.transform(X), columns = X.columns)"
   ]
  },
  {
   "cell_type": "markdown",
   "metadata": {},
   "source": [
    "### Choosing the optimal number of clusters\n",
    "\n",
    "We can use the silhouette metric (SM), a measure of cluster quality, to select the optimal number of clusters. The Silhouette score for an individual observation is calculated as:\n",
    "$$s(i) = \\frac{b(i)-a(i)}{\\max(b(i),a(i))}$$\n",
    "where a(i) is the average distance from observation i to the other points in its cluster, and b(i) is the average distance from observation i to the points in the second closest cluster. \n",
    "\n",
    "The overall metric for the full cluster assignment averages the individual scores:\n",
    "$$ SM = \\frac{1}{n}\\sum_{i=1}^n s(i) $$\n",
    "\n",
    "SM is bounded by \\[-1,1\\], with 1 being the \"best\" score. We can plot SM against different $K$ values and select the cluster count $K$ that maximizes the sccore.  "
   ]
  },
  {
   "cell_type": "code",
   "execution_count": 11,
   "metadata": {},
   "outputs": [],
   "source": [
    "from sklearn.metrics import silhouette_score\n",
    "\n",
    "k_range = range(2, 11)\n",
    "sil = []\n",
    "\n",
    "for k in k_range:\n",
    "  kmeans = KMeans(n_clusters = k).fit(X_std)\n",
    "  labels = kmeans.labels_\n",
    "  sil.append(silhouette_score(X_std, labels, metric = 'euclidean'))"
   ]
  },
  {
   "cell_type": "code",
   "execution_count": 12,
   "metadata": {
    "scrolled": true
   },
   "outputs": [
    {
     "data": {
      "text/plain": [
       "[<matplotlib.lines.Line2D at 0x7fa217040ed0>]"
      ]
     },
     "execution_count": 12,
     "metadata": {},
     "output_type": "execute_result"
    },
    {
     "data": {
      "image/png": "[encoded data removed]",
      "text/plain": [
       "<Figure size 432x288 with 1 Axes>"
      ]
     },
     "metadata": {
      "needs_background": "light"
     },
     "output_type": "display_data"
    }
   ],
   "source": [
    "import matplotlib.pyplot as plt\n",
    "\n",
    "plt.plot(k_range, sil)"
   ]
  },
  {
   "cell_type": "markdown",
   "metadata": {},
   "source": [
    "$K=3$ gives the best Silhouette Metric, so we'll use this as our $K$ for $k$-means."
   ]
  },
  {
   "cell_type": "code",
   "execution_count": 13,
   "metadata": {},
   "outputs": [],
   "source": [
    "K = 3\n",
    "kmeans = KMeans(n_clusters=K, random_state=0).fit(X_std)\n",
    "\n",
    "X_withlabel = X.copy()\n",
    "X_withlabel['cluster'] = kmeans.predict(X_std)"
   ]
  },
  {
   "cell_type": "markdown",
   "metadata": {},
   "source": [
    "How can we interpret clusters? A simple approach is to look at the means of each feature to see if there are differentiating features."
   ]
  },
  {
   "cell_type": "code",
   "execution_count": 14,
   "metadata": {
    "scrolled": true
   },
   "outputs": [
    {
     "data": {
      "text/html": [
       "<div>\n",
       "<style scoped>\n",
       "    .dataframe tbody tr th:only-of-type {\n",
       "        vertical-align: middle;\n",
       "    }\n",
       "\n",
       "    .dataframe tbody tr th {\n",
       "        vertical-align: top;\n",
       "    }\n",
       "\n",
       "    .dataframe thead th {\n",
       "        text-align: right;\n",
       "    }\n",
       "</style>\n",
       "<table border=\"1\" class=\"dataframe\">\n",
       "  <thead>\n",
       "    <tr style=\"text-align: right;\">\n",
       "      <th></th>\n",
       "      <th>host_listings_count</th>\n",
       "      <th>accommodates</th>\n",
       "      <th>bathrooms</th>\n",
       "      <th>bedrooms</th>\n",
       "      <th>beds</th>\n",
       "      <th>price</th>\n",
       "      <th>guests_included</th>\n",
       "      <th>minimum_nights</th>\n",
       "      <th>maximum_nights</th>\n",
       "      <th>number_of_reviews</th>\n",
       "      <th>review_scores_rating</th>\n",
       "      <th>review_scores_accuracy</th>\n",
       "      <th>review_scores_cleanliness</th>\n",
       "      <th>review_scores_checkin</th>\n",
       "      <th>review_scores_communication</th>\n",
       "      <th>review_scores_location</th>\n",
       "      <th>review_scores_value</th>\n",
       "      <th>reviews_per_month</th>\n",
       "    </tr>\n",
       "    <tr>\n",
       "      <th>cluster</th>\n",
       "      <th></th>\n",
       "      <th></th>\n",
       "      <th></th>\n",
       "      <th></th>\n",
       "      <th></th>\n",
       "      <th></th>\n",
       "      <th></th>\n",
       "      <th></th>\n",
       "      <th></th>\n",
       "      <th></th>\n",
       "      <th></th>\n",
       "      <th></th>\n",
       "      <th></th>\n",
       "      <th></th>\n",
       "      <th></th>\n",
       "      <th></th>\n",
       "      <th></th>\n",
       "      <th></th>\n",
       "    </tr>\n",
       "  </thead>\n",
       "  <tbody>\n",
       "    <tr>\n",
       "      <th>0</th>\n",
       "      <td>119.003509</td>\n",
       "      <td>2.526316</td>\n",
       "      <td>1.152065</td>\n",
       "      <td>1.011384</td>\n",
       "      <td>1.333909</td>\n",
       "      <td>137.291228</td>\n",
       "      <td>1.157895</td>\n",
       "      <td>4.052632</td>\n",
       "      <td>806.350877</td>\n",
       "      <td>15.592982</td>\n",
       "      <td>72.814035</td>\n",
       "      <td>7.715789</td>\n",
       "      <td>7.112281</td>\n",
       "      <td>8.410526</td>\n",
       "      <td>8.452632</td>\n",
       "      <td>8.536842</td>\n",
       "      <td>7.308772</td>\n",
       "      <td>1.245965</td>\n",
       "    </tr>\n",
       "    <tr>\n",
       "      <th>1</th>\n",
       "      <td>32.383712</td>\n",
       "      <td>2.329011</td>\n",
       "      <td>1.086664</td>\n",
       "      <td>0.952269</td>\n",
       "      <td>1.231561</td>\n",
       "      <td>135.250405</td>\n",
       "      <td>1.192058</td>\n",
       "      <td>3.061183</td>\n",
       "      <td>813.025932</td>\n",
       "      <td>20.859806</td>\n",
       "      <td>93.716637</td>\n",
       "      <td>9.606801</td>\n",
       "      <td>9.449556</td>\n",
       "      <td>9.779880</td>\n",
       "      <td>9.773251</td>\n",
       "      <td>9.500470</td>\n",
       "      <td>9.364225</td>\n",
       "      <td>2.117438</td>\n",
       "    </tr>\n",
       "    <tr>\n",
       "      <th>2</th>\n",
       "      <td>128.482574</td>\n",
       "      <td>5.384718</td>\n",
       "      <td>1.638351</td>\n",
       "      <td>2.300268</td>\n",
       "      <td>2.836461</td>\n",
       "      <td>288.471850</td>\n",
       "      <td>2.245308</td>\n",
       "      <td>3.253351</td>\n",
       "      <td>894.643432</td>\n",
       "      <td>14.843164</td>\n",
       "      <td>93.261020</td>\n",
       "      <td>9.516019</td>\n",
       "      <td>9.444487</td>\n",
       "      <td>9.685029</td>\n",
       "      <td>9.690362</td>\n",
       "      <td>9.466897</td>\n",
       "      <td>9.243326</td>\n",
       "      <td>1.792815</td>\n",
       "    </tr>\n",
       "  </tbody>\n",
       "</table>\n",
       "</div>"
      ],
      "text/plain": [
       "         host_listings_count  accommodates  bathrooms  bedrooms      beds  \\\n",
       "cluster                                                                     \n",
       "0                 119.003509      2.526316   1.152065  1.011384  1.333909   \n",
       "1                  32.383712      2.329011   1.086664  0.952269  1.231561   \n",
       "2                 128.482574      5.384718   1.638351  2.300268  2.836461   \n",
       "\n",
       "              price  guests_included  minimum_nights  maximum_nights  \\\n",
       "cluster                                                                \n",
       "0        137.291228         1.157895        4.052632      806.350877   \n",
       "1        135.250405         1.192058        3.061183      813.025932   \n",
       "2        288.471850         2.245308        3.253351      894.643432   \n",
       "\n",
       "         number_of_reviews  review_scores_rating  review_scores_accuracy  \\\n",
       "cluster                                                                    \n",
       "0                15.592982             72.814035                7.715789   \n",
       "1                20.859806             93.716637                9.606801   \n",
       "2                14.843164             93.261020                9.516019   \n",
       "\n",
       "         review_scores_cleanliness  review_scores_checkin  \\\n",
       "cluster                                                     \n",
       "0                         7.112281               8.410526   \n",
       "1                         9.449556               9.779880   \n",
       "2                         9.444487               9.685029   \n",
       "\n",
       "         review_scores_communication  review_scores_location  \\\n",
       "cluster                                                        \n",
       "0                           8.452632                8.536842   \n",
       "1                           9.773251                9.500470   \n",
       "2                           9.690362                9.466897   \n",
       "\n",
       "         review_scores_value  reviews_per_month  \n",
       "cluster                                          \n",
       "0                   7.308772           1.245965  \n",
       "1                   9.364225           2.117438  \n",
       "2                   9.243326           1.792815  "
      ]
     },
     "execution_count": 14,
     "metadata": {},
     "output_type": "execute_result"
    }
   ],
   "source": [
    "X_withlabel.groupby('cluster').mean()"
   ]
  },
  {
   "cell_type": "markdown",
   "metadata": {},
   "source": [
    "What do we notice here?.\n",
    "- Cluster 0 seems to be comprised of \"mega\"-hosts with low-end units: cheap, 1 bedroom units, with very low reviews. \n",
    "- Cluster 1 has smaller units with smaller-scale hosts, and generally high reviews.\n",
    "- Cluster 2 has \"mega\"-hosts with high capacity (and higher prices). This seems like units oriented towards groups."
   ]
  },
  {
   "cell_type": "markdown",
   "metadata": {},
   "source": [
    "### References\n",
    "- Silhouette metric for selection of K ([medium](https://medium.com/analytics-vidhya/how-to-determine-the-optimal-k-for-k-means-708505d204eb))"
   ]
  }
 ],
 "metadata": {
  "@webio": {
   "lastCommId": null,
   "lastKernelId": null
  },
  "kernelspec": {
   "display_name": "Python 3",
   "language": "python",
   "name": "python3"
  },
  "language_info": {
   "codemirror_mode": {
    "name": "ipython",
    "version": 3
   },
   "file_extension": ".py",
   "mimetype": "text/x-python",
   "name": "python",
   "nbconvert_exporter": "python",
   "pygments_lexer": "ipython3",
   "version": "3.7.4"
  }
 },
 "nbformat": 4,
 "nbformat_minor": 4
}
